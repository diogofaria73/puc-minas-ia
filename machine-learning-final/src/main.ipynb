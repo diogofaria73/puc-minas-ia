{
 "cells": [
  {
   "cell_type": "markdown",
   "metadata": {},
   "source": [
    "# Análise de Performance de Estudantes"
   ]
  },
  {
   "cell_type": "markdown",
   "metadata": {},
   "source": [
    "#### Importações "
   ]
  },
  {
   "cell_type": "code",
   "execution_count": 2,
   "metadata": {},
   "outputs": [],
   "source": [
    "from repository.loader_datasource import load_csv_data\n",
    "from services.dataframe_formatter import header_formatter\n",
    "\n",
    "import plotly.graph_objs as go\n",
    "import plotly.express as px\n",
    "import pandas as pd"
   ]
  },
  {
   "cell_type": "markdown",
   "metadata": {},
   "source": [
    "#### Carregamento e Tratativa dos Dados"
   ]
  },
  {
   "cell_type": "code",
   "execution_count": 3,
   "metadata": {},
   "outputs": [],
   "source": [
    "# Define the path to the datasource\n",
    "path = '../datasource/StudentsPerformance.csv'\n",
    "\n",
    "# Call the function to load the data and format the header\n",
    "df = header_formatter(load_csv_data(path))\n"
   ]
  },
  {
   "cell_type": "code",
   "execution_count": 4,
   "metadata": {},
   "outputs": [
    {
     "data": {
      "text/plain": [
       "gender                         0\n",
       "race_ethnicity                 0\n",
       "parental_level_of_education    0\n",
       "lunch                          0\n",
       "test_preparation_course        0\n",
       "math_score                     0\n",
       "reading_score                  0\n",
       "writing_score                  0\n",
       "dtype: int64"
      ]
     },
     "execution_count": 4,
     "metadata": {},
     "output_type": "execute_result"
    }
   ],
   "source": [
    "df.isnull().sum()"
   ]
  },
  {
   "cell_type": "code",
   "execution_count": 5,
   "metadata": {},
   "outputs": [
    {
     "data": {
      "text/html": [
       "<div>\n",
       "<style scoped>\n",
       "    .dataframe tbody tr th:only-of-type {\n",
       "        vertical-align: middle;\n",
       "    }\n",
       "\n",
       "    .dataframe tbody tr th {\n",
       "        vertical-align: top;\n",
       "    }\n",
       "\n",
       "    .dataframe thead th {\n",
       "        text-align: right;\n",
       "    }\n",
       "</style>\n",
       "<table border=\"1\" class=\"dataframe\">\n",
       "  <thead>\n",
       "    <tr style=\"text-align: right;\">\n",
       "      <th></th>\n",
       "      <th>gender</th>\n",
       "      <th>race_ethnicity</th>\n",
       "      <th>parental_level_of_education</th>\n",
       "      <th>lunch</th>\n",
       "      <th>test_preparation_course</th>\n",
       "      <th>math_score</th>\n",
       "      <th>reading_score</th>\n",
       "      <th>writing_score</th>\n",
       "      <th>final_score_avg</th>\n",
       "    </tr>\n",
       "  </thead>\n",
       "  <tbody>\n",
       "    <tr>\n",
       "      <th>0</th>\n",
       "      <td>female</td>\n",
       "      <td>group B</td>\n",
       "      <td>bachelor's degree</td>\n",
       "      <td>standard</td>\n",
       "      <td>none</td>\n",
       "      <td>72</td>\n",
       "      <td>72</td>\n",
       "      <td>74</td>\n",
       "      <td>73.0</td>\n",
       "    </tr>\n",
       "    <tr>\n",
       "      <th>1</th>\n",
       "      <td>female</td>\n",
       "      <td>group C</td>\n",
       "      <td>some college</td>\n",
       "      <td>standard</td>\n",
       "      <td>completed</td>\n",
       "      <td>69</td>\n",
       "      <td>90</td>\n",
       "      <td>88</td>\n",
       "      <td>82.0</td>\n",
       "    </tr>\n",
       "    <tr>\n",
       "      <th>2</th>\n",
       "      <td>female</td>\n",
       "      <td>group B</td>\n",
       "      <td>master's degree</td>\n",
       "      <td>standard</td>\n",
       "      <td>none</td>\n",
       "      <td>90</td>\n",
       "      <td>95</td>\n",
       "      <td>93</td>\n",
       "      <td>93.0</td>\n",
       "    </tr>\n",
       "    <tr>\n",
       "      <th>3</th>\n",
       "      <td>male</td>\n",
       "      <td>group A</td>\n",
       "      <td>associate's degree</td>\n",
       "      <td>free/reduced</td>\n",
       "      <td>none</td>\n",
       "      <td>47</td>\n",
       "      <td>57</td>\n",
       "      <td>44</td>\n",
       "      <td>49.0</td>\n",
       "    </tr>\n",
       "    <tr>\n",
       "      <th>4</th>\n",
       "      <td>male</td>\n",
       "      <td>group C</td>\n",
       "      <td>some college</td>\n",
       "      <td>standard</td>\n",
       "      <td>none</td>\n",
       "      <td>76</td>\n",
       "      <td>78</td>\n",
       "      <td>75</td>\n",
       "      <td>76.0</td>\n",
       "    </tr>\n",
       "    <tr>\n",
       "      <th>...</th>\n",
       "      <td>...</td>\n",
       "      <td>...</td>\n",
       "      <td>...</td>\n",
       "      <td>...</td>\n",
       "      <td>...</td>\n",
       "      <td>...</td>\n",
       "      <td>...</td>\n",
       "      <td>...</td>\n",
       "      <td>...</td>\n",
       "    </tr>\n",
       "    <tr>\n",
       "      <th>995</th>\n",
       "      <td>female</td>\n",
       "      <td>group E</td>\n",
       "      <td>master's degree</td>\n",
       "      <td>standard</td>\n",
       "      <td>completed</td>\n",
       "      <td>88</td>\n",
       "      <td>99</td>\n",
       "      <td>95</td>\n",
       "      <td>94.0</td>\n",
       "    </tr>\n",
       "    <tr>\n",
       "      <th>996</th>\n",
       "      <td>male</td>\n",
       "      <td>group C</td>\n",
       "      <td>high school</td>\n",
       "      <td>free/reduced</td>\n",
       "      <td>none</td>\n",
       "      <td>62</td>\n",
       "      <td>55</td>\n",
       "      <td>55</td>\n",
       "      <td>57.0</td>\n",
       "    </tr>\n",
       "    <tr>\n",
       "      <th>997</th>\n",
       "      <td>female</td>\n",
       "      <td>group C</td>\n",
       "      <td>high school</td>\n",
       "      <td>free/reduced</td>\n",
       "      <td>completed</td>\n",
       "      <td>59</td>\n",
       "      <td>71</td>\n",
       "      <td>65</td>\n",
       "      <td>65.0</td>\n",
       "    </tr>\n",
       "    <tr>\n",
       "      <th>998</th>\n",
       "      <td>female</td>\n",
       "      <td>group D</td>\n",
       "      <td>some college</td>\n",
       "      <td>standard</td>\n",
       "      <td>completed</td>\n",
       "      <td>68</td>\n",
       "      <td>78</td>\n",
       "      <td>77</td>\n",
       "      <td>74.0</td>\n",
       "    </tr>\n",
       "    <tr>\n",
       "      <th>999</th>\n",
       "      <td>female</td>\n",
       "      <td>group D</td>\n",
       "      <td>some college</td>\n",
       "      <td>free/reduced</td>\n",
       "      <td>none</td>\n",
       "      <td>77</td>\n",
       "      <td>86</td>\n",
       "      <td>86</td>\n",
       "      <td>83.0</td>\n",
       "    </tr>\n",
       "  </tbody>\n",
       "</table>\n",
       "<p>1000 rows × 9 columns</p>\n",
       "</div>"
      ],
      "text/plain": [
       "     gender race_ethnicity parental_level_of_education         lunch  \\\n",
       "0    female        group B           bachelor's degree      standard   \n",
       "1    female        group C                some college      standard   \n",
       "2    female        group B             master's degree      standard   \n",
       "3      male        group A          associate's degree  free/reduced   \n",
       "4      male        group C                some college      standard   \n",
       "..      ...            ...                         ...           ...   \n",
       "995  female        group E             master's degree      standard   \n",
       "996    male        group C                 high school  free/reduced   \n",
       "997  female        group C                 high school  free/reduced   \n",
       "998  female        group D                some college      standard   \n",
       "999  female        group D                some college  free/reduced   \n",
       "\n",
       "    test_preparation_course  math_score  reading_score  writing_score  \\\n",
       "0                      none          72             72             74   \n",
       "1                 completed          69             90             88   \n",
       "2                      none          90             95             93   \n",
       "3                      none          47             57             44   \n",
       "4                      none          76             78             75   \n",
       "..                      ...         ...            ...            ...   \n",
       "995               completed          88             99             95   \n",
       "996                    none          62             55             55   \n",
       "997               completed          59             71             65   \n",
       "998               completed          68             78             77   \n",
       "999                    none          77             86             86   \n",
       "\n",
       "     final_score_avg  \n",
       "0               73.0  \n",
       "1               82.0  \n",
       "2               93.0  \n",
       "3               49.0  \n",
       "4               76.0  \n",
       "..               ...  \n",
       "995             94.0  \n",
       "996             57.0  \n",
       "997             65.0  \n",
       "998             74.0  \n",
       "999             83.0  \n",
       "\n",
       "[1000 rows x 9 columns]"
      ]
     },
     "execution_count": 5,
     "metadata": {},
     "output_type": "execute_result"
    }
   ],
   "source": [
    "# Add a new column to the dataframe with the average of the three tests\n",
    "df['final_score_avg'] = df[['math_score', 'reading_score', 'writing_score']].mean(axis=1).round()\n",
    "\n",
    "df"
   ]
  },
  {
   "cell_type": "markdown",
   "metadata": {},
   "source": [
    "#### Analise Exploratória"
   ]
  },
  {
   "cell_type": "code",
   "execution_count": 6,
   "metadata": {},
   "outputs": [
    {
     "name": "stdout",
     "output_type": "stream",
     "text": [
      "<class 'pandas.core.frame.DataFrame'>\n",
      "RangeIndex: 1000 entries, 0 to 999\n",
      "Data columns (total 9 columns):\n",
      " #   Column                       Non-Null Count  Dtype  \n",
      "---  ------                       --------------  -----  \n",
      " 0   gender                       1000 non-null   object \n",
      " 1   race_ethnicity               1000 non-null   object \n",
      " 2   parental_level_of_education  1000 non-null   object \n",
      " 3   lunch                        1000 non-null   object \n",
      " 4   test_preparation_course      1000 non-null   object \n",
      " 5   math_score                   1000 non-null   int64  \n",
      " 6   reading_score                1000 non-null   int64  \n",
      " 7   writing_score                1000 non-null   int64  \n",
      " 8   final_score_avg              1000 non-null   float64\n",
      "dtypes: float64(1), int64(3), object(5)\n",
      "memory usage: 70.4+ KB\n"
     ]
    }
   ],
   "source": [
    "df.info()"
   ]
  },
  {
   "cell_type": "code",
   "execution_count": 7,
   "metadata": {},
   "outputs": [
    {
     "data": {
      "text/html": [
       "<div>\n",
       "<style scoped>\n",
       "    .dataframe tbody tr th:only-of-type {\n",
       "        vertical-align: middle;\n",
       "    }\n",
       "\n",
       "    .dataframe tbody tr th {\n",
       "        vertical-align: top;\n",
       "    }\n",
       "\n",
       "    .dataframe thead th {\n",
       "        text-align: right;\n",
       "    }\n",
       "</style>\n",
       "<table border=\"1\" class=\"dataframe\">\n",
       "  <thead>\n",
       "    <tr style=\"text-align: right;\">\n",
       "      <th></th>\n",
       "      <th>math_score</th>\n",
       "      <th>reading_score</th>\n",
       "      <th>writing_score</th>\n",
       "      <th>final_score_avg</th>\n",
       "    </tr>\n",
       "  </thead>\n",
       "  <tbody>\n",
       "    <tr>\n",
       "      <th>count</th>\n",
       "      <td>1000.00000</td>\n",
       "      <td>1000.000000</td>\n",
       "      <td>1000.000000</td>\n",
       "      <td>1000.000000</td>\n",
       "    </tr>\n",
       "    <tr>\n",
       "      <th>mean</th>\n",
       "      <td>66.08900</td>\n",
       "      <td>69.169000</td>\n",
       "      <td>68.054000</td>\n",
       "      <td>67.762000</td>\n",
       "    </tr>\n",
       "    <tr>\n",
       "      <th>std</th>\n",
       "      <td>15.16308</td>\n",
       "      <td>14.600192</td>\n",
       "      <td>15.195657</td>\n",
       "      <td>14.258354</td>\n",
       "    </tr>\n",
       "    <tr>\n",
       "      <th>min</th>\n",
       "      <td>0.00000</td>\n",
       "      <td>17.000000</td>\n",
       "      <td>10.000000</td>\n",
       "      <td>9.000000</td>\n",
       "    </tr>\n",
       "    <tr>\n",
       "      <th>25%</th>\n",
       "      <td>57.00000</td>\n",
       "      <td>59.000000</td>\n",
       "      <td>57.750000</td>\n",
       "      <td>58.000000</td>\n",
       "    </tr>\n",
       "    <tr>\n",
       "      <th>50%</th>\n",
       "      <td>66.00000</td>\n",
       "      <td>70.000000</td>\n",
       "      <td>69.000000</td>\n",
       "      <td>68.000000</td>\n",
       "    </tr>\n",
       "    <tr>\n",
       "      <th>75%</th>\n",
       "      <td>77.00000</td>\n",
       "      <td>79.000000</td>\n",
       "      <td>79.000000</td>\n",
       "      <td>78.000000</td>\n",
       "    </tr>\n",
       "    <tr>\n",
       "      <th>max</th>\n",
       "      <td>100.00000</td>\n",
       "      <td>100.000000</td>\n",
       "      <td>100.000000</td>\n",
       "      <td>100.000000</td>\n",
       "    </tr>\n",
       "  </tbody>\n",
       "</table>\n",
       "</div>"
      ],
      "text/plain": [
       "       math_score  reading_score  writing_score  final_score_avg\n",
       "count  1000.00000    1000.000000    1000.000000      1000.000000\n",
       "mean     66.08900      69.169000      68.054000        67.762000\n",
       "std      15.16308      14.600192      15.195657        14.258354\n",
       "min       0.00000      17.000000      10.000000         9.000000\n",
       "25%      57.00000      59.000000      57.750000        58.000000\n",
       "50%      66.00000      70.000000      69.000000        68.000000\n",
       "75%      77.00000      79.000000      79.000000        78.000000\n",
       "max     100.00000     100.000000     100.000000       100.000000"
      ]
     },
     "execution_count": 7,
     "metadata": {},
     "output_type": "execute_result"
    }
   ],
   "source": [
    "df.describe()"
   ]
  },
  {
   "cell_type": "markdown",
   "metadata": {},
   "source": [
    "#### Analise Gráfica"
   ]
  },
  {
   "cell_type": "code",
   "execution_count": 8,
   "metadata": {},
   "outputs": [
    {
     "data": {
      "application/vnd.plotly.v1+json": {
       "config": {
        "plotlyServerURL": "https://plot.ly"
       },
       "data": [
        {
         "alignmentgroup": "True",
         "hovertemplate": "Gênero=female<br>race_ethnicity=%{x}<br>Média de Notas Finais=%{text}<extra></extra>",
         "legendgroup": "female",
         "marker": {
          "color": "#636efa",
          "pattern": {
           "shape": ""
          }
         },
         "name": "female",
         "offsetgroup": "female",
         "orientation": "v",
         "showlegend": true,
         "text": [
          65.08333333333333,
          67.54807692307692,
          68.58888888888889,
          71.44186046511628,
          74.01449275362319
         ],
         "textposition": "inside",
         "texttemplate": "%{text:.2s}",
         "type": "bar",
         "x": [
          "group A",
          "group B",
          "group C",
          "group D",
          "group E"
         ],
         "xaxis": "x",
         "y": [
          65.08333333333333,
          67.54807692307692,
          68.58888888888889,
          71.44186046511628,
          74.01449275362319
         ],
         "yaxis": "y"
        },
        {
         "alignmentgroup": "True",
         "hovertemplate": "Gênero=male<br>race_ethnicity=%{x}<br>Média de Notas Finais=%{text}<extra></extra>",
         "legendgroup": "male",
         "marker": {
          "color": "#EF553B",
          "pattern": {
           "shape": ""
          }
         },
         "name": "male",
         "offsetgroup": "male",
         "orientation": "v",
         "showlegend": true,
         "text": [
          61.509433962264154,
          62.98837209302326,
          65.22302158273381,
          66.98496240601504,
          71.45070422535211
         ],
         "textposition": "inside",
         "texttemplate": "%{text:.2s}",
         "type": "bar",
         "x": [
          "group A",
          "group B",
          "group C",
          "group D",
          "group E"
         ],
         "xaxis": "x",
         "y": [
          61.509433962264154,
          62.98837209302326,
          65.22302158273381,
          66.98496240601504,
          71.45070422535211
         ],
         "yaxis": "y"
        }
       ],
       "layout": {
        "barmode": "group",
        "legend": {
         "title": {
          "text": "Gênero"
         },
         "tracegroupgap": 0
        },
        "template": {
         "data": {
          "bar": [
           {
            "error_x": {
             "color": "#2a3f5f"
            },
            "error_y": {
             "color": "#2a3f5f"
            },
            "marker": {
             "line": {
              "color": "#E5ECF6",
              "width": 0.5
             },
             "pattern": {
              "fillmode": "overlay",
              "size": 10,
              "solidity": 0.2
             }
            },
            "type": "bar"
           }
          ],
          "barpolar": [
           {
            "marker": {
             "line": {
              "color": "#E5ECF6",
              "width": 0.5
             },
             "pattern": {
              "fillmode": "overlay",
              "size": 10,
              "solidity": 0.2
             }
            },
            "type": "barpolar"
           }
          ],
          "carpet": [
           {
            "aaxis": {
             "endlinecolor": "#2a3f5f",
             "gridcolor": "white",
             "linecolor": "white",
             "minorgridcolor": "white",
             "startlinecolor": "#2a3f5f"
            },
            "baxis": {
             "endlinecolor": "#2a3f5f",
             "gridcolor": "white",
             "linecolor": "white",
             "minorgridcolor": "white",
             "startlinecolor": "#2a3f5f"
            },
            "type": "carpet"
           }
          ],
          "choropleth": [
           {
            "colorbar": {
             "outlinewidth": 0,
             "ticks": ""
            },
            "type": "choropleth"
           }
          ],
          "contour": [
           {
            "colorbar": {
             "outlinewidth": 0,
             "ticks": ""
            },
            "colorscale": [
             [
              0,
              "#0d0887"
             ],
             [
              0.1111111111111111,
              "#46039f"
             ],
             [
              0.2222222222222222,
              "#7201a8"
             ],
             [
              0.3333333333333333,
              "#9c179e"
             ],
             [
              0.4444444444444444,
              "#bd3786"
             ],
             [
              0.5555555555555556,
              "#d8576b"
             ],
             [
              0.6666666666666666,
              "#ed7953"
             ],
             [
              0.7777777777777778,
              "#fb9f3a"
             ],
             [
              0.8888888888888888,
              "#fdca26"
             ],
             [
              1,
              "#f0f921"
             ]
            ],
            "type": "contour"
           }
          ],
          "contourcarpet": [
           {
            "colorbar": {
             "outlinewidth": 0,
             "ticks": ""
            },
            "type": "contourcarpet"
           }
          ],
          "heatmap": [
           {
            "colorbar": {
             "outlinewidth": 0,
             "ticks": ""
            },
            "colorscale": [
             [
              0,
              "#0d0887"
             ],
             [
              0.1111111111111111,
              "#46039f"
             ],
             [
              0.2222222222222222,
              "#7201a8"
             ],
             [
              0.3333333333333333,
              "#9c179e"
             ],
             [
              0.4444444444444444,
              "#bd3786"
             ],
             [
              0.5555555555555556,
              "#d8576b"
             ],
             [
              0.6666666666666666,
              "#ed7953"
             ],
             [
              0.7777777777777778,
              "#fb9f3a"
             ],
             [
              0.8888888888888888,
              "#fdca26"
             ],
             [
              1,
              "#f0f921"
             ]
            ],
            "type": "heatmap"
           }
          ],
          "heatmapgl": [
           {
            "colorbar": {
             "outlinewidth": 0,
             "ticks": ""
            },
            "colorscale": [
             [
              0,
              "#0d0887"
             ],
             [
              0.1111111111111111,
              "#46039f"
             ],
             [
              0.2222222222222222,
              "#7201a8"
             ],
             [
              0.3333333333333333,
              "#9c179e"
             ],
             [
              0.4444444444444444,
              "#bd3786"
             ],
             [
              0.5555555555555556,
              "#d8576b"
             ],
             [
              0.6666666666666666,
              "#ed7953"
             ],
             [
              0.7777777777777778,
              "#fb9f3a"
             ],
             [
              0.8888888888888888,
              "#fdca26"
             ],
             [
              1,
              "#f0f921"
             ]
            ],
            "type": "heatmapgl"
           }
          ],
          "histogram": [
           {
            "marker": {
             "pattern": {
              "fillmode": "overlay",
              "size": 10,
              "solidity": 0.2
             }
            },
            "type": "histogram"
           }
          ],
          "histogram2d": [
           {
            "colorbar": {
             "outlinewidth": 0,
             "ticks": ""
            },
            "colorscale": [
             [
              0,
              "#0d0887"
             ],
             [
              0.1111111111111111,
              "#46039f"
             ],
             [
              0.2222222222222222,
              "#7201a8"
             ],
             [
              0.3333333333333333,
              "#9c179e"
             ],
             [
              0.4444444444444444,
              "#bd3786"
             ],
             [
              0.5555555555555556,
              "#d8576b"
             ],
             [
              0.6666666666666666,
              "#ed7953"
             ],
             [
              0.7777777777777778,
              "#fb9f3a"
             ],
             [
              0.8888888888888888,
              "#fdca26"
             ],
             [
              1,
              "#f0f921"
             ]
            ],
            "type": "histogram2d"
           }
          ],
          "histogram2dcontour": [
           {
            "colorbar": {
             "outlinewidth": 0,
             "ticks": ""
            },
            "colorscale": [
             [
              0,
              "#0d0887"
             ],
             [
              0.1111111111111111,
              "#46039f"
             ],
             [
              0.2222222222222222,
              "#7201a8"
             ],
             [
              0.3333333333333333,
              "#9c179e"
             ],
             [
              0.4444444444444444,
              "#bd3786"
             ],
             [
              0.5555555555555556,
              "#d8576b"
             ],
             [
              0.6666666666666666,
              "#ed7953"
             ],
             [
              0.7777777777777778,
              "#fb9f3a"
             ],
             [
              0.8888888888888888,
              "#fdca26"
             ],
             [
              1,
              "#f0f921"
             ]
            ],
            "type": "histogram2dcontour"
           }
          ],
          "mesh3d": [
           {
            "colorbar": {
             "outlinewidth": 0,
             "ticks": ""
            },
            "type": "mesh3d"
           }
          ],
          "parcoords": [
           {
            "line": {
             "colorbar": {
              "outlinewidth": 0,
              "ticks": ""
             }
            },
            "type": "parcoords"
           }
          ],
          "pie": [
           {
            "automargin": true,
            "type": "pie"
           }
          ],
          "scatter": [
           {
            "fillpattern": {
             "fillmode": "overlay",
             "size": 10,
             "solidity": 0.2
            },
            "type": "scatter"
           }
          ],
          "scatter3d": [
           {
            "line": {
             "colorbar": {
              "outlinewidth": 0,
              "ticks": ""
             }
            },
            "marker": {
             "colorbar": {
              "outlinewidth": 0,
              "ticks": ""
             }
            },
            "type": "scatter3d"
           }
          ],
          "scattercarpet": [
           {
            "marker": {
             "colorbar": {
              "outlinewidth": 0,
              "ticks": ""
             }
            },
            "type": "scattercarpet"
           }
          ],
          "scattergeo": [
           {
            "marker": {
             "colorbar": {
              "outlinewidth": 0,
              "ticks": ""
             }
            },
            "type": "scattergeo"
           }
          ],
          "scattergl": [
           {
            "marker": {
             "colorbar": {
              "outlinewidth": 0,
              "ticks": ""
             }
            },
            "type": "scattergl"
           }
          ],
          "scattermapbox": [
           {
            "marker": {
             "colorbar": {
              "outlinewidth": 0,
              "ticks": ""
             }
            },
            "type": "scattermapbox"
           }
          ],
          "scatterpolar": [
           {
            "marker": {
             "colorbar": {
              "outlinewidth": 0,
              "ticks": ""
             }
            },
            "type": "scatterpolar"
           }
          ],
          "scatterpolargl": [
           {
            "marker": {
             "colorbar": {
              "outlinewidth": 0,
              "ticks": ""
             }
            },
            "type": "scatterpolargl"
           }
          ],
          "scatterternary": [
           {
            "marker": {
             "colorbar": {
              "outlinewidth": 0,
              "ticks": ""
             }
            },
            "type": "scatterternary"
           }
          ],
          "surface": [
           {
            "colorbar": {
             "outlinewidth": 0,
             "ticks": ""
            },
            "colorscale": [
             [
              0,
              "#0d0887"
             ],
             [
              0.1111111111111111,
              "#46039f"
             ],
             [
              0.2222222222222222,
              "#7201a8"
             ],
             [
              0.3333333333333333,
              "#9c179e"
             ],
             [
              0.4444444444444444,
              "#bd3786"
             ],
             [
              0.5555555555555556,
              "#d8576b"
             ],
             [
              0.6666666666666666,
              "#ed7953"
             ],
             [
              0.7777777777777778,
              "#fb9f3a"
             ],
             [
              0.8888888888888888,
              "#fdca26"
             ],
             [
              1,
              "#f0f921"
             ]
            ],
            "type": "surface"
           }
          ],
          "table": [
           {
            "cells": {
             "fill": {
              "color": "#EBF0F8"
             },
             "line": {
              "color": "white"
             }
            },
            "header": {
             "fill": {
              "color": "#C8D4E3"
             },
             "line": {
              "color": "white"
             }
            },
            "type": "table"
           }
          ]
         },
         "layout": {
          "annotationdefaults": {
           "arrowcolor": "#2a3f5f",
           "arrowhead": 0,
           "arrowwidth": 1
          },
          "autotypenumbers": "strict",
          "coloraxis": {
           "colorbar": {
            "outlinewidth": 0,
            "ticks": ""
           }
          },
          "colorscale": {
           "diverging": [
            [
             0,
             "#8e0152"
            ],
            [
             0.1,
             "#c51b7d"
            ],
            [
             0.2,
             "#de77ae"
            ],
            [
             0.3,
             "#f1b6da"
            ],
            [
             0.4,
             "#fde0ef"
            ],
            [
             0.5,
             "#f7f7f7"
            ],
            [
             0.6,
             "#e6f5d0"
            ],
            [
             0.7,
             "#b8e186"
            ],
            [
             0.8,
             "#7fbc41"
            ],
            [
             0.9,
             "#4d9221"
            ],
            [
             1,
             "#276419"
            ]
           ],
           "sequential": [
            [
             0,
             "#0d0887"
            ],
            [
             0.1111111111111111,
             "#46039f"
            ],
            [
             0.2222222222222222,
             "#7201a8"
            ],
            [
             0.3333333333333333,
             "#9c179e"
            ],
            [
             0.4444444444444444,
             "#bd3786"
            ],
            [
             0.5555555555555556,
             "#d8576b"
            ],
            [
             0.6666666666666666,
             "#ed7953"
            ],
            [
             0.7777777777777778,
             "#fb9f3a"
            ],
            [
             0.8888888888888888,
             "#fdca26"
            ],
            [
             1,
             "#f0f921"
            ]
           ],
           "sequentialminus": [
            [
             0,
             "#0d0887"
            ],
            [
             0.1111111111111111,
             "#46039f"
            ],
            [
             0.2222222222222222,
             "#7201a8"
            ],
            [
             0.3333333333333333,
             "#9c179e"
            ],
            [
             0.4444444444444444,
             "#bd3786"
            ],
            [
             0.5555555555555556,
             "#d8576b"
            ],
            [
             0.6666666666666666,
             "#ed7953"
            ],
            [
             0.7777777777777778,
             "#fb9f3a"
            ],
            [
             0.8888888888888888,
             "#fdca26"
            ],
            [
             1,
             "#f0f921"
            ]
           ]
          },
          "colorway": [
           "#636efa",
           "#EF553B",
           "#00cc96",
           "#ab63fa",
           "#FFA15A",
           "#19d3f3",
           "#FF6692",
           "#B6E880",
           "#FF97FF",
           "#FECB52"
          ],
          "font": {
           "color": "#2a3f5f"
          },
          "geo": {
           "bgcolor": "white",
           "lakecolor": "white",
           "landcolor": "#E5ECF6",
           "showlakes": true,
           "showland": true,
           "subunitcolor": "white"
          },
          "hoverlabel": {
           "align": "left"
          },
          "hovermode": "closest",
          "mapbox": {
           "style": "light"
          },
          "paper_bgcolor": "white",
          "plot_bgcolor": "#E5ECF6",
          "polar": {
           "angularaxis": {
            "gridcolor": "white",
            "linecolor": "white",
            "ticks": ""
           },
           "bgcolor": "#E5ECF6",
           "radialaxis": {
            "gridcolor": "white",
            "linecolor": "white",
            "ticks": ""
           }
          },
          "scene": {
           "xaxis": {
            "backgroundcolor": "#E5ECF6",
            "gridcolor": "white",
            "gridwidth": 2,
            "linecolor": "white",
            "showbackground": true,
            "ticks": "",
            "zerolinecolor": "white"
           },
           "yaxis": {
            "backgroundcolor": "#E5ECF6",
            "gridcolor": "white",
            "gridwidth": 2,
            "linecolor": "white",
            "showbackground": true,
            "ticks": "",
            "zerolinecolor": "white"
           },
           "zaxis": {
            "backgroundcolor": "#E5ECF6",
            "gridcolor": "white",
            "gridwidth": 2,
            "linecolor": "white",
            "showbackground": true,
            "ticks": "",
            "zerolinecolor": "white"
           }
          },
          "shapedefaults": {
           "line": {
            "color": "#2a3f5f"
           }
          },
          "ternary": {
           "aaxis": {
            "gridcolor": "white",
            "linecolor": "white",
            "ticks": ""
           },
           "baxis": {
            "gridcolor": "white",
            "linecolor": "white",
            "ticks": ""
           },
           "bgcolor": "#E5ECF6",
           "caxis": {
            "gridcolor": "white",
            "linecolor": "white",
            "ticks": ""
           }
          },
          "title": {
           "x": 0.05
          },
          "xaxis": {
           "automargin": true,
           "gridcolor": "white",
           "linecolor": "white",
           "ticks": "",
           "title": {
            "standoff": 15
           },
           "zerolinecolor": "white",
           "zerolinewidth": 2
          },
          "yaxis": {
           "automargin": true,
           "gridcolor": "white",
           "linecolor": "white",
           "ticks": "",
           "title": {
            "standoff": 15
           },
           "zerolinecolor": "white",
           "zerolinewidth": 2
          }
         }
        },
        "title": {
         "text": "Comparação de Médias Finais por Gênero e Etnia"
        },
        "xaxis": {
         "anchor": "y",
         "domain": [
          0,
          1
         ],
         "title": {
          "text": "race_ethnicity"
         }
        },
        "yaxis": {
         "anchor": "x",
         "domain": [
          0,
          1
         ],
         "title": {
          "text": "Média de Notas Finais"
         }
        }
       }
      }
     },
     "metadata": {},
     "output_type": "display_data"
    }
   ],
   "source": [
    "# Group the final_score_avg by gender\n",
    "df_final_avg_grouped_by_gender = df.groupby(['gender', 'race_ethnicity'])['final_score_avg'].mean().reset_index()\n",
    "\n",
    "# Create a plotly bar chart\n",
    "fig = px.bar(df_final_avg_grouped_by_gender, \n",
    "             x='race_ethnicity', y='final_score_avg', \n",
    "             text='final_score_avg', \n",
    "             title='Comparação de Médias Finais por Gênero e Etnia',  \n",
    "             labels={'final_score_avg': 'Média de Notas Finais', 'gender': 'Gênero'}, \n",
    "             color='gender', barmode='group')\n",
    "\n",
    "fig.update_traces(texttemplate='%{text:.2s}', textposition='inside')\n",
    "\n",
    "fig.show()"
   ]
  },
  {
   "cell_type": "markdown",
   "metadata": {},
   "source": [
    "#### Média de Pontuação Final por Gênero e Grupo Étnico\n",
    "Em uma analise inicial, é possível perceber que de uma maneira global para todas as etinias o genero feminino possui destaque em relação ao genero masculino.\n",
    "\n",
    "| gender | race_ethnicity | final_score_avg |\n",
    "|--------|----------------|-----------------|\n",
    "| female | group A        | 65.083333       |\n",
    "| female | group B        | 67.548077       |\n",
    "| female | group C        | 68.588889       |\n",
    "| female | group D        | 71.441860       |\n",
    "| female | group E        | 74.014493       |\n",
    "| male   | group A        | 61.509434       |\n",
    "| male   | group B        | 62.988372       |\n",
    "| male   | group C        | 65.223022       |\n",
    "| male   | group D        | 66.984962       |\n",
    "| male   | group E        | 71.450704       |\n",
    "\n",
    "\n"
   ]
  },
  {
   "cell_type": "code",
   "execution_count": 9,
   "metadata": {},
   "outputs": [
    {
     "data": {
      "application/vnd.plotly.v1+json": {
       "config": {
        "plotlyServerURL": "https://plot.ly"
       },
       "data": [
        {
         "alignmentgroup": "True",
         "hovertemplate": "gender=female<br>Média de Notas Finais=%{x}<br>math_score=%{y}<extra></extra>",
         "legendgroup": "female",
         "marker": {
          "color": "#636efa",
          "pattern": {
           "shape": ""
          }
         },
         "name": "female",
         "offsetgroup": "female",
         "orientation": "v",
         "showlegend": true,
         "textposition": "auto",
         "type": "bar",
         "x": [
          73,
          82,
          93,
          77,
          92,
          49,
          73,
          54,
          74,
          26,
          58,
          70,
          72,
          70,
          69,
          72,
          63,
          64,
          79,
          58,
          84,
          66,
          59,
          53,
          61,
          71,
          69,
          81,
          39,
          84,
          9,
          73,
          59,
          69,
          53,
          65,
          47,
          69,
          66,
          49,
          78,
          82,
          72,
          65,
          80,
          70,
          86,
          68,
          62,
          65,
          88,
          66,
          96,
          66,
          69,
          88,
          54,
          100,
          81,
          80,
          58,
          63,
          87,
          91,
          89,
          50,
          80,
          64,
          73,
          62,
          50,
          31,
          75,
          65,
          82,
          73,
          78,
          83,
          88,
          99,
          71,
          76,
          71,
          82,
          67,
          49,
          86,
          53,
          75,
          61,
          99,
          59,
          49,
          68,
          84,
          67,
          64,
          79,
          51,
          78,
          79,
          74,
          65,
          77,
          62,
          55,
          86,
          38,
          66,
          61,
          64,
          52,
          72,
          92,
          79,
          66,
          82,
          54,
          65,
          64,
          79,
          67,
          68,
          68,
          74,
          76,
          73,
          48,
          94,
          73,
          73,
          92,
          72,
          53,
          69,
          90,
          66,
          77,
          79,
          75,
          43,
          79,
          71,
          77,
          77,
          64,
          53,
          76,
          68,
          66,
          83,
          61,
          77,
          80,
          77,
          50,
          43,
          89,
          49,
          90,
          65,
          30,
          50,
          66,
          73,
          76,
          89,
          62,
          74,
          54,
          67,
          68,
          59,
          86,
          60,
          56,
          31,
          55,
          81,
          63,
          92,
          67,
          84,
          93,
          77,
          83,
          44,
          41,
          73,
          69,
          67,
          63,
          74,
          72,
          60,
          90,
          60,
          56,
          96,
          58,
          68,
          80,
          55,
          72,
          67,
          89,
          60,
          57,
          75,
          64,
          68,
          52,
          76,
          80,
          67,
          77,
          73,
          78,
          96,
          72,
          59,
          86,
          100,
          72,
          86,
          87,
          32,
          83,
          86,
          69,
          79,
          62,
          90,
          77,
          63,
          56,
          52,
          70,
          75,
          66,
          85,
          86,
          62,
          51,
          71,
          68,
          78,
          91,
          92,
          51,
          81,
          88,
          59,
          89,
          83,
          82,
          71,
          74,
          75,
          87,
          44,
          39,
          69,
          69,
          51,
          87,
          77,
          60,
          79,
          89,
          64,
          96,
          64,
          46,
          35,
          69,
          64,
          76,
          70,
          74,
          97,
          70,
          57,
          60,
          75,
          87,
          54,
          61,
          91,
          79,
          71,
          76,
          74,
          72,
          67,
          56,
          61,
          60,
          74,
          97,
          69,
          73,
          76,
          59,
          29,
          78,
          84,
          51,
          62,
          62,
          61,
          72,
          89,
          67,
          40,
          50,
          60,
          50,
          74,
          83,
          76,
          87,
          74,
          84,
          77,
          78,
          76,
          65,
          65,
          53,
          76,
          75,
          90,
          70,
          77,
          65,
          54,
          65,
          67,
          57,
          69,
          83,
          70,
          74,
          78,
          75,
          60,
          76,
          76,
          71,
          38,
          98,
          52,
          76,
          74,
          76,
          56,
          85,
          82,
          67,
          71,
          81,
          65,
          65,
          62,
          54,
          83,
          99,
          68,
          86,
          97,
          75,
          68,
          84,
          72,
          83,
          75,
          90,
          56,
          64,
          50,
          82,
          68,
          56,
          84,
          90,
          59,
          63,
          53,
          62,
          73,
          70,
          71,
          64,
          73,
          54,
          69,
          41,
          78,
          53,
          84,
          81,
          58,
          42,
          76,
          30,
          59,
          57,
          65,
          48,
          66,
          78,
          55,
          92,
          85,
          76,
          71,
          42,
          62,
          78,
          56,
          67,
          85,
          89,
          87,
          80,
          53,
          65,
          70,
          79,
          59,
          83,
          83,
          66,
          79,
          72,
          46,
          34,
          56,
          66,
          64,
          88,
          97,
          75,
          56,
          85,
          74,
          73,
          55,
          70,
          71,
          70,
          69,
          52,
          73,
          96,
          69,
          87,
          87,
          63,
          63,
          35,
          73,
          75,
          75,
          41,
          98,
          78,
          85,
          71,
          78,
          60,
          58,
          54,
          68,
          52,
          71,
          45,
          61,
          66,
          52,
          57,
          88,
          62,
          58,
          56,
          68,
          78,
          73,
          67,
          97,
          56,
          59,
          52,
          100,
          72,
          68,
          70,
          80,
          96,
          54,
          58,
          61,
          74,
          93,
          18,
          85,
          77,
          50,
          45,
          79,
          75,
          69,
          69,
          94,
          65,
          74,
          83
         ],
         "xaxis": "x",
         "y": [
          72,
          69,
          90,
          71,
          88,
          38,
          65,
          50,
          69,
          18,
          54,
          65,
          69,
          67,
          62,
          69,
          63,
          56,
          74,
          50,
          75,
          58,
          53,
          50,
          55,
          66,
          57,
          71,
          33,
          82,
          0,
          69,
          59,
          60,
          39,
          58,
          41,
          61,
          62,
          47,
          73,
          76,
          71,
          58,
          73,
          65,
          79,
          63,
          58,
          65,
          85,
          58,
          87,
          52,
          70,
          77,
          51,
          99,
          75,
          78,
          51,
          55,
          79,
          88,
          87,
          51,
          75,
          59,
          76,
          59,
          42,
          22,
          68,
          59,
          70,
          66,
          61,
          75,
          81,
          96,
          58,
          68,
          67,
          79,
          63,
          43,
          81,
          46,
          71,
          52,
          97,
          46,
          50,
          65,
          77,
          66,
          62,
          69,
          45,
          78,
          67,
          65,
          57,
          74,
          58,
          42,
          83,
          34,
          56,
          55,
          52,
          45,
          72,
          88,
          67,
          64,
          80,
          56,
          58,
          65,
          71,
          60,
          62,
          64,
          70,
          65,
          64,
          44,
          99,
          63,
          69,
          88,
          71,
          47,
          65,
          85,
          59,
          65,
          73,
          70,
          37,
          67,
          65,
          67,
          74,
          53,
          49,
          73,
          68,
          59,
          77,
          56,
          67,
          75,
          71,
          43,
          41,
          82,
          41,
          83,
          61,
          24,
          35,
          61,
          69,
          72,
          77,
          52,
          63,
          46,
          59,
          61,
          42,
          80,
          58,
          52,
          27,
          44,
          73,
          45,
          82,
          59,
          80,
          85,
          71,
          80,
          38,
          38,
          67,
          64,
          57,
          62,
          77,
          65,
          50,
          85,
          59,
          49,
          88,
          54,
          63,
          82,
          52,
          70,
          51,
          82,
          57,
          47,
          59,
          62,
          61,
          47,
          67,
          78,
          59,
          73,
          67,
          64,
          100,
          65,
          53,
          79,
          100,
          71,
          77,
          84,
          26,
          77,
          83,
          63,
          68,
          59,
          90,
          71,
          55,
          52,
          49,
          60,
          65,
          64,
          83,
          81,
          54,
          54,
          59,
          66,
          74,
          94,
          95,
          40,
          82,
          86,
          54,
          77,
          76,
          74,
          66,
          66,
          67,
          91,
          36,
          29,
          62,
          68,
          47,
          79,
          66,
          51,
          81,
          82,
          64,
          92,
          62,
          40,
          32,
          55,
          53,
          74,
          63,
          63,
          92,
          61,
          53,
          50,
          74,
          81,
          48,
          53,
          81,
          77,
          63,
          73,
          69,
          65,
          55,
          44,
          54,
          48,
          74,
          92,
          56,
          69,
          65,
          54,
          29,
          76,
          85,
          40,
          61,
          58,
          58,
          65,
          82,
          60,
          37,
          35,
          61,
          44,
          66,
          75,
          67,
          80,
          76,
          74,
          72,
          74,
          65,
          59,
          64,
          50,
          69,
          68,
          85,
          65,
          73,
          62,
          43,
          55,
          65,
          50,
          63,
          77,
          66,
          69,
          65,
          69,
          50,
          73,
          70,
          67,
          29,
          94,
          49,
          73,
          66,
          77,
          49,
          79,
          75,
          59,
          57,
          79,
          57,
          63,
          59,
          42,
          80,
          98,
          60,
          76,
          96,
          76,
          62,
          74,
          65,
          73,
          68,
          87,
          53,
          53,
          37,
          81,
          59,
          50,
          77,
          84,
          52,
          53,
          48,
          62,
          74,
          58,
          68,
          52,
          62,
          49,
          66,
          35,
          72,
          46,
          77,
          76,
          52,
          32,
          72,
          19,
          52,
          48,
          60,
          42,
          57,
          70,
          52,
          87,
          82,
          73,
          64,
          41,
          54,
          72,
          45,
          60,
          77,
          85,
          78,
          71,
          48,
          56,
          65,
          69,
          61,
          74,
          77,
          60,
          75,
          66,
          39,
          23,
          40,
          59,
          61,
          87,
          97,
          65,
          53,
          81,
          71,
          70,
          43,
          59,
          64,
          71,
          64,
          51,
          62,
          93,
          69,
          86,
          85,
          50,
          59,
          32,
          63,
          65,
          73,
          34,
          93,
          67,
          79,
          67,
          69,
          52,
          47,
          46,
          68,
          44,
          57,
          35,
          54,
          65,
          48,
          57,
          78,
          58,
          54,
          49,
          57,
          75,
          74,
          62,
          92,
          45,
          56,
          48,
          100,
          65,
          62,
          68,
          75,
          89,
          53,
          49,
          54,
          64,
          91,
          8,
          78,
          74,
          40,
          44,
          67,
          65,
          55,
          62,
          88,
          59,
          68,
          77
         ],
         "yaxis": "y"
        },
        {
         "alignmentgroup": "True",
         "hovertemplate": "gender=male<br>Média de Notas Finais=%{x}<br>math_score=%{y}<extra></extra>",
         "legendgroup": "male",
         "marker": {
          "color": "#EF553B",
          "pattern": {
           "shape": ""
          }
         },
         "name": "male",
         "offsetgroup": "male",
         "orientation": "v",
         "showlegend": true,
         "textposition": "auto",
         "type": "bar",
         "x": [
          49,
          76,
          41,
          65,
          55,
          45,
          73,
          88,
          45,
          66,
          50,
          75,
          73,
          59,
          68,
          40,
          89,
          80,
          57,
          57,
          63,
          59,
          83,
          52,
          71,
          46,
          80,
          52,
          58,
          75,
          37,
          59,
          64,
          40,
          58,
          60,
          58,
          46,
          41,
          26,
          80,
          46,
          50,
          66,
          38,
          32,
          74,
          46,
          80,
          64,
          71,
          72,
          50,
          91,
          64,
          55,
          51,
          78,
          91,
          59,
          79,
          69,
          72,
          79,
          85,
          43,
          77,
          76,
          54,
          49,
          60,
          67,
          49,
          80,
          82,
          69,
          98,
          66,
          71,
          50,
          63,
          60,
          64,
          78,
          51,
          51,
          52,
          73,
          87,
          68,
          49,
          66,
          74,
          65,
          48,
          79,
          67,
          56,
          64,
          54,
          72,
          47,
          74,
          69,
          79,
          79,
          30,
          56,
          86,
          81,
          71,
          58,
          82,
          80,
          54,
          68,
          69,
          44,
          86,
          83,
          77,
          65,
          52,
          81,
          69,
          51,
          73,
          77,
          80,
          60,
          48,
          77,
          53,
          77,
          79,
          72,
          47,
          64,
          50,
          83,
          78,
          62,
          49,
          46,
          82,
          89,
          80,
          77,
          71,
          76,
          60,
          78,
          63,
          43,
          71,
          45,
          84,
          80,
          54,
          73,
          68,
          89,
          49,
          61,
          65,
          67,
          78,
          68,
          61,
          23,
          78,
          64,
          40,
          57,
          83,
          72,
          48,
          57,
          69,
          73,
          60,
          72,
          79,
          58,
          62,
          61,
          82,
          59,
          56,
          60,
          63,
          77,
          73,
          43,
          64,
          94,
          77,
          73,
          66,
          70,
          56,
          45,
          65,
          58,
          46,
          64,
          85,
          82,
          66,
          66,
          75,
          71,
          71,
          63,
          56,
          38,
          85,
          68,
          59,
          62,
          63,
          57,
          68,
          50,
          69,
          71,
          59,
          86,
          78,
          65,
          82,
          45,
          75,
          57,
          47,
          52,
          68,
          55,
          51,
          65,
          68,
          80,
          68,
          73,
          71,
          71,
          66,
          52,
          72,
          55,
          58,
          81,
          66,
          73,
          59,
          68,
          56,
          78,
          73,
          52,
          54,
          57,
          61,
          54,
          51,
          62,
          59,
          60,
          70,
          56,
          74,
          92,
          71,
          80,
          80,
          68,
          73,
          73,
          88,
          68,
          46,
          65,
          67,
          93,
          48,
          45,
          53,
          68,
          72,
          93,
          49,
          55,
          56,
          61,
          67,
          23,
          52,
          56,
          88,
          70,
          64,
          92,
          83,
          87,
          69,
          60,
          54,
          94,
          99,
          67,
          52,
          51,
          67,
          68,
          83,
          70,
          79,
          48,
          65,
          53,
          69,
          65,
          87,
          75,
          67,
          69,
          69,
          77,
          53,
          78,
          61,
          63,
          57,
          65,
          76,
          76,
          52,
          89,
          64,
          86,
          66,
          39,
          59,
          85,
          89,
          82,
          74,
          81,
          58,
          47,
          44,
          75,
          59,
          43,
          48,
          49,
          61,
          85,
          75,
          59,
          75,
          52,
          75,
          72,
          67,
          86,
          69,
          68,
          77,
          55,
          55,
          70,
          74,
          82,
          61,
          66,
          58,
          50,
          74,
          64,
          87,
          84,
          65,
          70,
          83,
          70,
          61,
          69,
          76,
          77,
          78,
          55,
          39,
          47,
          82,
          89,
          69,
          51,
          62,
          58,
          61,
          51,
          65,
          56,
          58,
          76,
          86,
          87,
          56,
          75,
          68,
          70,
          60,
          69,
          49,
          77,
          40,
          94,
          84,
          55,
          48,
          75,
          50,
          55,
          81,
          87,
          70,
          82,
          57,
          64,
          48,
          62,
          48,
          79,
          31,
          61,
          86,
          81,
          52,
          68,
          47,
          100,
          93,
          69,
          68,
          71,
          66,
          57,
          44,
          70,
          60,
          68,
          73,
          92,
          64,
          59,
          84,
          71,
          70,
          70,
          61,
          81,
          50,
          79,
          55,
          64,
          84,
          76,
          62,
          66,
          62,
          73,
          61,
          62,
          48,
          79,
          83,
          54,
          77,
          81,
          63,
          57
         ],
         "xaxis": "x",
         "y": [
          47,
          76,
          40,
          64,
          58,
          40,
          78,
          88,
          46,
          66,
          44,
          74,
          73,
          69,
          70,
          40,
          97,
          81,
          57,
          55,
          59,
          65,
          82,
          53,
          77,
          53,
          88,
          52,
          58,
          79,
          39,
          62,
          67,
          45,
          61,
          63,
          61,
          49,
          44,
          30,
          80,
          49,
          50,
          72,
          42,
          27,
          71,
          43,
          78,
          65,
          79,
          68,
          60,
          98,
          66,
          62,
          54,
          84,
          91,
          63,
          83,
          72,
          65,
          82,
          89,
          53,
          87,
          74,
          58,
          51,
          70,
          71,
          57,
          88,
          88,
          73,
          100,
          62,
          77,
          54,
          62,
          60,
          66,
          82,
          49,
          52,
          53,
          72,
          94,
          62,
          45,
          65,
          80,
          62,
          48,
          76,
          77,
          61,
          59,
          55,
          69,
          59,
          74,
          82,
          81,
          80,
          35,
          60,
          87,
          84,
          66,
          61,
          87,
          86,
          57,
          68,
          76,
          46,
          92,
          83,
          80,
          63,
          54,
          84,
          73,
          59,
          75,
          85,
          89,
          68,
          47,
          80,
          54,
          78,
          79,
          76,
          59,
          69,
          58,
          88,
          83,
          73,
          53,
          45,
          81,
          97,
          88,
          77,
          76,
          86,
          63,
          78,
          67,
          46,
          71,
          40,
          90,
          81,
          56,
          80,
          69,
          99,
          51,
          66,
          67,
          71,
          83,
          63,
          61,
          28,
          82,
          71,
          47,
          62,
          90,
          76,
          49,
          58,
          67,
          79,
          62,
          75,
          87,
          66,
          63,
          59,
          85,
          59,
          49,
          69,
          61,
          84,
          74,
          46,
          66,
          87,
          79,
          73,
          73,
          76,
          57,
          48,
          74,
          60,
          53,
          65,
          87,
          84,
          71,
          63,
          84,
          71,
          74,
          68,
          57,
          41,
          86,
          69,
          65,
          68,
          64,
          61,
          73,
          50,
          75,
          75,
          70,
          89,
          79,
          69,
          86,
          47,
          81,
          65,
          37,
          53,
          72,
          53,
          54,
          75,
          72,
          91,
          76,
          80,
          76,
          73,
          68,
          59,
          70,
          61,
          64,
          79,
          68,
          76,
          63,
          68,
          55,
          79,
          76,
          64,
          62,
          71,
          69,
          54,
          53,
          68,
          56,
          62,
          73,
          51,
          85,
          97,
          75,
          79,
          78,
          72,
          79,
          79,
          87,
          77,
          53,
          61,
          73,
          96,
          48,
          48,
          63,
          68,
          71,
          91,
          40,
          61,
          58,
          71,
          68,
          30,
          53,
          60,
          84,
          75,
          69,
          94,
          88,
          95,
          65,
          62,
          58,
          100,
          100,
          69,
          61,
          49,
          67,
          79,
          84,
          71,
          86,
          41,
          70,
          51,
          77,
          69,
          90,
          74,
          73,
          80,
          73,
          81,
          52,
          81,
          63,
          60,
          62,
          62,
          85,
          77,
          53,
          93,
          66,
          87,
          62,
          46,
          66,
          89,
          93,
          81,
          73,
          91,
          55,
          50,
          47,
          81,
          68,
          53,
          55,
          55,
          67,
          92,
          81,
          61,
          80,
          55,
          72,
          69,
          69,
          87,
          71,
          68,
          79,
          58,
          55,
          70,
          69,
          78,
          60,
          76,
          58,
          52,
          75,
          66,
          94,
          91,
          68,
          66,
          89,
          70,
          69,
          67,
          76,
          75,
          90,
          59,
          51,
          45,
          87,
          94,
          61,
          49,
          62,
          68,
          64,
          58,
          73,
          58,
          64,
          74,
          90,
          91,
          64,
          80,
          71,
          82,
          62,
          75,
          52,
          87,
          39,
          97,
          82,
          59,
          61,
          78,
          49,
          59,
          82,
          90,
          80,
          81,
          57,
          63,
          55,
          54,
          44,
          88,
          36,
          67,
          85,
          88,
          57,
          70,
          50,
          100,
          91,
          69,
          72,
          74,
          74,
          64,
          46,
          67,
          62,
          61,
          70,
          98,
          70,
          67,
          85,
          77,
          72,
          81,
          61,
          82,
          49,
          94,
          58,
          72,
          84,
          75,
          72,
          66,
          63,
          78,
          60,
          62,
          55,
          81,
          79,
          57,
          81,
          86,
          63,
          62
         ],
         "yaxis": "y"
        }
       ],
       "layout": {
        "barmode": "relative",
        "legend": {
         "title": {
          "text": "gender"
         },
         "tracegroupgap": 0
        },
        "template": {
         "data": {
          "bar": [
           {
            "error_x": {
             "color": "#2a3f5f"
            },
            "error_y": {
             "color": "#2a3f5f"
            },
            "marker": {
             "line": {
              "color": "#E5ECF6",
              "width": 0.5
             },
             "pattern": {
              "fillmode": "overlay",
              "size": 10,
              "solidity": 0.2
             }
            },
            "type": "bar"
           }
          ],
          "barpolar": [
           {
            "marker": {
             "line": {
              "color": "#E5ECF6",
              "width": 0.5
             },
             "pattern": {
              "fillmode": "overlay",
              "size": 10,
              "solidity": 0.2
             }
            },
            "type": "barpolar"
           }
          ],
          "carpet": [
           {
            "aaxis": {
             "endlinecolor": "#2a3f5f",
             "gridcolor": "white",
             "linecolor": "white",
             "minorgridcolor": "white",
             "startlinecolor": "#2a3f5f"
            },
            "baxis": {
             "endlinecolor": "#2a3f5f",
             "gridcolor": "white",
             "linecolor": "white",
             "minorgridcolor": "white",
             "startlinecolor": "#2a3f5f"
            },
            "type": "carpet"
           }
          ],
          "choropleth": [
           {
            "colorbar": {
             "outlinewidth": 0,
             "ticks": ""
            },
            "type": "choropleth"
           }
          ],
          "contour": [
           {
            "colorbar": {
             "outlinewidth": 0,
             "ticks": ""
            },
            "colorscale": [
             [
              0,
              "#0d0887"
             ],
             [
              0.1111111111111111,
              "#46039f"
             ],
             [
              0.2222222222222222,
              "#7201a8"
             ],
             [
              0.3333333333333333,
              "#9c179e"
             ],
             [
              0.4444444444444444,
              "#bd3786"
             ],
             [
              0.5555555555555556,
              "#d8576b"
             ],
             [
              0.6666666666666666,
              "#ed7953"
             ],
             [
              0.7777777777777778,
              "#fb9f3a"
             ],
             [
              0.8888888888888888,
              "#fdca26"
             ],
             [
              1,
              "#f0f921"
             ]
            ],
            "type": "contour"
           }
          ],
          "contourcarpet": [
           {
            "colorbar": {
             "outlinewidth": 0,
             "ticks": ""
            },
            "type": "contourcarpet"
           }
          ],
          "heatmap": [
           {
            "colorbar": {
             "outlinewidth": 0,
             "ticks": ""
            },
            "colorscale": [
             [
              0,
              "#0d0887"
             ],
             [
              0.1111111111111111,
              "#46039f"
             ],
             [
              0.2222222222222222,
              "#7201a8"
             ],
             [
              0.3333333333333333,
              "#9c179e"
             ],
             [
              0.4444444444444444,
              "#bd3786"
             ],
             [
              0.5555555555555556,
              "#d8576b"
             ],
             [
              0.6666666666666666,
              "#ed7953"
             ],
             [
              0.7777777777777778,
              "#fb9f3a"
             ],
             [
              0.8888888888888888,
              "#fdca26"
             ],
             [
              1,
              "#f0f921"
             ]
            ],
            "type": "heatmap"
           }
          ],
          "heatmapgl": [
           {
            "colorbar": {
             "outlinewidth": 0,
             "ticks": ""
            },
            "colorscale": [
             [
              0,
              "#0d0887"
             ],
             [
              0.1111111111111111,
              "#46039f"
             ],
             [
              0.2222222222222222,
              "#7201a8"
             ],
             [
              0.3333333333333333,
              "#9c179e"
             ],
             [
              0.4444444444444444,
              "#bd3786"
             ],
             [
              0.5555555555555556,
              "#d8576b"
             ],
             [
              0.6666666666666666,
              "#ed7953"
             ],
             [
              0.7777777777777778,
              "#fb9f3a"
             ],
             [
              0.8888888888888888,
              "#fdca26"
             ],
             [
              1,
              "#f0f921"
             ]
            ],
            "type": "heatmapgl"
           }
          ],
          "histogram": [
           {
            "marker": {
             "pattern": {
              "fillmode": "overlay",
              "size": 10,
              "solidity": 0.2
             }
            },
            "type": "histogram"
           }
          ],
          "histogram2d": [
           {
            "colorbar": {
             "outlinewidth": 0,
             "ticks": ""
            },
            "colorscale": [
             [
              0,
              "#0d0887"
             ],
             [
              0.1111111111111111,
              "#46039f"
             ],
             [
              0.2222222222222222,
              "#7201a8"
             ],
             [
              0.3333333333333333,
              "#9c179e"
             ],
             [
              0.4444444444444444,
              "#bd3786"
             ],
             [
              0.5555555555555556,
              "#d8576b"
             ],
             [
              0.6666666666666666,
              "#ed7953"
             ],
             [
              0.7777777777777778,
              "#fb9f3a"
             ],
             [
              0.8888888888888888,
              "#fdca26"
             ],
             [
              1,
              "#f0f921"
             ]
            ],
            "type": "histogram2d"
           }
          ],
          "histogram2dcontour": [
           {
            "colorbar": {
             "outlinewidth": 0,
             "ticks": ""
            },
            "colorscale": [
             [
              0,
              "#0d0887"
             ],
             [
              0.1111111111111111,
              "#46039f"
             ],
             [
              0.2222222222222222,
              "#7201a8"
             ],
             [
              0.3333333333333333,
              "#9c179e"
             ],
             [
              0.4444444444444444,
              "#bd3786"
             ],
             [
              0.5555555555555556,
              "#d8576b"
             ],
             [
              0.6666666666666666,
              "#ed7953"
             ],
             [
              0.7777777777777778,
              "#fb9f3a"
             ],
             [
              0.8888888888888888,
              "#fdca26"
             ],
             [
              1,
              "#f0f921"
             ]
            ],
            "type": "histogram2dcontour"
           }
          ],
          "mesh3d": [
           {
            "colorbar": {
             "outlinewidth": 0,
             "ticks": ""
            },
            "type": "mesh3d"
           }
          ],
          "parcoords": [
           {
            "line": {
             "colorbar": {
              "outlinewidth": 0,
              "ticks": ""
             }
            },
            "type": "parcoords"
           }
          ],
          "pie": [
           {
            "automargin": true,
            "type": "pie"
           }
          ],
          "scatter": [
           {
            "fillpattern": {
             "fillmode": "overlay",
             "size": 10,
             "solidity": 0.2
            },
            "type": "scatter"
           }
          ],
          "scatter3d": [
           {
            "line": {
             "colorbar": {
              "outlinewidth": 0,
              "ticks": ""
             }
            },
            "marker": {
             "colorbar": {
              "outlinewidth": 0,
              "ticks": ""
             }
            },
            "type": "scatter3d"
           }
          ],
          "scattercarpet": [
           {
            "marker": {
             "colorbar": {
              "outlinewidth": 0,
              "ticks": ""
             }
            },
            "type": "scattercarpet"
           }
          ],
          "scattergeo": [
           {
            "marker": {
             "colorbar": {
              "outlinewidth": 0,
              "ticks": ""
             }
            },
            "type": "scattergeo"
           }
          ],
          "scattergl": [
           {
            "marker": {
             "colorbar": {
              "outlinewidth": 0,
              "ticks": ""
             }
            },
            "type": "scattergl"
           }
          ],
          "scattermapbox": [
           {
            "marker": {
             "colorbar": {
              "outlinewidth": 0,
              "ticks": ""
             }
            },
            "type": "scattermapbox"
           }
          ],
          "scatterpolar": [
           {
            "marker": {
             "colorbar": {
              "outlinewidth": 0,
              "ticks": ""
             }
            },
            "type": "scatterpolar"
           }
          ],
          "scatterpolargl": [
           {
            "marker": {
             "colorbar": {
              "outlinewidth": 0,
              "ticks": ""
             }
            },
            "type": "scatterpolargl"
           }
          ],
          "scatterternary": [
           {
            "marker": {
             "colorbar": {
              "outlinewidth": 0,
              "ticks": ""
             }
            },
            "type": "scatterternary"
           }
          ],
          "surface": [
           {
            "colorbar": {
             "outlinewidth": 0,
             "ticks": ""
            },
            "colorscale": [
             [
              0,
              "#0d0887"
             ],
             [
              0.1111111111111111,
              "#46039f"
             ],
             [
              0.2222222222222222,
              "#7201a8"
             ],
             [
              0.3333333333333333,
              "#9c179e"
             ],
             [
              0.4444444444444444,
              "#bd3786"
             ],
             [
              0.5555555555555556,
              "#d8576b"
             ],
             [
              0.6666666666666666,
              "#ed7953"
             ],
             [
              0.7777777777777778,
              "#fb9f3a"
             ],
             [
              0.8888888888888888,
              "#fdca26"
             ],
             [
              1,
              "#f0f921"
             ]
            ],
            "type": "surface"
           }
          ],
          "table": [
           {
            "cells": {
             "fill": {
              "color": "#EBF0F8"
             },
             "line": {
              "color": "white"
             }
            },
            "header": {
             "fill": {
              "color": "#C8D4E3"
             },
             "line": {
              "color": "white"
             }
            },
            "type": "table"
           }
          ]
         },
         "layout": {
          "annotationdefaults": {
           "arrowcolor": "#2a3f5f",
           "arrowhead": 0,
           "arrowwidth": 1
          },
          "autotypenumbers": "strict",
          "coloraxis": {
           "colorbar": {
            "outlinewidth": 0,
            "ticks": ""
           }
          },
          "colorscale": {
           "diverging": [
            [
             0,
             "#8e0152"
            ],
            [
             0.1,
             "#c51b7d"
            ],
            [
             0.2,
             "#de77ae"
            ],
            [
             0.3,
             "#f1b6da"
            ],
            [
             0.4,
             "#fde0ef"
            ],
            [
             0.5,
             "#f7f7f7"
            ],
            [
             0.6,
             "#e6f5d0"
            ],
            [
             0.7,
             "#b8e186"
            ],
            [
             0.8,
             "#7fbc41"
            ],
            [
             0.9,
             "#4d9221"
            ],
            [
             1,
             "#276419"
            ]
           ],
           "sequential": [
            [
             0,
             "#0d0887"
            ],
            [
             0.1111111111111111,
             "#46039f"
            ],
            [
             0.2222222222222222,
             "#7201a8"
            ],
            [
             0.3333333333333333,
             "#9c179e"
            ],
            [
             0.4444444444444444,
             "#bd3786"
            ],
            [
             0.5555555555555556,
             "#d8576b"
            ],
            [
             0.6666666666666666,
             "#ed7953"
            ],
            [
             0.7777777777777778,
             "#fb9f3a"
            ],
            [
             0.8888888888888888,
             "#fdca26"
            ],
            [
             1,
             "#f0f921"
            ]
           ],
           "sequentialminus": [
            [
             0,
             "#0d0887"
            ],
            [
             0.1111111111111111,
             "#46039f"
            ],
            [
             0.2222222222222222,
             "#7201a8"
            ],
            [
             0.3333333333333333,
             "#9c179e"
            ],
            [
             0.4444444444444444,
             "#bd3786"
            ],
            [
             0.5555555555555556,
             "#d8576b"
            ],
            [
             0.6666666666666666,
             "#ed7953"
            ],
            [
             0.7777777777777778,
             "#fb9f3a"
            ],
            [
             0.8888888888888888,
             "#fdca26"
            ],
            [
             1,
             "#f0f921"
            ]
           ]
          },
          "colorway": [
           "#636efa",
           "#EF553B",
           "#00cc96",
           "#ab63fa",
           "#FFA15A",
           "#19d3f3",
           "#FF6692",
           "#B6E880",
           "#FF97FF",
           "#FECB52"
          ],
          "font": {
           "color": "#2a3f5f"
          },
          "geo": {
           "bgcolor": "white",
           "lakecolor": "white",
           "landcolor": "#E5ECF6",
           "showlakes": true,
           "showland": true,
           "subunitcolor": "white"
          },
          "hoverlabel": {
           "align": "left"
          },
          "hovermode": "closest",
          "mapbox": {
           "style": "light"
          },
          "paper_bgcolor": "white",
          "plot_bgcolor": "#E5ECF6",
          "polar": {
           "angularaxis": {
            "gridcolor": "white",
            "linecolor": "white",
            "ticks": ""
           },
           "bgcolor": "#E5ECF6",
           "radialaxis": {
            "gridcolor": "white",
            "linecolor": "white",
            "ticks": ""
           }
          },
          "scene": {
           "xaxis": {
            "backgroundcolor": "#E5ECF6",
            "gridcolor": "white",
            "gridwidth": 2,
            "linecolor": "white",
            "showbackground": true,
            "ticks": "",
            "zerolinecolor": "white"
           },
           "yaxis": {
            "backgroundcolor": "#E5ECF6",
            "gridcolor": "white",
            "gridwidth": 2,
            "linecolor": "white",
            "showbackground": true,
            "ticks": "",
            "zerolinecolor": "white"
           },
           "zaxis": {
            "backgroundcolor": "#E5ECF6",
            "gridcolor": "white",
            "gridwidth": 2,
            "linecolor": "white",
            "showbackground": true,
            "ticks": "",
            "zerolinecolor": "white"
           }
          },
          "shapedefaults": {
           "line": {
            "color": "#2a3f5f"
           }
          },
          "ternary": {
           "aaxis": {
            "gridcolor": "white",
            "linecolor": "white",
            "ticks": ""
           },
           "baxis": {
            "gridcolor": "white",
            "linecolor": "white",
            "ticks": ""
           },
           "bgcolor": "#E5ECF6",
           "caxis": {
            "gridcolor": "white",
            "linecolor": "white",
            "ticks": ""
           }
          },
          "title": {
           "x": 0.05
          },
          "xaxis": {
           "automargin": true,
           "gridcolor": "white",
           "linecolor": "white",
           "ticks": "",
           "title": {
            "standoff": 15
           },
           "zerolinecolor": "white",
           "zerolinewidth": 2
          },
          "yaxis": {
           "automargin": true,
           "gridcolor": "white",
           "linecolor": "white",
           "ticks": "",
           "title": {
            "standoff": 15
           },
           "zerolinecolor": "white",
           "zerolinewidth": 2
          }
         }
        },
        "title": {
         "text": "Distribuição de Notas - Matemática em relação a Média Final"
        },
        "xaxis": {
         "anchor": "y",
         "domain": [
          0,
          1
         ],
         "title": {
          "text": "Média de Notas Finais"
         }
        },
        "yaxis": {
         "anchor": "x",
         "domain": [
          0,
          1
         ],
         "title": {
          "text": "math_score"
         }
        }
       }
      }
     },
     "metadata": {},
     "output_type": "display_data"
    }
   ],
   "source": [
    "# Create a plot scatter with the score distribution\n",
    "fig = px.bar(df, x='final_score_avg', y='math_score', color='gender', title='Distribuição de Notas - Matemática em relação a Média Final', labels={'final_score_avg': 'Média de Notas Finais', 'reading_score': 'Nota de Leitura'})\n",
    "\n",
    "fig.show()"
   ]
  },
  {
   "cell_type": "markdown",
   "metadata": {},
   "source": [
    "Também é possível perceber que a média para as mulheres é maior que a média para os homens quando comparamos os dois grupos e olhando para o resultado final apresentado na disciplina de matemática."
   ]
  },
  {
   "cell_type": "code",
   "execution_count": 10,
   "metadata": {},
   "outputs": [
    {
     "data": {
      "application/vnd.plotly.v1+json": {
       "config": {
        "plotlyServerURL": "https://plot.ly"
       },
       "data": [
        {
         "alignmentgroup": "True",
         "boxpoints": "all",
         "hovertemplate": "gender=female<br>Grupo Étnico=%{x}<br>Média da Pontuação Final=%{y}<extra></extra>",
         "legendgroup": "female",
         "marker": {
          "color": "#636efa"
         },
         "name": "female",
         "notched": false,
         "offsetgroup": "female",
         "orientation": "v",
         "showlegend": true,
         "type": "box",
         "x": [
          "group B",
          "group C",
          "group B",
          "group B",
          "group B",
          "group B",
          "group B",
          "group A",
          "group C",
          "group B",
          "group C",
          "group B",
          "group C",
          "group C",
          "group D",
          "group D",
          "group B",
          "group E",
          "group D",
          "group D",
          "group D",
          "group C",
          "group B",
          "group E",
          "group A",
          "group C",
          "group D",
          "group C",
          "group C",
          "group E",
          "group C",
          "group C",
          "group D",
          "group C",
          "group C",
          "group D",
          "group A",
          "group D",
          "group E",
          "group B",
          "group C",
          "group C",
          "group D",
          "group A",
          "group D",
          "group C",
          "group B",
          "group E",
          "group D",
          "group D",
          "group D",
          "group C",
          "group D",
          "group B",
          "group B",
          "group D",
          "group D",
          "group E",
          "group B",
          "group D",
          "group D",
          "group C",
          "group C",
          "group C",
          "group B",
          "group A",
          "group C",
          "group C",
          "group D",
          "group C",
          "group E",
          "group C",
          "group D",
          "group B",
          "group C",
          "group E",
          "group B",
          "group E",
          "group E",
          "group C",
          "group B",
          "group B",
          "group C",
          "group D",
          "group C",
          "group C",
          "group C",
          "group B",
          "group C",
          "group B",
          "group D",
          "group C",
          "group E",
          "group D",
          "group C",
          "group E",
          "group B",
          "group C",
          "group B",
          "group B",
          "group C",
          "group D",
          "group B",
          "group B",
          "group B",
          "group C",
          "group E",
          "group C",
          "group D",
          "group C",
          "group B",
          "group E",
          "group C",
          "group C",
          "group B",
          "group D",
          "group E",
          "group D",
          "group B",
          "group B",
          "group D",
          "group B",
          "group E",
          "group C",
          "group B",
          "group C",
          "group C",
          "group C",
          "group E",
          "group C",
          "group D",
          "group D",
          "group E",
          "group D",
          "group D",
          "group C",
          "group E",
          "group C",
          "group D",
          "group D",
          "group B",
          "group B",
          "group E",
          "group C",
          "group C",
          "group B",
          "group D",
          "group B",
          "group C",
          "group C",
          "group D",
          "group D",
          "group C",
          "group E",
          "group C",
          "group C",
          "group C",
          "group C",
          "group B",
          "group C",
          "group B",
          "group B",
          "group D",
          "group C",
          "group B",
          "group C",
          "group C",
          "group B",
          "group C",
          "group C",
          "group C",
          "group B",
          "group C",
          "group D",
          "group B",
          "group C",
          "group D",
          "group A",
          "group D",
          "group C",
          "group D",
          "group D",
          "group D",
          "group D",
          "group A",
          "group B",
          "group E",
          "group A",
          "group E",
          "group E",
          "group C",
          "group D",
          "group D",
          "group C",
          "group B",
          "group C",
          "group C",
          "group A",
          "group D",
          "group C",
          "group C",
          "group B",
          "group D",
          "group D",
          "group C",
          "group C",
          "group D",
          "group D",
          "group A",
          "group C",
          "group C",
          "group A",
          "group C",
          "group D",
          "group A",
          "group B",
          "group C",
          "group C",
          "group E",
          "group C",
          "group C",
          "group D",
          "group E",
          "group E",
          "group C",
          "group C",
          "group D",
          "group A",
          "group C",
          "group C",
          "group C",
          "group D",
          "group B",
          "group D",
          "group D",
          "group D",
          "group B",
          "group C",
          "group A",
          "group C",
          "group C",
          "group C",
          "group B",
          "group C",
          "group D",
          "group B",
          "group D",
          "group B",
          "group E",
          "group D",
          "group B",
          "group C",
          "group B",
          "group B",
          "group C",
          "group D",
          "group E",
          "group D",
          "group B",
          "group C",
          "group C",
          "group D",
          "group C",
          "group C",
          "group C",
          "group E",
          "group C",
          "group D",
          "group C",
          "group D",
          "group D",
          "group A",
          "group C",
          "group B",
          "group C",
          "group C",
          "group B",
          "group D",
          "group C",
          "group D",
          "group E",
          "group D",
          "group C",
          "group C",
          "group E",
          "group B",
          "group B",
          "group D",
          "group D",
          "group E",
          "group D",
          "group D",
          "group D",
          "group C",
          "group A",
          "group C",
          "group C",
          "group A",
          "group E",
          "group C",
          "group C",
          "group D",
          "group D",
          "group D",
          "group C",
          "group E",
          "group C",
          "group C",
          "group E",
          "group B",
          "group C",
          "group C",
          "group A",
          "group C",
          "group E",
          "group C",
          "group E",
          "group C",
          "group B",
          "group C",
          "group B",
          "group D",
          "group D",
          "group D",
          "group B",
          "group E",
          "group B",
          "group D",
          "group E",
          "group B",
          "group D",
          "group A",
          "group D",
          "group A",
          "group B",
          "group B",
          "group D",
          "group D",
          "group C",
          "group C",
          "group C",
          "group B",
          "group C",
          "group C",
          "group C",
          "group D",
          "group B",
          "group E",
          "group C",
          "group D",
          "group C",
          "group E",
          "group C",
          "group E",
          "group C",
          "group D",
          "group C",
          "group D",
          "group C",
          "group A",
          "group D",
          "group E",
          "group B",
          "group D",
          "group B",
          "group D",
          "group E",
          "group D",
          "group B",
          "group B",
          "group C",
          "group C",
          "group C",
          "group B",
          "group E",
          "group D",
          "group B",
          "group C",
          "group E",
          "group B",
          "group A",
          "group C",
          "group C",
          "group C",
          "group C",
          "group E",
          "group D",
          "group C",
          "group D",
          "group B",
          "group B",
          "group C",
          "group D",
          "group B",
          "group C",
          "group B",
          "group B",
          "group C",
          "group A",
          "group D",
          "group B",
          "group B",
          "group C",
          "group B",
          "group E",
          "group B",
          "group C",
          "group B",
          "group D",
          "group B",
          "group E",
          "group E",
          "group C",
          "group E",
          "group B",
          "group C",
          "group D",
          "group E",
          "group C",
          "group C",
          "group A",
          "group B",
          "group C",
          "group A",
          "group D",
          "group B",
          "group C",
          "group C",
          "group C",
          "group D",
          "group A",
          "group C",
          "group B",
          "group C",
          "group A",
          "group C",
          "group D",
          "group B",
          "group D",
          "group C",
          "group A",
          "group E",
          "group B",
          "group C",
          "group C",
          "group E",
          "group C",
          "group C",
          "group C",
          "group D",
          "group D",
          "group E",
          "group B",
          "group E",
          "group C",
          "group E",
          "group D",
          "group E",
          "group E",
          "group A",
          "group E",
          "group E",
          "group B",
          "group D",
          "group C",
          "group A",
          "group D",
          "group D",
          "group D",
          "group C",
          "group A",
          "group C",
          "group C",
          "group B",
          "group E",
          "group C",
          "group C",
          "group C",
          "group B",
          "group D",
          "group C",
          "group E",
          "group D",
          "group B",
          "group C",
          "group D",
          "group E",
          "group D",
          "group E",
          "group C",
          "group D",
          "group D",
          "group A",
          "group D",
          "group E",
          "group C",
          "group D",
          "group E",
          "group B",
          "group D",
          "group A",
          "group D",
          "group A",
          "group C",
          "group C",
          "group B",
          "group A",
          "group C",
          "group C",
          "group A",
          "group D",
          "group B",
          "group D",
          "group D",
          "group E",
          "group C",
          "group D",
          "group D"
         ],
         "x0": " ",
         "xaxis": "x",
         "y": [
          73,
          82,
          93,
          77,
          92,
          49,
          73,
          54,
          74,
          26,
          58,
          70,
          72,
          70,
          69,
          72,
          63,
          64,
          79,
          58,
          84,
          66,
          59,
          53,
          61,
          71,
          69,
          81,
          39,
          84,
          9,
          73,
          59,
          69,
          53,
          65,
          47,
          69,
          66,
          49,
          78,
          82,
          72,
          65,
          80,
          70,
          86,
          68,
          62,
          65,
          88,
          66,
          96,
          66,
          69,
          88,
          54,
          100,
          81,
          80,
          58,
          63,
          87,
          91,
          89,
          50,
          80,
          64,
          73,
          62,
          50,
          31,
          75,
          65,
          82,
          73,
          78,
          83,
          88,
          99,
          71,
          76,
          71,
          82,
          67,
          49,
          86,
          53,
          75,
          61,
          99,
          59,
          49,
          68,
          84,
          67,
          64,
          79,
          51,
          78,
          79,
          74,
          65,
          77,
          62,
          55,
          86,
          38,
          66,
          61,
          64,
          52,
          72,
          92,
          79,
          66,
          82,
          54,
          65,
          64,
          79,
          67,
          68,
          68,
          74,
          76,
          73,
          48,
          94,
          73,
          73,
          92,
          72,
          53,
          69,
          90,
          66,
          77,
          79,
          75,
          43,
          79,
          71,
          77,
          77,
          64,
          53,
          76,
          68,
          66,
          83,
          61,
          77,
          80,
          77,
          50,
          43,
          89,
          49,
          90,
          65,
          30,
          50,
          66,
          73,
          76,
          89,
          62,
          74,
          54,
          67,
          68,
          59,
          86,
          60,
          56,
          31,
          55,
          81,
          63,
          92,
          67,
          84,
          93,
          77,
          83,
          44,
          41,
          73,
          69,
          67,
          63,
          74,
          72,
          60,
          90,
          60,
          56,
          96,
          58,
          68,
          80,
          55,
          72,
          67,
          89,
          60,
          57,
          75,
          64,
          68,
          52,
          76,
          80,
          67,
          77,
          73,
          78,
          96,
          72,
          59,
          86,
          100,
          72,
          86,
          87,
          32,
          83,
          86,
          69,
          79,
          62,
          90,
          77,
          63,
          56,
          52,
          70,
          75,
          66,
          85,
          86,
          62,
          51,
          71,
          68,
          78,
          91,
          92,
          51,
          81,
          88,
          59,
          89,
          83,
          82,
          71,
          74,
          75,
          87,
          44,
          39,
          69,
          69,
          51,
          87,
          77,
          60,
          79,
          89,
          64,
          96,
          64,
          46,
          35,
          69,
          64,
          76,
          70,
          74,
          97,
          70,
          57,
          60,
          75,
          87,
          54,
          61,
          91,
          79,
          71,
          76,
          74,
          72,
          67,
          56,
          61,
          60,
          74,
          97,
          69,
          73,
          76,
          59,
          29,
          78,
          84,
          51,
          62,
          62,
          61,
          72,
          89,
          67,
          40,
          50,
          60,
          50,
          74,
          83,
          76,
          87,
          74,
          84,
          77,
          78,
          76,
          65,
          65,
          53,
          76,
          75,
          90,
          70,
          77,
          65,
          54,
          65,
          67,
          57,
          69,
          83,
          70,
          74,
          78,
          75,
          60,
          76,
          76,
          71,
          38,
          98,
          52,
          76,
          74,
          76,
          56,
          85,
          82,
          67,
          71,
          81,
          65,
          65,
          62,
          54,
          83,
          99,
          68,
          86,
          97,
          75,
          68,
          84,
          72,
          83,
          75,
          90,
          56,
          64,
          50,
          82,
          68,
          56,
          84,
          90,
          59,
          63,
          53,
          62,
          73,
          70,
          71,
          64,
          73,
          54,
          69,
          41,
          78,
          53,
          84,
          81,
          58,
          42,
          76,
          30,
          59,
          57,
          65,
          48,
          66,
          78,
          55,
          92,
          85,
          76,
          71,
          42,
          62,
          78,
          56,
          67,
          85,
          89,
          87,
          80,
          53,
          65,
          70,
          79,
          59,
          83,
          83,
          66,
          79,
          72,
          46,
          34,
          56,
          66,
          64,
          88,
          97,
          75,
          56,
          85,
          74,
          73,
          55,
          70,
          71,
          70,
          69,
          52,
          73,
          96,
          69,
          87,
          87,
          63,
          63,
          35,
          73,
          75,
          75,
          41,
          98,
          78,
          85,
          71,
          78,
          60,
          58,
          54,
          68,
          52,
          71,
          45,
          61,
          66,
          52,
          57,
          88,
          62,
          58,
          56,
          68,
          78,
          73,
          67,
          97,
          56,
          59,
          52,
          100,
          72,
          68,
          70,
          80,
          96,
          54,
          58,
          61,
          74,
          93,
          18,
          85,
          77,
          50,
          45,
          79,
          75,
          69,
          69,
          94,
          65,
          74,
          83
         ],
         "y0": " ",
         "yaxis": "y"
        },
        {
         "alignmentgroup": "True",
         "boxpoints": "all",
         "hovertemplate": "gender=male<br>Grupo Étnico=%{x}<br>Média da Pontuação Final=%{y}<extra></extra>",
         "legendgroup": "male",
         "marker": {
          "color": "#EF553B"
         },
         "name": "male",
         "notched": false,
         "offsetgroup": "male",
         "orientation": "v",
         "showlegend": true,
         "type": "box",
         "x": [
          "group A",
          "group C",
          "group B",
          "group D",
          "group C",
          "group D",
          "group A",
          "group C",
          "group C",
          "group D",
          "group D",
          "group D",
          "group A",
          "group B",
          "group C",
          "group D",
          "group E",
          "group E",
          "group B",
          "group C",
          "group B",
          "group B",
          "group C",
          "group E",
          "group E",
          "group C",
          "group D",
          "group D",
          "group D",
          "group E",
          "group A",
          "group A",
          "group B",
          "group D",
          "group B",
          "group D",
          "group C",
          "group C",
          "group B",
          "group E",
          "group A",
          "group B",
          "group A",
          "group E",
          "group D",
          "group C",
          "group C",
          "group C",
          "group C",
          "group B",
          "group B",
          "group D",
          "group B",
          "group C",
          "group E",
          "group C",
          "group A",
          "group C",
          "group B",
          "group D",
          "group E",
          "group B",
          "group D",
          "group D",
          "group D",
          "group C",
          "group E",
          "group D",
          "group C",
          "group B",
          "group E",
          "group D",
          "group A",
          "group D",
          "group B",
          "group C",
          "group E",
          "group A",
          "group A",
          "group D",
          "group D",
          "group B",
          "group D",
          "group B",
          "group B",
          "group C",
          "group C",
          "group A",
          "group E",
          "group C",
          "group C",
          "group C",
          "group E",
          "group D",
          "group B",
          "group D",
          "group D",
          "group D",
          "group C",
          "group E",
          "group C",
          "group C",
          "group D",
          "group E",
          "group E",
          "group D",
          "group C",
          "group C",
          "group E",
          "group B",
          "group B",
          "group B",
          "group B",
          "group D",
          "group D",
          "group A",
          "group D",
          "group C",
          "group E",
          "group C",
          "group D",
          "group D",
          "group B",
          "group C",
          "group D",
          "group E",
          "group D",
          "group C",
          "group E",
          "group C",
          "group A",
          "group D",
          "group D",
          "group C",
          "group C",
          "group D",
          "group D",
          "group C",
          "group C",
          "group B",
          "group C",
          "group B",
          "group D",
          "group D",
          "group B",
          "group E",
          "group B",
          "group E",
          "group C",
          "group D",
          "group C",
          "group D",
          "group B",
          "group A",
          "group E",
          "group C",
          "group D",
          "group A",
          "group D",
          "group B",
          "group A",
          "group E",
          "group C",
          "group B",
          "group D",
          "group C",
          "group C",
          "group B",
          "group C",
          "group A",
          "group C",
          "group C",
          "group C",
          "group E",
          "group B",
          "group D",
          "group C",
          "group C",
          "group D",
          "group D",
          "group B",
          "group D",
          "group E",
          "group E",
          "group A",
          "group D",
          "group B",
          "group C",
          "group A",
          "group C",
          "group C",
          "group E",
          "group D",
          "group E",
          "group A",
          "group C",
          "group C",
          "group D",
          "group E",
          "group E",
          "group C",
          "group A",
          "group B",
          "group D",
          "group A",
          "group B",
          "group D",
          "group E",
          "group D",
          "group B",
          "group E",
          "group C",
          "group C",
          "group D",
          "group E",
          "group B",
          "group C",
          "group C",
          "group A",
          "group C",
          "group C",
          "group C",
          "group C",
          "group C",
          "group D",
          "group D",
          "group C",
          "group D",
          "group A",
          "group D",
          "group C",
          "group B",
          "group B",
          "group C",
          "group C",
          "group D",
          "group B",
          "group C",
          "group B",
          "group A",
          "group A",
          "group C",
          "group E",
          "group D",
          "group E",
          "group B",
          "group C",
          "group A",
          "group C",
          "group D",
          "group B",
          "group A",
          "group D",
          "group E",
          "group C",
          "group A",
          "group B",
          "group C",
          "group D",
          "group A",
          "group D",
          "group D",
          "group D",
          "group C",
          "group C",
          "group E",
          "group C",
          "group E",
          "group B",
          "group C",
          "group E",
          "group A",
          "group C",
          "group D",
          "group E",
          "group C",
          "group C",
          "group C",
          "group B",
          "group D",
          "group E",
          "group C",
          "group D",
          "group C",
          "group B",
          "group B",
          "group B",
          "group D",
          "group B",
          "group A",
          "group A",
          "group A",
          "group C",
          "group A",
          "group E",
          "group B",
          "group A",
          "group D",
          "group D",
          "group C",
          "group D",
          "group C",
          "group D",
          "group D",
          "group C",
          "group B",
          "group C",
          "group A",
          "group D",
          "group B",
          "group D",
          "group D",
          "group D",
          "group B",
          "group D",
          "group A",
          "group E",
          "group D",
          "group B",
          "group C",
          "group C",
          "group D",
          "group D",
          "group C",
          "group C",
          "group D",
          "group C",
          "group D",
          "group D",
          "group D",
          "group D",
          "group B",
          "group B",
          "group B",
          "group E",
          "group D",
          "group A",
          "group E",
          "group C",
          "group A",
          "group A",
          "group D",
          "group C",
          "group D",
          "group C",
          "group D",
          "group C",
          "group E",
          "group D",
          "group C",
          "group B",
          "group E",
          "group E",
          "group C",
          "group A",
          "group D",
          "group C",
          "group C",
          "group D",
          "group C",
          "group D",
          "group B",
          "group D",
          "group D",
          "group C",
          "group B",
          "group D",
          "group E",
          "group C",
          "group C",
          "group D",
          "group E",
          "group B",
          "group D",
          "group D",
          "group B",
          "group A",
          "group B",
          "group D",
          "group B",
          "group E",
          "group C",
          "group C",
          "group D",
          "group E",
          "group D",
          "group E",
          "group C",
          "group C",
          "group A",
          "group C",
          "group B",
          "group A",
          "group A",
          "group E",
          "group B",
          "group D",
          "group E",
          "group C",
          "group B",
          "group A",
          "group B",
          "group E",
          "group B",
          "group C",
          "group B",
          "group E",
          "group C",
          "group D",
          "group D",
          "group C",
          "group E",
          "group C",
          "group B",
          "group B",
          "group C",
          "group D",
          "group C",
          "group D",
          "group C",
          "group B",
          "group E",
          "group C",
          "group B",
          "group B",
          "group E",
          "group C",
          "group D",
          "group C",
          "group C",
          "group D",
          "group C",
          "group D",
          "group D",
          "group B",
          "group D",
          "group D",
          "group D",
          "group B",
          "group E",
          "group D",
          "group E",
          "group B",
          "group D",
          "group D",
          "group D",
          "group E",
          "group E",
          "group E",
          "group C",
          "group D",
          "group D",
          "group C",
          "group C",
          "group D",
          "group A",
          "group D",
          "group D",
          "group C",
          "group C",
          "group A",
          "group B",
          "group B",
          "group E",
          "group C",
          "group E",
          "group C",
          "group C",
          "group D",
          "group A",
          "group C",
          "group C",
          "group B",
          "group C",
          "group D",
          "group D",
          "group B",
          "group A",
          "group E",
          "group E",
          "group A",
          "group C"
         ],
         "x0": " ",
         "xaxis": "x",
         "y": [
          49,
          76,
          41,
          65,
          55,
          45,
          73,
          88,
          45,
          66,
          50,
          75,
          73,
          59,
          68,
          40,
          89,
          80,
          57,
          57,
          63,
          59,
          83,
          52,
          71,
          46,
          80,
          52,
          58,
          75,
          37,
          59,
          64,
          40,
          58,
          60,
          58,
          46,
          41,
          26,
          80,
          46,
          50,
          66,
          38,
          32,
          74,
          46,
          80,
          64,
          71,
          72,
          50,
          91,
          64,
          55,
          51,
          78,
          91,
          59,
          79,
          69,
          72,
          79,
          85,
          43,
          77,
          76,
          54,
          49,
          60,
          67,
          49,
          80,
          82,
          69,
          98,
          66,
          71,
          50,
          63,
          60,
          64,
          78,
          51,
          51,
          52,
          73,
          87,
          68,
          49,
          66,
          74,
          65,
          48,
          79,
          67,
          56,
          64,
          54,
          72,
          47,
          74,
          69,
          79,
          79,
          30,
          56,
          86,
          81,
          71,
          58,
          82,
          80,
          54,
          68,
          69,
          44,
          86,
          83,
          77,
          65,
          52,
          81,
          69,
          51,
          73,
          77,
          80,
          60,
          48,
          77,
          53,
          77,
          79,
          72,
          47,
          64,
          50,
          83,
          78,
          62,
          49,
          46,
          82,
          89,
          80,
          77,
          71,
          76,
          60,
          78,
          63,
          43,
          71,
          45,
          84,
          80,
          54,
          73,
          68,
          89,
          49,
          61,
          65,
          67,
          78,
          68,
          61,
          23,
          78,
          64,
          40,
          57,
          83,
          72,
          48,
          57,
          69,
          73,
          60,
          72,
          79,
          58,
          62,
          61,
          82,
          59,
          56,
          60,
          63,
          77,
          73,
          43,
          64,
          94,
          77,
          73,
          66,
          70,
          56,
          45,
          65,
          58,
          46,
          64,
          85,
          82,
          66,
          66,
          75,
          71,
          71,
          63,
          56,
          38,
          85,
          68,
          59,
          62,
          63,
          57,
          68,
          50,
          69,
          71,
          59,
          86,
          78,
          65,
          82,
          45,
          75,
          57,
          47,
          52,
          68,
          55,
          51,
          65,
          68,
          80,
          68,
          73,
          71,
          71,
          66,
          52,
          72,
          55,
          58,
          81,
          66,
          73,
          59,
          68,
          56,
          78,
          73,
          52,
          54,
          57,
          61,
          54,
          51,
          62,
          59,
          60,
          70,
          56,
          74,
          92,
          71,
          80,
          80,
          68,
          73,
          73,
          88,
          68,
          46,
          65,
          67,
          93,
          48,
          45,
          53,
          68,
          72,
          93,
          49,
          55,
          56,
          61,
          67,
          23,
          52,
          56,
          88,
          70,
          64,
          92,
          83,
          87,
          69,
          60,
          54,
          94,
          99,
          67,
          52,
          51,
          67,
          68,
          83,
          70,
          79,
          48,
          65,
          53,
          69,
          65,
          87,
          75,
          67,
          69,
          69,
          77,
          53,
          78,
          61,
          63,
          57,
          65,
          76,
          76,
          52,
          89,
          64,
          86,
          66,
          39,
          59,
          85,
          89,
          82,
          74,
          81,
          58,
          47,
          44,
          75,
          59,
          43,
          48,
          49,
          61,
          85,
          75,
          59,
          75,
          52,
          75,
          72,
          67,
          86,
          69,
          68,
          77,
          55,
          55,
          70,
          74,
          82,
          61,
          66,
          58,
          50,
          74,
          64,
          87,
          84,
          65,
          70,
          83,
          70,
          61,
          69,
          76,
          77,
          78,
          55,
          39,
          47,
          82,
          89,
          69,
          51,
          62,
          58,
          61,
          51,
          65,
          56,
          58,
          76,
          86,
          87,
          56,
          75,
          68,
          70,
          60,
          69,
          49,
          77,
          40,
          94,
          84,
          55,
          48,
          75,
          50,
          55,
          81,
          87,
          70,
          82,
          57,
          64,
          48,
          62,
          48,
          79,
          31,
          61,
          86,
          81,
          52,
          68,
          47,
          100,
          93,
          69,
          68,
          71,
          66,
          57,
          44,
          70,
          60,
          68,
          73,
          92,
          64,
          59,
          84,
          71,
          70,
          70,
          61,
          81,
          50,
          79,
          55,
          64,
          84,
          76,
          62,
          66,
          62,
          73,
          61,
          62,
          48,
          79,
          83,
          54,
          77,
          81,
          63,
          57
         ],
         "y0": " ",
         "yaxis": "y"
        }
       ],
       "layout": {
        "boxmode": "group",
        "legend": {
         "title": {
          "text": "gender"
         },
         "tracegroupgap": 0
        },
        "template": {
         "data": {
          "bar": [
           {
            "error_x": {
             "color": "#2a3f5f"
            },
            "error_y": {
             "color": "#2a3f5f"
            },
            "marker": {
             "line": {
              "color": "#E5ECF6",
              "width": 0.5
             },
             "pattern": {
              "fillmode": "overlay",
              "size": 10,
              "solidity": 0.2
             }
            },
            "type": "bar"
           }
          ],
          "barpolar": [
           {
            "marker": {
             "line": {
              "color": "#E5ECF6",
              "width": 0.5
             },
             "pattern": {
              "fillmode": "overlay",
              "size": 10,
              "solidity": 0.2
             }
            },
            "type": "barpolar"
           }
          ],
          "carpet": [
           {
            "aaxis": {
             "endlinecolor": "#2a3f5f",
             "gridcolor": "white",
             "linecolor": "white",
             "minorgridcolor": "white",
             "startlinecolor": "#2a3f5f"
            },
            "baxis": {
             "endlinecolor": "#2a3f5f",
             "gridcolor": "white",
             "linecolor": "white",
             "minorgridcolor": "white",
             "startlinecolor": "#2a3f5f"
            },
            "type": "carpet"
           }
          ],
          "choropleth": [
           {
            "colorbar": {
             "outlinewidth": 0,
             "ticks": ""
            },
            "type": "choropleth"
           }
          ],
          "contour": [
           {
            "colorbar": {
             "outlinewidth": 0,
             "ticks": ""
            },
            "colorscale": [
             [
              0,
              "#0d0887"
             ],
             [
              0.1111111111111111,
              "#46039f"
             ],
             [
              0.2222222222222222,
              "#7201a8"
             ],
             [
              0.3333333333333333,
              "#9c179e"
             ],
             [
              0.4444444444444444,
              "#bd3786"
             ],
             [
              0.5555555555555556,
              "#d8576b"
             ],
             [
              0.6666666666666666,
              "#ed7953"
             ],
             [
              0.7777777777777778,
              "#fb9f3a"
             ],
             [
              0.8888888888888888,
              "#fdca26"
             ],
             [
              1,
              "#f0f921"
             ]
            ],
            "type": "contour"
           }
          ],
          "contourcarpet": [
           {
            "colorbar": {
             "outlinewidth": 0,
             "ticks": ""
            },
            "type": "contourcarpet"
           }
          ],
          "heatmap": [
           {
            "colorbar": {
             "outlinewidth": 0,
             "ticks": ""
            },
            "colorscale": [
             [
              0,
              "#0d0887"
             ],
             [
              0.1111111111111111,
              "#46039f"
             ],
             [
              0.2222222222222222,
              "#7201a8"
             ],
             [
              0.3333333333333333,
              "#9c179e"
             ],
             [
              0.4444444444444444,
              "#bd3786"
             ],
             [
              0.5555555555555556,
              "#d8576b"
             ],
             [
              0.6666666666666666,
              "#ed7953"
             ],
             [
              0.7777777777777778,
              "#fb9f3a"
             ],
             [
              0.8888888888888888,
              "#fdca26"
             ],
             [
              1,
              "#f0f921"
             ]
            ],
            "type": "heatmap"
           }
          ],
          "heatmapgl": [
           {
            "colorbar": {
             "outlinewidth": 0,
             "ticks": ""
            },
            "colorscale": [
             [
              0,
              "#0d0887"
             ],
             [
              0.1111111111111111,
              "#46039f"
             ],
             [
              0.2222222222222222,
              "#7201a8"
             ],
             [
              0.3333333333333333,
              "#9c179e"
             ],
             [
              0.4444444444444444,
              "#bd3786"
             ],
             [
              0.5555555555555556,
              "#d8576b"
             ],
             [
              0.6666666666666666,
              "#ed7953"
             ],
             [
              0.7777777777777778,
              "#fb9f3a"
             ],
             [
              0.8888888888888888,
              "#fdca26"
             ],
             [
              1,
              "#f0f921"
             ]
            ],
            "type": "heatmapgl"
           }
          ],
          "histogram": [
           {
            "marker": {
             "pattern": {
              "fillmode": "overlay",
              "size": 10,
              "solidity": 0.2
             }
            },
            "type": "histogram"
           }
          ],
          "histogram2d": [
           {
            "colorbar": {
             "outlinewidth": 0,
             "ticks": ""
            },
            "colorscale": [
             [
              0,
              "#0d0887"
             ],
             [
              0.1111111111111111,
              "#46039f"
             ],
             [
              0.2222222222222222,
              "#7201a8"
             ],
             [
              0.3333333333333333,
              "#9c179e"
             ],
             [
              0.4444444444444444,
              "#bd3786"
             ],
             [
              0.5555555555555556,
              "#d8576b"
             ],
             [
              0.6666666666666666,
              "#ed7953"
             ],
             [
              0.7777777777777778,
              "#fb9f3a"
             ],
             [
              0.8888888888888888,
              "#fdca26"
             ],
             [
              1,
              "#f0f921"
             ]
            ],
            "type": "histogram2d"
           }
          ],
          "histogram2dcontour": [
           {
            "colorbar": {
             "outlinewidth": 0,
             "ticks": ""
            },
            "colorscale": [
             [
              0,
              "#0d0887"
             ],
             [
              0.1111111111111111,
              "#46039f"
             ],
             [
              0.2222222222222222,
              "#7201a8"
             ],
             [
              0.3333333333333333,
              "#9c179e"
             ],
             [
              0.4444444444444444,
              "#bd3786"
             ],
             [
              0.5555555555555556,
              "#d8576b"
             ],
             [
              0.6666666666666666,
              "#ed7953"
             ],
             [
              0.7777777777777778,
              "#fb9f3a"
             ],
             [
              0.8888888888888888,
              "#fdca26"
             ],
             [
              1,
              "#f0f921"
             ]
            ],
            "type": "histogram2dcontour"
           }
          ],
          "mesh3d": [
           {
            "colorbar": {
             "outlinewidth": 0,
             "ticks": ""
            },
            "type": "mesh3d"
           }
          ],
          "parcoords": [
           {
            "line": {
             "colorbar": {
              "outlinewidth": 0,
              "ticks": ""
             }
            },
            "type": "parcoords"
           }
          ],
          "pie": [
           {
            "automargin": true,
            "type": "pie"
           }
          ],
          "scatter": [
           {
            "fillpattern": {
             "fillmode": "overlay",
             "size": 10,
             "solidity": 0.2
            },
            "type": "scatter"
           }
          ],
          "scatter3d": [
           {
            "line": {
             "colorbar": {
              "outlinewidth": 0,
              "ticks": ""
             }
            },
            "marker": {
             "colorbar": {
              "outlinewidth": 0,
              "ticks": ""
             }
            },
            "type": "scatter3d"
           }
          ],
          "scattercarpet": [
           {
            "marker": {
             "colorbar": {
              "outlinewidth": 0,
              "ticks": ""
             }
            },
            "type": "scattercarpet"
           }
          ],
          "scattergeo": [
           {
            "marker": {
             "colorbar": {
              "outlinewidth": 0,
              "ticks": ""
             }
            },
            "type": "scattergeo"
           }
          ],
          "scattergl": [
           {
            "marker": {
             "colorbar": {
              "outlinewidth": 0,
              "ticks": ""
             }
            },
            "type": "scattergl"
           }
          ],
          "scattermapbox": [
           {
            "marker": {
             "colorbar": {
              "outlinewidth": 0,
              "ticks": ""
             }
            },
            "type": "scattermapbox"
           }
          ],
          "scatterpolar": [
           {
            "marker": {
             "colorbar": {
              "outlinewidth": 0,
              "ticks": ""
             }
            },
            "type": "scatterpolar"
           }
          ],
          "scatterpolargl": [
           {
            "marker": {
             "colorbar": {
              "outlinewidth": 0,
              "ticks": ""
             }
            },
            "type": "scatterpolargl"
           }
          ],
          "scatterternary": [
           {
            "marker": {
             "colorbar": {
              "outlinewidth": 0,
              "ticks": ""
             }
            },
            "type": "scatterternary"
           }
          ],
          "surface": [
           {
            "colorbar": {
             "outlinewidth": 0,
             "ticks": ""
            },
            "colorscale": [
             [
              0,
              "#0d0887"
             ],
             [
              0.1111111111111111,
              "#46039f"
             ],
             [
              0.2222222222222222,
              "#7201a8"
             ],
             [
              0.3333333333333333,
              "#9c179e"
             ],
             [
              0.4444444444444444,
              "#bd3786"
             ],
             [
              0.5555555555555556,
              "#d8576b"
             ],
             [
              0.6666666666666666,
              "#ed7953"
             ],
             [
              0.7777777777777778,
              "#fb9f3a"
             ],
             [
              0.8888888888888888,
              "#fdca26"
             ],
             [
              1,
              "#f0f921"
             ]
            ],
            "type": "surface"
           }
          ],
          "table": [
           {
            "cells": {
             "fill": {
              "color": "#EBF0F8"
             },
             "line": {
              "color": "white"
             }
            },
            "header": {
             "fill": {
              "color": "#C8D4E3"
             },
             "line": {
              "color": "white"
             }
            },
            "type": "table"
           }
          ]
         },
         "layout": {
          "annotationdefaults": {
           "arrowcolor": "#2a3f5f",
           "arrowhead": 0,
           "arrowwidth": 1
          },
          "autotypenumbers": "strict",
          "coloraxis": {
           "colorbar": {
            "outlinewidth": 0,
            "ticks": ""
           }
          },
          "colorscale": {
           "diverging": [
            [
             0,
             "#8e0152"
            ],
            [
             0.1,
             "#c51b7d"
            ],
            [
             0.2,
             "#de77ae"
            ],
            [
             0.3,
             "#f1b6da"
            ],
            [
             0.4,
             "#fde0ef"
            ],
            [
             0.5,
             "#f7f7f7"
            ],
            [
             0.6,
             "#e6f5d0"
            ],
            [
             0.7,
             "#b8e186"
            ],
            [
             0.8,
             "#7fbc41"
            ],
            [
             0.9,
             "#4d9221"
            ],
            [
             1,
             "#276419"
            ]
           ],
           "sequential": [
            [
             0,
             "#0d0887"
            ],
            [
             0.1111111111111111,
             "#46039f"
            ],
            [
             0.2222222222222222,
             "#7201a8"
            ],
            [
             0.3333333333333333,
             "#9c179e"
            ],
            [
             0.4444444444444444,
             "#bd3786"
            ],
            [
             0.5555555555555556,
             "#d8576b"
            ],
            [
             0.6666666666666666,
             "#ed7953"
            ],
            [
             0.7777777777777778,
             "#fb9f3a"
            ],
            [
             0.8888888888888888,
             "#fdca26"
            ],
            [
             1,
             "#f0f921"
            ]
           ],
           "sequentialminus": [
            [
             0,
             "#0d0887"
            ],
            [
             0.1111111111111111,
             "#46039f"
            ],
            [
             0.2222222222222222,
             "#7201a8"
            ],
            [
             0.3333333333333333,
             "#9c179e"
            ],
            [
             0.4444444444444444,
             "#bd3786"
            ],
            [
             0.5555555555555556,
             "#d8576b"
            ],
            [
             0.6666666666666666,
             "#ed7953"
            ],
            [
             0.7777777777777778,
             "#fb9f3a"
            ],
            [
             0.8888888888888888,
             "#fdca26"
            ],
            [
             1,
             "#f0f921"
            ]
           ]
          },
          "colorway": [
           "#636efa",
           "#EF553B",
           "#00cc96",
           "#ab63fa",
           "#FFA15A",
           "#19d3f3",
           "#FF6692",
           "#B6E880",
           "#FF97FF",
           "#FECB52"
          ],
          "font": {
           "color": "#2a3f5f"
          },
          "geo": {
           "bgcolor": "white",
           "lakecolor": "white",
           "landcolor": "#E5ECF6",
           "showlakes": true,
           "showland": true,
           "subunitcolor": "white"
          },
          "hoverlabel": {
           "align": "left"
          },
          "hovermode": "closest",
          "mapbox": {
           "style": "light"
          },
          "paper_bgcolor": "white",
          "plot_bgcolor": "#E5ECF6",
          "polar": {
           "angularaxis": {
            "gridcolor": "white",
            "linecolor": "white",
            "ticks": ""
           },
           "bgcolor": "#E5ECF6",
           "radialaxis": {
            "gridcolor": "white",
            "linecolor": "white",
            "ticks": ""
           }
          },
          "scene": {
           "xaxis": {
            "backgroundcolor": "#E5ECF6",
            "gridcolor": "white",
            "gridwidth": 2,
            "linecolor": "white",
            "showbackground": true,
            "ticks": "",
            "zerolinecolor": "white"
           },
           "yaxis": {
            "backgroundcolor": "#E5ECF6",
            "gridcolor": "white",
            "gridwidth": 2,
            "linecolor": "white",
            "showbackground": true,
            "ticks": "",
            "zerolinecolor": "white"
           },
           "zaxis": {
            "backgroundcolor": "#E5ECF6",
            "gridcolor": "white",
            "gridwidth": 2,
            "linecolor": "white",
            "showbackground": true,
            "ticks": "",
            "zerolinecolor": "white"
           }
          },
          "shapedefaults": {
           "line": {
            "color": "#2a3f5f"
           }
          },
          "ternary": {
           "aaxis": {
            "gridcolor": "white",
            "linecolor": "white",
            "ticks": ""
           },
           "baxis": {
            "gridcolor": "white",
            "linecolor": "white",
            "ticks": ""
           },
           "bgcolor": "#E5ECF6",
           "caxis": {
            "gridcolor": "white",
            "linecolor": "white",
            "ticks": ""
           }
          },
          "title": {
           "x": 0.05
          },
          "xaxis": {
           "automargin": true,
           "gridcolor": "white",
           "linecolor": "white",
           "ticks": "",
           "title": {
            "standoff": 15
           },
           "zerolinecolor": "white",
           "zerolinewidth": 2
          },
          "yaxis": {
           "automargin": true,
           "gridcolor": "white",
           "linecolor": "white",
           "ticks": "",
           "title": {
            "standoff": 15
           },
           "zerolinecolor": "white",
           "zerolinewidth": 2
          }
         }
        },
        "title": {
         "text": "Distribuição da Pontuação Final por Gênero e Grupo Étnico"
        },
        "xaxis": {
         "anchor": "y",
         "domain": [
          0,
          1
         ],
         "title": {
          "text": "Grupo Étnico"
         }
        },
        "yaxis": {
         "anchor": "x",
         "domain": [
          0,
          1
         ],
         "title": {
          "text": "Média da Pontuação Final"
         }
        }
       }
      }
     },
     "metadata": {},
     "output_type": "display_data"
    }
   ],
   "source": [
    "fig = px.box(df, x=\"race_ethnicity\", y=\"final_score_avg\", color=\"gender\",\n",
    "             title=\"Distribuição da Pontuação Final por Gênero e Grupo Étnico\",\n",
    "             labels={\"race_ethnicity\": \"Grupo Étnico\", \"final_score_avg\": \"Média da Pontuação Final\"},\n",
    "             points=\"all\")  # Adiciona pontos individuais ao box plot\n",
    "\n",
    "fig.show()"
   ]
  },
  {
   "cell_type": "code",
   "execution_count": 11,
   "metadata": {},
   "outputs": [
    {
     "data": {
      "application/vnd.plotly.v1+json": {
       "config": {
        "plotlyServerURL": "https://plot.ly"
       },
       "data": [
        {
         "alignmentgroup": "True",
         "hovertemplate": "gender=female<br>test_preparation_course=%{x}<br>Média da Pontuação Final=%{text}<extra></extra>",
         "legendgroup": "female",
         "marker": {
          "color": "#636efa",
          "pattern": {
           "shape": ""
          }
         },
         "name": "female",
         "offsetgroup": "female",
         "orientation": "v",
         "showlegend": true,
         "text": [
          75,
          67.5
         ],
         "textposition": "auto",
         "type": "bar",
         "x": [
          "completed",
          "none"
         ],
         "xaxis": "x",
         "y": [
          75,
          67.5
         ],
         "yaxis": "y"
        },
        {
         "alignmentgroup": "True",
         "hovertemplate": "gender=male<br>test_preparation_course=%{x}<br>Média da Pontuação Final=%{text}<extra></extra>",
         "legendgroup": "male",
         "marker": {
          "color": "#EF553B",
          "pattern": {
           "shape": ""
          }
         },
         "name": "male",
         "offsetgroup": "male",
         "orientation": "v",
         "showlegend": true,
         "text": [
          71,
          63
         ],
         "textposition": "auto",
         "type": "bar",
         "x": [
          "completed",
          "none"
         ],
         "xaxis": "x",
         "y": [
          71,
          63
         ],
         "yaxis": "y"
        }
       ],
       "layout": {
        "barmode": "group",
        "legend": {
         "title": {
          "text": "gender"
         },
         "tracegroupgap": 0
        },
        "template": {
         "data": {
          "bar": [
           {
            "error_x": {
             "color": "#2a3f5f"
            },
            "error_y": {
             "color": "#2a3f5f"
            },
            "marker": {
             "line": {
              "color": "#E5ECF6",
              "width": 0.5
             },
             "pattern": {
              "fillmode": "overlay",
              "size": 10,
              "solidity": 0.2
             }
            },
            "type": "bar"
           }
          ],
          "barpolar": [
           {
            "marker": {
             "line": {
              "color": "#E5ECF6",
              "width": 0.5
             },
             "pattern": {
              "fillmode": "overlay",
              "size": 10,
              "solidity": 0.2
             }
            },
            "type": "barpolar"
           }
          ],
          "carpet": [
           {
            "aaxis": {
             "endlinecolor": "#2a3f5f",
             "gridcolor": "white",
             "linecolor": "white",
             "minorgridcolor": "white",
             "startlinecolor": "#2a3f5f"
            },
            "baxis": {
             "endlinecolor": "#2a3f5f",
             "gridcolor": "white",
             "linecolor": "white",
             "minorgridcolor": "white",
             "startlinecolor": "#2a3f5f"
            },
            "type": "carpet"
           }
          ],
          "choropleth": [
           {
            "colorbar": {
             "outlinewidth": 0,
             "ticks": ""
            },
            "type": "choropleth"
           }
          ],
          "contour": [
           {
            "colorbar": {
             "outlinewidth": 0,
             "ticks": ""
            },
            "colorscale": [
             [
              0,
              "#0d0887"
             ],
             [
              0.1111111111111111,
              "#46039f"
             ],
             [
              0.2222222222222222,
              "#7201a8"
             ],
             [
              0.3333333333333333,
              "#9c179e"
             ],
             [
              0.4444444444444444,
              "#bd3786"
             ],
             [
              0.5555555555555556,
              "#d8576b"
             ],
             [
              0.6666666666666666,
              "#ed7953"
             ],
             [
              0.7777777777777778,
              "#fb9f3a"
             ],
             [
              0.8888888888888888,
              "#fdca26"
             ],
             [
              1,
              "#f0f921"
             ]
            ],
            "type": "contour"
           }
          ],
          "contourcarpet": [
           {
            "colorbar": {
             "outlinewidth": 0,
             "ticks": ""
            },
            "type": "contourcarpet"
           }
          ],
          "heatmap": [
           {
            "colorbar": {
             "outlinewidth": 0,
             "ticks": ""
            },
            "colorscale": [
             [
              0,
              "#0d0887"
             ],
             [
              0.1111111111111111,
              "#46039f"
             ],
             [
              0.2222222222222222,
              "#7201a8"
             ],
             [
              0.3333333333333333,
              "#9c179e"
             ],
             [
              0.4444444444444444,
              "#bd3786"
             ],
             [
              0.5555555555555556,
              "#d8576b"
             ],
             [
              0.6666666666666666,
              "#ed7953"
             ],
             [
              0.7777777777777778,
              "#fb9f3a"
             ],
             [
              0.8888888888888888,
              "#fdca26"
             ],
             [
              1,
              "#f0f921"
             ]
            ],
            "type": "heatmap"
           }
          ],
          "heatmapgl": [
           {
            "colorbar": {
             "outlinewidth": 0,
             "ticks": ""
            },
            "colorscale": [
             [
              0,
              "#0d0887"
             ],
             [
              0.1111111111111111,
              "#46039f"
             ],
             [
              0.2222222222222222,
              "#7201a8"
             ],
             [
              0.3333333333333333,
              "#9c179e"
             ],
             [
              0.4444444444444444,
              "#bd3786"
             ],
             [
              0.5555555555555556,
              "#d8576b"
             ],
             [
              0.6666666666666666,
              "#ed7953"
             ],
             [
              0.7777777777777778,
              "#fb9f3a"
             ],
             [
              0.8888888888888888,
              "#fdca26"
             ],
             [
              1,
              "#f0f921"
             ]
            ],
            "type": "heatmapgl"
           }
          ],
          "histogram": [
           {
            "marker": {
             "pattern": {
              "fillmode": "overlay",
              "size": 10,
              "solidity": 0.2
             }
            },
            "type": "histogram"
           }
          ],
          "histogram2d": [
           {
            "colorbar": {
             "outlinewidth": 0,
             "ticks": ""
            },
            "colorscale": [
             [
              0,
              "#0d0887"
             ],
             [
              0.1111111111111111,
              "#46039f"
             ],
             [
              0.2222222222222222,
              "#7201a8"
             ],
             [
              0.3333333333333333,
              "#9c179e"
             ],
             [
              0.4444444444444444,
              "#bd3786"
             ],
             [
              0.5555555555555556,
              "#d8576b"
             ],
             [
              0.6666666666666666,
              "#ed7953"
             ],
             [
              0.7777777777777778,
              "#fb9f3a"
             ],
             [
              0.8888888888888888,
              "#fdca26"
             ],
             [
              1,
              "#f0f921"
             ]
            ],
            "type": "histogram2d"
           }
          ],
          "histogram2dcontour": [
           {
            "colorbar": {
             "outlinewidth": 0,
             "ticks": ""
            },
            "colorscale": [
             [
              0,
              "#0d0887"
             ],
             [
              0.1111111111111111,
              "#46039f"
             ],
             [
              0.2222222222222222,
              "#7201a8"
             ],
             [
              0.3333333333333333,
              "#9c179e"
             ],
             [
              0.4444444444444444,
              "#bd3786"
             ],
             [
              0.5555555555555556,
              "#d8576b"
             ],
             [
              0.6666666666666666,
              "#ed7953"
             ],
             [
              0.7777777777777778,
              "#fb9f3a"
             ],
             [
              0.8888888888888888,
              "#fdca26"
             ],
             [
              1,
              "#f0f921"
             ]
            ],
            "type": "histogram2dcontour"
           }
          ],
          "mesh3d": [
           {
            "colorbar": {
             "outlinewidth": 0,
             "ticks": ""
            },
            "type": "mesh3d"
           }
          ],
          "parcoords": [
           {
            "line": {
             "colorbar": {
              "outlinewidth": 0,
              "ticks": ""
             }
            },
            "type": "parcoords"
           }
          ],
          "pie": [
           {
            "automargin": true,
            "type": "pie"
           }
          ],
          "scatter": [
           {
            "fillpattern": {
             "fillmode": "overlay",
             "size": 10,
             "solidity": 0.2
            },
            "type": "scatter"
           }
          ],
          "scatter3d": [
           {
            "line": {
             "colorbar": {
              "outlinewidth": 0,
              "ticks": ""
             }
            },
            "marker": {
             "colorbar": {
              "outlinewidth": 0,
              "ticks": ""
             }
            },
            "type": "scatter3d"
           }
          ],
          "scattercarpet": [
           {
            "marker": {
             "colorbar": {
              "outlinewidth": 0,
              "ticks": ""
             }
            },
            "type": "scattercarpet"
           }
          ],
          "scattergeo": [
           {
            "marker": {
             "colorbar": {
              "outlinewidth": 0,
              "ticks": ""
             }
            },
            "type": "scattergeo"
           }
          ],
          "scattergl": [
           {
            "marker": {
             "colorbar": {
              "outlinewidth": 0,
              "ticks": ""
             }
            },
            "type": "scattergl"
           }
          ],
          "scattermapbox": [
           {
            "marker": {
             "colorbar": {
              "outlinewidth": 0,
              "ticks": ""
             }
            },
            "type": "scattermapbox"
           }
          ],
          "scatterpolar": [
           {
            "marker": {
             "colorbar": {
              "outlinewidth": 0,
              "ticks": ""
             }
            },
            "type": "scatterpolar"
           }
          ],
          "scatterpolargl": [
           {
            "marker": {
             "colorbar": {
              "outlinewidth": 0,
              "ticks": ""
             }
            },
            "type": "scatterpolargl"
           }
          ],
          "scatterternary": [
           {
            "marker": {
             "colorbar": {
              "outlinewidth": 0,
              "ticks": ""
             }
            },
            "type": "scatterternary"
           }
          ],
          "surface": [
           {
            "colorbar": {
             "outlinewidth": 0,
             "ticks": ""
            },
            "colorscale": [
             [
              0,
              "#0d0887"
             ],
             [
              0.1111111111111111,
              "#46039f"
             ],
             [
              0.2222222222222222,
              "#7201a8"
             ],
             [
              0.3333333333333333,
              "#9c179e"
             ],
             [
              0.4444444444444444,
              "#bd3786"
             ],
             [
              0.5555555555555556,
              "#d8576b"
             ],
             [
              0.6666666666666666,
              "#ed7953"
             ],
             [
              0.7777777777777778,
              "#fb9f3a"
             ],
             [
              0.8888888888888888,
              "#fdca26"
             ],
             [
              1,
              "#f0f921"
             ]
            ],
            "type": "surface"
           }
          ],
          "table": [
           {
            "cells": {
             "fill": {
              "color": "#EBF0F8"
             },
             "line": {
              "color": "white"
             }
            },
            "header": {
             "fill": {
              "color": "#C8D4E3"
             },
             "line": {
              "color": "white"
             }
            },
            "type": "table"
           }
          ]
         },
         "layout": {
          "annotationdefaults": {
           "arrowcolor": "#2a3f5f",
           "arrowhead": 0,
           "arrowwidth": 1
          },
          "autotypenumbers": "strict",
          "coloraxis": {
           "colorbar": {
            "outlinewidth": 0,
            "ticks": ""
           }
          },
          "colorscale": {
           "diverging": [
            [
             0,
             "#8e0152"
            ],
            [
             0.1,
             "#c51b7d"
            ],
            [
             0.2,
             "#de77ae"
            ],
            [
             0.3,
             "#f1b6da"
            ],
            [
             0.4,
             "#fde0ef"
            ],
            [
             0.5,
             "#f7f7f7"
            ],
            [
             0.6,
             "#e6f5d0"
            ],
            [
             0.7,
             "#b8e186"
            ],
            [
             0.8,
             "#7fbc41"
            ],
            [
             0.9,
             "#4d9221"
            ],
            [
             1,
             "#276419"
            ]
           ],
           "sequential": [
            [
             0,
             "#0d0887"
            ],
            [
             0.1111111111111111,
             "#46039f"
            ],
            [
             0.2222222222222222,
             "#7201a8"
            ],
            [
             0.3333333333333333,
             "#9c179e"
            ],
            [
             0.4444444444444444,
             "#bd3786"
            ],
            [
             0.5555555555555556,
             "#d8576b"
            ],
            [
             0.6666666666666666,
             "#ed7953"
            ],
            [
             0.7777777777777778,
             "#fb9f3a"
            ],
            [
             0.8888888888888888,
             "#fdca26"
            ],
            [
             1,
             "#f0f921"
            ]
           ],
           "sequentialminus": [
            [
             0,
             "#0d0887"
            ],
            [
             0.1111111111111111,
             "#46039f"
            ],
            [
             0.2222222222222222,
             "#7201a8"
            ],
            [
             0.3333333333333333,
             "#9c179e"
            ],
            [
             0.4444444444444444,
             "#bd3786"
            ],
            [
             0.5555555555555556,
             "#d8576b"
            ],
            [
             0.6666666666666666,
             "#ed7953"
            ],
            [
             0.7777777777777778,
             "#fb9f3a"
            ],
            [
             0.8888888888888888,
             "#fdca26"
            ],
            [
             1,
             "#f0f921"
            ]
           ]
          },
          "colorway": [
           "#636efa",
           "#EF553B",
           "#00cc96",
           "#ab63fa",
           "#FFA15A",
           "#19d3f3",
           "#FF6692",
           "#B6E880",
           "#FF97FF",
           "#FECB52"
          ],
          "font": {
           "color": "#2a3f5f"
          },
          "geo": {
           "bgcolor": "white",
           "lakecolor": "white",
           "landcolor": "#E5ECF6",
           "showlakes": true,
           "showland": true,
           "subunitcolor": "white"
          },
          "hoverlabel": {
           "align": "left"
          },
          "hovermode": "closest",
          "mapbox": {
           "style": "light"
          },
          "paper_bgcolor": "white",
          "plot_bgcolor": "#E5ECF6",
          "polar": {
           "angularaxis": {
            "gridcolor": "white",
            "linecolor": "white",
            "ticks": ""
           },
           "bgcolor": "#E5ECF6",
           "radialaxis": {
            "gridcolor": "white",
            "linecolor": "white",
            "ticks": ""
           }
          },
          "scene": {
           "xaxis": {
            "backgroundcolor": "#E5ECF6",
            "gridcolor": "white",
            "gridwidth": 2,
            "linecolor": "white",
            "showbackground": true,
            "ticks": "",
            "zerolinecolor": "white"
           },
           "yaxis": {
            "backgroundcolor": "#E5ECF6",
            "gridcolor": "white",
            "gridwidth": 2,
            "linecolor": "white",
            "showbackground": true,
            "ticks": "",
            "zerolinecolor": "white"
           },
           "zaxis": {
            "backgroundcolor": "#E5ECF6",
            "gridcolor": "white",
            "gridwidth": 2,
            "linecolor": "white",
            "showbackground": true,
            "ticks": "",
            "zerolinecolor": "white"
           }
          },
          "shapedefaults": {
           "line": {
            "color": "#2a3f5f"
           }
          },
          "ternary": {
           "aaxis": {
            "gridcolor": "white",
            "linecolor": "white",
            "ticks": ""
           },
           "baxis": {
            "gridcolor": "white",
            "linecolor": "white",
            "ticks": ""
           },
           "bgcolor": "#E5ECF6",
           "caxis": {
            "gridcolor": "white",
            "linecolor": "white",
            "ticks": ""
           }
          },
          "title": {
           "x": 0.05
          },
          "xaxis": {
           "automargin": true,
           "gridcolor": "white",
           "linecolor": "white",
           "ticks": "",
           "title": {
            "standoff": 15
           },
           "zerolinecolor": "white",
           "zerolinewidth": 2
          },
          "yaxis": {
           "automargin": true,
           "gridcolor": "white",
           "linecolor": "white",
           "ticks": "",
           "title": {
            "standoff": 15
           },
           "zerolinecolor": "white",
           "zerolinewidth": 2
          }
         }
        },
        "title": {
         "text": "Distribuição da Pontuação Final por Gênero e Preparação para o Teste"
        },
        "xaxis": {
         "anchor": "y",
         "categoryarray": [
          "none",
          "completed"
         ],
         "categoryorder": "array",
         "domain": [
          0,
          1
         ],
         "title": {
          "text": "test_preparation_course"
         }
        },
        "yaxis": {
         "anchor": "x",
         "domain": [
          0,
          1
         ],
         "title": {
          "text": "Média da Pontuação Final"
         }
        }
       }
      }
     },
     "metadata": {},
     "output_type": "display_data"
    }
   ],
   "source": [
    "df_gender_groupeb_test_preparation = df.groupby(['gender', 'test_preparation_course'])['final_score_avg'].median().reset_index()\n",
    "\n",
    "fig = px.bar(df_gender_groupeb_test_preparation, \n",
    "             x='test_preparation_course', \n",
    "             y='final_score_avg', \n",
    "             color='gender', \n",
    "             title='Distribuição da Pontuação Final por Gênero e Preparação para o Teste', \n",
    "             labels={'final_score_avg': 'Média da Pontuação Final'}, \n",
    "             barmode='group',\n",
    "             text='final_score_avg',\n",
    "             category_orders={'test_preparation_course': ['none', 'completed']})\n",
    "\n",
    "fig.show()"
   ]
  },
  {
   "cell_type": "markdown",
   "metadata": {},
   "source": [
    "- Criando uma tabela com a listagem de outliers"
   ]
  },
  {
   "cell_type": "code",
   "execution_count": 12,
   "metadata": {},
   "outputs": [
    {
     "data": {
      "text/html": [
       "<div>\n",
       "<style scoped>\n",
       "    .dataframe tbody tr th:only-of-type {\n",
       "        vertical-align: middle;\n",
       "    }\n",
       "\n",
       "    .dataframe tbody tr th {\n",
       "        vertical-align: top;\n",
       "    }\n",
       "\n",
       "    .dataframe thead th {\n",
       "        text-align: right;\n",
       "    }\n",
       "</style>\n",
       "<table border=\"1\" class=\"dataframe\">\n",
       "  <thead>\n",
       "    <tr style=\"text-align: right;\">\n",
       "      <th></th>\n",
       "      <th>gender</th>\n",
       "      <th>test_preparation_course</th>\n",
       "      <th>final_score_avg</th>\n",
       "    </tr>\n",
       "  </thead>\n",
       "  <tbody>\n",
       "    <tr>\n",
       "      <th>0</th>\n",
       "      <td>female</td>\n",
       "      <td>completed</td>\n",
       "      <td>75.0</td>\n",
       "    </tr>\n",
       "    <tr>\n",
       "      <th>1</th>\n",
       "      <td>female</td>\n",
       "      <td>none</td>\n",
       "      <td>67.5</td>\n",
       "    </tr>\n",
       "    <tr>\n",
       "      <th>2</th>\n",
       "      <td>male</td>\n",
       "      <td>completed</td>\n",
       "      <td>71.0</td>\n",
       "    </tr>\n",
       "    <tr>\n",
       "      <th>3</th>\n",
       "      <td>male</td>\n",
       "      <td>none</td>\n",
       "      <td>63.0</td>\n",
       "    </tr>\n",
       "  </tbody>\n",
       "</table>\n",
       "</div>"
      ],
      "text/plain": [
       "   gender test_preparation_course  final_score_avg\n",
       "0  female               completed             75.0\n",
       "1  female                    none             67.5\n",
       "2    male               completed             71.0\n",
       "3    male                    none             63.0"
      ]
     },
     "execution_count": 12,
     "metadata": {},
     "output_type": "execute_result"
    }
   ],
   "source": [
    "df_gender_groupeb_test_preparation"
   ]
  },
  {
   "cell_type": "code",
   "execution_count": 13,
   "metadata": {},
   "outputs": [
    {
     "data": {
      "text/html": [
       "<div>\n",
       "<style scoped>\n",
       "    .dataframe tbody tr th:only-of-type {\n",
       "        vertical-align: middle;\n",
       "    }\n",
       "\n",
       "    .dataframe tbody tr th {\n",
       "        vertical-align: top;\n",
       "    }\n",
       "\n",
       "    .dataframe thead th {\n",
       "        text-align: right;\n",
       "    }\n",
       "</style>\n",
       "<table border=\"1\" class=\"dataframe\">\n",
       "  <thead>\n",
       "    <tr style=\"text-align: right;\">\n",
       "      <th></th>\n",
       "      <th>gender</th>\n",
       "      <th>race_ethnicity</th>\n",
       "      <th>parental_level_of_education</th>\n",
       "      <th>lunch</th>\n",
       "      <th>test_preparation_course</th>\n",
       "      <th>math_score</th>\n",
       "      <th>reading_score</th>\n",
       "      <th>writing_score</th>\n",
       "      <th>final_score_avg</th>\n",
       "    </tr>\n",
       "  </thead>\n",
       "  <tbody>\n",
       "    <tr>\n",
       "      <th>327</th>\n",
       "      <td>male</td>\n",
       "      <td>group A</td>\n",
       "      <td>some college</td>\n",
       "      <td>free/reduced</td>\n",
       "      <td>none</td>\n",
       "      <td>28</td>\n",
       "      <td>23</td>\n",
       "      <td>19</td>\n",
       "      <td>23.0</td>\n",
       "    </tr>\n",
       "    <tr>\n",
       "      <th>596</th>\n",
       "      <td>male</td>\n",
       "      <td>group B</td>\n",
       "      <td>high school</td>\n",
       "      <td>free/reduced</td>\n",
       "      <td>none</td>\n",
       "      <td>30</td>\n",
       "      <td>24</td>\n",
       "      <td>15</td>\n",
       "      <td>23.0</td>\n",
       "    </tr>\n",
       "    <tr>\n",
       "      <th>980</th>\n",
       "      <td>female</td>\n",
       "      <td>group B</td>\n",
       "      <td>high school</td>\n",
       "      <td>free/reduced</td>\n",
       "      <td>none</td>\n",
       "      <td>8</td>\n",
       "      <td>24</td>\n",
       "      <td>23</td>\n",
       "      <td>18.0</td>\n",
       "    </tr>\n",
       "    <tr>\n",
       "      <th>59</th>\n",
       "      <td>female</td>\n",
       "      <td>group C</td>\n",
       "      <td>some high school</td>\n",
       "      <td>free/reduced</td>\n",
       "      <td>none</td>\n",
       "      <td>0</td>\n",
       "      <td>17</td>\n",
       "      <td>10</td>\n",
       "      <td>9.0</td>\n",
       "    </tr>\n",
       "  </tbody>\n",
       "</table>\n",
       "</div>"
      ],
      "text/plain": [
       "     gender race_ethnicity parental_level_of_education         lunch  \\\n",
       "327    male        group A                some college  free/reduced   \n",
       "596    male        group B                 high school  free/reduced   \n",
       "980  female        group B                 high school  free/reduced   \n",
       "59   female        group C            some high school  free/reduced   \n",
       "\n",
       "    test_preparation_course  math_score  reading_score  writing_score  \\\n",
       "327                    none          28             23             19   \n",
       "596                    none          30             24             15   \n",
       "980                    none           8             24             23   \n",
       "59                     none           0             17             10   \n",
       "\n",
       "     final_score_avg  \n",
       "327             23.0  \n",
       "596             23.0  \n",
       "980             18.0  \n",
       "59               9.0  "
      ]
     },
     "execution_count": 13,
     "metadata": {},
     "output_type": "execute_result"
    }
   ],
   "source": [
    "from scipy.stats import zscore\n",
    "from numpy import abs\n",
    "\n",
    "z = abs(zscore(df['final_score_avg']))\n",
    "\n",
    "df_outliers = df[z >= 3.0]\n",
    "\n",
    "df_outliers.sort_values(by='final_score_avg', ascending=False)"
   ]
  },
  {
   "cell_type": "code",
   "execution_count": 14,
   "metadata": {},
   "outputs": [
    {
     "data": {
      "text/html": [
       "<div>\n",
       "<style scoped>\n",
       "    .dataframe tbody tr th:only-of-type {\n",
       "        vertical-align: middle;\n",
       "    }\n",
       "\n",
       "    .dataframe tbody tr th {\n",
       "        vertical-align: top;\n",
       "    }\n",
       "\n",
       "    .dataframe thead th {\n",
       "        text-align: right;\n",
       "    }\n",
       "</style>\n",
       "<table border=\"1\" class=\"dataframe\">\n",
       "  <thead>\n",
       "    <tr style=\"text-align: right;\">\n",
       "      <th></th>\n",
       "      <th>parental_level_of_education</th>\n",
       "      <th>math_score</th>\n",
       "      <th>reading_score</th>\n",
       "      <th>writing_score</th>\n",
       "      <th>final_score_avg</th>\n",
       "    </tr>\n",
       "  </thead>\n",
       "  <tbody>\n",
       "    <tr>\n",
       "      <th>0</th>\n",
       "      <td>associate's degree</td>\n",
       "      <td>67.882883</td>\n",
       "      <td>70.927928</td>\n",
       "      <td>69.896396</td>\n",
       "      <td>69.558559</td>\n",
       "    </tr>\n",
       "    <tr>\n",
       "      <th>1</th>\n",
       "      <td>bachelor's degree</td>\n",
       "      <td>69.389831</td>\n",
       "      <td>73.000000</td>\n",
       "      <td>73.381356</td>\n",
       "      <td>71.949153</td>\n",
       "    </tr>\n",
       "    <tr>\n",
       "      <th>2</th>\n",
       "      <td>high school</td>\n",
       "      <td>62.137755</td>\n",
       "      <td>64.704082</td>\n",
       "      <td>62.448980</td>\n",
       "      <td>63.122449</td>\n",
       "    </tr>\n",
       "    <tr>\n",
       "      <th>3</th>\n",
       "      <td>master's degree</td>\n",
       "      <td>69.745763</td>\n",
       "      <td>75.372881</td>\n",
       "      <td>75.677966</td>\n",
       "      <td>73.576271</td>\n",
       "    </tr>\n",
       "    <tr>\n",
       "      <th>4</th>\n",
       "      <td>some college</td>\n",
       "      <td>67.128319</td>\n",
       "      <td>69.460177</td>\n",
       "      <td>68.840708</td>\n",
       "      <td>68.446903</td>\n",
       "    </tr>\n",
       "    <tr>\n",
       "      <th>5</th>\n",
       "      <td>some high school</td>\n",
       "      <td>63.497207</td>\n",
       "      <td>66.938547</td>\n",
       "      <td>64.888268</td>\n",
       "      <td>65.072626</td>\n",
       "    </tr>\n",
       "  </tbody>\n",
       "</table>\n",
       "</div>"
      ],
      "text/plain": [
       "  parental_level_of_education  math_score  reading_score  writing_score  \\\n",
       "0          associate's degree   67.882883      70.927928      69.896396   \n",
       "1           bachelor's degree   69.389831      73.000000      73.381356   \n",
       "2                 high school   62.137755      64.704082      62.448980   \n",
       "3             master's degree   69.745763      75.372881      75.677966   \n",
       "4                some college   67.128319      69.460177      68.840708   \n",
       "5            some high school   63.497207      66.938547      64.888268   \n",
       "\n",
       "   final_score_avg  \n",
       "0        69.558559  \n",
       "1        71.949153  \n",
       "2        63.122449  \n",
       "3        73.576271  \n",
       "4        68.446903  \n",
       "5        65.072626  "
      ]
     },
     "execution_count": 14,
     "metadata": {},
     "output_type": "execute_result"
    }
   ],
   "source": [
    "df_grouped_by_parental_level_of_education = df.groupby(['parental_level_of_education'])[['math_score', 'reading_score', 'writing_score', 'final_score_avg']].mean().reset_index()\n",
    "\n",
    "df_grouped_by_parental_level_of_education"
   ]
  },
  {
   "cell_type": "code",
   "execution_count": 15,
   "metadata": {},
   "outputs": [
    {
     "data": {
      "application/vnd.plotly.v1+json": {
       "config": {
        "plotlyServerURL": "https://plot.ly"
       },
       "data": [
        {
         "alignmentgroup": "True",
         "hovertemplate": "Area=math_score<br>Nível de Educação dos Pais=%{x}<br>Média de Notas=%{y}<extra></extra>",
         "legendgroup": "math_score",
         "marker": {
          "color": "#636efa",
          "pattern": {
           "shape": ""
          }
         },
         "name": "math_score",
         "offsetgroup": "math_score",
         "orientation": "v",
         "showlegend": true,
         "textposition": "auto",
         "texttemplate": "%{y}",
         "type": "bar",
         "x": [
          "associate's degree",
          "bachelor's degree",
          "high school",
          "master's degree",
          "some college",
          "some high school"
         ],
         "xaxis": "x",
         "y": [
          67.88288288288288,
          69.38983050847457,
          62.13775510204081,
          69.7457627118644,
          67.1283185840708,
          63.497206703910614
         ],
         "yaxis": "y"
        },
        {
         "alignmentgroup": "True",
         "hovertemplate": "Area=reading_score<br>Nível de Educação dos Pais=%{x}<br>Média de Notas=%{y}<extra></extra>",
         "legendgroup": "reading_score",
         "marker": {
          "color": "#EF553B",
          "pattern": {
           "shape": ""
          }
         },
         "name": "reading_score",
         "offsetgroup": "reading_score",
         "orientation": "v",
         "showlegend": true,
         "textposition": "auto",
         "texttemplate": "%{y}",
         "type": "bar",
         "x": [
          "associate's degree",
          "bachelor's degree",
          "high school",
          "master's degree",
          "some college",
          "some high school"
         ],
         "xaxis": "x",
         "y": [
          70.92792792792793,
          73,
          64.70408163265306,
          75.37288135593221,
          69.46017699115045,
          66.93854748603351
         ],
         "yaxis": "y"
        },
        {
         "alignmentgroup": "True",
         "hovertemplate": "Area=writing_score<br>Nível de Educação dos Pais=%{x}<br>Média de Notas=%{y}<extra></extra>",
         "legendgroup": "writing_score",
         "marker": {
          "color": "#00cc96",
          "pattern": {
           "shape": ""
          }
         },
         "name": "writing_score",
         "offsetgroup": "writing_score",
         "orientation": "v",
         "showlegend": true,
         "textposition": "auto",
         "texttemplate": "%{y}",
         "type": "bar",
         "x": [
          "associate's degree",
          "bachelor's degree",
          "high school",
          "master's degree",
          "some college",
          "some high school"
         ],
         "xaxis": "x",
         "y": [
          69.8963963963964,
          73.38135593220339,
          62.44897959183673,
          75.67796610169492,
          68.84070796460178,
          64.88826815642459
         ],
         "yaxis": "y"
        },
        {
         "alignmentgroup": "True",
         "hovertemplate": "Area=final_score_avg<br>Nível de Educação dos Pais=%{x}<br>Média de Notas=%{y}<extra></extra>",
         "legendgroup": "final_score_avg",
         "marker": {
          "color": "#ab63fa",
          "pattern": {
           "shape": ""
          }
         },
         "name": "final_score_avg",
         "offsetgroup": "final_score_avg",
         "orientation": "v",
         "showlegend": true,
         "textposition": "auto",
         "texttemplate": "%{y}",
         "type": "bar",
         "x": [
          "associate's degree",
          "bachelor's degree",
          "high school",
          "master's degree",
          "some college",
          "some high school"
         ],
         "xaxis": "x",
         "y": [
          69.55855855855856,
          71.94915254237289,
          63.12244897959184,
          73.57627118644068,
          68.44690265486726,
          65.07262569832402
         ],
         "yaxis": "y"
        }
       ],
       "layout": {
        "barmode": "group",
        "legend": {
         "title": {
          "text": "Area"
         },
         "tracegroupgap": 0
        },
        "template": {
         "data": {
          "bar": [
           {
            "error_x": {
             "color": "#2a3f5f"
            },
            "error_y": {
             "color": "#2a3f5f"
            },
            "marker": {
             "line": {
              "color": "#E5ECF6",
              "width": 0.5
             },
             "pattern": {
              "fillmode": "overlay",
              "size": 10,
              "solidity": 0.2
             }
            },
            "type": "bar"
           }
          ],
          "barpolar": [
           {
            "marker": {
             "line": {
              "color": "#E5ECF6",
              "width": 0.5
             },
             "pattern": {
              "fillmode": "overlay",
              "size": 10,
              "solidity": 0.2
             }
            },
            "type": "barpolar"
           }
          ],
          "carpet": [
           {
            "aaxis": {
             "endlinecolor": "#2a3f5f",
             "gridcolor": "white",
             "linecolor": "white",
             "minorgridcolor": "white",
             "startlinecolor": "#2a3f5f"
            },
            "baxis": {
             "endlinecolor": "#2a3f5f",
             "gridcolor": "white",
             "linecolor": "white",
             "minorgridcolor": "white",
             "startlinecolor": "#2a3f5f"
            },
            "type": "carpet"
           }
          ],
          "choropleth": [
           {
            "colorbar": {
             "outlinewidth": 0,
             "ticks": ""
            },
            "type": "choropleth"
           }
          ],
          "contour": [
           {
            "colorbar": {
             "outlinewidth": 0,
             "ticks": ""
            },
            "colorscale": [
             [
              0,
              "#0d0887"
             ],
             [
              0.1111111111111111,
              "#46039f"
             ],
             [
              0.2222222222222222,
              "#7201a8"
             ],
             [
              0.3333333333333333,
              "#9c179e"
             ],
             [
              0.4444444444444444,
              "#bd3786"
             ],
             [
              0.5555555555555556,
              "#d8576b"
             ],
             [
              0.6666666666666666,
              "#ed7953"
             ],
             [
              0.7777777777777778,
              "#fb9f3a"
             ],
             [
              0.8888888888888888,
              "#fdca26"
             ],
             [
              1,
              "#f0f921"
             ]
            ],
            "type": "contour"
           }
          ],
          "contourcarpet": [
           {
            "colorbar": {
             "outlinewidth": 0,
             "ticks": ""
            },
            "type": "contourcarpet"
           }
          ],
          "heatmap": [
           {
            "colorbar": {
             "outlinewidth": 0,
             "ticks": ""
            },
            "colorscale": [
             [
              0,
              "#0d0887"
             ],
             [
              0.1111111111111111,
              "#46039f"
             ],
             [
              0.2222222222222222,
              "#7201a8"
             ],
             [
              0.3333333333333333,
              "#9c179e"
             ],
             [
              0.4444444444444444,
              "#bd3786"
             ],
             [
              0.5555555555555556,
              "#d8576b"
             ],
             [
              0.6666666666666666,
              "#ed7953"
             ],
             [
              0.7777777777777778,
              "#fb9f3a"
             ],
             [
              0.8888888888888888,
              "#fdca26"
             ],
             [
              1,
              "#f0f921"
             ]
            ],
            "type": "heatmap"
           }
          ],
          "heatmapgl": [
           {
            "colorbar": {
             "outlinewidth": 0,
             "ticks": ""
            },
            "colorscale": [
             [
              0,
              "#0d0887"
             ],
             [
              0.1111111111111111,
              "#46039f"
             ],
             [
              0.2222222222222222,
              "#7201a8"
             ],
             [
              0.3333333333333333,
              "#9c179e"
             ],
             [
              0.4444444444444444,
              "#bd3786"
             ],
             [
              0.5555555555555556,
              "#d8576b"
             ],
             [
              0.6666666666666666,
              "#ed7953"
             ],
             [
              0.7777777777777778,
              "#fb9f3a"
             ],
             [
              0.8888888888888888,
              "#fdca26"
             ],
             [
              1,
              "#f0f921"
             ]
            ],
            "type": "heatmapgl"
           }
          ],
          "histogram": [
           {
            "marker": {
             "pattern": {
              "fillmode": "overlay",
              "size": 10,
              "solidity": 0.2
             }
            },
            "type": "histogram"
           }
          ],
          "histogram2d": [
           {
            "colorbar": {
             "outlinewidth": 0,
             "ticks": ""
            },
            "colorscale": [
             [
              0,
              "#0d0887"
             ],
             [
              0.1111111111111111,
              "#46039f"
             ],
             [
              0.2222222222222222,
              "#7201a8"
             ],
             [
              0.3333333333333333,
              "#9c179e"
             ],
             [
              0.4444444444444444,
              "#bd3786"
             ],
             [
              0.5555555555555556,
              "#d8576b"
             ],
             [
              0.6666666666666666,
              "#ed7953"
             ],
             [
              0.7777777777777778,
              "#fb9f3a"
             ],
             [
              0.8888888888888888,
              "#fdca26"
             ],
             [
              1,
              "#f0f921"
             ]
            ],
            "type": "histogram2d"
           }
          ],
          "histogram2dcontour": [
           {
            "colorbar": {
             "outlinewidth": 0,
             "ticks": ""
            },
            "colorscale": [
             [
              0,
              "#0d0887"
             ],
             [
              0.1111111111111111,
              "#46039f"
             ],
             [
              0.2222222222222222,
              "#7201a8"
             ],
             [
              0.3333333333333333,
              "#9c179e"
             ],
             [
              0.4444444444444444,
              "#bd3786"
             ],
             [
              0.5555555555555556,
              "#d8576b"
             ],
             [
              0.6666666666666666,
              "#ed7953"
             ],
             [
              0.7777777777777778,
              "#fb9f3a"
             ],
             [
              0.8888888888888888,
              "#fdca26"
             ],
             [
              1,
              "#f0f921"
             ]
            ],
            "type": "histogram2dcontour"
           }
          ],
          "mesh3d": [
           {
            "colorbar": {
             "outlinewidth": 0,
             "ticks": ""
            },
            "type": "mesh3d"
           }
          ],
          "parcoords": [
           {
            "line": {
             "colorbar": {
              "outlinewidth": 0,
              "ticks": ""
             }
            },
            "type": "parcoords"
           }
          ],
          "pie": [
           {
            "automargin": true,
            "type": "pie"
           }
          ],
          "scatter": [
           {
            "fillpattern": {
             "fillmode": "overlay",
             "size": 10,
             "solidity": 0.2
            },
            "type": "scatter"
           }
          ],
          "scatter3d": [
           {
            "line": {
             "colorbar": {
              "outlinewidth": 0,
              "ticks": ""
             }
            },
            "marker": {
             "colorbar": {
              "outlinewidth": 0,
              "ticks": ""
             }
            },
            "type": "scatter3d"
           }
          ],
          "scattercarpet": [
           {
            "marker": {
             "colorbar": {
              "outlinewidth": 0,
              "ticks": ""
             }
            },
            "type": "scattercarpet"
           }
          ],
          "scattergeo": [
           {
            "marker": {
             "colorbar": {
              "outlinewidth": 0,
              "ticks": ""
             }
            },
            "type": "scattergeo"
           }
          ],
          "scattergl": [
           {
            "marker": {
             "colorbar": {
              "outlinewidth": 0,
              "ticks": ""
             }
            },
            "type": "scattergl"
           }
          ],
          "scattermapbox": [
           {
            "marker": {
             "colorbar": {
              "outlinewidth": 0,
              "ticks": ""
             }
            },
            "type": "scattermapbox"
           }
          ],
          "scatterpolar": [
           {
            "marker": {
             "colorbar": {
              "outlinewidth": 0,
              "ticks": ""
             }
            },
            "type": "scatterpolar"
           }
          ],
          "scatterpolargl": [
           {
            "marker": {
             "colorbar": {
              "outlinewidth": 0,
              "ticks": ""
             }
            },
            "type": "scatterpolargl"
           }
          ],
          "scatterternary": [
           {
            "marker": {
             "colorbar": {
              "outlinewidth": 0,
              "ticks": ""
             }
            },
            "type": "scatterternary"
           }
          ],
          "surface": [
           {
            "colorbar": {
             "outlinewidth": 0,
             "ticks": ""
            },
            "colorscale": [
             [
              0,
              "#0d0887"
             ],
             [
              0.1111111111111111,
              "#46039f"
             ],
             [
              0.2222222222222222,
              "#7201a8"
             ],
             [
              0.3333333333333333,
              "#9c179e"
             ],
             [
              0.4444444444444444,
              "#bd3786"
             ],
             [
              0.5555555555555556,
              "#d8576b"
             ],
             [
              0.6666666666666666,
              "#ed7953"
             ],
             [
              0.7777777777777778,
              "#fb9f3a"
             ],
             [
              0.8888888888888888,
              "#fdca26"
             ],
             [
              1,
              "#f0f921"
             ]
            ],
            "type": "surface"
           }
          ],
          "table": [
           {
            "cells": {
             "fill": {
              "color": "#EBF0F8"
             },
             "line": {
              "color": "white"
             }
            },
            "header": {
             "fill": {
              "color": "#C8D4E3"
             },
             "line": {
              "color": "white"
             }
            },
            "type": "table"
           }
          ]
         },
         "layout": {
          "annotationdefaults": {
           "arrowcolor": "#2a3f5f",
           "arrowhead": 0,
           "arrowwidth": 1
          },
          "autotypenumbers": "strict",
          "coloraxis": {
           "colorbar": {
            "outlinewidth": 0,
            "ticks": ""
           }
          },
          "colorscale": {
           "diverging": [
            [
             0,
             "#8e0152"
            ],
            [
             0.1,
             "#c51b7d"
            ],
            [
             0.2,
             "#de77ae"
            ],
            [
             0.3,
             "#f1b6da"
            ],
            [
             0.4,
             "#fde0ef"
            ],
            [
             0.5,
             "#f7f7f7"
            ],
            [
             0.6,
             "#e6f5d0"
            ],
            [
             0.7,
             "#b8e186"
            ],
            [
             0.8,
             "#7fbc41"
            ],
            [
             0.9,
             "#4d9221"
            ],
            [
             1,
             "#276419"
            ]
           ],
           "sequential": [
            [
             0,
             "#0d0887"
            ],
            [
             0.1111111111111111,
             "#46039f"
            ],
            [
             0.2222222222222222,
             "#7201a8"
            ],
            [
             0.3333333333333333,
             "#9c179e"
            ],
            [
             0.4444444444444444,
             "#bd3786"
            ],
            [
             0.5555555555555556,
             "#d8576b"
            ],
            [
             0.6666666666666666,
             "#ed7953"
            ],
            [
             0.7777777777777778,
             "#fb9f3a"
            ],
            [
             0.8888888888888888,
             "#fdca26"
            ],
            [
             1,
             "#f0f921"
            ]
           ],
           "sequentialminus": [
            [
             0,
             "#0d0887"
            ],
            [
             0.1111111111111111,
             "#46039f"
            ],
            [
             0.2222222222222222,
             "#7201a8"
            ],
            [
             0.3333333333333333,
             "#9c179e"
            ],
            [
             0.4444444444444444,
             "#bd3786"
            ],
            [
             0.5555555555555556,
             "#d8576b"
            ],
            [
             0.6666666666666666,
             "#ed7953"
            ],
            [
             0.7777777777777778,
             "#fb9f3a"
            ],
            [
             0.8888888888888888,
             "#fdca26"
            ],
            [
             1,
             "#f0f921"
            ]
           ]
          },
          "colorway": [
           "#636efa",
           "#EF553B",
           "#00cc96",
           "#ab63fa",
           "#FFA15A",
           "#19d3f3",
           "#FF6692",
           "#B6E880",
           "#FF97FF",
           "#FECB52"
          ],
          "font": {
           "color": "#2a3f5f"
          },
          "geo": {
           "bgcolor": "white",
           "lakecolor": "white",
           "landcolor": "#E5ECF6",
           "showlakes": true,
           "showland": true,
           "subunitcolor": "white"
          },
          "hoverlabel": {
           "align": "left"
          },
          "hovermode": "closest",
          "mapbox": {
           "style": "light"
          },
          "paper_bgcolor": "white",
          "plot_bgcolor": "#E5ECF6",
          "polar": {
           "angularaxis": {
            "gridcolor": "white",
            "linecolor": "white",
            "ticks": ""
           },
           "bgcolor": "#E5ECF6",
           "radialaxis": {
            "gridcolor": "white",
            "linecolor": "white",
            "ticks": ""
           }
          },
          "scene": {
           "xaxis": {
            "backgroundcolor": "#E5ECF6",
            "gridcolor": "white",
            "gridwidth": 2,
            "linecolor": "white",
            "showbackground": true,
            "ticks": "",
            "zerolinecolor": "white"
           },
           "yaxis": {
            "backgroundcolor": "#E5ECF6",
            "gridcolor": "white",
            "gridwidth": 2,
            "linecolor": "white",
            "showbackground": true,
            "ticks": "",
            "zerolinecolor": "white"
           },
           "zaxis": {
            "backgroundcolor": "#E5ECF6",
            "gridcolor": "white",
            "gridwidth": 2,
            "linecolor": "white",
            "showbackground": true,
            "ticks": "",
            "zerolinecolor": "white"
           }
          },
          "shapedefaults": {
           "line": {
            "color": "#2a3f5f"
           }
          },
          "ternary": {
           "aaxis": {
            "gridcolor": "white",
            "linecolor": "white",
            "ticks": ""
           },
           "baxis": {
            "gridcolor": "white",
            "linecolor": "white",
            "ticks": ""
           },
           "bgcolor": "#E5ECF6",
           "caxis": {
            "gridcolor": "white",
            "linecolor": "white",
            "ticks": ""
           }
          },
          "title": {
           "x": 0.05
          },
          "xaxis": {
           "automargin": true,
           "gridcolor": "white",
           "linecolor": "white",
           "ticks": "",
           "title": {
            "standoff": 15
           },
           "zerolinecolor": "white",
           "zerolinewidth": 2
          },
          "yaxis": {
           "automargin": true,
           "gridcolor": "white",
           "linecolor": "white",
           "ticks": "",
           "title": {
            "standoff": 15
           },
           "zerolinecolor": "white",
           "zerolinewidth": 2
          }
         }
        },
        "title": {
         "text": "Comparação de Médias por Nível de Educação dos Pais"
        },
        "xaxis": {
         "anchor": "y",
         "domain": [
          0,
          1
         ],
         "title": {
          "text": "Nível de Educação dos Pais"
         }
        },
        "yaxis": {
         "anchor": "x",
         "domain": [
          0,
          1
         ],
         "title": {
          "text": "Média de Notas"
         }
        }
       }
      }
     },
     "metadata": {},
     "output_type": "display_data"
    }
   ],
   "source": [
    "# Plot a bar chart with df_grouped_by_parental_level_of_education data\n",
    "\n",
    "fig = px.bar(df_grouped_by_parental_level_of_education, \n",
    "             x='parental_level_of_education', \n",
    "             y=['math_score', 'reading_score', 'writing_score', 'final_score_avg'], \n",
    "             title='Comparação de Médias por Nível de Educação dos Pais', \n",
    "             labels={'value': 'Média de Notas', 'variable': 'Area', 'parental_level_of_education': 'Nível de Educação dos Pais'}, \n",
    "             text_auto=True,\n",
    "             barmode='group')\n",
    "\n",
    "fig.show()"
   ]
  },
  {
   "cell_type": "markdown",
   "metadata": {},
   "source": [
    "## Treinamento do Modelo"
   ]
  },
  {
   "cell_type": "markdown",
   "metadata": {},
   "source": [
    "### Organizando os dados de Treino e Testes"
   ]
  },
  {
   "cell_type": "code",
   "execution_count": 16,
   "metadata": {},
   "outputs": [],
   "source": [
    "# Transform features in dummies\n",
    "df_dummies = pd.get_dummies(df, columns=['gender', 'lunch', 'parental_level_of_education', 'race_ethnicity', 'test_preparation_course'])"
   ]
  },
  {
   "cell_type": "code",
   "execution_count": 17,
   "metadata": {},
   "outputs": [],
   "source": [
    "# Split target and features\n",
    "X = df_dummies.drop(columns=['final_score_avg'], axis=1)\n",
    "y = df_dummies['final_score_avg']\n"
   ]
  },
  {
   "cell_type": "code",
   "execution_count": 18,
   "metadata": {},
   "outputs": [],
   "source": [
    "# Split the data into training and test sets\n",
    "from sklearn.model_selection import train_test_split\n",
    "import numpy as np\n",
    "\n",
    "X_train, X_test, y_train, y_test = train_test_split(X, y, test_size=0.3, random_state=42)"
   ]
  },
  {
   "cell_type": "markdown",
   "metadata": {},
   "source": [
    "### Regressão Logistica"
   ]
  },
  {
   "cell_type": "code",
   "execution_count": 19,
   "metadata": {},
   "outputs": [],
   "source": [
    "# Train a linear regression model\n",
    "from sklearn.linear_model import LinearRegression\n",
    "\n",
    "model = LinearRegression()\n",
    "\n",
    "model.fit(X_train, y_train)\n",
    "\n",
    "y_pred = model.predict(X_test)\n"
   ]
  },
  {
   "cell_type": "code",
   "execution_count": 20,
   "metadata": {},
   "outputs": [
    {
     "name": "stdout",
     "output_type": "stream",
     "text": [
      " O Resultado dos coeficientes foram: [ 0.3352442   0.33271072  0.33144849  0.02753976 -0.02753976 -0.00350332\n",
      "  0.00350332  0.00124485  0.04110922  0.0417924   0.00959069 -0.04002378\n",
      " -0.05371338 -0.01200568  0.02719482 -0.00212165  0.02322398 -0.03629146\n",
      "  0.01307538 -0.01307538]\n"
     ]
    }
   ],
   "source": [
    "coef = model.coef_\n",
    "\n",
    "print(f' O Resultado dos coeficientes foram: {coef}')"
   ]
  },
  {
   "cell_type": "code",
   "execution_count": 21,
   "metadata": {},
   "outputs": [
    {
     "name": "stdout",
     "output_type": "stream",
     "text": [
      " Verificando o resultado de R2: 0.9996941579270728\n"
     ]
    }
   ],
   "source": [
    "from sklearn.metrics import r2_score\n",
    "\n",
    "# Calculate the R2 score\n",
    "r2 = r2_score(y_test, y_pred)\n",
    "\n",
    "print(f' Verificando o resultado de R2: {r2}')\n"
   ]
  },
  {
   "cell_type": "code",
   "execution_count": 22,
   "metadata": {},
   "outputs": [
    {
     "name": "stdout",
     "output_type": "stream",
     "text": [
      " Verificando o resultado de MSE: 0.0689914844021844\n"
     ]
    }
   ],
   "source": [
    "# Calculo do Errp Quadrático Médio (MSE - Mean Squared Error)\n",
    "from sklearn.metrics import mean_squared_error\n",
    "mse = mean_squared_error(y_test, y_pred)\n",
    "\n",
    "print(f' Verificando o resultado de MSE: {mse}')"
   ]
  },
  {
   "cell_type": "code",
   "execution_count": 23,
   "metadata": {},
   "outputs": [
    {
     "name": "stdout",
     "output_type": "stream",
     "text": [
      "Raiz do Erro Quadrático Médio (RMSE): 0.26266230106771016\n"
     ]
    }
   ],
   "source": [
    "# Raiz do Erro Quadrático Médio (RMSE - Root Mean Squared Error)\n",
    "from sklearn.metrics import root_mean_squared_error\n",
    "\n",
    "rmse = root_mean_squared_error(y_test, y_pred)\n",
    "\n",
    "print(\"Raiz do Erro Quadrático Médio (RMSE):\", rmse)\n"
   ]
  },
  {
   "cell_type": "code",
   "execution_count": 24,
   "metadata": {},
   "outputs": [
    {
     "name": "stdout",
     "output_type": "stream",
     "text": [
      "O Resultado foi: 0.3485412701296795\n"
     ]
    }
   ],
   "source": [
    "# Erro Médio Absoluto (MAPE - Mean Absolute Percentage Error)\n",
    "def mean_absolute_percentage_error(y_true, y_pred):\n",
    "    y_true,y_pred, y_pred\n",
    "    return np.mean(np.abs((y_true - y_pred) / y_true)) * 100\n",
    "\n",
    "mape = mean_absolute_percentage_error(y_test, y_pred)\n",
    "\n",
    "print(f'O Resultado foi:', mape)"
   ]
  },
  {
   "cell_type": "code",
   "execution_count": 25,
   "metadata": {},
   "outputs": [
    {
     "data": {
      "application/vnd.plotly.v1+json": {
       "config": {
        "plotlyServerURL": "https://plot.ly"
       },
       "data": [
        {
         "hovertemplate": "Valor Real=%{x}<br>Resíduos=%{y}<extra></extra>",
         "legendgroup": "",
         "marker": {
          "color": "#636efa",
          "symbol": "circle"
         },
         "mode": "markers",
         "name": "",
         "orientation": "v",
         "showlegend": false,
         "type": "scatter",
         "x": [
          87,
          64,
          75,
          75,
          82,
          78,
          67,
          59,
          77,
          49,
          47,
          26,
          76,
          58,
          84,
          75,
          49,
          48,
          53,
          61,
          73,
          49,
          63,
          44,
          79,
          77,
          72,
          50,
          41,
          56,
          60,
          67,
          60,
          73,
          77,
          51,
          76,
          74,
          75,
          9,
          78,
          64,
          65,
          61,
          84,
          66,
          71,
          29,
          86,
          79,
          72,
          71,
          79,
          54,
          72,
          72,
          83,
          55,
          82,
          89,
          43,
          81,
          79,
          62,
          88,
          74,
          65,
          55,
          65,
          89,
          64,
          86,
          56,
          50,
          60,
          77,
          90,
          57,
          60,
          49,
          61,
          40,
          78,
          69,
          68,
          64,
          74,
          68,
          84,
          23,
          77,
          96,
          61,
          71,
          30,
          69,
          61,
          65,
          73,
          65,
          74,
          58,
          59,
          68,
          70,
          65,
          46,
          76,
          76,
          52,
          39,
          80,
          54,
          56,
          82,
          57,
          49,
          48,
          70,
          78,
          63,
          64,
          82,
          73,
          66,
          67,
          76,
          73,
          48,
          69,
          76,
          75,
          47,
          94,
          69,
          39,
          87,
          81,
          73,
          47,
          53,
          65,
          58,
          46,
          79,
          54,
          39,
          73,
          51,
          80,
          78,
          78,
          62,
          62,
          88,
          72,
          53,
          67,
          75,
          52,
          69,
          66,
          76,
          53,
          84,
          69,
          45,
          89,
          66,
          76,
          82,
          71,
          88,
          79,
          55,
          31,
          53,
          76,
          92,
          76,
          62,
          70,
          93,
          59,
          86,
          60,
          68,
          56,
          70,
          86,
          50,
          58,
          69,
          78,
          56,
          55,
          57,
          77,
          72,
          69,
          69,
          77,
          85,
          65,
          65,
          23,
          99,
          71,
          66,
          53,
          64,
          62,
          66,
          70,
          65,
          40,
          69,
          60,
          85,
          85,
          68,
          56,
          74,
          83,
          31,
          93,
          64,
          62,
          78,
          56,
          73,
          63,
          56,
          49,
          40,
          63,
          44,
          72,
          64,
          83,
          49,
          47,
          89,
          55,
          89,
          69,
          63,
          80,
          38,
          89,
          50,
          75,
          59,
          63,
          65,
          50,
          75,
          100,
          68,
          77,
          48,
          87,
          68,
          73,
          59,
          75,
          61,
          83,
          68,
          94,
          75,
          58,
          86,
          48,
          54,
          49,
          64,
          56,
          46,
          58,
          56,
          78,
          81,
          71,
          30,
          97,
          86,
          75,
          54,
          79,
          81,
          70,
          91,
          65,
          56,
          83,
          64,
          59,
          41,
          82
         ],
         "xaxis": "x",
         "y": [
          -0.02180476270606846,
          0.010430654959215246,
          -0.04162777202972734,
          0.42103129516594606,
          0.4160949461626018,
          0.01588663391328282,
          -0.3560236012115041,
          -0.008643555477689802,
          -0.3161205264304954,
          0.34156193860816586,
          0.007266354958439081,
          0.08474870025246162,
          -0.07434235304624792,
          -0.3083783396830597,
          0.3666173174511016,
          0.022588989505322843,
          -0.060337692177256486,
          -0.38976891893474885,
          -0.3173366751949942,
          -0.3592533426072606,
          -0.3224632171749562,
          -0.400761721281512,
          0.38707111833769403,
          -0.04807280639669642,
          -0.28235307335042137,
          -0.3244273075259372,
          -0.04045586161625181,
          -0.003360946275293486,
          -0.06740053495826714,
          0.3520452128214373,
          0.034185998352491254,
          0.01742640760008385,
          -0.3739133307970093,
          0.10541890574633328,
          -0.24135052104405474,
          0.009847236002677562,
          0.015973712800771978,
          -0.3159734616627219,
          -0.019584345742941878,
          0.0316103376840573,
          0.004279173035328654,
          -0.3048038252735381,
          -0.39128131590270243,
          -0.27964579912190857,
          0.00050565468487207,
          0.3088641129916567,
          -0.03136149555282941,
          -0.41448231221981047,
          -0.29529946334854174,
          0.27337347487691943,
          0.024056954462707836,
          -0.35396491336055647,
          0.3889890191837111,
          -0.014513754284877223,
          0.3796986219042964,
          -0.3234958180612324,
          -0.033068374289626945,
          0.3494281395275891,
          0.32357920619708125,
          0.045921109330706145,
          -0.280674156091699,
          0.3899692687975005,
          -0.017723822608431306,
          0.3440534770334267,
          0.34032542863961623,
          0.2871658347550152,
          0.0323042047676978,
          0.3133537443968706,
          0.33631267588764047,
          0.31840842084507415,
          -0.2962847936197619,
          -0.36333955066815804,
          -0.26332574497931205,
          0.0274412975259537,
          0.04850783484997123,
          0.43691747720991714,
          0.3391537942996621,
          0.33969859454167306,
          0.4102737959682159,
          0.06810513340352031,
          -0.28442620361860804,
          0.37203160519024436,
          -0.01701684147587912,
          0.38446903553476375,
          0.3133196671712284,
          -0.38279038680627764,
          -0.3395907411646846,
          0.008112853832855649,
          0.038130098112702626,
          -0.2832540005987667,
          0.027249923314357716,
          -0.2686588248668329,
          -0.39155338102942494,
          -0.013802307365992306,
          0.333165891962075,
          -0.010400868832789456,
          0.38032680404156594,
          0.050402349733090546,
          -0.34133768874634995,
          0.32166992328724575,
          -0.3194127603531598,
          -0.25521916609969253,
          0.012533733447767759,
          -0.33478953491764685,
          0.3289936943220084,
          -0.05477213673944448,
          0.031597339355599274,
          0.3290183700585061,
          -0.42037987548296485,
          -0.38175522508721826,
          -0.05929116058297268,
          -0.049591941678301055,
          -0.01075599577599462,
          -0.018392659842803027,
          -0.27252832914766145,
          -0.35661892481695645,
          0.4031837374498366,
          -0.08584983760462706,
          -0.06908630771569335,
          -0.37339750767537794,
          -0.30081069485727596,
          0.36192278440805836,
          0.01557887799613411,
          -0.28528281802611843,
          -0.0017858667281416274,
          0.043364188086783884,
          -0.053293671552665955,
          0.36553157379228196,
          -0.04715883960923861,
          -0.2636417611915789,
          0.04934534311526306,
          0.327160624783815,
          -0.3107347415674582,
          0.01242823850627417,
          0.33308452357667306,
          -0.0498115378209647,
          0.28160368992809026,
          0.36064374045494674,
          0.046125710357713956,
          0.3343167776271372,
          -0.31083979014809415,
          -0.42821358571129053,
          0.38193615594630614,
          -0.3733351859932412,
          0.018034296898832736,
          -0.028351382536136782,
          -0.28349771904194654,
          0.3910505682652712,
          0.41979017514735517,
          -0.007032888715997387,
          0.2995871242042085,
          -0.014291534399362149,
          0.3599424471698498,
          0.40165753733116105,
          -0.33825717595773597,
          -0.26652286786196555,
          0.2545276799893941,
          -0.02574177363881347,
          0.0012770153769281478,
          0.010462996759919463,
          -0.04791601144673052,
          -0.09425590707459719,
          -0.33333962785947335,
          -0.26491830595431054,
          0.04529371247426184,
          -0.27521707036201803,
          -0.3512852122602652,
          0.4458370341743745,
          -0.05733323377064892,
          -0.3638244801632453,
          -0.30165665470111946,
          -0.27860727359320947,
          -0.0112868008376239,
          0.3522833537096659,
          0.36980627955741596,
          0.006722269503107725,
          0.2899331948907431,
          0.3249535013302278,
          0.04572264326971265,
          0.02956168873569709,
          -0.06482170350975025,
          -0.04395765009635966,
          -0.36074754043559665,
          0.07516765057508223,
          -0.27294635550167357,
          -0.3383846645804667,
          0.26456932955444756,
          0.3350706337716076,
          -0.3716465295126312,
          0.3625774221703324,
          -0.29603355072496385,
          -0.30882056406650804,
          -0.31582628070202645,
          0.2547585916174029,
          0.33213382373952527,
          -0.10314963285154732,
          0.019600464451130506,
          0.011446941027145385,
          0.0034257958020447177,
          0.008893587052185126,
          -0.027006510030446407,
          -0.3701276552784094,
          0.3630260936221674,
          0.37683805874598875,
          0.3300377442904079,
          -0.08167584238263004,
          0.27483314077960586,
          -0.32946232712346557,
          -0.062443882271566054,
          0.37791256810768914,
          0.04772847121744661,
          0.3683120089405918,
          0.06980310194387584,
          0.05717282944780777,
          -0.33164277317790436,
          0.3278209595955417,
          0.3083802499574517,
          -0.3712742165336067,
          0.3361798663297435,
          -0.03759829555170313,
          -0.24696911917931175,
          0.06492933364425113,
          -0.30411121326336854,
          0.31209265728197977,
          0.265923458908361,
          0.2983441964731952,
          -0.3854834203058175,
          -0.05780934003781368,
          -0.2739033420579915,
          -0.31496851891338906,
          0.031991888429416804,
          0.3336622107041052,
          0.2981272263136532,
          -0.2895956103811699,
          0.03255426014808904,
          -0.012774575500188234,
          0.3466613783986574,
          0.040502136491838314,
          0.011627483075315581,
          -0.004766257781312788,
          -0.29253926128491514,
          -0.3048231066604643,
          -0.3594952965021747,
          0.3158606259351586,
          0.06224361639392839,
          0.34098295348455565,
          0.03230146806915002,
          0.32086109714460065,
          -0.38881755741547863,
          0.034877548654932866,
          -0.27053165637394017,
          0.013569224012641712,
          -0.33837977783951345,
          -0.30303590962552107,
          0.3595237775537896,
          0.38623867926855837,
          0.2539760760214165,
          0.02310567545630704,
          -0.04269136438935561,
          -0.3594141629619543,
          0.07173183560388452,
          -0.28667690662544487,
          -0.287450538313081,
          -0.02066817207675342,
          0.05322726347660023,
          0.3763855811093464,
          0.07801908920311718,
          -0.031986567544137756,
          -0.06565875736073679,
          0.044217262736609086,
          -0.30426630836605284,
          -0.3067623235760024,
          0.019227461137987234,
          -0.26629508682969316,
          -0.3115909098600014,
          -0.39699217259275343,
          -0.24949318371380969,
          -0.04663048329217645,
          -0.38169552479281066,
          0.30162452220947245,
          -0.3539717730257408,
          -0.28073325645267744,
          -0.29795755759433007,
          -0.3115148488201669,
          0.0450110369548149,
          -0.023011107513625007,
          -0.3062809320566373,
          -0.3409784410540482,
          0.2867250651691222,
          -0.344765792648559,
          -0.36275462896834654,
          -0.02883982743504987,
          -0.0673032340666424,
          -0.05118211599351241,
          0.02754860244424151,
          -0.37506357689294134,
          0.36633995065496094,
          0.0795655458322102,
          0.3714308364698695,
          -0.29048486642388127
         ],
         "yaxis": "y"
        }
       ],
       "layout": {
        "legend": {
         "tracegroupgap": 0
        },
        "template": {
         "data": {
          "bar": [
           {
            "error_x": {
             "color": "#2a3f5f"
            },
            "error_y": {
             "color": "#2a3f5f"
            },
            "marker": {
             "line": {
              "color": "#E5ECF6",
              "width": 0.5
             },
             "pattern": {
              "fillmode": "overlay",
              "size": 10,
              "solidity": 0.2
             }
            },
            "type": "bar"
           }
          ],
          "barpolar": [
           {
            "marker": {
             "line": {
              "color": "#E5ECF6",
              "width": 0.5
             },
             "pattern": {
              "fillmode": "overlay",
              "size": 10,
              "solidity": 0.2
             }
            },
            "type": "barpolar"
           }
          ],
          "carpet": [
           {
            "aaxis": {
             "endlinecolor": "#2a3f5f",
             "gridcolor": "white",
             "linecolor": "white",
             "minorgridcolor": "white",
             "startlinecolor": "#2a3f5f"
            },
            "baxis": {
             "endlinecolor": "#2a3f5f",
             "gridcolor": "white",
             "linecolor": "white",
             "minorgridcolor": "white",
             "startlinecolor": "#2a3f5f"
            },
            "type": "carpet"
           }
          ],
          "choropleth": [
           {
            "colorbar": {
             "outlinewidth": 0,
             "ticks": ""
            },
            "type": "choropleth"
           }
          ],
          "contour": [
           {
            "colorbar": {
             "outlinewidth": 0,
             "ticks": ""
            },
            "colorscale": [
             [
              0,
              "#0d0887"
             ],
             [
              0.1111111111111111,
              "#46039f"
             ],
             [
              0.2222222222222222,
              "#7201a8"
             ],
             [
              0.3333333333333333,
              "#9c179e"
             ],
             [
              0.4444444444444444,
              "#bd3786"
             ],
             [
              0.5555555555555556,
              "#d8576b"
             ],
             [
              0.6666666666666666,
              "#ed7953"
             ],
             [
              0.7777777777777778,
              "#fb9f3a"
             ],
             [
              0.8888888888888888,
              "#fdca26"
             ],
             [
              1,
              "#f0f921"
             ]
            ],
            "type": "contour"
           }
          ],
          "contourcarpet": [
           {
            "colorbar": {
             "outlinewidth": 0,
             "ticks": ""
            },
            "type": "contourcarpet"
           }
          ],
          "heatmap": [
           {
            "colorbar": {
             "outlinewidth": 0,
             "ticks": ""
            },
            "colorscale": [
             [
              0,
              "#0d0887"
             ],
             [
              0.1111111111111111,
              "#46039f"
             ],
             [
              0.2222222222222222,
              "#7201a8"
             ],
             [
              0.3333333333333333,
              "#9c179e"
             ],
             [
              0.4444444444444444,
              "#bd3786"
             ],
             [
              0.5555555555555556,
              "#d8576b"
             ],
             [
              0.6666666666666666,
              "#ed7953"
             ],
             [
              0.7777777777777778,
              "#fb9f3a"
             ],
             [
              0.8888888888888888,
              "#fdca26"
             ],
             [
              1,
              "#f0f921"
             ]
            ],
            "type": "heatmap"
           }
          ],
          "heatmapgl": [
           {
            "colorbar": {
             "outlinewidth": 0,
             "ticks": ""
            },
            "colorscale": [
             [
              0,
              "#0d0887"
             ],
             [
              0.1111111111111111,
              "#46039f"
             ],
             [
              0.2222222222222222,
              "#7201a8"
             ],
             [
              0.3333333333333333,
              "#9c179e"
             ],
             [
              0.4444444444444444,
              "#bd3786"
             ],
             [
              0.5555555555555556,
              "#d8576b"
             ],
             [
              0.6666666666666666,
              "#ed7953"
             ],
             [
              0.7777777777777778,
              "#fb9f3a"
             ],
             [
              0.8888888888888888,
              "#fdca26"
             ],
             [
              1,
              "#f0f921"
             ]
            ],
            "type": "heatmapgl"
           }
          ],
          "histogram": [
           {
            "marker": {
             "pattern": {
              "fillmode": "overlay",
              "size": 10,
              "solidity": 0.2
             }
            },
            "type": "histogram"
           }
          ],
          "histogram2d": [
           {
            "colorbar": {
             "outlinewidth": 0,
             "ticks": ""
            },
            "colorscale": [
             [
              0,
              "#0d0887"
             ],
             [
              0.1111111111111111,
              "#46039f"
             ],
             [
              0.2222222222222222,
              "#7201a8"
             ],
             [
              0.3333333333333333,
              "#9c179e"
             ],
             [
              0.4444444444444444,
              "#bd3786"
             ],
             [
              0.5555555555555556,
              "#d8576b"
             ],
             [
              0.6666666666666666,
              "#ed7953"
             ],
             [
              0.7777777777777778,
              "#fb9f3a"
             ],
             [
              0.8888888888888888,
              "#fdca26"
             ],
             [
              1,
              "#f0f921"
             ]
            ],
            "type": "histogram2d"
           }
          ],
          "histogram2dcontour": [
           {
            "colorbar": {
             "outlinewidth": 0,
             "ticks": ""
            },
            "colorscale": [
             [
              0,
              "#0d0887"
             ],
             [
              0.1111111111111111,
              "#46039f"
             ],
             [
              0.2222222222222222,
              "#7201a8"
             ],
             [
              0.3333333333333333,
              "#9c179e"
             ],
             [
              0.4444444444444444,
              "#bd3786"
             ],
             [
              0.5555555555555556,
              "#d8576b"
             ],
             [
              0.6666666666666666,
              "#ed7953"
             ],
             [
              0.7777777777777778,
              "#fb9f3a"
             ],
             [
              0.8888888888888888,
              "#fdca26"
             ],
             [
              1,
              "#f0f921"
             ]
            ],
            "type": "histogram2dcontour"
           }
          ],
          "mesh3d": [
           {
            "colorbar": {
             "outlinewidth": 0,
             "ticks": ""
            },
            "type": "mesh3d"
           }
          ],
          "parcoords": [
           {
            "line": {
             "colorbar": {
              "outlinewidth": 0,
              "ticks": ""
             }
            },
            "type": "parcoords"
           }
          ],
          "pie": [
           {
            "automargin": true,
            "type": "pie"
           }
          ],
          "scatter": [
           {
            "fillpattern": {
             "fillmode": "overlay",
             "size": 10,
             "solidity": 0.2
            },
            "type": "scatter"
           }
          ],
          "scatter3d": [
           {
            "line": {
             "colorbar": {
              "outlinewidth": 0,
              "ticks": ""
             }
            },
            "marker": {
             "colorbar": {
              "outlinewidth": 0,
              "ticks": ""
             }
            },
            "type": "scatter3d"
           }
          ],
          "scattercarpet": [
           {
            "marker": {
             "colorbar": {
              "outlinewidth": 0,
              "ticks": ""
             }
            },
            "type": "scattercarpet"
           }
          ],
          "scattergeo": [
           {
            "marker": {
             "colorbar": {
              "outlinewidth": 0,
              "ticks": ""
             }
            },
            "type": "scattergeo"
           }
          ],
          "scattergl": [
           {
            "marker": {
             "colorbar": {
              "outlinewidth": 0,
              "ticks": ""
             }
            },
            "type": "scattergl"
           }
          ],
          "scattermapbox": [
           {
            "marker": {
             "colorbar": {
              "outlinewidth": 0,
              "ticks": ""
             }
            },
            "type": "scattermapbox"
           }
          ],
          "scatterpolar": [
           {
            "marker": {
             "colorbar": {
              "outlinewidth": 0,
              "ticks": ""
             }
            },
            "type": "scatterpolar"
           }
          ],
          "scatterpolargl": [
           {
            "marker": {
             "colorbar": {
              "outlinewidth": 0,
              "ticks": ""
             }
            },
            "type": "scatterpolargl"
           }
          ],
          "scatterternary": [
           {
            "marker": {
             "colorbar": {
              "outlinewidth": 0,
              "ticks": ""
             }
            },
            "type": "scatterternary"
           }
          ],
          "surface": [
           {
            "colorbar": {
             "outlinewidth": 0,
             "ticks": ""
            },
            "colorscale": [
             [
              0,
              "#0d0887"
             ],
             [
              0.1111111111111111,
              "#46039f"
             ],
             [
              0.2222222222222222,
              "#7201a8"
             ],
             [
              0.3333333333333333,
              "#9c179e"
             ],
             [
              0.4444444444444444,
              "#bd3786"
             ],
             [
              0.5555555555555556,
              "#d8576b"
             ],
             [
              0.6666666666666666,
              "#ed7953"
             ],
             [
              0.7777777777777778,
              "#fb9f3a"
             ],
             [
              0.8888888888888888,
              "#fdca26"
             ],
             [
              1,
              "#f0f921"
             ]
            ],
            "type": "surface"
           }
          ],
          "table": [
           {
            "cells": {
             "fill": {
              "color": "#EBF0F8"
             },
             "line": {
              "color": "white"
             }
            },
            "header": {
             "fill": {
              "color": "#C8D4E3"
             },
             "line": {
              "color": "white"
             }
            },
            "type": "table"
           }
          ]
         },
         "layout": {
          "annotationdefaults": {
           "arrowcolor": "#2a3f5f",
           "arrowhead": 0,
           "arrowwidth": 1
          },
          "autotypenumbers": "strict",
          "coloraxis": {
           "colorbar": {
            "outlinewidth": 0,
            "ticks": ""
           }
          },
          "colorscale": {
           "diverging": [
            [
             0,
             "#8e0152"
            ],
            [
             0.1,
             "#c51b7d"
            ],
            [
             0.2,
             "#de77ae"
            ],
            [
             0.3,
             "#f1b6da"
            ],
            [
             0.4,
             "#fde0ef"
            ],
            [
             0.5,
             "#f7f7f7"
            ],
            [
             0.6,
             "#e6f5d0"
            ],
            [
             0.7,
             "#b8e186"
            ],
            [
             0.8,
             "#7fbc41"
            ],
            [
             0.9,
             "#4d9221"
            ],
            [
             1,
             "#276419"
            ]
           ],
           "sequential": [
            [
             0,
             "#0d0887"
            ],
            [
             0.1111111111111111,
             "#46039f"
            ],
            [
             0.2222222222222222,
             "#7201a8"
            ],
            [
             0.3333333333333333,
             "#9c179e"
            ],
            [
             0.4444444444444444,
             "#bd3786"
            ],
            [
             0.5555555555555556,
             "#d8576b"
            ],
            [
             0.6666666666666666,
             "#ed7953"
            ],
            [
             0.7777777777777778,
             "#fb9f3a"
            ],
            [
             0.8888888888888888,
             "#fdca26"
            ],
            [
             1,
             "#f0f921"
            ]
           ],
           "sequentialminus": [
            [
             0,
             "#0d0887"
            ],
            [
             0.1111111111111111,
             "#46039f"
            ],
            [
             0.2222222222222222,
             "#7201a8"
            ],
            [
             0.3333333333333333,
             "#9c179e"
            ],
            [
             0.4444444444444444,
             "#bd3786"
            ],
            [
             0.5555555555555556,
             "#d8576b"
            ],
            [
             0.6666666666666666,
             "#ed7953"
            ],
            [
             0.7777777777777778,
             "#fb9f3a"
            ],
            [
             0.8888888888888888,
             "#fdca26"
            ],
            [
             1,
             "#f0f921"
            ]
           ]
          },
          "colorway": [
           "#636efa",
           "#EF553B",
           "#00cc96",
           "#ab63fa",
           "#FFA15A",
           "#19d3f3",
           "#FF6692",
           "#B6E880",
           "#FF97FF",
           "#FECB52"
          ],
          "font": {
           "color": "#2a3f5f"
          },
          "geo": {
           "bgcolor": "white",
           "lakecolor": "white",
           "landcolor": "#E5ECF6",
           "showlakes": true,
           "showland": true,
           "subunitcolor": "white"
          },
          "hoverlabel": {
           "align": "left"
          },
          "hovermode": "closest",
          "mapbox": {
           "style": "light"
          },
          "paper_bgcolor": "white",
          "plot_bgcolor": "#E5ECF6",
          "polar": {
           "angularaxis": {
            "gridcolor": "white",
            "linecolor": "white",
            "ticks": ""
           },
           "bgcolor": "#E5ECF6",
           "radialaxis": {
            "gridcolor": "white",
            "linecolor": "white",
            "ticks": ""
           }
          },
          "scene": {
           "xaxis": {
            "backgroundcolor": "#E5ECF6",
            "gridcolor": "white",
            "gridwidth": 2,
            "linecolor": "white",
            "showbackground": true,
            "ticks": "",
            "zerolinecolor": "white"
           },
           "yaxis": {
            "backgroundcolor": "#E5ECF6",
            "gridcolor": "white",
            "gridwidth": 2,
            "linecolor": "white",
            "showbackground": true,
            "ticks": "",
            "zerolinecolor": "white"
           },
           "zaxis": {
            "backgroundcolor": "#E5ECF6",
            "gridcolor": "white",
            "gridwidth": 2,
            "linecolor": "white",
            "showbackground": true,
            "ticks": "",
            "zerolinecolor": "white"
           }
          },
          "shapedefaults": {
           "line": {
            "color": "#2a3f5f"
           }
          },
          "ternary": {
           "aaxis": {
            "gridcolor": "white",
            "linecolor": "white",
            "ticks": ""
           },
           "baxis": {
            "gridcolor": "white",
            "linecolor": "white",
            "ticks": ""
           },
           "bgcolor": "#E5ECF6",
           "caxis": {
            "gridcolor": "white",
            "linecolor": "white",
            "ticks": ""
           }
          },
          "title": {
           "x": 0.05
          },
          "xaxis": {
           "automargin": true,
           "gridcolor": "white",
           "linecolor": "white",
           "ticks": "",
           "title": {
            "standoff": 15
           },
           "zerolinecolor": "white",
           "zerolinewidth": 2
          },
          "yaxis": {
           "automargin": true,
           "gridcolor": "white",
           "linecolor": "white",
           "ticks": "",
           "title": {
            "standoff": 15
           },
           "zerolinecolor": "white",
           "zerolinewidth": 2
          }
         }
        },
        "title": {
         "text": "Resíduos do Modelo de Regressão Linear"
        },
        "xaxis": {
         "anchor": "y",
         "domain": [
          0,
          1
         ],
         "title": {
          "text": "Valor Real"
         }
        },
        "yaxis": {
         "anchor": "x",
         "domain": [
          0,
          1
         ],
         "title": {
          "text": "Resíduos"
         }
        }
       }
      }
     },
     "metadata": {},
     "output_type": "display_data"
    }
   ],
   "source": [
    "# Gáfico de Residuos plotly\n",
    "\n",
    "residuals = y_test - y_pred\n",
    "\n",
    "fig = px.scatter(x=y_test, y=residuals, title='Resíduos do Modelo de Regressão Linear', labels={'x': 'Valor Real', 'y': 'Resíduos'})\n",
    "\n",
    "\n",
    "fig.show()"
   ]
  },
  {
   "cell_type": "code",
   "execution_count": 26,
   "metadata": {},
   "outputs": [
    {
     "name": "stdout",
     "output_type": "stream",
     "text": [
      "Mean Squared Error: 0.0689914844021844\n",
      "Mean Absolute Error: 0.2161316817601185\n",
      "R² Score: 0.9996941579270728\n"
     ]
    }
   ],
   "source": [
    "from sklearn.metrics import mean_squared_error, mean_absolute_error, r2_score\n",
    "\n",
    "# Final Report\n",
    "mse = mean_squared_error(y_test, y_pred)\n",
    "mae = mean_absolute_error(y_test, y_pred)\n",
    "r2 = r2_score(y_test, y_pred)\n",
    "\n",
    "print(f'Mean Squared Error: {mse}')\n",
    "print(f'Mean Absolute Error: {mae}')\n",
    "print(f'R² Score: {r2}')"
   ]
  },
  {
   "cell_type": "code",
   "execution_count": 27,
   "metadata": {},
   "outputs": [
    {
     "data": {
      "application/vnd.plotly.v1+json": {
       "config": {
        "plotlyServerURL": "https://plot.ly"
       },
       "data": [
        {
         "mode": "markers",
         "name": "Real",
         "type": "scatter",
         "x": [
          521,
          737,
          740,
          660,
          411,
          678,
          626,
          513,
          859,
          136,
          811,
          76,
          636,
          973,
          938,
          899,
          280,
          883,
          761,
          319,
          549,
          174,
          371,
          527,
          210,
          235,
          101,
          986,
          902,
          947,
          346,
          139,
          621,
          499,
          370,
          198,
          687,
          584,
          901,
          59,
          328,
          96,
          312,
          974,
          299,
          277,
          924,
          601,
          439,
          837,
          570,
          879,
          261,
          578,
          23,
          30,
          617,
          10,
          221,
          820,
          296,
          54,
          542,
          209,
          604,
          692,
          662,
          866,
          70,
          543,
          107,
          493,
          590,
          741,
          292,
          289,
          652,
          39,
          589,
          307,
          679,
          66,
          275,
          67,
          318,
          548,
          998,
          714,
          753,
          327,
          382,
          451,
          522,
          218,
          787,
          436,
          764,
          88,
          63,
          826,
          716,
          351,
          936,
          256,
          635,
          644,
          554,
          959,
          168,
          917,
          528,
          823,
          985,
          816,
          86,
          432,
          184,
          978,
          534,
          294,
          892,
          425,
          713,
          260,
          237,
          559,
          583,
          445,
          867,
          800,
          599,
          849,
          265,
          995,
          529,
          55,
          120,
          215,
          25,
          72,
          44,
          247,
          721,
          281,
          893,
          914,
          810,
          244,
          822,
          321,
          643,
          158,
          977,
          429,
          941,
          462,
          309,
          697,
          60,
          884,
          595,
          767,
          649,
          650,
          865,
          668,
          298,
          689,
          314,
          310,
          361,
          479,
          110,
          989,
          486,
          363,
          254,
          259,
          802,
          677,
          494,
          670,
          377,
          526,
          845,
          137,
          355,
          365,
          942,
          749,
          948,
          829,
          656,
          199,
          213,
          408,
          332,
          208,
          613,
          78,
          29,
          535,
          695,
          557,
          836,
          596,
          165,
          918,
          495,
          824,
          65,
          141,
          925,
          827,
          655,
          331,
          664,
          249,
          907,
          708,
          305,
          734,
          975,
          49,
          896,
          2,
          544,
          350,
          904,
          536,
          344,
          994,
          481,
          575,
          33,
          31,
          231,
          963,
          192,
          333,
          3,
          204,
          514,
          799,
          306,
          109,
          430,
          77,
          84,
          286,
          82,
          991,
          789,
          894,
          398,
          323,
          519,
          916,
          922,
          5,
          731,
          465,
          97,
          266,
          357,
          868,
          798,
          380,
          631,
          381,
          490,
          118,
          900,
          250,
          523,
          9,
          196,
          603,
          81,
          783,
          587,
          797,
          239,
          290,
          211,
          717,
          359,
          449,
          227,
          950,
          946,
          796,
          501,
          464,
          362,
          468,
          935,
          428,
          7,
          155
         ],
         "y": [
          87,
          64,
          75,
          75,
          82,
          78,
          67,
          59,
          77,
          49,
          47,
          26,
          76,
          58,
          84,
          75,
          49,
          48,
          53,
          61,
          73,
          49,
          63,
          44,
          79,
          77,
          72,
          50,
          41,
          56,
          60,
          67,
          60,
          73,
          77,
          51,
          76,
          74,
          75,
          9,
          78,
          64,
          65,
          61,
          84,
          66,
          71,
          29,
          86,
          79,
          72,
          71,
          79,
          54,
          72,
          72,
          83,
          55,
          82,
          89,
          43,
          81,
          79,
          62,
          88,
          74,
          65,
          55,
          65,
          89,
          64,
          86,
          56,
          50,
          60,
          77,
          90,
          57,
          60,
          49,
          61,
          40,
          78,
          69,
          68,
          64,
          74,
          68,
          84,
          23,
          77,
          96,
          61,
          71,
          30,
          69,
          61,
          65,
          73,
          65,
          74,
          58,
          59,
          68,
          70,
          65,
          46,
          76,
          76,
          52,
          39,
          80,
          54,
          56,
          82,
          57,
          49,
          48,
          70,
          78,
          63,
          64,
          82,
          73,
          66,
          67,
          76,
          73,
          48,
          69,
          76,
          75,
          47,
          94,
          69,
          39,
          87,
          81,
          73,
          47,
          53,
          65,
          58,
          46,
          79,
          54,
          39,
          73,
          51,
          80,
          78,
          78,
          62,
          62,
          88,
          72,
          53,
          67,
          75,
          52,
          69,
          66,
          76,
          53,
          84,
          69,
          45,
          89,
          66,
          76,
          82,
          71,
          88,
          79,
          55,
          31,
          53,
          76,
          92,
          76,
          62,
          70,
          93,
          59,
          86,
          60,
          68,
          56,
          70,
          86,
          50,
          58,
          69,
          78,
          56,
          55,
          57,
          77,
          72,
          69,
          69,
          77,
          85,
          65,
          65,
          23,
          99,
          71,
          66,
          53,
          64,
          62,
          66,
          70,
          65,
          40,
          69,
          60,
          85,
          85,
          68,
          56,
          74,
          83,
          31,
          93,
          64,
          62,
          78,
          56,
          73,
          63,
          56,
          49,
          40,
          63,
          44,
          72,
          64,
          83,
          49,
          47,
          89,
          55,
          89,
          69,
          63,
          80,
          38,
          89,
          50,
          75,
          59,
          63,
          65,
          50,
          75,
          100,
          68,
          77,
          48,
          87,
          68,
          73,
          59,
          75,
          61,
          83,
          68,
          94,
          75,
          58,
          86,
          48,
          54,
          49,
          64,
          56,
          46,
          58,
          56,
          78,
          81,
          71,
          30,
          97,
          86,
          75,
          54,
          79,
          81,
          70,
          91,
          65,
          56,
          83,
          64,
          59,
          41,
          82
         ]
        },
        {
         "mode": "markers",
         "name": "Predicted",
         "type": "scatter",
         "x": [
          521,
          737,
          740,
          660,
          411,
          678,
          626,
          513,
          859,
          136,
          811,
          76,
          636,
          973,
          938,
          899,
          280,
          883,
          761,
          319,
          549,
          174,
          371,
          527,
          210,
          235,
          101,
          986,
          902,
          947,
          346,
          139,
          621,
          499,
          370,
          198,
          687,
          584,
          901,
          59,
          328,
          96,
          312,
          974,
          299,
          277,
          924,
          601,
          439,
          837,
          570,
          879,
          261,
          578,
          23,
          30,
          617,
          10,
          221,
          820,
          296,
          54,
          542,
          209,
          604,
          692,
          662,
          866,
          70,
          543,
          107,
          493,
          590,
          741,
          292,
          289,
          652,
          39,
          589,
          307,
          679,
          66,
          275,
          67,
          318,
          548,
          998,
          714,
          753,
          327,
          382,
          451,
          522,
          218,
          787,
          436,
          764,
          88,
          63,
          826,
          716,
          351,
          936,
          256,
          635,
          644,
          554,
          959,
          168,
          917,
          528,
          823,
          985,
          816,
          86,
          432,
          184,
          978,
          534,
          294,
          892,
          425,
          713,
          260,
          237,
          559,
          583,
          445,
          867,
          800,
          599,
          849,
          265,
          995,
          529,
          55,
          120,
          215,
          25,
          72,
          44,
          247,
          721,
          281,
          893,
          914,
          810,
          244,
          822,
          321,
          643,
          158,
          977,
          429,
          941,
          462,
          309,
          697,
          60,
          884,
          595,
          767,
          649,
          650,
          865,
          668,
          298,
          689,
          314,
          310,
          361,
          479,
          110,
          989,
          486,
          363,
          254,
          259,
          802,
          677,
          494,
          670,
          377,
          526,
          845,
          137,
          355,
          365,
          942,
          749,
          948,
          829,
          656,
          199,
          213,
          408,
          332,
          208,
          613,
          78,
          29,
          535,
          695,
          557,
          836,
          596,
          165,
          918,
          495,
          824,
          65,
          141,
          925,
          827,
          655,
          331,
          664,
          249,
          907,
          708,
          305,
          734,
          975,
          49,
          896,
          2,
          544,
          350,
          904,
          536,
          344,
          994,
          481,
          575,
          33,
          31,
          231,
          963,
          192,
          333,
          3,
          204,
          514,
          799,
          306,
          109,
          430,
          77,
          84,
          286,
          82,
          991,
          789,
          894,
          398,
          323,
          519,
          916,
          922,
          5,
          731,
          465,
          97,
          266,
          357,
          868,
          798,
          380,
          631,
          381,
          490,
          118,
          900,
          250,
          523,
          9,
          196,
          603,
          81,
          783,
          587,
          797,
          239,
          290,
          211,
          717,
          359,
          449,
          227,
          950,
          946,
          796,
          501,
          464,
          362,
          468,
          935,
          428,
          7,
          155
         ],
         "y": [
          87.02180476270607,
          63.989569345040785,
          75.04162777202973,
          74.57896870483405,
          81.5839050538374,
          77.98411336608672,
          67.3560236012115,
          59.00864355547769,
          77.3161205264305,
          48.658438061391834,
          46.99273364504156,
          25.91525129974754,
          76.07434235304625,
          58.30837833968306,
          83.6333826825489,
          74.97741101049468,
          49.06033769217726,
          48.38976891893475,
          53.317336675194994,
          61.35925334260726,
          73.32246321717496,
          49.40076172128151,
          62.612928881662306,
          44.048072806396696,
          79.28235307335042,
          77.32442730752594,
          72.04045586161625,
          50.00336094627529,
          41.06740053495827,
          55.64795478717856,
          59.96581400164751,
          66.98257359239992,
          60.37391333079701,
          72.89458109425367,
          77.24135052104405,
          50.99015276399732,
          75.98402628719923,
          74.31597346166272,
          75.01958434574294,
          8.968389662315943,
          77.99572082696467,
          64.30480382527354,
          65.3912813159027,
          61.27964579912191,
          83.99949434531513,
          65.69113588700834,
          71.03136149555283,
          29.41448231221981,
          86.29529946334854,
          78.72662652512308,
          71.97594304553729,
          71.35396491336056,
          78.61101098081629,
          54.01451375428488,
          71.6203013780957,
          72.32349581806123,
          83.03306837428963,
          54.65057186047241,
          81.67642079380292,
          88.9540788906693,
          43.2806741560917,
          80.6100307312025,
          79.01772382260843,
          61.65594652296657,
          87.65967457136038,
          73.71283416524498,
          64.9676957952323,
          54.68664625560313,
          64.66368732411236,
          88.68159157915493,
          64.29628479361976,
          86.36333955066816,
          56.26332574497931,
          49.972558702474046,
          59.95149216515003,
          76.56308252279008,
          89.66084620570034,
          56.66030140545833,
          59.589726204031784,
          48.93189486659648,
          61.28442620361861,
          39.627968394809756,
          78.01701684147588,
          68.61553096446524,
          67.68668033282877,
          64.38279038680628,
          74.33959074116468,
          67.99188714616714,
          83.9618699018873,
          23.283254000598767,
          76.97275007668564,
          96.26865882486683,
          61.391553381029425,
          71.01380230736599,
          29.666834108037925,
          69.01040086883279,
          60.619673195958434,
          64.94959765026691,
          73.34133768874635,
          64.67833007671275,
          74.31941276035316,
          58.25521916609969,
          58.98746626655223,
          68.33478953491765,
          69.67100630567799,
          65.05477213673944,
          45.9684026606444,
          75.6709816299415,
          76.42037987548296,
          52.38175522508722,
          39.05929116058297,
          80.0495919416783,
          54.010755995775995,
          56.0183926598428,
          82.27252832914766,
          57.35661892481696,
          48.59681626255016,
          48.08584983760463,
          70.0690863077157,
          78.37339750767538,
          63.300810694857276,
          63.63807721559194,
          81.98442112200387,
          73.28528281802612,
          66.00178586672814,
          66.95663581191322,
          76.05329367155267,
          72.63446842620772,
          48.04715883960924,
          69.26364176119158,
          75.95065465688474,
          74.67283937521618,
          47.31073474156746,
          93.98757176149373,
          68.66691547642333,
          39.049811537820965,
          86.71839631007191,
          80.63935625954505,
          72.95387428964229,
          46.66568322237286,
          53.310839790148094,
          65.42821358571129,
          57.618063844053694,
          46.37333518599324,
          78.98196570310117,
          54.02835138253614,
          39.28349771904195,
          72.60894943173473,
          50.580209824852645,
          80.007032888716,
          77.70041287579579,
          78.01429153439936,
          61.64005755283015,
          61.59834246266884,
          88.33825717595774,
          72.26652286786197,
          52.745472320010606,
          67.02574177363881,
          74.99872298462307,
          51.98953700324008,
          69.04791601144673,
          66.0942559070746,
          76.33333962785947,
          53.26491830595431,
          83.95470628752574,
          69.27521707036202,
          45.351285212260265,
          88.55416296582563,
          66.05733323377065,
          76.36382448016325,
          82.30165665470112,
          71.27860727359321,
          88.01128680083762,
          78.64771664629033,
          54.630193720442584,
          30.993277730496892,
          52.71006680510926,
          75.67504649866977,
          91.95427735673029,
          75.9704383112643,
          62.06482170350975,
          70.04395765009636,
          93.3607475404356,
          58.92483234942492,
          86.27294635550167,
          60.33838466458047,
          67.73543067044555,
          55.66492936622839,
          70.37164652951263,
          85.63742257782967,
          50.296033550724964,
          58.30882056406651,
          69.31582628070203,
          77.7452414083826,
          55.667866176260475,
          55.10314963285155,
          56.98039953554887,
          76.98855305897285,
          71.99657420419796,
          68.99110641294781,
          69.02700651003045,
          77.37012765527841,
          84.63697390637783,
          64.62316194125401,
          64.66996225570959,
          23.08167584238263,
          98.7251668592204,
          71.32946232712347,
          66.06244388227157,
          52.62208743189231,
          63.95227152878255,
          61.63168799105941,
          65.93019689805612,
          69.94282717055219,
          65.3316427731779,
          39.67217904040446,
          68.69161975004255,
          60.37127421653361,
          84.66382013367026,
          85.0375982955517,
          68.24696911917931,
          55.93507066635575,
          74.30411121326337,
          82.68790734271802,
          30.73407654109164,
          92.7016558035268,
          64.38548342030582,
          62.057809340037814,
          78.27390334205799,
          56.31496851891339,
          72.96800811157058,
          62.666337789295895,
          55.70187277368635,
          49.28959561038117,
          39.96744573985191,
          63.01277457550019,
          43.65333862160134,
          71.95949786350816,
          63.988372516924684,
          83.00476625778131,
          49.292539261284915,
          47.304823106660464,
          89.35949529650217,
          54.68413937406484,
          88.93775638360607,
          68.65901704651544,
          62.96769853193085,
          79.6791389028554,
          38.38881755741548,
          88.96512245134507,
          50.27053165637394,
          74.98643077598736,
          59.33837977783951,
          63.30303590962552,
          64.64047622244621,
          49.61376132073144,
          74.74602392397858,
          99.9768943245437,
          68.04269136438936,
          77.35941416296195,
          47.928268164396115,
          87.28667690662544,
          68.28745053831308,
          73.02066817207675,
          58.9467727365234,
          74.62361441889065,
          60.92198091079688,
          83.03198656754414,
          68.06565875736074,
          93.95578273726339,
          75.30426630836605,
          58.306762323576,
          85.98077253886201,
          48.26629508682969,
          54.31159090986,
          49.39699217259275,
          64.24949318371381,
          56.04663048329218,
          46.38169552479281,
          57.69837547779053,
          56.35397177302574,
          78.28073325645268,
          81.29795755759433,
          71.31151484882017,
          29.954988963045185,
          97.02301110751363,
          86.30628093205664,
          75.34097844105405,
          53.71327493483088,
          79.34476579264856,
          81.36275462896835,
          70.02883982743505,
          91.06730323406664,
          65.05118211599351,
          55.97245139755576,
          83.37506357689294,
          63.63366004934504,
          58.92043445416779,
          40.62856916353013,
          82.29048486642388
         ]
        }
       ],
       "layout": {
        "template": {
         "data": {
          "bar": [
           {
            "error_x": {
             "color": "#2a3f5f"
            },
            "error_y": {
             "color": "#2a3f5f"
            },
            "marker": {
             "line": {
              "color": "#E5ECF6",
              "width": 0.5
             },
             "pattern": {
              "fillmode": "overlay",
              "size": 10,
              "solidity": 0.2
             }
            },
            "type": "bar"
           }
          ],
          "barpolar": [
           {
            "marker": {
             "line": {
              "color": "#E5ECF6",
              "width": 0.5
             },
             "pattern": {
              "fillmode": "overlay",
              "size": 10,
              "solidity": 0.2
             }
            },
            "type": "barpolar"
           }
          ],
          "carpet": [
           {
            "aaxis": {
             "endlinecolor": "#2a3f5f",
             "gridcolor": "white",
             "linecolor": "white",
             "minorgridcolor": "white",
             "startlinecolor": "#2a3f5f"
            },
            "baxis": {
             "endlinecolor": "#2a3f5f",
             "gridcolor": "white",
             "linecolor": "white",
             "minorgridcolor": "white",
             "startlinecolor": "#2a3f5f"
            },
            "type": "carpet"
           }
          ],
          "choropleth": [
           {
            "colorbar": {
             "outlinewidth": 0,
             "ticks": ""
            },
            "type": "choropleth"
           }
          ],
          "contour": [
           {
            "colorbar": {
             "outlinewidth": 0,
             "ticks": ""
            },
            "colorscale": [
             [
              0,
              "#0d0887"
             ],
             [
              0.1111111111111111,
              "#46039f"
             ],
             [
              0.2222222222222222,
              "#7201a8"
             ],
             [
              0.3333333333333333,
              "#9c179e"
             ],
             [
              0.4444444444444444,
              "#bd3786"
             ],
             [
              0.5555555555555556,
              "#d8576b"
             ],
             [
              0.6666666666666666,
              "#ed7953"
             ],
             [
              0.7777777777777778,
              "#fb9f3a"
             ],
             [
              0.8888888888888888,
              "#fdca26"
             ],
             [
              1,
              "#f0f921"
             ]
            ],
            "type": "contour"
           }
          ],
          "contourcarpet": [
           {
            "colorbar": {
             "outlinewidth": 0,
             "ticks": ""
            },
            "type": "contourcarpet"
           }
          ],
          "heatmap": [
           {
            "colorbar": {
             "outlinewidth": 0,
             "ticks": ""
            },
            "colorscale": [
             [
              0,
              "#0d0887"
             ],
             [
              0.1111111111111111,
              "#46039f"
             ],
             [
              0.2222222222222222,
              "#7201a8"
             ],
             [
              0.3333333333333333,
              "#9c179e"
             ],
             [
              0.4444444444444444,
              "#bd3786"
             ],
             [
              0.5555555555555556,
              "#d8576b"
             ],
             [
              0.6666666666666666,
              "#ed7953"
             ],
             [
              0.7777777777777778,
              "#fb9f3a"
             ],
             [
              0.8888888888888888,
              "#fdca26"
             ],
             [
              1,
              "#f0f921"
             ]
            ],
            "type": "heatmap"
           }
          ],
          "heatmapgl": [
           {
            "colorbar": {
             "outlinewidth": 0,
             "ticks": ""
            },
            "colorscale": [
             [
              0,
              "#0d0887"
             ],
             [
              0.1111111111111111,
              "#46039f"
             ],
             [
              0.2222222222222222,
              "#7201a8"
             ],
             [
              0.3333333333333333,
              "#9c179e"
             ],
             [
              0.4444444444444444,
              "#bd3786"
             ],
             [
              0.5555555555555556,
              "#d8576b"
             ],
             [
              0.6666666666666666,
              "#ed7953"
             ],
             [
              0.7777777777777778,
              "#fb9f3a"
             ],
             [
              0.8888888888888888,
              "#fdca26"
             ],
             [
              1,
              "#f0f921"
             ]
            ],
            "type": "heatmapgl"
           }
          ],
          "histogram": [
           {
            "marker": {
             "pattern": {
              "fillmode": "overlay",
              "size": 10,
              "solidity": 0.2
             }
            },
            "type": "histogram"
           }
          ],
          "histogram2d": [
           {
            "colorbar": {
             "outlinewidth": 0,
             "ticks": ""
            },
            "colorscale": [
             [
              0,
              "#0d0887"
             ],
             [
              0.1111111111111111,
              "#46039f"
             ],
             [
              0.2222222222222222,
              "#7201a8"
             ],
             [
              0.3333333333333333,
              "#9c179e"
             ],
             [
              0.4444444444444444,
              "#bd3786"
             ],
             [
              0.5555555555555556,
              "#d8576b"
             ],
             [
              0.6666666666666666,
              "#ed7953"
             ],
             [
              0.7777777777777778,
              "#fb9f3a"
             ],
             [
              0.8888888888888888,
              "#fdca26"
             ],
             [
              1,
              "#f0f921"
             ]
            ],
            "type": "histogram2d"
           }
          ],
          "histogram2dcontour": [
           {
            "colorbar": {
             "outlinewidth": 0,
             "ticks": ""
            },
            "colorscale": [
             [
              0,
              "#0d0887"
             ],
             [
              0.1111111111111111,
              "#46039f"
             ],
             [
              0.2222222222222222,
              "#7201a8"
             ],
             [
              0.3333333333333333,
              "#9c179e"
             ],
             [
              0.4444444444444444,
              "#bd3786"
             ],
             [
              0.5555555555555556,
              "#d8576b"
             ],
             [
              0.6666666666666666,
              "#ed7953"
             ],
             [
              0.7777777777777778,
              "#fb9f3a"
             ],
             [
              0.8888888888888888,
              "#fdca26"
             ],
             [
              1,
              "#f0f921"
             ]
            ],
            "type": "histogram2dcontour"
           }
          ],
          "mesh3d": [
           {
            "colorbar": {
             "outlinewidth": 0,
             "ticks": ""
            },
            "type": "mesh3d"
           }
          ],
          "parcoords": [
           {
            "line": {
             "colorbar": {
              "outlinewidth": 0,
              "ticks": ""
             }
            },
            "type": "parcoords"
           }
          ],
          "pie": [
           {
            "automargin": true,
            "type": "pie"
           }
          ],
          "scatter": [
           {
            "fillpattern": {
             "fillmode": "overlay",
             "size": 10,
             "solidity": 0.2
            },
            "type": "scatter"
           }
          ],
          "scatter3d": [
           {
            "line": {
             "colorbar": {
              "outlinewidth": 0,
              "ticks": ""
             }
            },
            "marker": {
             "colorbar": {
              "outlinewidth": 0,
              "ticks": ""
             }
            },
            "type": "scatter3d"
           }
          ],
          "scattercarpet": [
           {
            "marker": {
             "colorbar": {
              "outlinewidth": 0,
              "ticks": ""
             }
            },
            "type": "scattercarpet"
           }
          ],
          "scattergeo": [
           {
            "marker": {
             "colorbar": {
              "outlinewidth": 0,
              "ticks": ""
             }
            },
            "type": "scattergeo"
           }
          ],
          "scattergl": [
           {
            "marker": {
             "colorbar": {
              "outlinewidth": 0,
              "ticks": ""
             }
            },
            "type": "scattergl"
           }
          ],
          "scattermapbox": [
           {
            "marker": {
             "colorbar": {
              "outlinewidth": 0,
              "ticks": ""
             }
            },
            "type": "scattermapbox"
           }
          ],
          "scatterpolar": [
           {
            "marker": {
             "colorbar": {
              "outlinewidth": 0,
              "ticks": ""
             }
            },
            "type": "scatterpolar"
           }
          ],
          "scatterpolargl": [
           {
            "marker": {
             "colorbar": {
              "outlinewidth": 0,
              "ticks": ""
             }
            },
            "type": "scatterpolargl"
           }
          ],
          "scatterternary": [
           {
            "marker": {
             "colorbar": {
              "outlinewidth": 0,
              "ticks": ""
             }
            },
            "type": "scatterternary"
           }
          ],
          "surface": [
           {
            "colorbar": {
             "outlinewidth": 0,
             "ticks": ""
            },
            "colorscale": [
             [
              0,
              "#0d0887"
             ],
             [
              0.1111111111111111,
              "#46039f"
             ],
             [
              0.2222222222222222,
              "#7201a8"
             ],
             [
              0.3333333333333333,
              "#9c179e"
             ],
             [
              0.4444444444444444,
              "#bd3786"
             ],
             [
              0.5555555555555556,
              "#d8576b"
             ],
             [
              0.6666666666666666,
              "#ed7953"
             ],
             [
              0.7777777777777778,
              "#fb9f3a"
             ],
             [
              0.8888888888888888,
              "#fdca26"
             ],
             [
              1,
              "#f0f921"
             ]
            ],
            "type": "surface"
           }
          ],
          "table": [
           {
            "cells": {
             "fill": {
              "color": "#EBF0F8"
             },
             "line": {
              "color": "white"
             }
            },
            "header": {
             "fill": {
              "color": "#C8D4E3"
             },
             "line": {
              "color": "white"
             }
            },
            "type": "table"
           }
          ]
         },
         "layout": {
          "annotationdefaults": {
           "arrowcolor": "#2a3f5f",
           "arrowhead": 0,
           "arrowwidth": 1
          },
          "autotypenumbers": "strict",
          "coloraxis": {
           "colorbar": {
            "outlinewidth": 0,
            "ticks": ""
           }
          },
          "colorscale": {
           "diverging": [
            [
             0,
             "#8e0152"
            ],
            [
             0.1,
             "#c51b7d"
            ],
            [
             0.2,
             "#de77ae"
            ],
            [
             0.3,
             "#f1b6da"
            ],
            [
             0.4,
             "#fde0ef"
            ],
            [
             0.5,
             "#f7f7f7"
            ],
            [
             0.6,
             "#e6f5d0"
            ],
            [
             0.7,
             "#b8e186"
            ],
            [
             0.8,
             "#7fbc41"
            ],
            [
             0.9,
             "#4d9221"
            ],
            [
             1,
             "#276419"
            ]
           ],
           "sequential": [
            [
             0,
             "#0d0887"
            ],
            [
             0.1111111111111111,
             "#46039f"
            ],
            [
             0.2222222222222222,
             "#7201a8"
            ],
            [
             0.3333333333333333,
             "#9c179e"
            ],
            [
             0.4444444444444444,
             "#bd3786"
            ],
            [
             0.5555555555555556,
             "#d8576b"
            ],
            [
             0.6666666666666666,
             "#ed7953"
            ],
            [
             0.7777777777777778,
             "#fb9f3a"
            ],
            [
             0.8888888888888888,
             "#fdca26"
            ],
            [
             1,
             "#f0f921"
            ]
           ],
           "sequentialminus": [
            [
             0,
             "#0d0887"
            ],
            [
             0.1111111111111111,
             "#46039f"
            ],
            [
             0.2222222222222222,
             "#7201a8"
            ],
            [
             0.3333333333333333,
             "#9c179e"
            ],
            [
             0.4444444444444444,
             "#bd3786"
            ],
            [
             0.5555555555555556,
             "#d8576b"
            ],
            [
             0.6666666666666666,
             "#ed7953"
            ],
            [
             0.7777777777777778,
             "#fb9f3a"
            ],
            [
             0.8888888888888888,
             "#fdca26"
            ],
            [
             1,
             "#f0f921"
            ]
           ]
          },
          "colorway": [
           "#636efa",
           "#EF553B",
           "#00cc96",
           "#ab63fa",
           "#FFA15A",
           "#19d3f3",
           "#FF6692",
           "#B6E880",
           "#FF97FF",
           "#FECB52"
          ],
          "font": {
           "color": "#2a3f5f"
          },
          "geo": {
           "bgcolor": "white",
           "lakecolor": "white",
           "landcolor": "#E5ECF6",
           "showlakes": true,
           "showland": true,
           "subunitcolor": "white"
          },
          "hoverlabel": {
           "align": "left"
          },
          "hovermode": "closest",
          "mapbox": {
           "style": "light"
          },
          "paper_bgcolor": "white",
          "plot_bgcolor": "#E5ECF6",
          "polar": {
           "angularaxis": {
            "gridcolor": "white",
            "linecolor": "white",
            "ticks": ""
           },
           "bgcolor": "#E5ECF6",
           "radialaxis": {
            "gridcolor": "white",
            "linecolor": "white",
            "ticks": ""
           }
          },
          "scene": {
           "xaxis": {
            "backgroundcolor": "#E5ECF6",
            "gridcolor": "white",
            "gridwidth": 2,
            "linecolor": "white",
            "showbackground": true,
            "ticks": "",
            "zerolinecolor": "white"
           },
           "yaxis": {
            "backgroundcolor": "#E5ECF6",
            "gridcolor": "white",
            "gridwidth": 2,
            "linecolor": "white",
            "showbackground": true,
            "ticks": "",
            "zerolinecolor": "white"
           },
           "zaxis": {
            "backgroundcolor": "#E5ECF6",
            "gridcolor": "white",
            "gridwidth": 2,
            "linecolor": "white",
            "showbackground": true,
            "ticks": "",
            "zerolinecolor": "white"
           }
          },
          "shapedefaults": {
           "line": {
            "color": "#2a3f5f"
           }
          },
          "ternary": {
           "aaxis": {
            "gridcolor": "white",
            "linecolor": "white",
            "ticks": ""
           },
           "baxis": {
            "gridcolor": "white",
            "linecolor": "white",
            "ticks": ""
           },
           "bgcolor": "#E5ECF6",
           "caxis": {
            "gridcolor": "white",
            "linecolor": "white",
            "ticks": ""
           }
          },
          "title": {
           "x": 0.05
          },
          "xaxis": {
           "automargin": true,
           "gridcolor": "white",
           "linecolor": "white",
           "ticks": "",
           "title": {
            "standoff": 15
           },
           "zerolinecolor": "white",
           "zerolinewidth": 2
          },
          "yaxis": {
           "automargin": true,
           "gridcolor": "white",
           "linecolor": "white",
           "ticks": "",
           "title": {
            "standoff": 15
           },
           "zerolinecolor": "white",
           "zerolinewidth": 2
          }
         }
        },
        "title": {
         "text": "Comparação entre Valores Reais e Predições"
        },
        "xaxis": {
         "title": {
          "text": "Index"
         }
        },
        "yaxis": {
         "title": {
          "text": "Final Score"
         }
        }
       }
      }
     },
     "metadata": {},
     "output_type": "display_data"
    }
   ],
   "source": [
    "fig = go.Figure()\n",
    "\n",
    "fig.add_trace(go.Scatter(x=y_test.index, y=y_test, mode='markers', name='Real'))\n",
    "\n",
    "fig.add_trace(go.Scatter(x=y_test.index, y=y_pred, mode='markers', name='Predicted'))\n",
    "\n",
    "fig.update_layout(title='Comparação entre Valores Reais e Predições', xaxis_title='Index', yaxis_title='Final Score')\n",
    "\n",
    "fig.show()"
   ]
  },
  {
   "cell_type": "code",
   "execution_count": 36,
   "metadata": {},
   "outputs": [
    {
     "data": {
      "application/vnd.plotly.v1+json": {
       "config": {
        "plotlyServerURL": "https://plot.ly"
       },
       "data": [
        {
         "hovertemplate": "Real=%{x}<br>Predito=%{y}<br>Desvio=%{marker.color}<extra></extra>",
         "legendgroup": "",
         "marker": {
          "color": [
           -0.02180476270606846,
           0.010430654959215246,
           -0.04162777202972734,
           0.42103129516594606,
           0.4160949461626018,
           0.01588663391328282,
           -0.3560236012115041,
           -0.008643555477689802,
           -0.3161205264304954,
           0.34156193860816586,
           0.007266354958439081,
           0.08474870025246162,
           -0.07434235304624792,
           -0.3083783396830597,
           0.3666173174511016,
           0.022588989505322843,
           -0.060337692177256486,
           -0.38976891893474885,
           -0.3173366751949942,
           -0.3592533426072606,
           -0.3224632171749562,
           -0.400761721281512,
           0.38707111833769403,
           -0.04807280639669642,
           -0.28235307335042137,
           -0.3244273075259372,
           -0.04045586161625181,
           -0.003360946275293486,
           -0.06740053495826714,
           0.3520452128214373,
           0.034185998352491254,
           0.01742640760008385,
           -0.3739133307970093,
           0.10541890574633328,
           -0.24135052104405474,
           0.009847236002677562,
           0.015973712800771978,
           -0.3159734616627219,
           -0.019584345742941878,
           0.0316103376840573,
           0.004279173035328654,
           -0.3048038252735381,
           -0.39128131590270243,
           -0.27964579912190857,
           0.00050565468487207,
           0.3088641129916567,
           -0.03136149555282941,
           -0.41448231221981047,
           -0.29529946334854174,
           0.27337347487691943,
           0.024056954462707836,
           -0.35396491336055647,
           0.3889890191837111,
           -0.014513754284877223,
           0.3796986219042964,
           -0.3234958180612324,
           -0.033068374289626945,
           0.3494281395275891,
           0.32357920619708125,
           0.045921109330706145,
           -0.280674156091699,
           0.3899692687975005,
           -0.017723822608431306,
           0.3440534770334267,
           0.34032542863961623,
           0.2871658347550152,
           0.0323042047676978,
           0.3133537443968706,
           0.33631267588764047,
           0.31840842084507415,
           -0.2962847936197619,
           -0.36333955066815804,
           -0.26332574497931205,
           0.0274412975259537,
           0.04850783484997123,
           0.43691747720991714,
           0.3391537942996621,
           0.33969859454167306,
           0.4102737959682159,
           0.06810513340352031,
           -0.28442620361860804,
           0.37203160519024436,
           -0.01701684147587912,
           0.38446903553476375,
           0.3133196671712284,
           -0.38279038680627764,
           -0.3395907411646846,
           0.008112853832855649,
           0.038130098112702626,
           -0.2832540005987667,
           0.027249923314357716,
           -0.2686588248668329,
           -0.39155338102942494,
           -0.013802307365992306,
           0.333165891962075,
           -0.010400868832789456,
           0.38032680404156594,
           0.050402349733090546,
           -0.34133768874634995,
           0.32166992328724575,
           -0.3194127603531598,
           -0.25521916609969253,
           0.012533733447767759,
           -0.33478953491764685,
           0.3289936943220084,
           -0.05477213673944448,
           0.031597339355599274,
           0.3290183700585061,
           -0.42037987548296485,
           -0.38175522508721826,
           -0.05929116058297268,
           -0.049591941678301055,
           -0.01075599577599462,
           -0.018392659842803027,
           -0.27252832914766145,
           -0.35661892481695645,
           0.4031837374498366,
           -0.08584983760462706,
           -0.06908630771569335,
           -0.37339750767537794,
           -0.30081069485727596,
           0.36192278440805836,
           0.01557887799613411,
           -0.28528281802611843,
           -0.0017858667281416274,
           0.043364188086783884,
           -0.053293671552665955,
           0.36553157379228196,
           -0.04715883960923861,
           -0.2636417611915789,
           0.04934534311526306,
           0.327160624783815,
           -0.3107347415674582,
           0.01242823850627417,
           0.33308452357667306,
           -0.0498115378209647,
           0.28160368992809026,
           0.36064374045494674,
           0.046125710357713956,
           0.3343167776271372,
           -0.31083979014809415,
           -0.42821358571129053,
           0.38193615594630614,
           -0.3733351859932412,
           0.018034296898832736,
           -0.028351382536136782,
           -0.28349771904194654,
           0.3910505682652712,
           0.41979017514735517,
           -0.007032888715997387,
           0.2995871242042085,
           -0.014291534399362149,
           0.3599424471698498,
           0.40165753733116105,
           -0.33825717595773597,
           -0.26652286786196555,
           0.2545276799893941,
           -0.02574177363881347,
           0.0012770153769281478,
           0.010462996759919463,
           -0.04791601144673052,
           -0.09425590707459719,
           -0.33333962785947335,
           -0.26491830595431054,
           0.04529371247426184,
           -0.27521707036201803,
           -0.3512852122602652,
           0.4458370341743745,
           -0.05733323377064892,
           -0.3638244801632453,
           -0.30165665470111946,
           -0.27860727359320947,
           -0.0112868008376239,
           0.3522833537096659,
           0.36980627955741596,
           0.006722269503107725,
           0.2899331948907431,
           0.3249535013302278,
           0.04572264326971265,
           0.02956168873569709,
           -0.06482170350975025,
           -0.04395765009635966,
           -0.36074754043559665,
           0.07516765057508223,
           -0.27294635550167357,
           -0.3383846645804667,
           0.26456932955444756,
           0.3350706337716076,
           -0.3716465295126312,
           0.3625774221703324,
           -0.29603355072496385,
           -0.30882056406650804,
           -0.31582628070202645,
           0.2547585916174029,
           0.33213382373952527,
           -0.10314963285154732,
           0.019600464451130506,
           0.011446941027145385,
           0.0034257958020447177,
           0.008893587052185126,
           -0.027006510030446407,
           -0.3701276552784094,
           0.3630260936221674,
           0.37683805874598875,
           0.3300377442904079,
           -0.08167584238263004,
           0.27483314077960586,
           -0.32946232712346557,
           -0.062443882271566054,
           0.37791256810768914,
           0.04772847121744661,
           0.3683120089405918,
           0.06980310194387584,
           0.05717282944780777,
           -0.33164277317790436,
           0.3278209595955417,
           0.3083802499574517,
           -0.3712742165336067,
           0.3361798663297435,
           -0.03759829555170313,
           -0.24696911917931175,
           0.06492933364425113,
           -0.30411121326336854,
           0.31209265728197977,
           0.265923458908361,
           0.2983441964731952,
           -0.3854834203058175,
           -0.05780934003781368,
           -0.2739033420579915,
           -0.31496851891338906,
           0.031991888429416804,
           0.3336622107041052,
           0.2981272263136532,
           -0.2895956103811699,
           0.03255426014808904,
           -0.012774575500188234,
           0.3466613783986574,
           0.040502136491838314,
           0.011627483075315581,
           -0.004766257781312788,
           -0.29253926128491514,
           -0.3048231066604643,
           -0.3594952965021747,
           0.3158606259351586,
           0.06224361639392839,
           0.34098295348455565,
           0.03230146806915002,
           0.32086109714460065,
           -0.38881755741547863,
           0.034877548654932866,
           -0.27053165637394017,
           0.013569224012641712,
           -0.33837977783951345,
           -0.30303590962552107,
           0.3595237775537896,
           0.38623867926855837,
           0.2539760760214165,
           0.02310567545630704,
           -0.04269136438935561,
           -0.3594141629619543,
           0.07173183560388452,
           -0.28667690662544487,
           -0.287450538313081,
           -0.02066817207675342,
           0.05322726347660023,
           0.3763855811093464,
           0.07801908920311718,
           -0.031986567544137756,
           -0.06565875736073679,
           0.044217262736609086,
           -0.30426630836605284,
           -0.3067623235760024,
           0.019227461137987234,
           -0.26629508682969316,
           -0.3115909098600014,
           -0.39699217259275343,
           -0.24949318371380969,
           -0.04663048329217645,
           -0.38169552479281066,
           0.30162452220947245,
           -0.3539717730257408,
           -0.28073325645267744,
           -0.29795755759433007,
           -0.3115148488201669,
           0.0450110369548149,
           -0.023011107513625007,
           -0.3062809320566373,
           -0.3409784410540482,
           0.2867250651691222,
           -0.344765792648559,
           -0.36275462896834654,
           -0.02883982743504987,
           -0.0673032340666424,
           -0.05118211599351241,
           0.02754860244424151,
           -0.37506357689294134,
           0.36633995065496094,
           0.0795655458322102,
           0.3714308364698695,
           -0.29048486642388127
          ],
          "coloraxis": "coloraxis",
          "symbol": "circle"
         },
         "mode": "markers",
         "name": "",
         "orientation": "v",
         "showlegend": false,
         "type": "scatter",
         "x": [
          87,
          64,
          75,
          75,
          82,
          78,
          67,
          59,
          77,
          49,
          47,
          26,
          76,
          58,
          84,
          75,
          49,
          48,
          53,
          61,
          73,
          49,
          63,
          44,
          79,
          77,
          72,
          50,
          41,
          56,
          60,
          67,
          60,
          73,
          77,
          51,
          76,
          74,
          75,
          9,
          78,
          64,
          65,
          61,
          84,
          66,
          71,
          29,
          86,
          79,
          72,
          71,
          79,
          54,
          72,
          72,
          83,
          55,
          82,
          89,
          43,
          81,
          79,
          62,
          88,
          74,
          65,
          55,
          65,
          89,
          64,
          86,
          56,
          50,
          60,
          77,
          90,
          57,
          60,
          49,
          61,
          40,
          78,
          69,
          68,
          64,
          74,
          68,
          84,
          23,
          77,
          96,
          61,
          71,
          30,
          69,
          61,
          65,
          73,
          65,
          74,
          58,
          59,
          68,
          70,
          65,
          46,
          76,
          76,
          52,
          39,
          80,
          54,
          56,
          82,
          57,
          49,
          48,
          70,
          78,
          63,
          64,
          82,
          73,
          66,
          67,
          76,
          73,
          48,
          69,
          76,
          75,
          47,
          94,
          69,
          39,
          87,
          81,
          73,
          47,
          53,
          65,
          58,
          46,
          79,
          54,
          39,
          73,
          51,
          80,
          78,
          78,
          62,
          62,
          88,
          72,
          53,
          67,
          75,
          52,
          69,
          66,
          76,
          53,
          84,
          69,
          45,
          89,
          66,
          76,
          82,
          71,
          88,
          79,
          55,
          31,
          53,
          76,
          92,
          76,
          62,
          70,
          93,
          59,
          86,
          60,
          68,
          56,
          70,
          86,
          50,
          58,
          69,
          78,
          56,
          55,
          57,
          77,
          72,
          69,
          69,
          77,
          85,
          65,
          65,
          23,
          99,
          71,
          66,
          53,
          64,
          62,
          66,
          70,
          65,
          40,
          69,
          60,
          85,
          85,
          68,
          56,
          74,
          83,
          31,
          93,
          64,
          62,
          78,
          56,
          73,
          63,
          56,
          49,
          40,
          63,
          44,
          72,
          64,
          83,
          49,
          47,
          89,
          55,
          89,
          69,
          63,
          80,
          38,
          89,
          50,
          75,
          59,
          63,
          65,
          50,
          75,
          100,
          68,
          77,
          48,
          87,
          68,
          73,
          59,
          75,
          61,
          83,
          68,
          94,
          75,
          58,
          86,
          48,
          54,
          49,
          64,
          56,
          46,
          58,
          56,
          78,
          81,
          71,
          30,
          97,
          86,
          75,
          54,
          79,
          81,
          70,
          91,
          65,
          56,
          83,
          64,
          59,
          41,
          82
         ],
         "xaxis": "x",
         "y": [
          87.02180476270607,
          63.989569345040785,
          75.04162777202973,
          74.57896870483405,
          81.5839050538374,
          77.98411336608672,
          67.3560236012115,
          59.00864355547769,
          77.3161205264305,
          48.658438061391834,
          46.99273364504156,
          25.91525129974754,
          76.07434235304625,
          58.30837833968306,
          83.6333826825489,
          74.97741101049468,
          49.06033769217726,
          48.38976891893475,
          53.317336675194994,
          61.35925334260726,
          73.32246321717496,
          49.40076172128151,
          62.612928881662306,
          44.048072806396696,
          79.28235307335042,
          77.32442730752594,
          72.04045586161625,
          50.00336094627529,
          41.06740053495827,
          55.64795478717856,
          59.96581400164751,
          66.98257359239992,
          60.37391333079701,
          72.89458109425367,
          77.24135052104405,
          50.99015276399732,
          75.98402628719923,
          74.31597346166272,
          75.01958434574294,
          8.968389662315943,
          77.99572082696467,
          64.30480382527354,
          65.3912813159027,
          61.27964579912191,
          83.99949434531513,
          65.69113588700834,
          71.03136149555283,
          29.41448231221981,
          86.29529946334854,
          78.72662652512308,
          71.97594304553729,
          71.35396491336056,
          78.61101098081629,
          54.01451375428488,
          71.6203013780957,
          72.32349581806123,
          83.03306837428963,
          54.65057186047241,
          81.67642079380292,
          88.9540788906693,
          43.2806741560917,
          80.6100307312025,
          79.01772382260843,
          61.65594652296657,
          87.65967457136038,
          73.71283416524498,
          64.9676957952323,
          54.68664625560313,
          64.66368732411236,
          88.68159157915493,
          64.29628479361976,
          86.36333955066816,
          56.26332574497931,
          49.972558702474046,
          59.95149216515003,
          76.56308252279008,
          89.66084620570034,
          56.66030140545833,
          59.589726204031784,
          48.93189486659648,
          61.28442620361861,
          39.627968394809756,
          78.01701684147588,
          68.61553096446524,
          67.68668033282877,
          64.38279038680628,
          74.33959074116468,
          67.99188714616714,
          83.9618699018873,
          23.283254000598767,
          76.97275007668564,
          96.26865882486683,
          61.391553381029425,
          71.01380230736599,
          29.666834108037925,
          69.01040086883279,
          60.619673195958434,
          64.94959765026691,
          73.34133768874635,
          64.67833007671275,
          74.31941276035316,
          58.25521916609969,
          58.98746626655223,
          68.33478953491765,
          69.67100630567799,
          65.05477213673944,
          45.9684026606444,
          75.6709816299415,
          76.42037987548296,
          52.38175522508722,
          39.05929116058297,
          80.0495919416783,
          54.010755995775995,
          56.0183926598428,
          82.27252832914766,
          57.35661892481696,
          48.59681626255016,
          48.08584983760463,
          70.0690863077157,
          78.37339750767538,
          63.300810694857276,
          63.63807721559194,
          81.98442112200387,
          73.28528281802612,
          66.00178586672814,
          66.95663581191322,
          76.05329367155267,
          72.63446842620772,
          48.04715883960924,
          69.26364176119158,
          75.95065465688474,
          74.67283937521618,
          47.31073474156746,
          93.98757176149373,
          68.66691547642333,
          39.049811537820965,
          86.71839631007191,
          80.63935625954505,
          72.95387428964229,
          46.66568322237286,
          53.310839790148094,
          65.42821358571129,
          57.618063844053694,
          46.37333518599324,
          78.98196570310117,
          54.02835138253614,
          39.28349771904195,
          72.60894943173473,
          50.580209824852645,
          80.007032888716,
          77.70041287579579,
          78.01429153439936,
          61.64005755283015,
          61.59834246266884,
          88.33825717595774,
          72.26652286786197,
          52.745472320010606,
          67.02574177363881,
          74.99872298462307,
          51.98953700324008,
          69.04791601144673,
          66.0942559070746,
          76.33333962785947,
          53.26491830595431,
          83.95470628752574,
          69.27521707036202,
          45.351285212260265,
          88.55416296582563,
          66.05733323377065,
          76.36382448016325,
          82.30165665470112,
          71.27860727359321,
          88.01128680083762,
          78.64771664629033,
          54.630193720442584,
          30.993277730496892,
          52.71006680510926,
          75.67504649866977,
          91.95427735673029,
          75.9704383112643,
          62.06482170350975,
          70.04395765009636,
          93.3607475404356,
          58.92483234942492,
          86.27294635550167,
          60.33838466458047,
          67.73543067044555,
          55.66492936622839,
          70.37164652951263,
          85.63742257782967,
          50.296033550724964,
          58.30882056406651,
          69.31582628070203,
          77.7452414083826,
          55.667866176260475,
          55.10314963285155,
          56.98039953554887,
          76.98855305897285,
          71.99657420419796,
          68.99110641294781,
          69.02700651003045,
          77.37012765527841,
          84.63697390637783,
          64.62316194125401,
          64.66996225570959,
          23.08167584238263,
          98.7251668592204,
          71.32946232712347,
          66.06244388227157,
          52.62208743189231,
          63.95227152878255,
          61.63168799105941,
          65.93019689805612,
          69.94282717055219,
          65.3316427731779,
          39.67217904040446,
          68.69161975004255,
          60.37127421653361,
          84.66382013367026,
          85.0375982955517,
          68.24696911917931,
          55.93507066635575,
          74.30411121326337,
          82.68790734271802,
          30.73407654109164,
          92.7016558035268,
          64.38548342030582,
          62.057809340037814,
          78.27390334205799,
          56.31496851891339,
          72.96800811157058,
          62.666337789295895,
          55.70187277368635,
          49.28959561038117,
          39.96744573985191,
          63.01277457550019,
          43.65333862160134,
          71.95949786350816,
          63.988372516924684,
          83.00476625778131,
          49.292539261284915,
          47.304823106660464,
          89.35949529650217,
          54.68413937406484,
          88.93775638360607,
          68.65901704651544,
          62.96769853193085,
          79.6791389028554,
          38.38881755741548,
          88.96512245134507,
          50.27053165637394,
          74.98643077598736,
          59.33837977783951,
          63.30303590962552,
          64.64047622244621,
          49.61376132073144,
          74.74602392397858,
          99.9768943245437,
          68.04269136438936,
          77.35941416296195,
          47.928268164396115,
          87.28667690662544,
          68.28745053831308,
          73.02066817207675,
          58.9467727365234,
          74.62361441889065,
          60.92198091079688,
          83.03198656754414,
          68.06565875736074,
          93.95578273726339,
          75.30426630836605,
          58.306762323576,
          85.98077253886201,
          48.26629508682969,
          54.31159090986,
          49.39699217259275,
          64.24949318371381,
          56.04663048329218,
          46.38169552479281,
          57.69837547779053,
          56.35397177302574,
          78.28073325645268,
          81.29795755759433,
          71.31151484882017,
          29.954988963045185,
          97.02301110751363,
          86.30628093205664,
          75.34097844105405,
          53.71327493483088,
          79.34476579264856,
          81.36275462896835,
          70.02883982743505,
          91.06730323406664,
          65.05118211599351,
          55.97245139755576,
          83.37506357689294,
          63.63366004934504,
          58.92043445416779,
          40.62856916353013,
          82.29048486642388
         ],
         "yaxis": "y"
        }
       ],
       "layout": {
        "coloraxis": {
         "colorbar": {
          "title": {
           "text": "Desvio"
          }
         },
         "colorscale": [
          [
           0,
           "#0d0887"
          ],
          [
           0.1111111111111111,
           "#46039f"
          ],
          [
           0.2222222222222222,
           "#7201a8"
          ],
          [
           0.3333333333333333,
           "#9c179e"
          ],
          [
           0.4444444444444444,
           "#bd3786"
          ],
          [
           0.5555555555555556,
           "#d8576b"
          ],
          [
           0.6666666666666666,
           "#ed7953"
          ],
          [
           0.7777777777777778,
           "#fb9f3a"
          ],
          [
           0.8888888888888888,
           "#fdca26"
          ],
          [
           1,
           "#f0f921"
          ]
         ]
        },
        "legend": {
         "tracegroupgap": 0
        },
        "template": {
         "data": {
          "bar": [
           {
            "error_x": {
             "color": "#2a3f5f"
            },
            "error_y": {
             "color": "#2a3f5f"
            },
            "marker": {
             "line": {
              "color": "#E5ECF6",
              "width": 0.5
             },
             "pattern": {
              "fillmode": "overlay",
              "size": 10,
              "solidity": 0.2
             }
            },
            "type": "bar"
           }
          ],
          "barpolar": [
           {
            "marker": {
             "line": {
              "color": "#E5ECF6",
              "width": 0.5
             },
             "pattern": {
              "fillmode": "overlay",
              "size": 10,
              "solidity": 0.2
             }
            },
            "type": "barpolar"
           }
          ],
          "carpet": [
           {
            "aaxis": {
             "endlinecolor": "#2a3f5f",
             "gridcolor": "white",
             "linecolor": "white",
             "minorgridcolor": "white",
             "startlinecolor": "#2a3f5f"
            },
            "baxis": {
             "endlinecolor": "#2a3f5f",
             "gridcolor": "white",
             "linecolor": "white",
             "minorgridcolor": "white",
             "startlinecolor": "#2a3f5f"
            },
            "type": "carpet"
           }
          ],
          "choropleth": [
           {
            "colorbar": {
             "outlinewidth": 0,
             "ticks": ""
            },
            "type": "choropleth"
           }
          ],
          "contour": [
           {
            "colorbar": {
             "outlinewidth": 0,
             "ticks": ""
            },
            "colorscale": [
             [
              0,
              "#0d0887"
             ],
             [
              0.1111111111111111,
              "#46039f"
             ],
             [
              0.2222222222222222,
              "#7201a8"
             ],
             [
              0.3333333333333333,
              "#9c179e"
             ],
             [
              0.4444444444444444,
              "#bd3786"
             ],
             [
              0.5555555555555556,
              "#d8576b"
             ],
             [
              0.6666666666666666,
              "#ed7953"
             ],
             [
              0.7777777777777778,
              "#fb9f3a"
             ],
             [
              0.8888888888888888,
              "#fdca26"
             ],
             [
              1,
              "#f0f921"
             ]
            ],
            "type": "contour"
           }
          ],
          "contourcarpet": [
           {
            "colorbar": {
             "outlinewidth": 0,
             "ticks": ""
            },
            "type": "contourcarpet"
           }
          ],
          "heatmap": [
           {
            "colorbar": {
             "outlinewidth": 0,
             "ticks": ""
            },
            "colorscale": [
             [
              0,
              "#0d0887"
             ],
             [
              0.1111111111111111,
              "#46039f"
             ],
             [
              0.2222222222222222,
              "#7201a8"
             ],
             [
              0.3333333333333333,
              "#9c179e"
             ],
             [
              0.4444444444444444,
              "#bd3786"
             ],
             [
              0.5555555555555556,
              "#d8576b"
             ],
             [
              0.6666666666666666,
              "#ed7953"
             ],
             [
              0.7777777777777778,
              "#fb9f3a"
             ],
             [
              0.8888888888888888,
              "#fdca26"
             ],
             [
              1,
              "#f0f921"
             ]
            ],
            "type": "heatmap"
           }
          ],
          "heatmapgl": [
           {
            "colorbar": {
             "outlinewidth": 0,
             "ticks": ""
            },
            "colorscale": [
             [
              0,
              "#0d0887"
             ],
             [
              0.1111111111111111,
              "#46039f"
             ],
             [
              0.2222222222222222,
              "#7201a8"
             ],
             [
              0.3333333333333333,
              "#9c179e"
             ],
             [
              0.4444444444444444,
              "#bd3786"
             ],
             [
              0.5555555555555556,
              "#d8576b"
             ],
             [
              0.6666666666666666,
              "#ed7953"
             ],
             [
              0.7777777777777778,
              "#fb9f3a"
             ],
             [
              0.8888888888888888,
              "#fdca26"
             ],
             [
              1,
              "#f0f921"
             ]
            ],
            "type": "heatmapgl"
           }
          ],
          "histogram": [
           {
            "marker": {
             "pattern": {
              "fillmode": "overlay",
              "size": 10,
              "solidity": 0.2
             }
            },
            "type": "histogram"
           }
          ],
          "histogram2d": [
           {
            "colorbar": {
             "outlinewidth": 0,
             "ticks": ""
            },
            "colorscale": [
             [
              0,
              "#0d0887"
             ],
             [
              0.1111111111111111,
              "#46039f"
             ],
             [
              0.2222222222222222,
              "#7201a8"
             ],
             [
              0.3333333333333333,
              "#9c179e"
             ],
             [
              0.4444444444444444,
              "#bd3786"
             ],
             [
              0.5555555555555556,
              "#d8576b"
             ],
             [
              0.6666666666666666,
              "#ed7953"
             ],
             [
              0.7777777777777778,
              "#fb9f3a"
             ],
             [
              0.8888888888888888,
              "#fdca26"
             ],
             [
              1,
              "#f0f921"
             ]
            ],
            "type": "histogram2d"
           }
          ],
          "histogram2dcontour": [
           {
            "colorbar": {
             "outlinewidth": 0,
             "ticks": ""
            },
            "colorscale": [
             [
              0,
              "#0d0887"
             ],
             [
              0.1111111111111111,
              "#46039f"
             ],
             [
              0.2222222222222222,
              "#7201a8"
             ],
             [
              0.3333333333333333,
              "#9c179e"
             ],
             [
              0.4444444444444444,
              "#bd3786"
             ],
             [
              0.5555555555555556,
              "#d8576b"
             ],
             [
              0.6666666666666666,
              "#ed7953"
             ],
             [
              0.7777777777777778,
              "#fb9f3a"
             ],
             [
              0.8888888888888888,
              "#fdca26"
             ],
             [
              1,
              "#f0f921"
             ]
            ],
            "type": "histogram2dcontour"
           }
          ],
          "mesh3d": [
           {
            "colorbar": {
             "outlinewidth": 0,
             "ticks": ""
            },
            "type": "mesh3d"
           }
          ],
          "parcoords": [
           {
            "line": {
             "colorbar": {
              "outlinewidth": 0,
              "ticks": ""
             }
            },
            "type": "parcoords"
           }
          ],
          "pie": [
           {
            "automargin": true,
            "type": "pie"
           }
          ],
          "scatter": [
           {
            "fillpattern": {
             "fillmode": "overlay",
             "size": 10,
             "solidity": 0.2
            },
            "type": "scatter"
           }
          ],
          "scatter3d": [
           {
            "line": {
             "colorbar": {
              "outlinewidth": 0,
              "ticks": ""
             }
            },
            "marker": {
             "colorbar": {
              "outlinewidth": 0,
              "ticks": ""
             }
            },
            "type": "scatter3d"
           }
          ],
          "scattercarpet": [
           {
            "marker": {
             "colorbar": {
              "outlinewidth": 0,
              "ticks": ""
             }
            },
            "type": "scattercarpet"
           }
          ],
          "scattergeo": [
           {
            "marker": {
             "colorbar": {
              "outlinewidth": 0,
              "ticks": ""
             }
            },
            "type": "scattergeo"
           }
          ],
          "scattergl": [
           {
            "marker": {
             "colorbar": {
              "outlinewidth": 0,
              "ticks": ""
             }
            },
            "type": "scattergl"
           }
          ],
          "scattermapbox": [
           {
            "marker": {
             "colorbar": {
              "outlinewidth": 0,
              "ticks": ""
             }
            },
            "type": "scattermapbox"
           }
          ],
          "scatterpolar": [
           {
            "marker": {
             "colorbar": {
              "outlinewidth": 0,
              "ticks": ""
             }
            },
            "type": "scatterpolar"
           }
          ],
          "scatterpolargl": [
           {
            "marker": {
             "colorbar": {
              "outlinewidth": 0,
              "ticks": ""
             }
            },
            "type": "scatterpolargl"
           }
          ],
          "scatterternary": [
           {
            "marker": {
             "colorbar": {
              "outlinewidth": 0,
              "ticks": ""
             }
            },
            "type": "scatterternary"
           }
          ],
          "surface": [
           {
            "colorbar": {
             "outlinewidth": 0,
             "ticks": ""
            },
            "colorscale": [
             [
              0,
              "#0d0887"
             ],
             [
              0.1111111111111111,
              "#46039f"
             ],
             [
              0.2222222222222222,
              "#7201a8"
             ],
             [
              0.3333333333333333,
              "#9c179e"
             ],
             [
              0.4444444444444444,
              "#bd3786"
             ],
             [
              0.5555555555555556,
              "#d8576b"
             ],
             [
              0.6666666666666666,
              "#ed7953"
             ],
             [
              0.7777777777777778,
              "#fb9f3a"
             ],
             [
              0.8888888888888888,
              "#fdca26"
             ],
             [
              1,
              "#f0f921"
             ]
            ],
            "type": "surface"
           }
          ],
          "table": [
           {
            "cells": {
             "fill": {
              "color": "#EBF0F8"
             },
             "line": {
              "color": "white"
             }
            },
            "header": {
             "fill": {
              "color": "#C8D4E3"
             },
             "line": {
              "color": "white"
             }
            },
            "type": "table"
           }
          ]
         },
         "layout": {
          "annotationdefaults": {
           "arrowcolor": "#2a3f5f",
           "arrowhead": 0,
           "arrowwidth": 1
          },
          "autotypenumbers": "strict",
          "coloraxis": {
           "colorbar": {
            "outlinewidth": 0,
            "ticks": ""
           }
          },
          "colorscale": {
           "diverging": [
            [
             0,
             "#8e0152"
            ],
            [
             0.1,
             "#c51b7d"
            ],
            [
             0.2,
             "#de77ae"
            ],
            [
             0.3,
             "#f1b6da"
            ],
            [
             0.4,
             "#fde0ef"
            ],
            [
             0.5,
             "#f7f7f7"
            ],
            [
             0.6,
             "#e6f5d0"
            ],
            [
             0.7,
             "#b8e186"
            ],
            [
             0.8,
             "#7fbc41"
            ],
            [
             0.9,
             "#4d9221"
            ],
            [
             1,
             "#276419"
            ]
           ],
           "sequential": [
            [
             0,
             "#0d0887"
            ],
            [
             0.1111111111111111,
             "#46039f"
            ],
            [
             0.2222222222222222,
             "#7201a8"
            ],
            [
             0.3333333333333333,
             "#9c179e"
            ],
            [
             0.4444444444444444,
             "#bd3786"
            ],
            [
             0.5555555555555556,
             "#d8576b"
            ],
            [
             0.6666666666666666,
             "#ed7953"
            ],
            [
             0.7777777777777778,
             "#fb9f3a"
            ],
            [
             0.8888888888888888,
             "#fdca26"
            ],
            [
             1,
             "#f0f921"
            ]
           ],
           "sequentialminus": [
            [
             0,
             "#0d0887"
            ],
            [
             0.1111111111111111,
             "#46039f"
            ],
            [
             0.2222222222222222,
             "#7201a8"
            ],
            [
             0.3333333333333333,
             "#9c179e"
            ],
            [
             0.4444444444444444,
             "#bd3786"
            ],
            [
             0.5555555555555556,
             "#d8576b"
            ],
            [
             0.6666666666666666,
             "#ed7953"
            ],
            [
             0.7777777777777778,
             "#fb9f3a"
            ],
            [
             0.8888888888888888,
             "#fdca26"
            ],
            [
             1,
             "#f0f921"
            ]
           ]
          },
          "colorway": [
           "#636efa",
           "#EF553B",
           "#00cc96",
           "#ab63fa",
           "#FFA15A",
           "#19d3f3",
           "#FF6692",
           "#B6E880",
           "#FF97FF",
           "#FECB52"
          ],
          "font": {
           "color": "#2a3f5f"
          },
          "geo": {
           "bgcolor": "white",
           "lakecolor": "white",
           "landcolor": "#E5ECF6",
           "showlakes": true,
           "showland": true,
           "subunitcolor": "white"
          },
          "hoverlabel": {
           "align": "left"
          },
          "hovermode": "closest",
          "mapbox": {
           "style": "light"
          },
          "paper_bgcolor": "white",
          "plot_bgcolor": "#E5ECF6",
          "polar": {
           "angularaxis": {
            "gridcolor": "white",
            "linecolor": "white",
            "ticks": ""
           },
           "bgcolor": "#E5ECF6",
           "radialaxis": {
            "gridcolor": "white",
            "linecolor": "white",
            "ticks": ""
           }
          },
          "scene": {
           "xaxis": {
            "backgroundcolor": "#E5ECF6",
            "gridcolor": "white",
            "gridwidth": 2,
            "linecolor": "white",
            "showbackground": true,
            "ticks": "",
            "zerolinecolor": "white"
           },
           "yaxis": {
            "backgroundcolor": "#E5ECF6",
            "gridcolor": "white",
            "gridwidth": 2,
            "linecolor": "white",
            "showbackground": true,
            "ticks": "",
            "zerolinecolor": "white"
           },
           "zaxis": {
            "backgroundcolor": "#E5ECF6",
            "gridcolor": "white",
            "gridwidth": 2,
            "linecolor": "white",
            "showbackground": true,
            "ticks": "",
            "zerolinecolor": "white"
           }
          },
          "shapedefaults": {
           "line": {
            "color": "#2a3f5f"
           }
          },
          "ternary": {
           "aaxis": {
            "gridcolor": "white",
            "linecolor": "white",
            "ticks": ""
           },
           "baxis": {
            "gridcolor": "white",
            "linecolor": "white",
            "ticks": ""
           },
           "bgcolor": "#E5ECF6",
           "caxis": {
            "gridcolor": "white",
            "linecolor": "white",
            "ticks": ""
           }
          },
          "title": {
           "x": 0.05
          },
          "xaxis": {
           "automargin": true,
           "gridcolor": "white",
           "linecolor": "white",
           "ticks": "",
           "title": {
            "standoff": 15
           },
           "zerolinecolor": "white",
           "zerolinewidth": 2
          },
          "yaxis": {
           "automargin": true,
           "gridcolor": "white",
           "linecolor": "white",
           "ticks": "",
           "title": {
            "standoff": 15
           },
           "zerolinecolor": "white",
           "zerolinewidth": 2
          }
         }
        },
        "title": {
         "text": "Comparação entre Valores Reais e Predições"
        },
        "xaxis": {
         "anchor": "y",
         "domain": [
          0,
          1
         ],
         "title": {
          "text": "Real"
         }
        },
        "yaxis": {
         "anchor": "x",
         "domain": [
          0,
          1
         ],
         "title": {
          "text": "Predito"
         }
        }
       }
      }
     },
     "metadata": {},
     "output_type": "display_data"
    }
   ],
   "source": [
    "\n",
    "df_predicted_results = pd.DataFrame({'Real': y_test, 'Predicted': y_pred, 'Desvio': y_test - y_pred})\n",
    "\n",
    "fig = px.scatter(df_predicted_results, x='Real', y='Predicted', color='Desvio', title='Comparação entre Valores Reais e Predições', labels={'Real': 'Real', 'Predicted': 'Predito', 'Desvio': 'Desvio'})\n",
    "fig.update_layout(xaxis_title='Real', yaxis_title='Predito')\n",
    "    \n",
    "fig.show()"
   ]
  },
  {
   "cell_type": "code",
   "execution_count": 29,
   "metadata": {},
   "outputs": [
    {
     "data": {
      "text/html": [
       "<div>\n",
       "<style scoped>\n",
       "    .dataframe tbody tr th:only-of-type {\n",
       "        vertical-align: middle;\n",
       "    }\n",
       "\n",
       "    .dataframe tbody tr th {\n",
       "        vertical-align: top;\n",
       "    }\n",
       "\n",
       "    .dataframe thead th {\n",
       "        text-align: right;\n",
       "    }\n",
       "</style>\n",
       "<table border=\"1\" class=\"dataframe\">\n",
       "  <thead>\n",
       "    <tr style=\"text-align: right;\">\n",
       "      <th></th>\n",
       "      <th>Real</th>\n",
       "      <th>Predicted</th>\n",
       "      <th>Desvio</th>\n",
       "    </tr>\n",
       "  </thead>\n",
       "  <tbody>\n",
       "    <tr>\n",
       "      <th>521</th>\n",
       "      <td>87.0</td>\n",
       "      <td>87.021805</td>\n",
       "      <td>-0.021805</td>\n",
       "    </tr>\n",
       "    <tr>\n",
       "      <th>737</th>\n",
       "      <td>64.0</td>\n",
       "      <td>63.989569</td>\n",
       "      <td>0.010431</td>\n",
       "    </tr>\n",
       "    <tr>\n",
       "      <th>740</th>\n",
       "      <td>75.0</td>\n",
       "      <td>75.041628</td>\n",
       "      <td>-0.041628</td>\n",
       "    </tr>\n",
       "    <tr>\n",
       "      <th>660</th>\n",
       "      <td>75.0</td>\n",
       "      <td>74.578969</td>\n",
       "      <td>0.421031</td>\n",
       "    </tr>\n",
       "    <tr>\n",
       "      <th>411</th>\n",
       "      <td>82.0</td>\n",
       "      <td>81.583905</td>\n",
       "      <td>0.416095</td>\n",
       "    </tr>\n",
       "    <tr>\n",
       "      <th>...</th>\n",
       "      <td>...</td>\n",
       "      <td>...</td>\n",
       "      <td>...</td>\n",
       "    </tr>\n",
       "    <tr>\n",
       "      <th>468</th>\n",
       "      <td>83.0</td>\n",
       "      <td>83.375064</td>\n",
       "      <td>-0.375064</td>\n",
       "    </tr>\n",
       "    <tr>\n",
       "      <th>935</th>\n",
       "      <td>64.0</td>\n",
       "      <td>63.633660</td>\n",
       "      <td>0.366340</td>\n",
       "    </tr>\n",
       "    <tr>\n",
       "      <th>428</th>\n",
       "      <td>59.0</td>\n",
       "      <td>58.920434</td>\n",
       "      <td>0.079566</td>\n",
       "    </tr>\n",
       "    <tr>\n",
       "      <th>7</th>\n",
       "      <td>41.0</td>\n",
       "      <td>40.628569</td>\n",
       "      <td>0.371431</td>\n",
       "    </tr>\n",
       "    <tr>\n",
       "      <th>155</th>\n",
       "      <td>82.0</td>\n",
       "      <td>82.290485</td>\n",
       "      <td>-0.290485</td>\n",
       "    </tr>\n",
       "  </tbody>\n",
       "</table>\n",
       "<p>300 rows × 3 columns</p>\n",
       "</div>"
      ],
      "text/plain": [
       "     Real  Predicted    Desvio\n",
       "521  87.0  87.021805 -0.021805\n",
       "737  64.0  63.989569  0.010431\n",
       "740  75.0  75.041628 -0.041628\n",
       "660  75.0  74.578969  0.421031\n",
       "411  82.0  81.583905  0.416095\n",
       "..    ...        ...       ...\n",
       "468  83.0  83.375064 -0.375064\n",
       "935  64.0  63.633660  0.366340\n",
       "428  59.0  58.920434  0.079566\n",
       "7    41.0  40.628569  0.371431\n",
       "155  82.0  82.290485 -0.290485\n",
       "\n",
       "[300 rows x 3 columns]"
      ]
     },
     "execution_count": 29,
     "metadata": {},
     "output_type": "execute_result"
    }
   ],
   "source": [
    "df_predicted_results"
   ]
  }
 ],
 "metadata": {
  "kernelspec": {
   "display_name": "machine-learning-final-list-6u7t9GVG",
   "language": "python",
   "name": "python3"
  },
  "language_info": {
   "codemirror_mode": {
    "name": "ipython",
    "version": 3
   },
   "file_extension": ".py",
   "mimetype": "text/x-python",
   "name": "python",
   "nbconvert_exporter": "python",
   "pygments_lexer": "ipython3",
   "version": "3.12.4"
  }
 },
 "nbformat": 4,
 "nbformat_minor": 2
}
