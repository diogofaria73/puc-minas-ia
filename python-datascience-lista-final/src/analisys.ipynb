{
 "cells": [
  {
   "cell_type": "markdown",
   "metadata": {},
   "source": [
    "## Data Cleaning and Preparation\n",
    "\n",
    "In this section, we have performed the following steps:\n",
    "1. Imported the necessary libs and 2 dataset\n",
    "2. Merged the energy consumption data with regional data.\n",
    "3. Counted and filled NaN values in the `numero_consumidores` column with the mean value.\n",
    "\n",
    "The cleaned dataframe `df_clean` is now ready for further analysis."
   ]
  },
  {
   "cell_type": "code",
   "execution_count": 20,
   "metadata": {},
   "outputs": [],
   "source": [
    "import pandas as pd"
   ]
  },
  {
   "cell_type": "code",
   "execution_count": 21,
   "metadata": {},
   "outputs": [],
   "source": [
    "df_raw_enery = pd.read_csv('../dataset/raw/consumo_energia_eletrica.csv', sep=',', encoding='latin1')\n",
    "df_raw_regions = pd.read_csv('../dataset/raw/estado_regiao.csv', sep=';', encoding='latin1')\n",
    "\n",
    "df_global = df_raw_enery.join(df_raw_regions.set_index('sigla'), on='sigla_uf')\n",
    "\n",
    "# Count NaN values\n",
    "df_global.isna().sum()\n",
    "\n",
    "# Fill Nan values with mean\n",
    "df_global['numero_consumidores'] = df_global['numero_consumidores'].fillna(df_global['numero_consumidores'].mean())\n",
    "\n",
    "df_clean = df_global"
   ]
  }
 ],
 "metadata": {
  "kernelspec": {
   "display_name": "python-datascience-lista-final-4emk-qyX",
   "language": "python",
   "name": "python3"
  },
  "language_info": {
   "codemirror_mode": {
    "name": "ipython",
    "version": 3
   },
   "file_extension": ".py",
   "mimetype": "text/x-python",
   "name": "python",
   "nbconvert_exporter": "python",
   "pygments_lexer": "ipython3",
   "version": "3.12.4"
  }
 },
 "nbformat": 4,
 "nbformat_minor": 2
}
