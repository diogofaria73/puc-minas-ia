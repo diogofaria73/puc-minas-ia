{
 "cells": [
  {
   "cell_type": "markdown",
   "metadata": {},
   "source": [
    "# Análise de Performance de Estudantes"
   ]
  },
  {
   "cell_type": "markdown",
   "metadata": {},
   "source": [
    "#### Importações "
   ]
  },
  {
   "cell_type": "code",
   "execution_count": 9,
   "metadata": {},
   "outputs": [],
   "source": [
    "from repository.loader_datasource import load_csv_data\n",
    "from services.dataframe_formatter import header_formatter\n",
    "\n",
    "import plotly.graph_objs as go\n",
    "import plotly.express as px"
   ]
  },
  {
   "cell_type": "markdown",
   "metadata": {},
   "source": [
    "#### Carregamento e Tratativa dos Dados"
   ]
  },
  {
   "cell_type": "code",
   "execution_count": 10,
   "metadata": {},
   "outputs": [],
   "source": [
    "# Define the path to the datasource\n",
    "path = '../datasource/StudentsPerformance.csv'\n",
    "\n",
    "# Call the function to load the data and format the header\n",
    "df = header_formatter(load_csv_data(path))"
   ]
  },
  {
   "cell_type": "code",
   "execution_count": 11,
   "metadata": {},
   "outputs": [],
   "source": [
    "# Add a new column to the dataframe with the average of the three tests\n",
    "df['final_score_avg'] = df[['math_score', 'reading_score', 'writing_score']].mean(axis=1).round()"
   ]
  },
  {
   "cell_type": "markdown",
   "metadata": {},
   "source": [
    "#### Analise Gráfica"
   ]
  },
  {
   "cell_type": "code",
   "execution_count": 12,
   "metadata": {},
   "outputs": [
    {
     "data": {
      "application/vnd.plotly.v1+json": {
       "config": {
        "plotlyServerURL": "https://plot.ly"
       },
       "data": [
        {
         "alignmentgroup": "True",
         "hovertemplate": "Gênero=female<br>race_ethnicity=%{x}<br>Média de Notas Finais=%{text}<extra></extra>",
         "legendgroup": "female",
         "marker": {
          "color": "#636efa",
          "pattern": {
           "shape": ""
          }
         },
         "name": "female",
         "offsetgroup": "female",
         "orientation": "v",
         "showlegend": true,
         "text": [
          65.08333333333333,
          67.54807692307692,
          68.58888888888889,
          71.44186046511628,
          74.01449275362319
         ],
         "textposition": "inside",
         "texttemplate": "%{text:.2s}",
         "type": "bar",
         "x": [
          "group A",
          "group B",
          "group C",
          "group D",
          "group E"
         ],
         "xaxis": "x",
         "y": [
          65.08333333333333,
          67.54807692307692,
          68.58888888888889,
          71.44186046511628,
          74.01449275362319
         ],
         "yaxis": "y"
        },
        {
         "alignmentgroup": "True",
         "hovertemplate": "Gênero=male<br>race_ethnicity=%{x}<br>Média de Notas Finais=%{text}<extra></extra>",
         "legendgroup": "male",
         "marker": {
          "color": "#EF553B",
          "pattern": {
           "shape": ""
          }
         },
         "name": "male",
         "offsetgroup": "male",
         "orientation": "v",
         "showlegend": true,
         "text": [
          61.509433962264154,
          62.98837209302326,
          65.22302158273381,
          66.98496240601504,
          71.45070422535211
         ],
         "textposition": "inside",
         "texttemplate": "%{text:.2s}",
         "type": "bar",
         "x": [
          "group A",
          "group B",
          "group C",
          "group D",
          "group E"
         ],
         "xaxis": "x",
         "y": [
          61.509433962264154,
          62.98837209302326,
          65.22302158273381,
          66.98496240601504,
          71.45070422535211
         ],
         "yaxis": "y"
        }
       ],
       "layout": {
        "barmode": "group",
        "legend": {
         "title": {
          "text": "Gênero"
         },
         "tracegroupgap": 0
        },
        "template": {
         "data": {
          "bar": [
           {
            "error_x": {
             "color": "#2a3f5f"
            },
            "error_y": {
             "color": "#2a3f5f"
            },
            "marker": {
             "line": {
              "color": "#E5ECF6",
              "width": 0.5
             },
             "pattern": {
              "fillmode": "overlay",
              "size": 10,
              "solidity": 0.2
             }
            },
            "type": "bar"
           }
          ],
          "barpolar": [
           {
            "marker": {
             "line": {
              "color": "#E5ECF6",
              "width": 0.5
             },
             "pattern": {
              "fillmode": "overlay",
              "size": 10,
              "solidity": 0.2
             }
            },
            "type": "barpolar"
           }
          ],
          "carpet": [
           {
            "aaxis": {
             "endlinecolor": "#2a3f5f",
             "gridcolor": "white",
             "linecolor": "white",
             "minorgridcolor": "white",
             "startlinecolor": "#2a3f5f"
            },
            "baxis": {
             "endlinecolor": "#2a3f5f",
             "gridcolor": "white",
             "linecolor": "white",
             "minorgridcolor": "white",
             "startlinecolor": "#2a3f5f"
            },
            "type": "carpet"
           }
          ],
          "choropleth": [
           {
            "colorbar": {
             "outlinewidth": 0,
             "ticks": ""
            },
            "type": "choropleth"
           }
          ],
          "contour": [
           {
            "colorbar": {
             "outlinewidth": 0,
             "ticks": ""
            },
            "colorscale": [
             [
              0,
              "#0d0887"
             ],
             [
              0.1111111111111111,
              "#46039f"
             ],
             [
              0.2222222222222222,
              "#7201a8"
             ],
             [
              0.3333333333333333,
              "#9c179e"
             ],
             [
              0.4444444444444444,
              "#bd3786"
             ],
             [
              0.5555555555555556,
              "#d8576b"
             ],
             [
              0.6666666666666666,
              "#ed7953"
             ],
             [
              0.7777777777777778,
              "#fb9f3a"
             ],
             [
              0.8888888888888888,
              "#fdca26"
             ],
             [
              1,
              "#f0f921"
             ]
            ],
            "type": "contour"
           }
          ],
          "contourcarpet": [
           {
            "colorbar": {
             "outlinewidth": 0,
             "ticks": ""
            },
            "type": "contourcarpet"
           }
          ],
          "heatmap": [
           {
            "colorbar": {
             "outlinewidth": 0,
             "ticks": ""
            },
            "colorscale": [
             [
              0,
              "#0d0887"
             ],
             [
              0.1111111111111111,
              "#46039f"
             ],
             [
              0.2222222222222222,
              "#7201a8"
             ],
             [
              0.3333333333333333,
              "#9c179e"
             ],
             [
              0.4444444444444444,
              "#bd3786"
             ],
             [
              0.5555555555555556,
              "#d8576b"
             ],
             [
              0.6666666666666666,
              "#ed7953"
             ],
             [
              0.7777777777777778,
              "#fb9f3a"
             ],
             [
              0.8888888888888888,
              "#fdca26"
             ],
             [
              1,
              "#f0f921"
             ]
            ],
            "type": "heatmap"
           }
          ],
          "heatmapgl": [
           {
            "colorbar": {
             "outlinewidth": 0,
             "ticks": ""
            },
            "colorscale": [
             [
              0,
              "#0d0887"
             ],
             [
              0.1111111111111111,
              "#46039f"
             ],
             [
              0.2222222222222222,
              "#7201a8"
             ],
             [
              0.3333333333333333,
              "#9c179e"
             ],
             [
              0.4444444444444444,
              "#bd3786"
             ],
             [
              0.5555555555555556,
              "#d8576b"
             ],
             [
              0.6666666666666666,
              "#ed7953"
             ],
             [
              0.7777777777777778,
              "#fb9f3a"
             ],
             [
              0.8888888888888888,
              "#fdca26"
             ],
             [
              1,
              "#f0f921"
             ]
            ],
            "type": "heatmapgl"
           }
          ],
          "histogram": [
           {
            "marker": {
             "pattern": {
              "fillmode": "overlay",
              "size": 10,
              "solidity": 0.2
             }
            },
            "type": "histogram"
           }
          ],
          "histogram2d": [
           {
            "colorbar": {
             "outlinewidth": 0,
             "ticks": ""
            },
            "colorscale": [
             [
              0,
              "#0d0887"
             ],
             [
              0.1111111111111111,
              "#46039f"
             ],
             [
              0.2222222222222222,
              "#7201a8"
             ],
             [
              0.3333333333333333,
              "#9c179e"
             ],
             [
              0.4444444444444444,
              "#bd3786"
             ],
             [
              0.5555555555555556,
              "#d8576b"
             ],
             [
              0.6666666666666666,
              "#ed7953"
             ],
             [
              0.7777777777777778,
              "#fb9f3a"
             ],
             [
              0.8888888888888888,
              "#fdca26"
             ],
             [
              1,
              "#f0f921"
             ]
            ],
            "type": "histogram2d"
           }
          ],
          "histogram2dcontour": [
           {
            "colorbar": {
             "outlinewidth": 0,
             "ticks": ""
            },
            "colorscale": [
             [
              0,
              "#0d0887"
             ],
             [
              0.1111111111111111,
              "#46039f"
             ],
             [
              0.2222222222222222,
              "#7201a8"
             ],
             [
              0.3333333333333333,
              "#9c179e"
             ],
             [
              0.4444444444444444,
              "#bd3786"
             ],
             [
              0.5555555555555556,
              "#d8576b"
             ],
             [
              0.6666666666666666,
              "#ed7953"
             ],
             [
              0.7777777777777778,
              "#fb9f3a"
             ],
             [
              0.8888888888888888,
              "#fdca26"
             ],
             [
              1,
              "#f0f921"
             ]
            ],
            "type": "histogram2dcontour"
           }
          ],
          "mesh3d": [
           {
            "colorbar": {
             "outlinewidth": 0,
             "ticks": ""
            },
            "type": "mesh3d"
           }
          ],
          "parcoords": [
           {
            "line": {
             "colorbar": {
              "outlinewidth": 0,
              "ticks": ""
             }
            },
            "type": "parcoords"
           }
          ],
          "pie": [
           {
            "automargin": true,
            "type": "pie"
           }
          ],
          "scatter": [
           {
            "fillpattern": {
             "fillmode": "overlay",
             "size": 10,
             "solidity": 0.2
            },
            "type": "scatter"
           }
          ],
          "scatter3d": [
           {
            "line": {
             "colorbar": {
              "outlinewidth": 0,
              "ticks": ""
             }
            },
            "marker": {
             "colorbar": {
              "outlinewidth": 0,
              "ticks": ""
             }
            },
            "type": "scatter3d"
           }
          ],
          "scattercarpet": [
           {
            "marker": {
             "colorbar": {
              "outlinewidth": 0,
              "ticks": ""
             }
            },
            "type": "scattercarpet"
           }
          ],
          "scattergeo": [
           {
            "marker": {
             "colorbar": {
              "outlinewidth": 0,
              "ticks": ""
             }
            },
            "type": "scattergeo"
           }
          ],
          "scattergl": [
           {
            "marker": {
             "colorbar": {
              "outlinewidth": 0,
              "ticks": ""
             }
            },
            "type": "scattergl"
           }
          ],
          "scattermapbox": [
           {
            "marker": {
             "colorbar": {
              "outlinewidth": 0,
              "ticks": ""
             }
            },
            "type": "scattermapbox"
           }
          ],
          "scatterpolar": [
           {
            "marker": {
             "colorbar": {
              "outlinewidth": 0,
              "ticks": ""
             }
            },
            "type": "scatterpolar"
           }
          ],
          "scatterpolargl": [
           {
            "marker": {
             "colorbar": {
              "outlinewidth": 0,
              "ticks": ""
             }
            },
            "type": "scatterpolargl"
           }
          ],
          "scatterternary": [
           {
            "marker": {
             "colorbar": {
              "outlinewidth": 0,
              "ticks": ""
             }
            },
            "type": "scatterternary"
           }
          ],
          "surface": [
           {
            "colorbar": {
             "outlinewidth": 0,
             "ticks": ""
            },
            "colorscale": [
             [
              0,
              "#0d0887"
             ],
             [
              0.1111111111111111,
              "#46039f"
             ],
             [
              0.2222222222222222,
              "#7201a8"
             ],
             [
              0.3333333333333333,
              "#9c179e"
             ],
             [
              0.4444444444444444,
              "#bd3786"
             ],
             [
              0.5555555555555556,
              "#d8576b"
             ],
             [
              0.6666666666666666,
              "#ed7953"
             ],
             [
              0.7777777777777778,
              "#fb9f3a"
             ],
             [
              0.8888888888888888,
              "#fdca26"
             ],
             [
              1,
              "#f0f921"
             ]
            ],
            "type": "surface"
           }
          ],
          "table": [
           {
            "cells": {
             "fill": {
              "color": "#EBF0F8"
             },
             "line": {
              "color": "white"
             }
            },
            "header": {
             "fill": {
              "color": "#C8D4E3"
             },
             "line": {
              "color": "white"
             }
            },
            "type": "table"
           }
          ]
         },
         "layout": {
          "annotationdefaults": {
           "arrowcolor": "#2a3f5f",
           "arrowhead": 0,
           "arrowwidth": 1
          },
          "autotypenumbers": "strict",
          "coloraxis": {
           "colorbar": {
            "outlinewidth": 0,
            "ticks": ""
           }
          },
          "colorscale": {
           "diverging": [
            [
             0,
             "#8e0152"
            ],
            [
             0.1,
             "#c51b7d"
            ],
            [
             0.2,
             "#de77ae"
            ],
            [
             0.3,
             "#f1b6da"
            ],
            [
             0.4,
             "#fde0ef"
            ],
            [
             0.5,
             "#f7f7f7"
            ],
            [
             0.6,
             "#e6f5d0"
            ],
            [
             0.7,
             "#b8e186"
            ],
            [
             0.8,
             "#7fbc41"
            ],
            [
             0.9,
             "#4d9221"
            ],
            [
             1,
             "#276419"
            ]
           ],
           "sequential": [
            [
             0,
             "#0d0887"
            ],
            [
             0.1111111111111111,
             "#46039f"
            ],
            [
             0.2222222222222222,
             "#7201a8"
            ],
            [
             0.3333333333333333,
             "#9c179e"
            ],
            [
             0.4444444444444444,
             "#bd3786"
            ],
            [
             0.5555555555555556,
             "#d8576b"
            ],
            [
             0.6666666666666666,
             "#ed7953"
            ],
            [
             0.7777777777777778,
             "#fb9f3a"
            ],
            [
             0.8888888888888888,
             "#fdca26"
            ],
            [
             1,
             "#f0f921"
            ]
           ],
           "sequentialminus": [
            [
             0,
             "#0d0887"
            ],
            [
             0.1111111111111111,
             "#46039f"
            ],
            [
             0.2222222222222222,
             "#7201a8"
            ],
            [
             0.3333333333333333,
             "#9c179e"
            ],
            [
             0.4444444444444444,
             "#bd3786"
            ],
            [
             0.5555555555555556,
             "#d8576b"
            ],
            [
             0.6666666666666666,
             "#ed7953"
            ],
            [
             0.7777777777777778,
             "#fb9f3a"
            ],
            [
             0.8888888888888888,
             "#fdca26"
            ],
            [
             1,
             "#f0f921"
            ]
           ]
          },
          "colorway": [
           "#636efa",
           "#EF553B",
           "#00cc96",
           "#ab63fa",
           "#FFA15A",
           "#19d3f3",
           "#FF6692",
           "#B6E880",
           "#FF97FF",
           "#FECB52"
          ],
          "font": {
           "color": "#2a3f5f"
          },
          "geo": {
           "bgcolor": "white",
           "lakecolor": "white",
           "landcolor": "#E5ECF6",
           "showlakes": true,
           "showland": true,
           "subunitcolor": "white"
          },
          "hoverlabel": {
           "align": "left"
          },
          "hovermode": "closest",
          "mapbox": {
           "style": "light"
          },
          "paper_bgcolor": "white",
          "plot_bgcolor": "#E5ECF6",
          "polar": {
           "angularaxis": {
            "gridcolor": "white",
            "linecolor": "white",
            "ticks": ""
           },
           "bgcolor": "#E5ECF6",
           "radialaxis": {
            "gridcolor": "white",
            "linecolor": "white",
            "ticks": ""
           }
          },
          "scene": {
           "xaxis": {
            "backgroundcolor": "#E5ECF6",
            "gridcolor": "white",
            "gridwidth": 2,
            "linecolor": "white",
            "showbackground": true,
            "ticks": "",
            "zerolinecolor": "white"
           },
           "yaxis": {
            "backgroundcolor": "#E5ECF6",
            "gridcolor": "white",
            "gridwidth": 2,
            "linecolor": "white",
            "showbackground": true,
            "ticks": "",
            "zerolinecolor": "white"
           },
           "zaxis": {
            "backgroundcolor": "#E5ECF6",
            "gridcolor": "white",
            "gridwidth": 2,
            "linecolor": "white",
            "showbackground": true,
            "ticks": "",
            "zerolinecolor": "white"
           }
          },
          "shapedefaults": {
           "line": {
            "color": "#2a3f5f"
           }
          },
          "ternary": {
           "aaxis": {
            "gridcolor": "white",
            "linecolor": "white",
            "ticks": ""
           },
           "baxis": {
            "gridcolor": "white",
            "linecolor": "white",
            "ticks": ""
           },
           "bgcolor": "#E5ECF6",
           "caxis": {
            "gridcolor": "white",
            "linecolor": "white",
            "ticks": ""
           }
          },
          "title": {
           "x": 0.05
          },
          "xaxis": {
           "automargin": true,
           "gridcolor": "white",
           "linecolor": "white",
           "ticks": "",
           "title": {
            "standoff": 15
           },
           "zerolinecolor": "white",
           "zerolinewidth": 2
          },
          "yaxis": {
           "automargin": true,
           "gridcolor": "white",
           "linecolor": "white",
           "ticks": "",
           "title": {
            "standoff": 15
           },
           "zerolinecolor": "white",
           "zerolinewidth": 2
          }
         }
        },
        "title": {
         "text": "Comparação de Médias Finais por Gênero e Etnia"
        },
        "xaxis": {
         "anchor": "y",
         "domain": [
          0,
          1
         ],
         "title": {
          "text": "race_ethnicity"
         }
        },
        "yaxis": {
         "anchor": "x",
         "domain": [
          0,
          1
         ],
         "title": {
          "text": "Média de Notas Finais"
         }
        }
       }
      }
     },
     "metadata": {},
     "output_type": "display_data"
    }
   ],
   "source": [
    "# Group the final_score_avg by gender\n",
    "df_final_avg_grouped_by_gender = df.groupby(['gender', 'race_ethnicity'])['final_score_avg'].mean().reset_index()\n",
    "\n",
    "# Create a plotly bar chart\n",
    "fig = px.bar(df_final_avg_grouped_by_gender, \n",
    "             x='race_ethnicity', y='final_score_avg', \n",
    "             text='final_score_avg', \n",
    "             title='Comparação de Médias Finais por Gênero e Etnia',  \n",
    "             labels={'final_score_avg': 'Média de Notas Finais', 'gender': 'Gênero'}, \n",
    "             color='gender', barmode='group')\n",
    "\n",
    "fig.update_traces(texttemplate='%{text:.2s}', textposition='inside')\n",
    "\n",
    "fig.show()"
   ]
  },
  {
   "cell_type": "markdown",
   "metadata": {},
   "source": [
    "#### Média de Pontuação Final por Gênero e Grupo Étnico\n",
    "##### Em uma analise inicial, é possível perceber que de uma maneira global para todas as etinias o genero feminino possui destaque em relação ao genero masculino.\n",
    "\n",
    "| gender | race_ethnicity | final_score_avg |\n",
    "|--------|----------------|-----------------|\n",
    "| female | group A        | 65.083333       |\n",
    "| female | group B        | 67.548077       |\n",
    "| female | group C        | 68.588889       |\n",
    "| female | group D        | 71.441860       |\n",
    "| female | group E        | 74.014493       |\n",
    "| male   | group A        | 61.509434       |\n",
    "| male   | group B        | 62.988372       |\n",
    "| male   | group C        | 65.223022       |\n",
    "| male   | group D        | 66.984962       |\n",
    "| male   | group E        | 71.450704       |\n",
    "\n",
    "\n"
   ]
  },
  {
   "cell_type": "markdown",
   "metadata": {},
   "source": [
    "#### Análise Gráfica de Distribuição das Notas"
   ]
  },
  {
   "cell_type": "code",
   "execution_count": 13,
   "metadata": {},
   "outputs": [
    {
     "data": {
      "application/vnd.plotly.v1+json": {
       "config": {
        "plotlyServerURL": "https://plot.ly"
       },
       "data": [
        {
         "hovertemplate": "gender=female<br>Média de Notas Finais=%{x}<br>math_score=%{y}<extra></extra>",
         "legendgroup": "female",
         "marker": {
          "color": "#636efa",
          "symbol": "circle"
         },
         "mode": "markers",
         "name": "female",
         "orientation": "v",
         "showlegend": true,
         "type": "scatter",
         "x": [
          73,
          82,
          93,
          77,
          92,
          49,
          73,
          54,
          74,
          26,
          58,
          70,
          72,
          70,
          69,
          72,
          63,
          64,
          79,
          58,
          84,
          66,
          59,
          53,
          61,
          71,
          69,
          81,
          39,
          84,
          9,
          73,
          59,
          69,
          53,
          65,
          47,
          69,
          66,
          49,
          78,
          82,
          72,
          65,
          80,
          70,
          86,
          68,
          62,
          65,
          88,
          66,
          96,
          66,
          69,
          88,
          54,
          100,
          81,
          80,
          58,
          63,
          87,
          91,
          89,
          50,
          80,
          64,
          73,
          62,
          50,
          31,
          75,
          65,
          82,
          73,
          78,
          83,
          88,
          99,
          71,
          76,
          71,
          82,
          67,
          49,
          86,
          53,
          75,
          61,
          99,
          59,
          49,
          68,
          84,
          67,
          64,
          79,
          51,
          78,
          79,
          74,
          65,
          77,
          62,
          55,
          86,
          38,
          66,
          61,
          64,
          52,
          72,
          92,
          79,
          66,
          82,
          54,
          65,
          64,
          79,
          67,
          68,
          68,
          74,
          76,
          73,
          48,
          94,
          73,
          73,
          92,
          72,
          53,
          69,
          90,
          66,
          77,
          79,
          75,
          43,
          79,
          71,
          77,
          77,
          64,
          53,
          76,
          68,
          66,
          83,
          61,
          77,
          80,
          77,
          50,
          43,
          89,
          49,
          90,
          65,
          30,
          50,
          66,
          73,
          76,
          89,
          62,
          74,
          54,
          67,
          68,
          59,
          86,
          60,
          56,
          31,
          55,
          81,
          63,
          92,
          67,
          84,
          93,
          77,
          83,
          44,
          41,
          73,
          69,
          67,
          63,
          74,
          72,
          60,
          90,
          60,
          56,
          96,
          58,
          68,
          80,
          55,
          72,
          67,
          89,
          60,
          57,
          75,
          64,
          68,
          52,
          76,
          80,
          67,
          77,
          73,
          78,
          96,
          72,
          59,
          86,
          100,
          72,
          86,
          87,
          32,
          83,
          86,
          69,
          79,
          62,
          90,
          77,
          63,
          56,
          52,
          70,
          75,
          66,
          85,
          86,
          62,
          51,
          71,
          68,
          78,
          91,
          92,
          51,
          81,
          88,
          59,
          89,
          83,
          82,
          71,
          74,
          75,
          87,
          44,
          39,
          69,
          69,
          51,
          87,
          77,
          60,
          79,
          89,
          64,
          96,
          64,
          46,
          35,
          69,
          64,
          76,
          70,
          74,
          97,
          70,
          57,
          60,
          75,
          87,
          54,
          61,
          91,
          79,
          71,
          76,
          74,
          72,
          67,
          56,
          61,
          60,
          74,
          97,
          69,
          73,
          76,
          59,
          29,
          78,
          84,
          51,
          62,
          62,
          61,
          72,
          89,
          67,
          40,
          50,
          60,
          50,
          74,
          83,
          76,
          87,
          74,
          84,
          77,
          78,
          76,
          65,
          65,
          53,
          76,
          75,
          90,
          70,
          77,
          65,
          54,
          65,
          67,
          57,
          69,
          83,
          70,
          74,
          78,
          75,
          60,
          76,
          76,
          71,
          38,
          98,
          52,
          76,
          74,
          76,
          56,
          85,
          82,
          67,
          71,
          81,
          65,
          65,
          62,
          54,
          83,
          99,
          68,
          86,
          97,
          75,
          68,
          84,
          72,
          83,
          75,
          90,
          56,
          64,
          50,
          82,
          68,
          56,
          84,
          90,
          59,
          63,
          53,
          62,
          73,
          70,
          71,
          64,
          73,
          54,
          69,
          41,
          78,
          53,
          84,
          81,
          58,
          42,
          76,
          30,
          59,
          57,
          65,
          48,
          66,
          78,
          55,
          92,
          85,
          76,
          71,
          42,
          62,
          78,
          56,
          67,
          85,
          89,
          87,
          80,
          53,
          65,
          70,
          79,
          59,
          83,
          83,
          66,
          79,
          72,
          46,
          34,
          56,
          66,
          64,
          88,
          97,
          75,
          56,
          85,
          74,
          73,
          55,
          70,
          71,
          70,
          69,
          52,
          73,
          96,
          69,
          87,
          87,
          63,
          63,
          35,
          73,
          75,
          75,
          41,
          98,
          78,
          85,
          71,
          78,
          60,
          58,
          54,
          68,
          52,
          71,
          45,
          61,
          66,
          52,
          57,
          88,
          62,
          58,
          56,
          68,
          78,
          73,
          67,
          97,
          56,
          59,
          52,
          100,
          72,
          68,
          70,
          80,
          96,
          54,
          58,
          61,
          74,
          93,
          18,
          85,
          77,
          50,
          45,
          79,
          75,
          69,
          69,
          94,
          65,
          74,
          83
         ],
         "xaxis": "x",
         "y": [
          72,
          69,
          90,
          71,
          88,
          38,
          65,
          50,
          69,
          18,
          54,
          65,
          69,
          67,
          62,
          69,
          63,
          56,
          74,
          50,
          75,
          58,
          53,
          50,
          55,
          66,
          57,
          71,
          33,
          82,
          0,
          69,
          59,
          60,
          39,
          58,
          41,
          61,
          62,
          47,
          73,
          76,
          71,
          58,
          73,
          65,
          79,
          63,
          58,
          65,
          85,
          58,
          87,
          52,
          70,
          77,
          51,
          99,
          75,
          78,
          51,
          55,
          79,
          88,
          87,
          51,
          75,
          59,
          76,
          59,
          42,
          22,
          68,
          59,
          70,
          66,
          61,
          75,
          81,
          96,
          58,
          68,
          67,
          79,
          63,
          43,
          81,
          46,
          71,
          52,
          97,
          46,
          50,
          65,
          77,
          66,
          62,
          69,
          45,
          78,
          67,
          65,
          57,
          74,
          58,
          42,
          83,
          34,
          56,
          55,
          52,
          45,
          72,
          88,
          67,
          64,
          80,
          56,
          58,
          65,
          71,
          60,
          62,
          64,
          70,
          65,
          64,
          44,
          99,
          63,
          69,
          88,
          71,
          47,
          65,
          85,
          59,
          65,
          73,
          70,
          37,
          67,
          65,
          67,
          74,
          53,
          49,
          73,
          68,
          59,
          77,
          56,
          67,
          75,
          71,
          43,
          41,
          82,
          41,
          83,
          61,
          24,
          35,
          61,
          69,
          72,
          77,
          52,
          63,
          46,
          59,
          61,
          42,
          80,
          58,
          52,
          27,
          44,
          73,
          45,
          82,
          59,
          80,
          85,
          71,
          80,
          38,
          38,
          67,
          64,
          57,
          62,
          77,
          65,
          50,
          85,
          59,
          49,
          88,
          54,
          63,
          82,
          52,
          70,
          51,
          82,
          57,
          47,
          59,
          62,
          61,
          47,
          67,
          78,
          59,
          73,
          67,
          64,
          100,
          65,
          53,
          79,
          100,
          71,
          77,
          84,
          26,
          77,
          83,
          63,
          68,
          59,
          90,
          71,
          55,
          52,
          49,
          60,
          65,
          64,
          83,
          81,
          54,
          54,
          59,
          66,
          74,
          94,
          95,
          40,
          82,
          86,
          54,
          77,
          76,
          74,
          66,
          66,
          67,
          91,
          36,
          29,
          62,
          68,
          47,
          79,
          66,
          51,
          81,
          82,
          64,
          92,
          62,
          40,
          32,
          55,
          53,
          74,
          63,
          63,
          92,
          61,
          53,
          50,
          74,
          81,
          48,
          53,
          81,
          77,
          63,
          73,
          69,
          65,
          55,
          44,
          54,
          48,
          74,
          92,
          56,
          69,
          65,
          54,
          29,
          76,
          85,
          40,
          61,
          58,
          58,
          65,
          82,
          60,
          37,
          35,
          61,
          44,
          66,
          75,
          67,
          80,
          76,
          74,
          72,
          74,
          65,
          59,
          64,
          50,
          69,
          68,
          85,
          65,
          73,
          62,
          43,
          55,
          65,
          50,
          63,
          77,
          66,
          69,
          65,
          69,
          50,
          73,
          70,
          67,
          29,
          94,
          49,
          73,
          66,
          77,
          49,
          79,
          75,
          59,
          57,
          79,
          57,
          63,
          59,
          42,
          80,
          98,
          60,
          76,
          96,
          76,
          62,
          74,
          65,
          73,
          68,
          87,
          53,
          53,
          37,
          81,
          59,
          50,
          77,
          84,
          52,
          53,
          48,
          62,
          74,
          58,
          68,
          52,
          62,
          49,
          66,
          35,
          72,
          46,
          77,
          76,
          52,
          32,
          72,
          19,
          52,
          48,
          60,
          42,
          57,
          70,
          52,
          87,
          82,
          73,
          64,
          41,
          54,
          72,
          45,
          60,
          77,
          85,
          78,
          71,
          48,
          56,
          65,
          69,
          61,
          74,
          77,
          60,
          75,
          66,
          39,
          23,
          40,
          59,
          61,
          87,
          97,
          65,
          53,
          81,
          71,
          70,
          43,
          59,
          64,
          71,
          64,
          51,
          62,
          93,
          69,
          86,
          85,
          50,
          59,
          32,
          63,
          65,
          73,
          34,
          93,
          67,
          79,
          67,
          69,
          52,
          47,
          46,
          68,
          44,
          57,
          35,
          54,
          65,
          48,
          57,
          78,
          58,
          54,
          49,
          57,
          75,
          74,
          62,
          92,
          45,
          56,
          48,
          100,
          65,
          62,
          68,
          75,
          89,
          53,
          49,
          54,
          64,
          91,
          8,
          78,
          74,
          40,
          44,
          67,
          65,
          55,
          62,
          88,
          59,
          68,
          77
         ],
         "yaxis": "y"
        },
        {
         "hovertemplate": "gender=male<br>Média de Notas Finais=%{x}<br>math_score=%{y}<extra></extra>",
         "legendgroup": "male",
         "marker": {
          "color": "#EF553B",
          "symbol": "circle"
         },
         "mode": "markers",
         "name": "male",
         "orientation": "v",
         "showlegend": true,
         "type": "scatter",
         "x": [
          49,
          76,
          41,
          65,
          55,
          45,
          73,
          88,
          45,
          66,
          50,
          75,
          73,
          59,
          68,
          40,
          89,
          80,
          57,
          57,
          63,
          59,
          83,
          52,
          71,
          46,
          80,
          52,
          58,
          75,
          37,
          59,
          64,
          40,
          58,
          60,
          58,
          46,
          41,
          26,
          80,
          46,
          50,
          66,
          38,
          32,
          74,
          46,
          80,
          64,
          71,
          72,
          50,
          91,
          64,
          55,
          51,
          78,
          91,
          59,
          79,
          69,
          72,
          79,
          85,
          43,
          77,
          76,
          54,
          49,
          60,
          67,
          49,
          80,
          82,
          69,
          98,
          66,
          71,
          50,
          63,
          60,
          64,
          78,
          51,
          51,
          52,
          73,
          87,
          68,
          49,
          66,
          74,
          65,
          48,
          79,
          67,
          56,
          64,
          54,
          72,
          47,
          74,
          69,
          79,
          79,
          30,
          56,
          86,
          81,
          71,
          58,
          82,
          80,
          54,
          68,
          69,
          44,
          86,
          83,
          77,
          65,
          52,
          81,
          69,
          51,
          73,
          77,
          80,
          60,
          48,
          77,
          53,
          77,
          79,
          72,
          47,
          64,
          50,
          83,
          78,
          62,
          49,
          46,
          82,
          89,
          80,
          77,
          71,
          76,
          60,
          78,
          63,
          43,
          71,
          45,
          84,
          80,
          54,
          73,
          68,
          89,
          49,
          61,
          65,
          67,
          78,
          68,
          61,
          23,
          78,
          64,
          40,
          57,
          83,
          72,
          48,
          57,
          69,
          73,
          60,
          72,
          79,
          58,
          62,
          61,
          82,
          59,
          56,
          60,
          63,
          77,
          73,
          43,
          64,
          94,
          77,
          73,
          66,
          70,
          56,
          45,
          65,
          58,
          46,
          64,
          85,
          82,
          66,
          66,
          75,
          71,
          71,
          63,
          56,
          38,
          85,
          68,
          59,
          62,
          63,
          57,
          68,
          50,
          69,
          71,
          59,
          86,
          78,
          65,
          82,
          45,
          75,
          57,
          47,
          52,
          68,
          55,
          51,
          65,
          68,
          80,
          68,
          73,
          71,
          71,
          66,
          52,
          72,
          55,
          58,
          81,
          66,
          73,
          59,
          68,
          56,
          78,
          73,
          52,
          54,
          57,
          61,
          54,
          51,
          62,
          59,
          60,
          70,
          56,
          74,
          92,
          71,
          80,
          80,
          68,
          73,
          73,
          88,
          68,
          46,
          65,
          67,
          93,
          48,
          45,
          53,
          68,
          72,
          93,
          49,
          55,
          56,
          61,
          67,
          23,
          52,
          56,
          88,
          70,
          64,
          92,
          83,
          87,
          69,
          60,
          54,
          94,
          99,
          67,
          52,
          51,
          67,
          68,
          83,
          70,
          79,
          48,
          65,
          53,
          69,
          65,
          87,
          75,
          67,
          69,
          69,
          77,
          53,
          78,
          61,
          63,
          57,
          65,
          76,
          76,
          52,
          89,
          64,
          86,
          66,
          39,
          59,
          85,
          89,
          82,
          74,
          81,
          58,
          47,
          44,
          75,
          59,
          43,
          48,
          49,
          61,
          85,
          75,
          59,
          75,
          52,
          75,
          72,
          67,
          86,
          69,
          68,
          77,
          55,
          55,
          70,
          74,
          82,
          61,
          66,
          58,
          50,
          74,
          64,
          87,
          84,
          65,
          70,
          83,
          70,
          61,
          69,
          76,
          77,
          78,
          55,
          39,
          47,
          82,
          89,
          69,
          51,
          62,
          58,
          61,
          51,
          65,
          56,
          58,
          76,
          86,
          87,
          56,
          75,
          68,
          70,
          60,
          69,
          49,
          77,
          40,
          94,
          84,
          55,
          48,
          75,
          50,
          55,
          81,
          87,
          70,
          82,
          57,
          64,
          48,
          62,
          48,
          79,
          31,
          61,
          86,
          81,
          52,
          68,
          47,
          100,
          93,
          69,
          68,
          71,
          66,
          57,
          44,
          70,
          60,
          68,
          73,
          92,
          64,
          59,
          84,
          71,
          70,
          70,
          61,
          81,
          50,
          79,
          55,
          64,
          84,
          76,
          62,
          66,
          62,
          73,
          61,
          62,
          48,
          79,
          83,
          54,
          77,
          81,
          63,
          57
         ],
         "xaxis": "x",
         "y": [
          47,
          76,
          40,
          64,
          58,
          40,
          78,
          88,
          46,
          66,
          44,
          74,
          73,
          69,
          70,
          40,
          97,
          81,
          57,
          55,
          59,
          65,
          82,
          53,
          77,
          53,
          88,
          52,
          58,
          79,
          39,
          62,
          67,
          45,
          61,
          63,
          61,
          49,
          44,
          30,
          80,
          49,
          50,
          72,
          42,
          27,
          71,
          43,
          78,
          65,
          79,
          68,
          60,
          98,
          66,
          62,
          54,
          84,
          91,
          63,
          83,
          72,
          65,
          82,
          89,
          53,
          87,
          74,
          58,
          51,
          70,
          71,
          57,
          88,
          88,
          73,
          100,
          62,
          77,
          54,
          62,
          60,
          66,
          82,
          49,
          52,
          53,
          72,
          94,
          62,
          45,
          65,
          80,
          62,
          48,
          76,
          77,
          61,
          59,
          55,
          69,
          59,
          74,
          82,
          81,
          80,
          35,
          60,
          87,
          84,
          66,
          61,
          87,
          86,
          57,
          68,
          76,
          46,
          92,
          83,
          80,
          63,
          54,
          84,
          73,
          59,
          75,
          85,
          89,
          68,
          47,
          80,
          54,
          78,
          79,
          76,
          59,
          69,
          58,
          88,
          83,
          73,
          53,
          45,
          81,
          97,
          88,
          77,
          76,
          86,
          63,
          78,
          67,
          46,
          71,
          40,
          90,
          81,
          56,
          80,
          69,
          99,
          51,
          66,
          67,
          71,
          83,
          63,
          61,
          28,
          82,
          71,
          47,
          62,
          90,
          76,
          49,
          58,
          67,
          79,
          62,
          75,
          87,
          66,
          63,
          59,
          85,
          59,
          49,
          69,
          61,
          84,
          74,
          46,
          66,
          87,
          79,
          73,
          73,
          76,
          57,
          48,
          74,
          60,
          53,
          65,
          87,
          84,
          71,
          63,
          84,
          71,
          74,
          68,
          57,
          41,
          86,
          69,
          65,
          68,
          64,
          61,
          73,
          50,
          75,
          75,
          70,
          89,
          79,
          69,
          86,
          47,
          81,
          65,
          37,
          53,
          72,
          53,
          54,
          75,
          72,
          91,
          76,
          80,
          76,
          73,
          68,
          59,
          70,
          61,
          64,
          79,
          68,
          76,
          63,
          68,
          55,
          79,
          76,
          64,
          62,
          71,
          69,
          54,
          53,
          68,
          56,
          62,
          73,
          51,
          85,
          97,
          75,
          79,
          78,
          72,
          79,
          79,
          87,
          77,
          53,
          61,
          73,
          96,
          48,
          48,
          63,
          68,
          71,
          91,
          40,
          61,
          58,
          71,
          68,
          30,
          53,
          60,
          84,
          75,
          69,
          94,
          88,
          95,
          65,
          62,
          58,
          100,
          100,
          69,
          61,
          49,
          67,
          79,
          84,
          71,
          86,
          41,
          70,
          51,
          77,
          69,
          90,
          74,
          73,
          80,
          73,
          81,
          52,
          81,
          63,
          60,
          62,
          62,
          85,
          77,
          53,
          93,
          66,
          87,
          62,
          46,
          66,
          89,
          93,
          81,
          73,
          91,
          55,
          50,
          47,
          81,
          68,
          53,
          55,
          55,
          67,
          92,
          81,
          61,
          80,
          55,
          72,
          69,
          69,
          87,
          71,
          68,
          79,
          58,
          55,
          70,
          69,
          78,
          60,
          76,
          58,
          52,
          75,
          66,
          94,
          91,
          68,
          66,
          89,
          70,
          69,
          67,
          76,
          75,
          90,
          59,
          51,
          45,
          87,
          94,
          61,
          49,
          62,
          68,
          64,
          58,
          73,
          58,
          64,
          74,
          90,
          91,
          64,
          80,
          71,
          82,
          62,
          75,
          52,
          87,
          39,
          97,
          82,
          59,
          61,
          78,
          49,
          59,
          82,
          90,
          80,
          81,
          57,
          63,
          55,
          54,
          44,
          88,
          36,
          67,
          85,
          88,
          57,
          70,
          50,
          100,
          91,
          69,
          72,
          74,
          74,
          64,
          46,
          67,
          62,
          61,
          70,
          98,
          70,
          67,
          85,
          77,
          72,
          81,
          61,
          82,
          49,
          94,
          58,
          72,
          84,
          75,
          72,
          66,
          63,
          78,
          60,
          62,
          55,
          81,
          79,
          57,
          81,
          86,
          63,
          62
         ],
         "yaxis": "y"
        }
       ],
       "layout": {
        "legend": {
         "title": {
          "text": "gender"
         },
         "tracegroupgap": 0
        },
        "template": {
         "data": {
          "bar": [
           {
            "error_x": {
             "color": "#2a3f5f"
            },
            "error_y": {
             "color": "#2a3f5f"
            },
            "marker": {
             "line": {
              "color": "#E5ECF6",
              "width": 0.5
             },
             "pattern": {
              "fillmode": "overlay",
              "size": 10,
              "solidity": 0.2
             }
            },
            "type": "bar"
           }
          ],
          "barpolar": [
           {
            "marker": {
             "line": {
              "color": "#E5ECF6",
              "width": 0.5
             },
             "pattern": {
              "fillmode": "overlay",
              "size": 10,
              "solidity": 0.2
             }
            },
            "type": "barpolar"
           }
          ],
          "carpet": [
           {
            "aaxis": {
             "endlinecolor": "#2a3f5f",
             "gridcolor": "white",
             "linecolor": "white",
             "minorgridcolor": "white",
             "startlinecolor": "#2a3f5f"
            },
            "baxis": {
             "endlinecolor": "#2a3f5f",
             "gridcolor": "white",
             "linecolor": "white",
             "minorgridcolor": "white",
             "startlinecolor": "#2a3f5f"
            },
            "type": "carpet"
           }
          ],
          "choropleth": [
           {
            "colorbar": {
             "outlinewidth": 0,
             "ticks": ""
            },
            "type": "choropleth"
           }
          ],
          "contour": [
           {
            "colorbar": {
             "outlinewidth": 0,
             "ticks": ""
            },
            "colorscale": [
             [
              0,
              "#0d0887"
             ],
             [
              0.1111111111111111,
              "#46039f"
             ],
             [
              0.2222222222222222,
              "#7201a8"
             ],
             [
              0.3333333333333333,
              "#9c179e"
             ],
             [
              0.4444444444444444,
              "#bd3786"
             ],
             [
              0.5555555555555556,
              "#d8576b"
             ],
             [
              0.6666666666666666,
              "#ed7953"
             ],
             [
              0.7777777777777778,
              "#fb9f3a"
             ],
             [
              0.8888888888888888,
              "#fdca26"
             ],
             [
              1,
              "#f0f921"
             ]
            ],
            "type": "contour"
           }
          ],
          "contourcarpet": [
           {
            "colorbar": {
             "outlinewidth": 0,
             "ticks": ""
            },
            "type": "contourcarpet"
           }
          ],
          "heatmap": [
           {
            "colorbar": {
             "outlinewidth": 0,
             "ticks": ""
            },
            "colorscale": [
             [
              0,
              "#0d0887"
             ],
             [
              0.1111111111111111,
              "#46039f"
             ],
             [
              0.2222222222222222,
              "#7201a8"
             ],
             [
              0.3333333333333333,
              "#9c179e"
             ],
             [
              0.4444444444444444,
              "#bd3786"
             ],
             [
              0.5555555555555556,
              "#d8576b"
             ],
             [
              0.6666666666666666,
              "#ed7953"
             ],
             [
              0.7777777777777778,
              "#fb9f3a"
             ],
             [
              0.8888888888888888,
              "#fdca26"
             ],
             [
              1,
              "#f0f921"
             ]
            ],
            "type": "heatmap"
           }
          ],
          "heatmapgl": [
           {
            "colorbar": {
             "outlinewidth": 0,
             "ticks": ""
            },
            "colorscale": [
             [
              0,
              "#0d0887"
             ],
             [
              0.1111111111111111,
              "#46039f"
             ],
             [
              0.2222222222222222,
              "#7201a8"
             ],
             [
              0.3333333333333333,
              "#9c179e"
             ],
             [
              0.4444444444444444,
              "#bd3786"
             ],
             [
              0.5555555555555556,
              "#d8576b"
             ],
             [
              0.6666666666666666,
              "#ed7953"
             ],
             [
              0.7777777777777778,
              "#fb9f3a"
             ],
             [
              0.8888888888888888,
              "#fdca26"
             ],
             [
              1,
              "#f0f921"
             ]
            ],
            "type": "heatmapgl"
           }
          ],
          "histogram": [
           {
            "marker": {
             "pattern": {
              "fillmode": "overlay",
              "size": 10,
              "solidity": 0.2
             }
            },
            "type": "histogram"
           }
          ],
          "histogram2d": [
           {
            "colorbar": {
             "outlinewidth": 0,
             "ticks": ""
            },
            "colorscale": [
             [
              0,
              "#0d0887"
             ],
             [
              0.1111111111111111,
              "#46039f"
             ],
             [
              0.2222222222222222,
              "#7201a8"
             ],
             [
              0.3333333333333333,
              "#9c179e"
             ],
             [
              0.4444444444444444,
              "#bd3786"
             ],
             [
              0.5555555555555556,
              "#d8576b"
             ],
             [
              0.6666666666666666,
              "#ed7953"
             ],
             [
              0.7777777777777778,
              "#fb9f3a"
             ],
             [
              0.8888888888888888,
              "#fdca26"
             ],
             [
              1,
              "#f0f921"
             ]
            ],
            "type": "histogram2d"
           }
          ],
          "histogram2dcontour": [
           {
            "colorbar": {
             "outlinewidth": 0,
             "ticks": ""
            },
            "colorscale": [
             [
              0,
              "#0d0887"
             ],
             [
              0.1111111111111111,
              "#46039f"
             ],
             [
              0.2222222222222222,
              "#7201a8"
             ],
             [
              0.3333333333333333,
              "#9c179e"
             ],
             [
              0.4444444444444444,
              "#bd3786"
             ],
             [
              0.5555555555555556,
              "#d8576b"
             ],
             [
              0.6666666666666666,
              "#ed7953"
             ],
             [
              0.7777777777777778,
              "#fb9f3a"
             ],
             [
              0.8888888888888888,
              "#fdca26"
             ],
             [
              1,
              "#f0f921"
             ]
            ],
            "type": "histogram2dcontour"
           }
          ],
          "mesh3d": [
           {
            "colorbar": {
             "outlinewidth": 0,
             "ticks": ""
            },
            "type": "mesh3d"
           }
          ],
          "parcoords": [
           {
            "line": {
             "colorbar": {
              "outlinewidth": 0,
              "ticks": ""
             }
            },
            "type": "parcoords"
           }
          ],
          "pie": [
           {
            "automargin": true,
            "type": "pie"
           }
          ],
          "scatter": [
           {
            "fillpattern": {
             "fillmode": "overlay",
             "size": 10,
             "solidity": 0.2
            },
            "type": "scatter"
           }
          ],
          "scatter3d": [
           {
            "line": {
             "colorbar": {
              "outlinewidth": 0,
              "ticks": ""
             }
            },
            "marker": {
             "colorbar": {
              "outlinewidth": 0,
              "ticks": ""
             }
            },
            "type": "scatter3d"
           }
          ],
          "scattercarpet": [
           {
            "marker": {
             "colorbar": {
              "outlinewidth": 0,
              "ticks": ""
             }
            },
            "type": "scattercarpet"
           }
          ],
          "scattergeo": [
           {
            "marker": {
             "colorbar": {
              "outlinewidth": 0,
              "ticks": ""
             }
            },
            "type": "scattergeo"
           }
          ],
          "scattergl": [
           {
            "marker": {
             "colorbar": {
              "outlinewidth": 0,
              "ticks": ""
             }
            },
            "type": "scattergl"
           }
          ],
          "scattermapbox": [
           {
            "marker": {
             "colorbar": {
              "outlinewidth": 0,
              "ticks": ""
             }
            },
            "type": "scattermapbox"
           }
          ],
          "scatterpolar": [
           {
            "marker": {
             "colorbar": {
              "outlinewidth": 0,
              "ticks": ""
             }
            },
            "type": "scatterpolar"
           }
          ],
          "scatterpolargl": [
           {
            "marker": {
             "colorbar": {
              "outlinewidth": 0,
              "ticks": ""
             }
            },
            "type": "scatterpolargl"
           }
          ],
          "scatterternary": [
           {
            "marker": {
             "colorbar": {
              "outlinewidth": 0,
              "ticks": ""
             }
            },
            "type": "scatterternary"
           }
          ],
          "surface": [
           {
            "colorbar": {
             "outlinewidth": 0,
             "ticks": ""
            },
            "colorscale": [
             [
              0,
              "#0d0887"
             ],
             [
              0.1111111111111111,
              "#46039f"
             ],
             [
              0.2222222222222222,
              "#7201a8"
             ],
             [
              0.3333333333333333,
              "#9c179e"
             ],
             [
              0.4444444444444444,
              "#bd3786"
             ],
             [
              0.5555555555555556,
              "#d8576b"
             ],
             [
              0.6666666666666666,
              "#ed7953"
             ],
             [
              0.7777777777777778,
              "#fb9f3a"
             ],
             [
              0.8888888888888888,
              "#fdca26"
             ],
             [
              1,
              "#f0f921"
             ]
            ],
            "type": "surface"
           }
          ],
          "table": [
           {
            "cells": {
             "fill": {
              "color": "#EBF0F8"
             },
             "line": {
              "color": "white"
             }
            },
            "header": {
             "fill": {
              "color": "#C8D4E3"
             },
             "line": {
              "color": "white"
             }
            },
            "type": "table"
           }
          ]
         },
         "layout": {
          "annotationdefaults": {
           "arrowcolor": "#2a3f5f",
           "arrowhead": 0,
           "arrowwidth": 1
          },
          "autotypenumbers": "strict",
          "coloraxis": {
           "colorbar": {
            "outlinewidth": 0,
            "ticks": ""
           }
          },
          "colorscale": {
           "diverging": [
            [
             0,
             "#8e0152"
            ],
            [
             0.1,
             "#c51b7d"
            ],
            [
             0.2,
             "#de77ae"
            ],
            [
             0.3,
             "#f1b6da"
            ],
            [
             0.4,
             "#fde0ef"
            ],
            [
             0.5,
             "#f7f7f7"
            ],
            [
             0.6,
             "#e6f5d0"
            ],
            [
             0.7,
             "#b8e186"
            ],
            [
             0.8,
             "#7fbc41"
            ],
            [
             0.9,
             "#4d9221"
            ],
            [
             1,
             "#276419"
            ]
           ],
           "sequential": [
            [
             0,
             "#0d0887"
            ],
            [
             0.1111111111111111,
             "#46039f"
            ],
            [
             0.2222222222222222,
             "#7201a8"
            ],
            [
             0.3333333333333333,
             "#9c179e"
            ],
            [
             0.4444444444444444,
             "#bd3786"
            ],
            [
             0.5555555555555556,
             "#d8576b"
            ],
            [
             0.6666666666666666,
             "#ed7953"
            ],
            [
             0.7777777777777778,
             "#fb9f3a"
            ],
            [
             0.8888888888888888,
             "#fdca26"
            ],
            [
             1,
             "#f0f921"
            ]
           ],
           "sequentialminus": [
            [
             0,
             "#0d0887"
            ],
            [
             0.1111111111111111,
             "#46039f"
            ],
            [
             0.2222222222222222,
             "#7201a8"
            ],
            [
             0.3333333333333333,
             "#9c179e"
            ],
            [
             0.4444444444444444,
             "#bd3786"
            ],
            [
             0.5555555555555556,
             "#d8576b"
            ],
            [
             0.6666666666666666,
             "#ed7953"
            ],
            [
             0.7777777777777778,
             "#fb9f3a"
            ],
            [
             0.8888888888888888,
             "#fdca26"
            ],
            [
             1,
             "#f0f921"
            ]
           ]
          },
          "colorway": [
           "#636efa",
           "#EF553B",
           "#00cc96",
           "#ab63fa",
           "#FFA15A",
           "#19d3f3",
           "#FF6692",
           "#B6E880",
           "#FF97FF",
           "#FECB52"
          ],
          "font": {
           "color": "#2a3f5f"
          },
          "geo": {
           "bgcolor": "white",
           "lakecolor": "white",
           "landcolor": "#E5ECF6",
           "showlakes": true,
           "showland": true,
           "subunitcolor": "white"
          },
          "hoverlabel": {
           "align": "left"
          },
          "hovermode": "closest",
          "mapbox": {
           "style": "light"
          },
          "paper_bgcolor": "white",
          "plot_bgcolor": "#E5ECF6",
          "polar": {
           "angularaxis": {
            "gridcolor": "white",
            "linecolor": "white",
            "ticks": ""
           },
           "bgcolor": "#E5ECF6",
           "radialaxis": {
            "gridcolor": "white",
            "linecolor": "white",
            "ticks": ""
           }
          },
          "scene": {
           "xaxis": {
            "backgroundcolor": "#E5ECF6",
            "gridcolor": "white",
            "gridwidth": 2,
            "linecolor": "white",
            "showbackground": true,
            "ticks": "",
            "zerolinecolor": "white"
           },
           "yaxis": {
            "backgroundcolor": "#E5ECF6",
            "gridcolor": "white",
            "gridwidth": 2,
            "linecolor": "white",
            "showbackground": true,
            "ticks": "",
            "zerolinecolor": "white"
           },
           "zaxis": {
            "backgroundcolor": "#E5ECF6",
            "gridcolor": "white",
            "gridwidth": 2,
            "linecolor": "white",
            "showbackground": true,
            "ticks": "",
            "zerolinecolor": "white"
           }
          },
          "shapedefaults": {
           "line": {
            "color": "#2a3f5f"
           }
          },
          "ternary": {
           "aaxis": {
            "gridcolor": "white",
            "linecolor": "white",
            "ticks": ""
           },
           "baxis": {
            "gridcolor": "white",
            "linecolor": "white",
            "ticks": ""
           },
           "bgcolor": "#E5ECF6",
           "caxis": {
            "gridcolor": "white",
            "linecolor": "white",
            "ticks": ""
           }
          },
          "title": {
           "x": 0.05
          },
          "xaxis": {
           "automargin": true,
           "gridcolor": "white",
           "linecolor": "white",
           "ticks": "",
           "title": {
            "standoff": 15
           },
           "zerolinecolor": "white",
           "zerolinewidth": 2
          },
          "yaxis": {
           "automargin": true,
           "gridcolor": "white",
           "linecolor": "white",
           "ticks": "",
           "title": {
            "standoff": 15
           },
           "zerolinecolor": "white",
           "zerolinewidth": 2
          }
         }
        },
        "title": {
         "text": "Distribuição de Notas de Leitura por Média Final"
        },
        "xaxis": {
         "anchor": "y",
         "domain": [
          0,
          1
         ],
         "title": {
          "text": "Média de Notas Finais"
         }
        },
        "yaxis": {
         "anchor": "x",
         "domain": [
          0,
          1
         ],
         "title": {
          "text": "math_score"
         }
        }
       }
      }
     },
     "metadata": {},
     "output_type": "display_data"
    }
   ],
   "source": [
    "# Create a plot scatter with the score distribution\n",
    "fig = px.scatter(df, x='final_score_avg', y='math_score', color='gender', title='Distribuição de Notas de Leitura por Média Final', labels={'final_score_avg': 'Média de Notas Finais', 'reading_score': 'Nota de Leitura'})\n",
    "\n",
    "fig.show()"
   ]
  },
  {
   "cell_type": "code",
   "execution_count": 14,
   "metadata": {},
   "outputs": [
    {
     "data": {
      "application/vnd.plotly.v1+json": {
       "config": {
        "plotlyServerURL": "https://plot.ly"
       },
       "data": [
        {
         "alignmentgroup": "True",
         "boxpoints": "all",
         "hovertemplate": "gender=female<br>Grupo Étnico=%{x}<br>Média da Pontuação Final=%{y}<extra></extra>",
         "legendgroup": "female",
         "marker": {
          "color": "#636efa"
         },
         "name": "female",
         "notched": false,
         "offsetgroup": "female",
         "orientation": "v",
         "showlegend": true,
         "type": "box",
         "x": [
          "group B",
          "group C",
          "group B",
          "group B",
          "group B",
          "group B",
          "group B",
          "group A",
          "group C",
          "group B",
          "group C",
          "group B",
          "group C",
          "group C",
          "group D",
          "group D",
          "group B",
          "group E",
          "group D",
          "group D",
          "group D",
          "group C",
          "group B",
          "group E",
          "group A",
          "group C",
          "group D",
          "group C",
          "group C",
          "group E",
          "group C",
          "group C",
          "group D",
          "group C",
          "group C",
          "group D",
          "group A",
          "group D",
          "group E",
          "group B",
          "group C",
          "group C",
          "group D",
          "group A",
          "group D",
          "group C",
          "group B",
          "group E",
          "group D",
          "group D",
          "group D",
          "group C",
          "group D",
          "group B",
          "group B",
          "group D",
          "group D",
          "group E",
          "group B",
          "group D",
          "group D",
          "group C",
          "group C",
          "group C",
          "group B",
          "group A",
          "group C",
          "group C",
          "group D",
          "group C",
          "group E",
          "group C",
          "group D",
          "group B",
          "group C",
          "group E",
          "group B",
          "group E",
          "group E",
          "group C",
          "group B",
          "group B",
          "group C",
          "group D",
          "group C",
          "group C",
          "group C",
          "group B",
          "group C",
          "group B",
          "group D",
          "group C",
          "group E",
          "group D",
          "group C",
          "group E",
          "group B",
          "group C",
          "group B",
          "group B",
          "group C",
          "group D",
          "group B",
          "group B",
          "group B",
          "group C",
          "group E",
          "group C",
          "group D",
          "group C",
          "group B",
          "group E",
          "group C",
          "group C",
          "group B",
          "group D",
          "group E",
          "group D",
          "group B",
          "group B",
          "group D",
          "group B",
          "group E",
          "group C",
          "group B",
          "group C",
          "group C",
          "group C",
          "group E",
          "group C",
          "group D",
          "group D",
          "group E",
          "group D",
          "group D",
          "group C",
          "group E",
          "group C",
          "group D",
          "group D",
          "group B",
          "group B",
          "group E",
          "group C",
          "group C",
          "group B",
          "group D",
          "group B",
          "group C",
          "group C",
          "group D",
          "group D",
          "group C",
          "group E",
          "group C",
          "group C",
          "group C",
          "group C",
          "group B",
          "group C",
          "group B",
          "group B",
          "group D",
          "group C",
          "group B",
          "group C",
          "group C",
          "group B",
          "group C",
          "group C",
          "group C",
          "group B",
          "group C",
          "group D",
          "group B",
          "group C",
          "group D",
          "group A",
          "group D",
          "group C",
          "group D",
          "group D",
          "group D",
          "group D",
          "group A",
          "group B",
          "group E",
          "group A",
          "group E",
          "group E",
          "group C",
          "group D",
          "group D",
          "group C",
          "group B",
          "group C",
          "group C",
          "group A",
          "group D",
          "group C",
          "group C",
          "group B",
          "group D",
          "group D",
          "group C",
          "group C",
          "group D",
          "group D",
          "group A",
          "group C",
          "group C",
          "group A",
          "group C",
          "group D",
          "group A",
          "group B",
          "group C",
          "group C",
          "group E",
          "group C",
          "group C",
          "group D",
          "group E",
          "group E",
          "group C",
          "group C",
          "group D",
          "group A",
          "group C",
          "group C",
          "group C",
          "group D",
          "group B",
          "group D",
          "group D",
          "group D",
          "group B",
          "group C",
          "group A",
          "group C",
          "group C",
          "group C",
          "group B",
          "group C",
          "group D",
          "group B",
          "group D",
          "group B",
          "group E",
          "group D",
          "group B",
          "group C",
          "group B",
          "group B",
          "group C",
          "group D",
          "group E",
          "group D",
          "group B",
          "group C",
          "group C",
          "group D",
          "group C",
          "group C",
          "group C",
          "group E",
          "group C",
          "group D",
          "group C",
          "group D",
          "group D",
          "group A",
          "group C",
          "group B",
          "group C",
          "group C",
          "group B",
          "group D",
          "group C",
          "group D",
          "group E",
          "group D",
          "group C",
          "group C",
          "group E",
          "group B",
          "group B",
          "group D",
          "group D",
          "group E",
          "group D",
          "group D",
          "group D",
          "group C",
          "group A",
          "group C",
          "group C",
          "group A",
          "group E",
          "group C",
          "group C",
          "group D",
          "group D",
          "group D",
          "group C",
          "group E",
          "group C",
          "group C",
          "group E",
          "group B",
          "group C",
          "group C",
          "group A",
          "group C",
          "group E",
          "group C",
          "group E",
          "group C",
          "group B",
          "group C",
          "group B",
          "group D",
          "group D",
          "group D",
          "group B",
          "group E",
          "group B",
          "group D",
          "group E",
          "group B",
          "group D",
          "group A",
          "group D",
          "group A",
          "group B",
          "group B",
          "group D",
          "group D",
          "group C",
          "group C",
          "group C",
          "group B",
          "group C",
          "group C",
          "group C",
          "group D",
          "group B",
          "group E",
          "group C",
          "group D",
          "group C",
          "group E",
          "group C",
          "group E",
          "group C",
          "group D",
          "group C",
          "group D",
          "group C",
          "group A",
          "group D",
          "group E",
          "group B",
          "group D",
          "group B",
          "group D",
          "group E",
          "group D",
          "group B",
          "group B",
          "group C",
          "group C",
          "group C",
          "group B",
          "group E",
          "group D",
          "group B",
          "group C",
          "group E",
          "group B",
          "group A",
          "group C",
          "group C",
          "group C",
          "group C",
          "group E",
          "group D",
          "group C",
          "group D",
          "group B",
          "group B",
          "group C",
          "group D",
          "group B",
          "group C",
          "group B",
          "group B",
          "group C",
          "group A",
          "group D",
          "group B",
          "group B",
          "group C",
          "group B",
          "group E",
          "group B",
          "group C",
          "group B",
          "group D",
          "group B",
          "group E",
          "group E",
          "group C",
          "group E",
          "group B",
          "group C",
          "group D",
          "group E",
          "group C",
          "group C",
          "group A",
          "group B",
          "group C",
          "group A",
          "group D",
          "group B",
          "group C",
          "group C",
          "group C",
          "group D",
          "group A",
          "group C",
          "group B",
          "group C",
          "group A",
          "group C",
          "group D",
          "group B",
          "group D",
          "group C",
          "group A",
          "group E",
          "group B",
          "group C",
          "group C",
          "group E",
          "group C",
          "group C",
          "group C",
          "group D",
          "group D",
          "group E",
          "group B",
          "group E",
          "group C",
          "group E",
          "group D",
          "group E",
          "group E",
          "group A",
          "group E",
          "group E",
          "group B",
          "group D",
          "group C",
          "group A",
          "group D",
          "group D",
          "group D",
          "group C",
          "group A",
          "group C",
          "group C",
          "group B",
          "group E",
          "group C",
          "group C",
          "group C",
          "group B",
          "group D",
          "group C",
          "group E",
          "group D",
          "group B",
          "group C",
          "group D",
          "group E",
          "group D",
          "group E",
          "group C",
          "group D",
          "group D",
          "group A",
          "group D",
          "group E",
          "group C",
          "group D",
          "group E",
          "group B",
          "group D",
          "group A",
          "group D",
          "group A",
          "group C",
          "group C",
          "group B",
          "group A",
          "group C",
          "group C",
          "group A",
          "group D",
          "group B",
          "group D",
          "group D",
          "group E",
          "group C",
          "group D",
          "group D"
         ],
         "x0": " ",
         "xaxis": "x",
         "y": [
          73,
          82,
          93,
          77,
          92,
          49,
          73,
          54,
          74,
          26,
          58,
          70,
          72,
          70,
          69,
          72,
          63,
          64,
          79,
          58,
          84,
          66,
          59,
          53,
          61,
          71,
          69,
          81,
          39,
          84,
          9,
          73,
          59,
          69,
          53,
          65,
          47,
          69,
          66,
          49,
          78,
          82,
          72,
          65,
          80,
          70,
          86,
          68,
          62,
          65,
          88,
          66,
          96,
          66,
          69,
          88,
          54,
          100,
          81,
          80,
          58,
          63,
          87,
          91,
          89,
          50,
          80,
          64,
          73,
          62,
          50,
          31,
          75,
          65,
          82,
          73,
          78,
          83,
          88,
          99,
          71,
          76,
          71,
          82,
          67,
          49,
          86,
          53,
          75,
          61,
          99,
          59,
          49,
          68,
          84,
          67,
          64,
          79,
          51,
          78,
          79,
          74,
          65,
          77,
          62,
          55,
          86,
          38,
          66,
          61,
          64,
          52,
          72,
          92,
          79,
          66,
          82,
          54,
          65,
          64,
          79,
          67,
          68,
          68,
          74,
          76,
          73,
          48,
          94,
          73,
          73,
          92,
          72,
          53,
          69,
          90,
          66,
          77,
          79,
          75,
          43,
          79,
          71,
          77,
          77,
          64,
          53,
          76,
          68,
          66,
          83,
          61,
          77,
          80,
          77,
          50,
          43,
          89,
          49,
          90,
          65,
          30,
          50,
          66,
          73,
          76,
          89,
          62,
          74,
          54,
          67,
          68,
          59,
          86,
          60,
          56,
          31,
          55,
          81,
          63,
          92,
          67,
          84,
          93,
          77,
          83,
          44,
          41,
          73,
          69,
          67,
          63,
          74,
          72,
          60,
          90,
          60,
          56,
          96,
          58,
          68,
          80,
          55,
          72,
          67,
          89,
          60,
          57,
          75,
          64,
          68,
          52,
          76,
          80,
          67,
          77,
          73,
          78,
          96,
          72,
          59,
          86,
          100,
          72,
          86,
          87,
          32,
          83,
          86,
          69,
          79,
          62,
          90,
          77,
          63,
          56,
          52,
          70,
          75,
          66,
          85,
          86,
          62,
          51,
          71,
          68,
          78,
          91,
          92,
          51,
          81,
          88,
          59,
          89,
          83,
          82,
          71,
          74,
          75,
          87,
          44,
          39,
          69,
          69,
          51,
          87,
          77,
          60,
          79,
          89,
          64,
          96,
          64,
          46,
          35,
          69,
          64,
          76,
          70,
          74,
          97,
          70,
          57,
          60,
          75,
          87,
          54,
          61,
          91,
          79,
          71,
          76,
          74,
          72,
          67,
          56,
          61,
          60,
          74,
          97,
          69,
          73,
          76,
          59,
          29,
          78,
          84,
          51,
          62,
          62,
          61,
          72,
          89,
          67,
          40,
          50,
          60,
          50,
          74,
          83,
          76,
          87,
          74,
          84,
          77,
          78,
          76,
          65,
          65,
          53,
          76,
          75,
          90,
          70,
          77,
          65,
          54,
          65,
          67,
          57,
          69,
          83,
          70,
          74,
          78,
          75,
          60,
          76,
          76,
          71,
          38,
          98,
          52,
          76,
          74,
          76,
          56,
          85,
          82,
          67,
          71,
          81,
          65,
          65,
          62,
          54,
          83,
          99,
          68,
          86,
          97,
          75,
          68,
          84,
          72,
          83,
          75,
          90,
          56,
          64,
          50,
          82,
          68,
          56,
          84,
          90,
          59,
          63,
          53,
          62,
          73,
          70,
          71,
          64,
          73,
          54,
          69,
          41,
          78,
          53,
          84,
          81,
          58,
          42,
          76,
          30,
          59,
          57,
          65,
          48,
          66,
          78,
          55,
          92,
          85,
          76,
          71,
          42,
          62,
          78,
          56,
          67,
          85,
          89,
          87,
          80,
          53,
          65,
          70,
          79,
          59,
          83,
          83,
          66,
          79,
          72,
          46,
          34,
          56,
          66,
          64,
          88,
          97,
          75,
          56,
          85,
          74,
          73,
          55,
          70,
          71,
          70,
          69,
          52,
          73,
          96,
          69,
          87,
          87,
          63,
          63,
          35,
          73,
          75,
          75,
          41,
          98,
          78,
          85,
          71,
          78,
          60,
          58,
          54,
          68,
          52,
          71,
          45,
          61,
          66,
          52,
          57,
          88,
          62,
          58,
          56,
          68,
          78,
          73,
          67,
          97,
          56,
          59,
          52,
          100,
          72,
          68,
          70,
          80,
          96,
          54,
          58,
          61,
          74,
          93,
          18,
          85,
          77,
          50,
          45,
          79,
          75,
          69,
          69,
          94,
          65,
          74,
          83
         ],
         "y0": " ",
         "yaxis": "y"
        },
        {
         "alignmentgroup": "True",
         "boxpoints": "all",
         "hovertemplate": "gender=male<br>Grupo Étnico=%{x}<br>Média da Pontuação Final=%{y}<extra></extra>",
         "legendgroup": "male",
         "marker": {
          "color": "#EF553B"
         },
         "name": "male",
         "notched": false,
         "offsetgroup": "male",
         "orientation": "v",
         "showlegend": true,
         "type": "box",
         "x": [
          "group A",
          "group C",
          "group B",
          "group D",
          "group C",
          "group D",
          "group A",
          "group C",
          "group C",
          "group D",
          "group D",
          "group D",
          "group A",
          "group B",
          "group C",
          "group D",
          "group E",
          "group E",
          "group B",
          "group C",
          "group B",
          "group B",
          "group C",
          "group E",
          "group E",
          "group C",
          "group D",
          "group D",
          "group D",
          "group E",
          "group A",
          "group A",
          "group B",
          "group D",
          "group B",
          "group D",
          "group C",
          "group C",
          "group B",
          "group E",
          "group A",
          "group B",
          "group A",
          "group E",
          "group D",
          "group C",
          "group C",
          "group C",
          "group C",
          "group B",
          "group B",
          "group D",
          "group B",
          "group C",
          "group E",
          "group C",
          "group A",
          "group C",
          "group B",
          "group D",
          "group E",
          "group B",
          "group D",
          "group D",
          "group D",
          "group C",
          "group E",
          "group D",
          "group C",
          "group B",
          "group E",
          "group D",
          "group A",
          "group D",
          "group B",
          "group C",
          "group E",
          "group A",
          "group A",
          "group D",
          "group D",
          "group B",
          "group D",
          "group B",
          "group B",
          "group C",
          "group C",
          "group A",
          "group E",
          "group C",
          "group C",
          "group C",
          "group E",
          "group D",
          "group B",
          "group D",
          "group D",
          "group D",
          "group C",
          "group E",
          "group C",
          "group C",
          "group D",
          "group E",
          "group E",
          "group D",
          "group C",
          "group C",
          "group E",
          "group B",
          "group B",
          "group B",
          "group B",
          "group D",
          "group D",
          "group A",
          "group D",
          "group C",
          "group E",
          "group C",
          "group D",
          "group D",
          "group B",
          "group C",
          "group D",
          "group E",
          "group D",
          "group C",
          "group E",
          "group C",
          "group A",
          "group D",
          "group D",
          "group C",
          "group C",
          "group D",
          "group D",
          "group C",
          "group C",
          "group B",
          "group C",
          "group B",
          "group D",
          "group D",
          "group B",
          "group E",
          "group B",
          "group E",
          "group C",
          "group D",
          "group C",
          "group D",
          "group B",
          "group A",
          "group E",
          "group C",
          "group D",
          "group A",
          "group D",
          "group B",
          "group A",
          "group E",
          "group C",
          "group B",
          "group D",
          "group C",
          "group C",
          "group B",
          "group C",
          "group A",
          "group C",
          "group C",
          "group C",
          "group E",
          "group B",
          "group D",
          "group C",
          "group C",
          "group D",
          "group D",
          "group B",
          "group D",
          "group E",
          "group E",
          "group A",
          "group D",
          "group B",
          "group C",
          "group A",
          "group C",
          "group C",
          "group E",
          "group D",
          "group E",
          "group A",
          "group C",
          "group C",
          "group D",
          "group E",
          "group E",
          "group C",
          "group A",
          "group B",
          "group D",
          "group A",
          "group B",
          "group D",
          "group E",
          "group D",
          "group B",
          "group E",
          "group C",
          "group C",
          "group D",
          "group E",
          "group B",
          "group C",
          "group C",
          "group A",
          "group C",
          "group C",
          "group C",
          "group C",
          "group C",
          "group D",
          "group D",
          "group C",
          "group D",
          "group A",
          "group D",
          "group C",
          "group B",
          "group B",
          "group C",
          "group C",
          "group D",
          "group B",
          "group C",
          "group B",
          "group A",
          "group A",
          "group C",
          "group E",
          "group D",
          "group E",
          "group B",
          "group C",
          "group A",
          "group C",
          "group D",
          "group B",
          "group A",
          "group D",
          "group E",
          "group C",
          "group A",
          "group B",
          "group C",
          "group D",
          "group A",
          "group D",
          "group D",
          "group D",
          "group C",
          "group C",
          "group E",
          "group C",
          "group E",
          "group B",
          "group C",
          "group E",
          "group A",
          "group C",
          "group D",
          "group E",
          "group C",
          "group C",
          "group C",
          "group B",
          "group D",
          "group E",
          "group C",
          "group D",
          "group C",
          "group B",
          "group B",
          "group B",
          "group D",
          "group B",
          "group A",
          "group A",
          "group A",
          "group C",
          "group A",
          "group E",
          "group B",
          "group A",
          "group D",
          "group D",
          "group C",
          "group D",
          "group C",
          "group D",
          "group D",
          "group C",
          "group B",
          "group C",
          "group A",
          "group D",
          "group B",
          "group D",
          "group D",
          "group D",
          "group B",
          "group D",
          "group A",
          "group E",
          "group D",
          "group B",
          "group C",
          "group C",
          "group D",
          "group D",
          "group C",
          "group C",
          "group D",
          "group C",
          "group D",
          "group D",
          "group D",
          "group D",
          "group B",
          "group B",
          "group B",
          "group E",
          "group D",
          "group A",
          "group E",
          "group C",
          "group A",
          "group A",
          "group D",
          "group C",
          "group D",
          "group C",
          "group D",
          "group C",
          "group E",
          "group D",
          "group C",
          "group B",
          "group E",
          "group E",
          "group C",
          "group A",
          "group D",
          "group C",
          "group C",
          "group D",
          "group C",
          "group D",
          "group B",
          "group D",
          "group D",
          "group C",
          "group B",
          "group D",
          "group E",
          "group C",
          "group C",
          "group D",
          "group E",
          "group B",
          "group D",
          "group D",
          "group B",
          "group A",
          "group B",
          "group D",
          "group B",
          "group E",
          "group C",
          "group C",
          "group D",
          "group E",
          "group D",
          "group E",
          "group C",
          "group C",
          "group A",
          "group C",
          "group B",
          "group A",
          "group A",
          "group E",
          "group B",
          "group D",
          "group E",
          "group C",
          "group B",
          "group A",
          "group B",
          "group E",
          "group B",
          "group C",
          "group B",
          "group E",
          "group C",
          "group D",
          "group D",
          "group C",
          "group E",
          "group C",
          "group B",
          "group B",
          "group C",
          "group D",
          "group C",
          "group D",
          "group C",
          "group B",
          "group E",
          "group C",
          "group B",
          "group B",
          "group E",
          "group C",
          "group D",
          "group C",
          "group C",
          "group D",
          "group C",
          "group D",
          "group D",
          "group B",
          "group D",
          "group D",
          "group D",
          "group B",
          "group E",
          "group D",
          "group E",
          "group B",
          "group D",
          "group D",
          "group D",
          "group E",
          "group E",
          "group E",
          "group C",
          "group D",
          "group D",
          "group C",
          "group C",
          "group D",
          "group A",
          "group D",
          "group D",
          "group C",
          "group C",
          "group A",
          "group B",
          "group B",
          "group E",
          "group C",
          "group E",
          "group C",
          "group C",
          "group D",
          "group A",
          "group C",
          "group C",
          "group B",
          "group C",
          "group D",
          "group D",
          "group B",
          "group A",
          "group E",
          "group E",
          "group A",
          "group C"
         ],
         "x0": " ",
         "xaxis": "x",
         "y": [
          49,
          76,
          41,
          65,
          55,
          45,
          73,
          88,
          45,
          66,
          50,
          75,
          73,
          59,
          68,
          40,
          89,
          80,
          57,
          57,
          63,
          59,
          83,
          52,
          71,
          46,
          80,
          52,
          58,
          75,
          37,
          59,
          64,
          40,
          58,
          60,
          58,
          46,
          41,
          26,
          80,
          46,
          50,
          66,
          38,
          32,
          74,
          46,
          80,
          64,
          71,
          72,
          50,
          91,
          64,
          55,
          51,
          78,
          91,
          59,
          79,
          69,
          72,
          79,
          85,
          43,
          77,
          76,
          54,
          49,
          60,
          67,
          49,
          80,
          82,
          69,
          98,
          66,
          71,
          50,
          63,
          60,
          64,
          78,
          51,
          51,
          52,
          73,
          87,
          68,
          49,
          66,
          74,
          65,
          48,
          79,
          67,
          56,
          64,
          54,
          72,
          47,
          74,
          69,
          79,
          79,
          30,
          56,
          86,
          81,
          71,
          58,
          82,
          80,
          54,
          68,
          69,
          44,
          86,
          83,
          77,
          65,
          52,
          81,
          69,
          51,
          73,
          77,
          80,
          60,
          48,
          77,
          53,
          77,
          79,
          72,
          47,
          64,
          50,
          83,
          78,
          62,
          49,
          46,
          82,
          89,
          80,
          77,
          71,
          76,
          60,
          78,
          63,
          43,
          71,
          45,
          84,
          80,
          54,
          73,
          68,
          89,
          49,
          61,
          65,
          67,
          78,
          68,
          61,
          23,
          78,
          64,
          40,
          57,
          83,
          72,
          48,
          57,
          69,
          73,
          60,
          72,
          79,
          58,
          62,
          61,
          82,
          59,
          56,
          60,
          63,
          77,
          73,
          43,
          64,
          94,
          77,
          73,
          66,
          70,
          56,
          45,
          65,
          58,
          46,
          64,
          85,
          82,
          66,
          66,
          75,
          71,
          71,
          63,
          56,
          38,
          85,
          68,
          59,
          62,
          63,
          57,
          68,
          50,
          69,
          71,
          59,
          86,
          78,
          65,
          82,
          45,
          75,
          57,
          47,
          52,
          68,
          55,
          51,
          65,
          68,
          80,
          68,
          73,
          71,
          71,
          66,
          52,
          72,
          55,
          58,
          81,
          66,
          73,
          59,
          68,
          56,
          78,
          73,
          52,
          54,
          57,
          61,
          54,
          51,
          62,
          59,
          60,
          70,
          56,
          74,
          92,
          71,
          80,
          80,
          68,
          73,
          73,
          88,
          68,
          46,
          65,
          67,
          93,
          48,
          45,
          53,
          68,
          72,
          93,
          49,
          55,
          56,
          61,
          67,
          23,
          52,
          56,
          88,
          70,
          64,
          92,
          83,
          87,
          69,
          60,
          54,
          94,
          99,
          67,
          52,
          51,
          67,
          68,
          83,
          70,
          79,
          48,
          65,
          53,
          69,
          65,
          87,
          75,
          67,
          69,
          69,
          77,
          53,
          78,
          61,
          63,
          57,
          65,
          76,
          76,
          52,
          89,
          64,
          86,
          66,
          39,
          59,
          85,
          89,
          82,
          74,
          81,
          58,
          47,
          44,
          75,
          59,
          43,
          48,
          49,
          61,
          85,
          75,
          59,
          75,
          52,
          75,
          72,
          67,
          86,
          69,
          68,
          77,
          55,
          55,
          70,
          74,
          82,
          61,
          66,
          58,
          50,
          74,
          64,
          87,
          84,
          65,
          70,
          83,
          70,
          61,
          69,
          76,
          77,
          78,
          55,
          39,
          47,
          82,
          89,
          69,
          51,
          62,
          58,
          61,
          51,
          65,
          56,
          58,
          76,
          86,
          87,
          56,
          75,
          68,
          70,
          60,
          69,
          49,
          77,
          40,
          94,
          84,
          55,
          48,
          75,
          50,
          55,
          81,
          87,
          70,
          82,
          57,
          64,
          48,
          62,
          48,
          79,
          31,
          61,
          86,
          81,
          52,
          68,
          47,
          100,
          93,
          69,
          68,
          71,
          66,
          57,
          44,
          70,
          60,
          68,
          73,
          92,
          64,
          59,
          84,
          71,
          70,
          70,
          61,
          81,
          50,
          79,
          55,
          64,
          84,
          76,
          62,
          66,
          62,
          73,
          61,
          62,
          48,
          79,
          83,
          54,
          77,
          81,
          63,
          57
         ],
         "y0": " ",
         "yaxis": "y"
        }
       ],
       "layout": {
        "boxmode": "group",
        "legend": {
         "title": {
          "text": "gender"
         },
         "tracegroupgap": 0
        },
        "template": {
         "data": {
          "bar": [
           {
            "error_x": {
             "color": "#2a3f5f"
            },
            "error_y": {
             "color": "#2a3f5f"
            },
            "marker": {
             "line": {
              "color": "#E5ECF6",
              "width": 0.5
             },
             "pattern": {
              "fillmode": "overlay",
              "size": 10,
              "solidity": 0.2
             }
            },
            "type": "bar"
           }
          ],
          "barpolar": [
           {
            "marker": {
             "line": {
              "color": "#E5ECF6",
              "width": 0.5
             },
             "pattern": {
              "fillmode": "overlay",
              "size": 10,
              "solidity": 0.2
             }
            },
            "type": "barpolar"
           }
          ],
          "carpet": [
           {
            "aaxis": {
             "endlinecolor": "#2a3f5f",
             "gridcolor": "white",
             "linecolor": "white",
             "minorgridcolor": "white",
             "startlinecolor": "#2a3f5f"
            },
            "baxis": {
             "endlinecolor": "#2a3f5f",
             "gridcolor": "white",
             "linecolor": "white",
             "minorgridcolor": "white",
             "startlinecolor": "#2a3f5f"
            },
            "type": "carpet"
           }
          ],
          "choropleth": [
           {
            "colorbar": {
             "outlinewidth": 0,
             "ticks": ""
            },
            "type": "choropleth"
           }
          ],
          "contour": [
           {
            "colorbar": {
             "outlinewidth": 0,
             "ticks": ""
            },
            "colorscale": [
             [
              0,
              "#0d0887"
             ],
             [
              0.1111111111111111,
              "#46039f"
             ],
             [
              0.2222222222222222,
              "#7201a8"
             ],
             [
              0.3333333333333333,
              "#9c179e"
             ],
             [
              0.4444444444444444,
              "#bd3786"
             ],
             [
              0.5555555555555556,
              "#d8576b"
             ],
             [
              0.6666666666666666,
              "#ed7953"
             ],
             [
              0.7777777777777778,
              "#fb9f3a"
             ],
             [
              0.8888888888888888,
              "#fdca26"
             ],
             [
              1,
              "#f0f921"
             ]
            ],
            "type": "contour"
           }
          ],
          "contourcarpet": [
           {
            "colorbar": {
             "outlinewidth": 0,
             "ticks": ""
            },
            "type": "contourcarpet"
           }
          ],
          "heatmap": [
           {
            "colorbar": {
             "outlinewidth": 0,
             "ticks": ""
            },
            "colorscale": [
             [
              0,
              "#0d0887"
             ],
             [
              0.1111111111111111,
              "#46039f"
             ],
             [
              0.2222222222222222,
              "#7201a8"
             ],
             [
              0.3333333333333333,
              "#9c179e"
             ],
             [
              0.4444444444444444,
              "#bd3786"
             ],
             [
              0.5555555555555556,
              "#d8576b"
             ],
             [
              0.6666666666666666,
              "#ed7953"
             ],
             [
              0.7777777777777778,
              "#fb9f3a"
             ],
             [
              0.8888888888888888,
              "#fdca26"
             ],
             [
              1,
              "#f0f921"
             ]
            ],
            "type": "heatmap"
           }
          ],
          "heatmapgl": [
           {
            "colorbar": {
             "outlinewidth": 0,
             "ticks": ""
            },
            "colorscale": [
             [
              0,
              "#0d0887"
             ],
             [
              0.1111111111111111,
              "#46039f"
             ],
             [
              0.2222222222222222,
              "#7201a8"
             ],
             [
              0.3333333333333333,
              "#9c179e"
             ],
             [
              0.4444444444444444,
              "#bd3786"
             ],
             [
              0.5555555555555556,
              "#d8576b"
             ],
             [
              0.6666666666666666,
              "#ed7953"
             ],
             [
              0.7777777777777778,
              "#fb9f3a"
             ],
             [
              0.8888888888888888,
              "#fdca26"
             ],
             [
              1,
              "#f0f921"
             ]
            ],
            "type": "heatmapgl"
           }
          ],
          "histogram": [
           {
            "marker": {
             "pattern": {
              "fillmode": "overlay",
              "size": 10,
              "solidity": 0.2
             }
            },
            "type": "histogram"
           }
          ],
          "histogram2d": [
           {
            "colorbar": {
             "outlinewidth": 0,
             "ticks": ""
            },
            "colorscale": [
             [
              0,
              "#0d0887"
             ],
             [
              0.1111111111111111,
              "#46039f"
             ],
             [
              0.2222222222222222,
              "#7201a8"
             ],
             [
              0.3333333333333333,
              "#9c179e"
             ],
             [
              0.4444444444444444,
              "#bd3786"
             ],
             [
              0.5555555555555556,
              "#d8576b"
             ],
             [
              0.6666666666666666,
              "#ed7953"
             ],
             [
              0.7777777777777778,
              "#fb9f3a"
             ],
             [
              0.8888888888888888,
              "#fdca26"
             ],
             [
              1,
              "#f0f921"
             ]
            ],
            "type": "histogram2d"
           }
          ],
          "histogram2dcontour": [
           {
            "colorbar": {
             "outlinewidth": 0,
             "ticks": ""
            },
            "colorscale": [
             [
              0,
              "#0d0887"
             ],
             [
              0.1111111111111111,
              "#46039f"
             ],
             [
              0.2222222222222222,
              "#7201a8"
             ],
             [
              0.3333333333333333,
              "#9c179e"
             ],
             [
              0.4444444444444444,
              "#bd3786"
             ],
             [
              0.5555555555555556,
              "#d8576b"
             ],
             [
              0.6666666666666666,
              "#ed7953"
             ],
             [
              0.7777777777777778,
              "#fb9f3a"
             ],
             [
              0.8888888888888888,
              "#fdca26"
             ],
             [
              1,
              "#f0f921"
             ]
            ],
            "type": "histogram2dcontour"
           }
          ],
          "mesh3d": [
           {
            "colorbar": {
             "outlinewidth": 0,
             "ticks": ""
            },
            "type": "mesh3d"
           }
          ],
          "parcoords": [
           {
            "line": {
             "colorbar": {
              "outlinewidth": 0,
              "ticks": ""
             }
            },
            "type": "parcoords"
           }
          ],
          "pie": [
           {
            "automargin": true,
            "type": "pie"
           }
          ],
          "scatter": [
           {
            "fillpattern": {
             "fillmode": "overlay",
             "size": 10,
             "solidity": 0.2
            },
            "type": "scatter"
           }
          ],
          "scatter3d": [
           {
            "line": {
             "colorbar": {
              "outlinewidth": 0,
              "ticks": ""
             }
            },
            "marker": {
             "colorbar": {
              "outlinewidth": 0,
              "ticks": ""
             }
            },
            "type": "scatter3d"
           }
          ],
          "scattercarpet": [
           {
            "marker": {
             "colorbar": {
              "outlinewidth": 0,
              "ticks": ""
             }
            },
            "type": "scattercarpet"
           }
          ],
          "scattergeo": [
           {
            "marker": {
             "colorbar": {
              "outlinewidth": 0,
              "ticks": ""
             }
            },
            "type": "scattergeo"
           }
          ],
          "scattergl": [
           {
            "marker": {
             "colorbar": {
              "outlinewidth": 0,
              "ticks": ""
             }
            },
            "type": "scattergl"
           }
          ],
          "scattermapbox": [
           {
            "marker": {
             "colorbar": {
              "outlinewidth": 0,
              "ticks": ""
             }
            },
            "type": "scattermapbox"
           }
          ],
          "scatterpolar": [
           {
            "marker": {
             "colorbar": {
              "outlinewidth": 0,
              "ticks": ""
             }
            },
            "type": "scatterpolar"
           }
          ],
          "scatterpolargl": [
           {
            "marker": {
             "colorbar": {
              "outlinewidth": 0,
              "ticks": ""
             }
            },
            "type": "scatterpolargl"
           }
          ],
          "scatterternary": [
           {
            "marker": {
             "colorbar": {
              "outlinewidth": 0,
              "ticks": ""
             }
            },
            "type": "scatterternary"
           }
          ],
          "surface": [
           {
            "colorbar": {
             "outlinewidth": 0,
             "ticks": ""
            },
            "colorscale": [
             [
              0,
              "#0d0887"
             ],
             [
              0.1111111111111111,
              "#46039f"
             ],
             [
              0.2222222222222222,
              "#7201a8"
             ],
             [
              0.3333333333333333,
              "#9c179e"
             ],
             [
              0.4444444444444444,
              "#bd3786"
             ],
             [
              0.5555555555555556,
              "#d8576b"
             ],
             [
              0.6666666666666666,
              "#ed7953"
             ],
             [
              0.7777777777777778,
              "#fb9f3a"
             ],
             [
              0.8888888888888888,
              "#fdca26"
             ],
             [
              1,
              "#f0f921"
             ]
            ],
            "type": "surface"
           }
          ],
          "table": [
           {
            "cells": {
             "fill": {
              "color": "#EBF0F8"
             },
             "line": {
              "color": "white"
             }
            },
            "header": {
             "fill": {
              "color": "#C8D4E3"
             },
             "line": {
              "color": "white"
             }
            },
            "type": "table"
           }
          ]
         },
         "layout": {
          "annotationdefaults": {
           "arrowcolor": "#2a3f5f",
           "arrowhead": 0,
           "arrowwidth": 1
          },
          "autotypenumbers": "strict",
          "coloraxis": {
           "colorbar": {
            "outlinewidth": 0,
            "ticks": ""
           }
          },
          "colorscale": {
           "diverging": [
            [
             0,
             "#8e0152"
            ],
            [
             0.1,
             "#c51b7d"
            ],
            [
             0.2,
             "#de77ae"
            ],
            [
             0.3,
             "#f1b6da"
            ],
            [
             0.4,
             "#fde0ef"
            ],
            [
             0.5,
             "#f7f7f7"
            ],
            [
             0.6,
             "#e6f5d0"
            ],
            [
             0.7,
             "#b8e186"
            ],
            [
             0.8,
             "#7fbc41"
            ],
            [
             0.9,
             "#4d9221"
            ],
            [
             1,
             "#276419"
            ]
           ],
           "sequential": [
            [
             0,
             "#0d0887"
            ],
            [
             0.1111111111111111,
             "#46039f"
            ],
            [
             0.2222222222222222,
             "#7201a8"
            ],
            [
             0.3333333333333333,
             "#9c179e"
            ],
            [
             0.4444444444444444,
             "#bd3786"
            ],
            [
             0.5555555555555556,
             "#d8576b"
            ],
            [
             0.6666666666666666,
             "#ed7953"
            ],
            [
             0.7777777777777778,
             "#fb9f3a"
            ],
            [
             0.8888888888888888,
             "#fdca26"
            ],
            [
             1,
             "#f0f921"
            ]
           ],
           "sequentialminus": [
            [
             0,
             "#0d0887"
            ],
            [
             0.1111111111111111,
             "#46039f"
            ],
            [
             0.2222222222222222,
             "#7201a8"
            ],
            [
             0.3333333333333333,
             "#9c179e"
            ],
            [
             0.4444444444444444,
             "#bd3786"
            ],
            [
             0.5555555555555556,
             "#d8576b"
            ],
            [
             0.6666666666666666,
             "#ed7953"
            ],
            [
             0.7777777777777778,
             "#fb9f3a"
            ],
            [
             0.8888888888888888,
             "#fdca26"
            ],
            [
             1,
             "#f0f921"
            ]
           ]
          },
          "colorway": [
           "#636efa",
           "#EF553B",
           "#00cc96",
           "#ab63fa",
           "#FFA15A",
           "#19d3f3",
           "#FF6692",
           "#B6E880",
           "#FF97FF",
           "#FECB52"
          ],
          "font": {
           "color": "#2a3f5f"
          },
          "geo": {
           "bgcolor": "white",
           "lakecolor": "white",
           "landcolor": "#E5ECF6",
           "showlakes": true,
           "showland": true,
           "subunitcolor": "white"
          },
          "hoverlabel": {
           "align": "left"
          },
          "hovermode": "closest",
          "mapbox": {
           "style": "light"
          },
          "paper_bgcolor": "white",
          "plot_bgcolor": "#E5ECF6",
          "polar": {
           "angularaxis": {
            "gridcolor": "white",
            "linecolor": "white",
            "ticks": ""
           },
           "bgcolor": "#E5ECF6",
           "radialaxis": {
            "gridcolor": "white",
            "linecolor": "white",
            "ticks": ""
           }
          },
          "scene": {
           "xaxis": {
            "backgroundcolor": "#E5ECF6",
            "gridcolor": "white",
            "gridwidth": 2,
            "linecolor": "white",
            "showbackground": true,
            "ticks": "",
            "zerolinecolor": "white"
           },
           "yaxis": {
            "backgroundcolor": "#E5ECF6",
            "gridcolor": "white",
            "gridwidth": 2,
            "linecolor": "white",
            "showbackground": true,
            "ticks": "",
            "zerolinecolor": "white"
           },
           "zaxis": {
            "backgroundcolor": "#E5ECF6",
            "gridcolor": "white",
            "gridwidth": 2,
            "linecolor": "white",
            "showbackground": true,
            "ticks": "",
            "zerolinecolor": "white"
           }
          },
          "shapedefaults": {
           "line": {
            "color": "#2a3f5f"
           }
          },
          "ternary": {
           "aaxis": {
            "gridcolor": "white",
            "linecolor": "white",
            "ticks": ""
           },
           "baxis": {
            "gridcolor": "white",
            "linecolor": "white",
            "ticks": ""
           },
           "bgcolor": "#E5ECF6",
           "caxis": {
            "gridcolor": "white",
            "linecolor": "white",
            "ticks": ""
           }
          },
          "title": {
           "x": 0.05
          },
          "xaxis": {
           "automargin": true,
           "gridcolor": "white",
           "linecolor": "white",
           "ticks": "",
           "title": {
            "standoff": 15
           },
           "zerolinecolor": "white",
           "zerolinewidth": 2
          },
          "yaxis": {
           "automargin": true,
           "gridcolor": "white",
           "linecolor": "white",
           "ticks": "",
           "title": {
            "standoff": 15
           },
           "zerolinecolor": "white",
           "zerolinewidth": 2
          }
         }
        },
        "title": {
         "text": "Distribuição da Pontuação Final por Gênero e Grupo Étnico"
        },
        "xaxis": {
         "anchor": "y",
         "domain": [
          0,
          1
         ],
         "title": {
          "text": "Grupo Étnico"
         }
        },
        "yaxis": {
         "anchor": "x",
         "domain": [
          0,
          1
         ],
         "title": {
          "text": "Média da Pontuação Final"
         }
        }
       }
      }
     },
     "metadata": {},
     "output_type": "display_data"
    }
   ],
   "source": [
    "fig = px.box(df, x=\"race_ethnicity\", y=\"final_score_avg\", color=\"gender\",\n",
    "             title=\"Distribuição da Pontuação Final por Gênero e Grupo Étnico\",\n",
    "             labels={\"race_ethnicity\": \"Grupo Étnico\", \"final_score_avg\": \"Média da Pontuação Final\"},\n",
    "             points=\"all\")  # Adiciona pontos individuais ao box plot\n",
    "\n",
    "fig.show()"
   ]
  },
  {
   "cell_type": "code",
   "execution_count": 15,
   "metadata": {},
   "outputs": [
    {
     "data": {
      "application/vnd.plotly.v1+json": {
       "config": {
        "plotlyServerURL": "https://plot.ly"
       },
       "data": [
        {
         "alignmentgroup": "True",
         "hovertemplate": "gender=female<br>test_preparation_course=%{x}<br>Média da Pontuação Final=%{y}<extra></extra>",
         "legendgroup": "female",
         "marker": {
          "color": "#636efa",
          "pattern": {
           "shape": ""
          }
         },
         "name": "female",
         "offsetgroup": "female",
         "orientation": "v",
         "showlegend": true,
         "textposition": "auto",
         "type": "bar",
         "x": [
          "completed",
          "none"
         ],
         "xaxis": "x",
         "y": [
          75,
          67.5
         ],
         "yaxis": "y"
        },
        {
         "alignmentgroup": "True",
         "hovertemplate": "gender=male<br>test_preparation_course=%{x}<br>Média da Pontuação Final=%{y}<extra></extra>",
         "legendgroup": "male",
         "marker": {
          "color": "#EF553B",
          "pattern": {
           "shape": ""
          }
         },
         "name": "male",
         "offsetgroup": "male",
         "orientation": "v",
         "showlegend": true,
         "textposition": "auto",
         "type": "bar",
         "x": [
          "completed",
          "none"
         ],
         "xaxis": "x",
         "y": [
          71,
          63
         ],
         "yaxis": "y"
        }
       ],
       "layout": {
        "barmode": "group",
        "legend": {
         "title": {
          "text": "gender"
         },
         "tracegroupgap": 0
        },
        "template": {
         "data": {
          "bar": [
           {
            "error_x": {
             "color": "#2a3f5f"
            },
            "error_y": {
             "color": "#2a3f5f"
            },
            "marker": {
             "line": {
              "color": "#E5ECF6",
              "width": 0.5
             },
             "pattern": {
              "fillmode": "overlay",
              "size": 10,
              "solidity": 0.2
             }
            },
            "type": "bar"
           }
          ],
          "barpolar": [
           {
            "marker": {
             "line": {
              "color": "#E5ECF6",
              "width": 0.5
             },
             "pattern": {
              "fillmode": "overlay",
              "size": 10,
              "solidity": 0.2
             }
            },
            "type": "barpolar"
           }
          ],
          "carpet": [
           {
            "aaxis": {
             "endlinecolor": "#2a3f5f",
             "gridcolor": "white",
             "linecolor": "white",
             "minorgridcolor": "white",
             "startlinecolor": "#2a3f5f"
            },
            "baxis": {
             "endlinecolor": "#2a3f5f",
             "gridcolor": "white",
             "linecolor": "white",
             "minorgridcolor": "white",
             "startlinecolor": "#2a3f5f"
            },
            "type": "carpet"
           }
          ],
          "choropleth": [
           {
            "colorbar": {
             "outlinewidth": 0,
             "ticks": ""
            },
            "type": "choropleth"
           }
          ],
          "contour": [
           {
            "colorbar": {
             "outlinewidth": 0,
             "ticks": ""
            },
            "colorscale": [
             [
              0,
              "#0d0887"
             ],
             [
              0.1111111111111111,
              "#46039f"
             ],
             [
              0.2222222222222222,
              "#7201a8"
             ],
             [
              0.3333333333333333,
              "#9c179e"
             ],
             [
              0.4444444444444444,
              "#bd3786"
             ],
             [
              0.5555555555555556,
              "#d8576b"
             ],
             [
              0.6666666666666666,
              "#ed7953"
             ],
             [
              0.7777777777777778,
              "#fb9f3a"
             ],
             [
              0.8888888888888888,
              "#fdca26"
             ],
             [
              1,
              "#f0f921"
             ]
            ],
            "type": "contour"
           }
          ],
          "contourcarpet": [
           {
            "colorbar": {
             "outlinewidth": 0,
             "ticks": ""
            },
            "type": "contourcarpet"
           }
          ],
          "heatmap": [
           {
            "colorbar": {
             "outlinewidth": 0,
             "ticks": ""
            },
            "colorscale": [
             [
              0,
              "#0d0887"
             ],
             [
              0.1111111111111111,
              "#46039f"
             ],
             [
              0.2222222222222222,
              "#7201a8"
             ],
             [
              0.3333333333333333,
              "#9c179e"
             ],
             [
              0.4444444444444444,
              "#bd3786"
             ],
             [
              0.5555555555555556,
              "#d8576b"
             ],
             [
              0.6666666666666666,
              "#ed7953"
             ],
             [
              0.7777777777777778,
              "#fb9f3a"
             ],
             [
              0.8888888888888888,
              "#fdca26"
             ],
             [
              1,
              "#f0f921"
             ]
            ],
            "type": "heatmap"
           }
          ],
          "heatmapgl": [
           {
            "colorbar": {
             "outlinewidth": 0,
             "ticks": ""
            },
            "colorscale": [
             [
              0,
              "#0d0887"
             ],
             [
              0.1111111111111111,
              "#46039f"
             ],
             [
              0.2222222222222222,
              "#7201a8"
             ],
             [
              0.3333333333333333,
              "#9c179e"
             ],
             [
              0.4444444444444444,
              "#bd3786"
             ],
             [
              0.5555555555555556,
              "#d8576b"
             ],
             [
              0.6666666666666666,
              "#ed7953"
             ],
             [
              0.7777777777777778,
              "#fb9f3a"
             ],
             [
              0.8888888888888888,
              "#fdca26"
             ],
             [
              1,
              "#f0f921"
             ]
            ],
            "type": "heatmapgl"
           }
          ],
          "histogram": [
           {
            "marker": {
             "pattern": {
              "fillmode": "overlay",
              "size": 10,
              "solidity": 0.2
             }
            },
            "type": "histogram"
           }
          ],
          "histogram2d": [
           {
            "colorbar": {
             "outlinewidth": 0,
             "ticks": ""
            },
            "colorscale": [
             [
              0,
              "#0d0887"
             ],
             [
              0.1111111111111111,
              "#46039f"
             ],
             [
              0.2222222222222222,
              "#7201a8"
             ],
             [
              0.3333333333333333,
              "#9c179e"
             ],
             [
              0.4444444444444444,
              "#bd3786"
             ],
             [
              0.5555555555555556,
              "#d8576b"
             ],
             [
              0.6666666666666666,
              "#ed7953"
             ],
             [
              0.7777777777777778,
              "#fb9f3a"
             ],
             [
              0.8888888888888888,
              "#fdca26"
             ],
             [
              1,
              "#f0f921"
             ]
            ],
            "type": "histogram2d"
           }
          ],
          "histogram2dcontour": [
           {
            "colorbar": {
             "outlinewidth": 0,
             "ticks": ""
            },
            "colorscale": [
             [
              0,
              "#0d0887"
             ],
             [
              0.1111111111111111,
              "#46039f"
             ],
             [
              0.2222222222222222,
              "#7201a8"
             ],
             [
              0.3333333333333333,
              "#9c179e"
             ],
             [
              0.4444444444444444,
              "#bd3786"
             ],
             [
              0.5555555555555556,
              "#d8576b"
             ],
             [
              0.6666666666666666,
              "#ed7953"
             ],
             [
              0.7777777777777778,
              "#fb9f3a"
             ],
             [
              0.8888888888888888,
              "#fdca26"
             ],
             [
              1,
              "#f0f921"
             ]
            ],
            "type": "histogram2dcontour"
           }
          ],
          "mesh3d": [
           {
            "colorbar": {
             "outlinewidth": 0,
             "ticks": ""
            },
            "type": "mesh3d"
           }
          ],
          "parcoords": [
           {
            "line": {
             "colorbar": {
              "outlinewidth": 0,
              "ticks": ""
             }
            },
            "type": "parcoords"
           }
          ],
          "pie": [
           {
            "automargin": true,
            "type": "pie"
           }
          ],
          "scatter": [
           {
            "fillpattern": {
             "fillmode": "overlay",
             "size": 10,
             "solidity": 0.2
            },
            "type": "scatter"
           }
          ],
          "scatter3d": [
           {
            "line": {
             "colorbar": {
              "outlinewidth": 0,
              "ticks": ""
             }
            },
            "marker": {
             "colorbar": {
              "outlinewidth": 0,
              "ticks": ""
             }
            },
            "type": "scatter3d"
           }
          ],
          "scattercarpet": [
           {
            "marker": {
             "colorbar": {
              "outlinewidth": 0,
              "ticks": ""
             }
            },
            "type": "scattercarpet"
           }
          ],
          "scattergeo": [
           {
            "marker": {
             "colorbar": {
              "outlinewidth": 0,
              "ticks": ""
             }
            },
            "type": "scattergeo"
           }
          ],
          "scattergl": [
           {
            "marker": {
             "colorbar": {
              "outlinewidth": 0,
              "ticks": ""
             }
            },
            "type": "scattergl"
           }
          ],
          "scattermapbox": [
           {
            "marker": {
             "colorbar": {
              "outlinewidth": 0,
              "ticks": ""
             }
            },
            "type": "scattermapbox"
           }
          ],
          "scatterpolar": [
           {
            "marker": {
             "colorbar": {
              "outlinewidth": 0,
              "ticks": ""
             }
            },
            "type": "scatterpolar"
           }
          ],
          "scatterpolargl": [
           {
            "marker": {
             "colorbar": {
              "outlinewidth": 0,
              "ticks": ""
             }
            },
            "type": "scatterpolargl"
           }
          ],
          "scatterternary": [
           {
            "marker": {
             "colorbar": {
              "outlinewidth": 0,
              "ticks": ""
             }
            },
            "type": "scatterternary"
           }
          ],
          "surface": [
           {
            "colorbar": {
             "outlinewidth": 0,
             "ticks": ""
            },
            "colorscale": [
             [
              0,
              "#0d0887"
             ],
             [
              0.1111111111111111,
              "#46039f"
             ],
             [
              0.2222222222222222,
              "#7201a8"
             ],
             [
              0.3333333333333333,
              "#9c179e"
             ],
             [
              0.4444444444444444,
              "#bd3786"
             ],
             [
              0.5555555555555556,
              "#d8576b"
             ],
             [
              0.6666666666666666,
              "#ed7953"
             ],
             [
              0.7777777777777778,
              "#fb9f3a"
             ],
             [
              0.8888888888888888,
              "#fdca26"
             ],
             [
              1,
              "#f0f921"
             ]
            ],
            "type": "surface"
           }
          ],
          "table": [
           {
            "cells": {
             "fill": {
              "color": "#EBF0F8"
             },
             "line": {
              "color": "white"
             }
            },
            "header": {
             "fill": {
              "color": "#C8D4E3"
             },
             "line": {
              "color": "white"
             }
            },
            "type": "table"
           }
          ]
         },
         "layout": {
          "annotationdefaults": {
           "arrowcolor": "#2a3f5f",
           "arrowhead": 0,
           "arrowwidth": 1
          },
          "autotypenumbers": "strict",
          "coloraxis": {
           "colorbar": {
            "outlinewidth": 0,
            "ticks": ""
           }
          },
          "colorscale": {
           "diverging": [
            [
             0,
             "#8e0152"
            ],
            [
             0.1,
             "#c51b7d"
            ],
            [
             0.2,
             "#de77ae"
            ],
            [
             0.3,
             "#f1b6da"
            ],
            [
             0.4,
             "#fde0ef"
            ],
            [
             0.5,
             "#f7f7f7"
            ],
            [
             0.6,
             "#e6f5d0"
            ],
            [
             0.7,
             "#b8e186"
            ],
            [
             0.8,
             "#7fbc41"
            ],
            [
             0.9,
             "#4d9221"
            ],
            [
             1,
             "#276419"
            ]
           ],
           "sequential": [
            [
             0,
             "#0d0887"
            ],
            [
             0.1111111111111111,
             "#46039f"
            ],
            [
             0.2222222222222222,
             "#7201a8"
            ],
            [
             0.3333333333333333,
             "#9c179e"
            ],
            [
             0.4444444444444444,
             "#bd3786"
            ],
            [
             0.5555555555555556,
             "#d8576b"
            ],
            [
             0.6666666666666666,
             "#ed7953"
            ],
            [
             0.7777777777777778,
             "#fb9f3a"
            ],
            [
             0.8888888888888888,
             "#fdca26"
            ],
            [
             1,
             "#f0f921"
            ]
           ],
           "sequentialminus": [
            [
             0,
             "#0d0887"
            ],
            [
             0.1111111111111111,
             "#46039f"
            ],
            [
             0.2222222222222222,
             "#7201a8"
            ],
            [
             0.3333333333333333,
             "#9c179e"
            ],
            [
             0.4444444444444444,
             "#bd3786"
            ],
            [
             0.5555555555555556,
             "#d8576b"
            ],
            [
             0.6666666666666666,
             "#ed7953"
            ],
            [
             0.7777777777777778,
             "#fb9f3a"
            ],
            [
             0.8888888888888888,
             "#fdca26"
            ],
            [
             1,
             "#f0f921"
            ]
           ]
          },
          "colorway": [
           "#636efa",
           "#EF553B",
           "#00cc96",
           "#ab63fa",
           "#FFA15A",
           "#19d3f3",
           "#FF6692",
           "#B6E880",
           "#FF97FF",
           "#FECB52"
          ],
          "font": {
           "color": "#2a3f5f"
          },
          "geo": {
           "bgcolor": "white",
           "lakecolor": "white",
           "landcolor": "#E5ECF6",
           "showlakes": true,
           "showland": true,
           "subunitcolor": "white"
          },
          "hoverlabel": {
           "align": "left"
          },
          "hovermode": "closest",
          "mapbox": {
           "style": "light"
          },
          "paper_bgcolor": "white",
          "plot_bgcolor": "#E5ECF6",
          "polar": {
           "angularaxis": {
            "gridcolor": "white",
            "linecolor": "white",
            "ticks": ""
           },
           "bgcolor": "#E5ECF6",
           "radialaxis": {
            "gridcolor": "white",
            "linecolor": "white",
            "ticks": ""
           }
          },
          "scene": {
           "xaxis": {
            "backgroundcolor": "#E5ECF6",
            "gridcolor": "white",
            "gridwidth": 2,
            "linecolor": "white",
            "showbackground": true,
            "ticks": "",
            "zerolinecolor": "white"
           },
           "yaxis": {
            "backgroundcolor": "#E5ECF6",
            "gridcolor": "white",
            "gridwidth": 2,
            "linecolor": "white",
            "showbackground": true,
            "ticks": "",
            "zerolinecolor": "white"
           },
           "zaxis": {
            "backgroundcolor": "#E5ECF6",
            "gridcolor": "white",
            "gridwidth": 2,
            "linecolor": "white",
            "showbackground": true,
            "ticks": "",
            "zerolinecolor": "white"
           }
          },
          "shapedefaults": {
           "line": {
            "color": "#2a3f5f"
           }
          },
          "ternary": {
           "aaxis": {
            "gridcolor": "white",
            "linecolor": "white",
            "ticks": ""
           },
           "baxis": {
            "gridcolor": "white",
            "linecolor": "white",
            "ticks": ""
           },
           "bgcolor": "#E5ECF6",
           "caxis": {
            "gridcolor": "white",
            "linecolor": "white",
            "ticks": ""
           }
          },
          "title": {
           "x": 0.05
          },
          "xaxis": {
           "automargin": true,
           "gridcolor": "white",
           "linecolor": "white",
           "ticks": "",
           "title": {
            "standoff": 15
           },
           "zerolinecolor": "white",
           "zerolinewidth": 2
          },
          "yaxis": {
           "automargin": true,
           "gridcolor": "white",
           "linecolor": "white",
           "ticks": "",
           "title": {
            "standoff": 15
           },
           "zerolinecolor": "white",
           "zerolinewidth": 2
          }
         }
        },
        "title": {
         "text": "Distribuição da Pontuação Final por Gênero e Preparação para o Teste"
        },
        "xaxis": {
         "anchor": "y",
         "categoryarray": [
          "none",
          "completed"
         ],
         "categoryorder": "array",
         "domain": [
          0,
          1
         ],
         "title": {
          "text": "test_preparation_course"
         }
        },
        "yaxis": {
         "anchor": "x",
         "domain": [
          0,
          1
         ],
         "title": {
          "text": "Média da Pontuação Final"
         }
        }
       }
      }
     },
     "metadata": {},
     "output_type": "display_data"
    }
   ],
   "source": [
    "df_gender_groupeb_test_preparation = df.groupby(['gender', 'test_preparation_course'])['final_score_avg'].median().reset_index()\n",
    "\n",
    "fig = px.bar(df_gender_groupeb_test_preparation, \n",
    "             x='test_preparation_course', \n",
    "             y='final_score_avg', \n",
    "             color='gender', \n",
    "             title='Distribuição da Pontuação Final por Gênero e Preparação para o Teste', \n",
    "             labels={'final_score_avg': 'Média da Pontuação Final'}, \n",
    "             barmode='group',\n",
    "             category_orders={'test_preparation_course': ['none', 'completed']})\n",
    "\n",
    "fig.show()"
   ]
  },
  {
   "cell_type": "code",
   "execution_count": 16,
   "metadata": {},
   "outputs": [
    {
     "data": {
      "text/html": [
       "<div>\n",
       "<style scoped>\n",
       "    .dataframe tbody tr th:only-of-type {\n",
       "        vertical-align: middle;\n",
       "    }\n",
       "\n",
       "    .dataframe tbody tr th {\n",
       "        vertical-align: top;\n",
       "    }\n",
       "\n",
       "    .dataframe thead th {\n",
       "        text-align: right;\n",
       "    }\n",
       "</style>\n",
       "<table border=\"1\" class=\"dataframe\">\n",
       "  <thead>\n",
       "    <tr style=\"text-align: right;\">\n",
       "      <th></th>\n",
       "      <th>gender</th>\n",
       "      <th>race_ethnicity</th>\n",
       "      <th>parental_level_of_education</th>\n",
       "      <th>lunch</th>\n",
       "      <th>test_preparation_course</th>\n",
       "      <th>math_score</th>\n",
       "      <th>reading_score</th>\n",
       "      <th>writing_score</th>\n",
       "      <th>final_score_avg</th>\n",
       "    </tr>\n",
       "  </thead>\n",
       "  <tbody>\n",
       "    <tr>\n",
       "      <th>0</th>\n",
       "      <td>female</td>\n",
       "      <td>group B</td>\n",
       "      <td>bachelor's degree</td>\n",
       "      <td>standard</td>\n",
       "      <td>none</td>\n",
       "      <td>72</td>\n",
       "      <td>72</td>\n",
       "      <td>74</td>\n",
       "      <td>73.0</td>\n",
       "    </tr>\n",
       "    <tr>\n",
       "      <th>1</th>\n",
       "      <td>female</td>\n",
       "      <td>group C</td>\n",
       "      <td>some college</td>\n",
       "      <td>standard</td>\n",
       "      <td>completed</td>\n",
       "      <td>69</td>\n",
       "      <td>90</td>\n",
       "      <td>88</td>\n",
       "      <td>82.0</td>\n",
       "    </tr>\n",
       "    <tr>\n",
       "      <th>2</th>\n",
       "      <td>female</td>\n",
       "      <td>group B</td>\n",
       "      <td>master's degree</td>\n",
       "      <td>standard</td>\n",
       "      <td>none</td>\n",
       "      <td>90</td>\n",
       "      <td>95</td>\n",
       "      <td>93</td>\n",
       "      <td>93.0</td>\n",
       "    </tr>\n",
       "    <tr>\n",
       "      <th>3</th>\n",
       "      <td>male</td>\n",
       "      <td>group A</td>\n",
       "      <td>associate's degree</td>\n",
       "      <td>free/reduced</td>\n",
       "      <td>none</td>\n",
       "      <td>47</td>\n",
       "      <td>57</td>\n",
       "      <td>44</td>\n",
       "      <td>49.0</td>\n",
       "    </tr>\n",
       "    <tr>\n",
       "      <th>4</th>\n",
       "      <td>male</td>\n",
       "      <td>group C</td>\n",
       "      <td>some college</td>\n",
       "      <td>standard</td>\n",
       "      <td>none</td>\n",
       "      <td>76</td>\n",
       "      <td>78</td>\n",
       "      <td>75</td>\n",
       "      <td>76.0</td>\n",
       "    </tr>\n",
       "    <tr>\n",
       "      <th>...</th>\n",
       "      <td>...</td>\n",
       "      <td>...</td>\n",
       "      <td>...</td>\n",
       "      <td>...</td>\n",
       "      <td>...</td>\n",
       "      <td>...</td>\n",
       "      <td>...</td>\n",
       "      <td>...</td>\n",
       "      <td>...</td>\n",
       "    </tr>\n",
       "    <tr>\n",
       "      <th>995</th>\n",
       "      <td>female</td>\n",
       "      <td>group E</td>\n",
       "      <td>master's degree</td>\n",
       "      <td>standard</td>\n",
       "      <td>completed</td>\n",
       "      <td>88</td>\n",
       "      <td>99</td>\n",
       "      <td>95</td>\n",
       "      <td>94.0</td>\n",
       "    </tr>\n",
       "    <tr>\n",
       "      <th>996</th>\n",
       "      <td>male</td>\n",
       "      <td>group C</td>\n",
       "      <td>high school</td>\n",
       "      <td>free/reduced</td>\n",
       "      <td>none</td>\n",
       "      <td>62</td>\n",
       "      <td>55</td>\n",
       "      <td>55</td>\n",
       "      <td>57.0</td>\n",
       "    </tr>\n",
       "    <tr>\n",
       "      <th>997</th>\n",
       "      <td>female</td>\n",
       "      <td>group C</td>\n",
       "      <td>high school</td>\n",
       "      <td>free/reduced</td>\n",
       "      <td>completed</td>\n",
       "      <td>59</td>\n",
       "      <td>71</td>\n",
       "      <td>65</td>\n",
       "      <td>65.0</td>\n",
       "    </tr>\n",
       "    <tr>\n",
       "      <th>998</th>\n",
       "      <td>female</td>\n",
       "      <td>group D</td>\n",
       "      <td>some college</td>\n",
       "      <td>standard</td>\n",
       "      <td>completed</td>\n",
       "      <td>68</td>\n",
       "      <td>78</td>\n",
       "      <td>77</td>\n",
       "      <td>74.0</td>\n",
       "    </tr>\n",
       "    <tr>\n",
       "      <th>999</th>\n",
       "      <td>female</td>\n",
       "      <td>group D</td>\n",
       "      <td>some college</td>\n",
       "      <td>free/reduced</td>\n",
       "      <td>none</td>\n",
       "      <td>77</td>\n",
       "      <td>86</td>\n",
       "      <td>86</td>\n",
       "      <td>83.0</td>\n",
       "    </tr>\n",
       "  </tbody>\n",
       "</table>\n",
       "<p>1000 rows × 9 columns</p>\n",
       "</div>"
      ],
      "text/plain": [
       "     gender race_ethnicity parental_level_of_education         lunch  \\\n",
       "0    female        group B           bachelor's degree      standard   \n",
       "1    female        group C                some college      standard   \n",
       "2    female        group B             master's degree      standard   \n",
       "3      male        group A          associate's degree  free/reduced   \n",
       "4      male        group C                some college      standard   \n",
       "..      ...            ...                         ...           ...   \n",
       "995  female        group E             master's degree      standard   \n",
       "996    male        group C                 high school  free/reduced   \n",
       "997  female        group C                 high school  free/reduced   \n",
       "998  female        group D                some college      standard   \n",
       "999  female        group D                some college  free/reduced   \n",
       "\n",
       "    test_preparation_course  math_score  reading_score  writing_score  \\\n",
       "0                      none          72             72             74   \n",
       "1                 completed          69             90             88   \n",
       "2                      none          90             95             93   \n",
       "3                      none          47             57             44   \n",
       "4                      none          76             78             75   \n",
       "..                      ...         ...            ...            ...   \n",
       "995               completed          88             99             95   \n",
       "996                    none          62             55             55   \n",
       "997               completed          59             71             65   \n",
       "998               completed          68             78             77   \n",
       "999                    none          77             86             86   \n",
       "\n",
       "     final_score_avg  \n",
       "0               73.0  \n",
       "1               82.0  \n",
       "2               93.0  \n",
       "3               49.0  \n",
       "4               76.0  \n",
       "..               ...  \n",
       "995             94.0  \n",
       "996             57.0  \n",
       "997             65.0  \n",
       "998             74.0  \n",
       "999             83.0  \n",
       "\n",
       "[1000 rows x 9 columns]"
      ]
     },
     "execution_count": 16,
     "metadata": {},
     "output_type": "execute_result"
    }
   ],
   "source": [
    "df"
   ]
  },
  {
   "cell_type": "code",
   "execution_count": 20,
   "metadata": {},
   "outputs": [
    {
     "data": {
      "text/html": [
       "<div>\n",
       "<style scoped>\n",
       "    .dataframe tbody tr th:only-of-type {\n",
       "        vertical-align: middle;\n",
       "    }\n",
       "\n",
       "    .dataframe tbody tr th {\n",
       "        vertical-align: top;\n",
       "    }\n",
       "\n",
       "    .dataframe thead th {\n",
       "        text-align: right;\n",
       "    }\n",
       "</style>\n",
       "<table border=\"1\" class=\"dataframe\">\n",
       "  <thead>\n",
       "    <tr style=\"text-align: right;\">\n",
       "      <th></th>\n",
       "      <th>parental_level_of_education</th>\n",
       "      <th>math_score</th>\n",
       "      <th>reading_score</th>\n",
       "      <th>writing_score</th>\n",
       "      <th>final_score_avg</th>\n",
       "    </tr>\n",
       "  </thead>\n",
       "  <tbody>\n",
       "    <tr>\n",
       "      <th>0</th>\n",
       "      <td>associate's degree</td>\n",
       "      <td>67.882883</td>\n",
       "      <td>70.927928</td>\n",
       "      <td>69.896396</td>\n",
       "      <td>69.558559</td>\n",
       "    </tr>\n",
       "    <tr>\n",
       "      <th>1</th>\n",
       "      <td>bachelor's degree</td>\n",
       "      <td>69.389831</td>\n",
       "      <td>73.000000</td>\n",
       "      <td>73.381356</td>\n",
       "      <td>71.949153</td>\n",
       "    </tr>\n",
       "    <tr>\n",
       "      <th>2</th>\n",
       "      <td>high school</td>\n",
       "      <td>62.137755</td>\n",
       "      <td>64.704082</td>\n",
       "      <td>62.448980</td>\n",
       "      <td>63.122449</td>\n",
       "    </tr>\n",
       "    <tr>\n",
       "      <th>3</th>\n",
       "      <td>master's degree</td>\n",
       "      <td>69.745763</td>\n",
       "      <td>75.372881</td>\n",
       "      <td>75.677966</td>\n",
       "      <td>73.576271</td>\n",
       "    </tr>\n",
       "    <tr>\n",
       "      <th>4</th>\n",
       "      <td>some college</td>\n",
       "      <td>67.128319</td>\n",
       "      <td>69.460177</td>\n",
       "      <td>68.840708</td>\n",
       "      <td>68.446903</td>\n",
       "    </tr>\n",
       "    <tr>\n",
       "      <th>5</th>\n",
       "      <td>some high school</td>\n",
       "      <td>63.497207</td>\n",
       "      <td>66.938547</td>\n",
       "      <td>64.888268</td>\n",
       "      <td>65.072626</td>\n",
       "    </tr>\n",
       "  </tbody>\n",
       "</table>\n",
       "</div>"
      ],
      "text/plain": [
       "  parental_level_of_education  math_score  reading_score  writing_score  \\\n",
       "0          associate's degree   67.882883      70.927928      69.896396   \n",
       "1           bachelor's degree   69.389831      73.000000      73.381356   \n",
       "2                 high school   62.137755      64.704082      62.448980   \n",
       "3             master's degree   69.745763      75.372881      75.677966   \n",
       "4                some college   67.128319      69.460177      68.840708   \n",
       "5            some high school   63.497207      66.938547      64.888268   \n",
       "\n",
       "   final_score_avg  \n",
       "0        69.558559  \n",
       "1        71.949153  \n",
       "2        63.122449  \n",
       "3        73.576271  \n",
       "4        68.446903  \n",
       "5        65.072626  "
      ]
     },
     "execution_count": 20,
     "metadata": {},
     "output_type": "execute_result"
    }
   ],
   "source": [
    "df_grouped_by_parental_level_of_education = df.groupby(['parental_level_of_education'])[['math_score', 'reading_score', 'writing_score', 'final_score_avg']].mean().reset_index()\n",
    "\n",
    "df_grouped_by_parental_level_of_education"
   ]
  },
  {
   "cell_type": "code",
   "execution_count": 30,
   "metadata": {},
   "outputs": [
    {
     "data": {
      "application/vnd.plotly.v1+json": {
       "config": {
        "plotlyServerURL": "https://plot.ly"
       },
       "data": [
        {
         "alignmentgroup": "True",
         "hovertemplate": "Area=math_score<br>Nível de Educação dos Pais=%{x}<br>Média de Notas=%{y}<extra></extra>",
         "legendgroup": "math_score",
         "marker": {
          "color": "#636efa",
          "pattern": {
           "shape": ""
          }
         },
         "name": "math_score",
         "offsetgroup": "math_score",
         "orientation": "v",
         "showlegend": true,
         "textposition": "auto",
         "texttemplate": "%{y}",
         "type": "bar",
         "x": [
          "associate's degree",
          "bachelor's degree",
          "high school",
          "master's degree",
          "some college",
          "some high school"
         ],
         "xaxis": "x",
         "y": [
          67.88288288288288,
          69.38983050847457,
          62.13775510204081,
          69.7457627118644,
          67.1283185840708,
          63.497206703910614
         ],
         "yaxis": "y"
        },
        {
         "alignmentgroup": "True",
         "hovertemplate": "Area=reading_score<br>Nível de Educação dos Pais=%{x}<br>Média de Notas=%{y}<extra></extra>",
         "legendgroup": "reading_score",
         "marker": {
          "color": "#EF553B",
          "pattern": {
           "shape": ""
          }
         },
         "name": "reading_score",
         "offsetgroup": "reading_score",
         "orientation": "v",
         "showlegend": true,
         "textposition": "auto",
         "texttemplate": "%{y}",
         "type": "bar",
         "x": [
          "associate's degree",
          "bachelor's degree",
          "high school",
          "master's degree",
          "some college",
          "some high school"
         ],
         "xaxis": "x",
         "y": [
          70.92792792792793,
          73,
          64.70408163265306,
          75.37288135593221,
          69.46017699115045,
          66.93854748603351
         ],
         "yaxis": "y"
        },
        {
         "alignmentgroup": "True",
         "hovertemplate": "Area=writing_score<br>Nível de Educação dos Pais=%{x}<br>Média de Notas=%{y}<extra></extra>",
         "legendgroup": "writing_score",
         "marker": {
          "color": "#00cc96",
          "pattern": {
           "shape": ""
          }
         },
         "name": "writing_score",
         "offsetgroup": "writing_score",
         "orientation": "v",
         "showlegend": true,
         "textposition": "auto",
         "texttemplate": "%{y}",
         "type": "bar",
         "x": [
          "associate's degree",
          "bachelor's degree",
          "high school",
          "master's degree",
          "some college",
          "some high school"
         ],
         "xaxis": "x",
         "y": [
          69.8963963963964,
          73.38135593220339,
          62.44897959183673,
          75.67796610169492,
          68.84070796460178,
          64.88826815642459
         ],
         "yaxis": "y"
        },
        {
         "alignmentgroup": "True",
         "hovertemplate": "Area=final_score_avg<br>Nível de Educação dos Pais=%{x}<br>Média de Notas=%{y}<extra></extra>",
         "legendgroup": "final_score_avg",
         "marker": {
          "color": "#ab63fa",
          "pattern": {
           "shape": ""
          }
         },
         "name": "final_score_avg",
         "offsetgroup": "final_score_avg",
         "orientation": "v",
         "showlegend": true,
         "textposition": "auto",
         "texttemplate": "%{y}",
         "type": "bar",
         "x": [
          "associate's degree",
          "bachelor's degree",
          "high school",
          "master's degree",
          "some college",
          "some high school"
         ],
         "xaxis": "x",
         "y": [
          69.55855855855856,
          71.94915254237289,
          63.12244897959184,
          73.57627118644068,
          68.44690265486726,
          65.07262569832402
         ],
         "yaxis": "y"
        }
       ],
       "layout": {
        "barmode": "group",
        "legend": {
         "title": {
          "text": "Area"
         },
         "tracegroupgap": 0
        },
        "template": {
         "data": {
          "bar": [
           {
            "error_x": {
             "color": "#2a3f5f"
            },
            "error_y": {
             "color": "#2a3f5f"
            },
            "marker": {
             "line": {
              "color": "#E5ECF6",
              "width": 0.5
             },
             "pattern": {
              "fillmode": "overlay",
              "size": 10,
              "solidity": 0.2
             }
            },
            "type": "bar"
           }
          ],
          "barpolar": [
           {
            "marker": {
             "line": {
              "color": "#E5ECF6",
              "width": 0.5
             },
             "pattern": {
              "fillmode": "overlay",
              "size": 10,
              "solidity": 0.2
             }
            },
            "type": "barpolar"
           }
          ],
          "carpet": [
           {
            "aaxis": {
             "endlinecolor": "#2a3f5f",
             "gridcolor": "white",
             "linecolor": "white",
             "minorgridcolor": "white",
             "startlinecolor": "#2a3f5f"
            },
            "baxis": {
             "endlinecolor": "#2a3f5f",
             "gridcolor": "white",
             "linecolor": "white",
             "minorgridcolor": "white",
             "startlinecolor": "#2a3f5f"
            },
            "type": "carpet"
           }
          ],
          "choropleth": [
           {
            "colorbar": {
             "outlinewidth": 0,
             "ticks": ""
            },
            "type": "choropleth"
           }
          ],
          "contour": [
           {
            "colorbar": {
             "outlinewidth": 0,
             "ticks": ""
            },
            "colorscale": [
             [
              0,
              "#0d0887"
             ],
             [
              0.1111111111111111,
              "#46039f"
             ],
             [
              0.2222222222222222,
              "#7201a8"
             ],
             [
              0.3333333333333333,
              "#9c179e"
             ],
             [
              0.4444444444444444,
              "#bd3786"
             ],
             [
              0.5555555555555556,
              "#d8576b"
             ],
             [
              0.6666666666666666,
              "#ed7953"
             ],
             [
              0.7777777777777778,
              "#fb9f3a"
             ],
             [
              0.8888888888888888,
              "#fdca26"
             ],
             [
              1,
              "#f0f921"
             ]
            ],
            "type": "contour"
           }
          ],
          "contourcarpet": [
           {
            "colorbar": {
             "outlinewidth": 0,
             "ticks": ""
            },
            "type": "contourcarpet"
           }
          ],
          "heatmap": [
           {
            "colorbar": {
             "outlinewidth": 0,
             "ticks": ""
            },
            "colorscale": [
             [
              0,
              "#0d0887"
             ],
             [
              0.1111111111111111,
              "#46039f"
             ],
             [
              0.2222222222222222,
              "#7201a8"
             ],
             [
              0.3333333333333333,
              "#9c179e"
             ],
             [
              0.4444444444444444,
              "#bd3786"
             ],
             [
              0.5555555555555556,
              "#d8576b"
             ],
             [
              0.6666666666666666,
              "#ed7953"
             ],
             [
              0.7777777777777778,
              "#fb9f3a"
             ],
             [
              0.8888888888888888,
              "#fdca26"
             ],
             [
              1,
              "#f0f921"
             ]
            ],
            "type": "heatmap"
           }
          ],
          "heatmapgl": [
           {
            "colorbar": {
             "outlinewidth": 0,
             "ticks": ""
            },
            "colorscale": [
             [
              0,
              "#0d0887"
             ],
             [
              0.1111111111111111,
              "#46039f"
             ],
             [
              0.2222222222222222,
              "#7201a8"
             ],
             [
              0.3333333333333333,
              "#9c179e"
             ],
             [
              0.4444444444444444,
              "#bd3786"
             ],
             [
              0.5555555555555556,
              "#d8576b"
             ],
             [
              0.6666666666666666,
              "#ed7953"
             ],
             [
              0.7777777777777778,
              "#fb9f3a"
             ],
             [
              0.8888888888888888,
              "#fdca26"
             ],
             [
              1,
              "#f0f921"
             ]
            ],
            "type": "heatmapgl"
           }
          ],
          "histogram": [
           {
            "marker": {
             "pattern": {
              "fillmode": "overlay",
              "size": 10,
              "solidity": 0.2
             }
            },
            "type": "histogram"
           }
          ],
          "histogram2d": [
           {
            "colorbar": {
             "outlinewidth": 0,
             "ticks": ""
            },
            "colorscale": [
             [
              0,
              "#0d0887"
             ],
             [
              0.1111111111111111,
              "#46039f"
             ],
             [
              0.2222222222222222,
              "#7201a8"
             ],
             [
              0.3333333333333333,
              "#9c179e"
             ],
             [
              0.4444444444444444,
              "#bd3786"
             ],
             [
              0.5555555555555556,
              "#d8576b"
             ],
             [
              0.6666666666666666,
              "#ed7953"
             ],
             [
              0.7777777777777778,
              "#fb9f3a"
             ],
             [
              0.8888888888888888,
              "#fdca26"
             ],
             [
              1,
              "#f0f921"
             ]
            ],
            "type": "histogram2d"
           }
          ],
          "histogram2dcontour": [
           {
            "colorbar": {
             "outlinewidth": 0,
             "ticks": ""
            },
            "colorscale": [
             [
              0,
              "#0d0887"
             ],
             [
              0.1111111111111111,
              "#46039f"
             ],
             [
              0.2222222222222222,
              "#7201a8"
             ],
             [
              0.3333333333333333,
              "#9c179e"
             ],
             [
              0.4444444444444444,
              "#bd3786"
             ],
             [
              0.5555555555555556,
              "#d8576b"
             ],
             [
              0.6666666666666666,
              "#ed7953"
             ],
             [
              0.7777777777777778,
              "#fb9f3a"
             ],
             [
              0.8888888888888888,
              "#fdca26"
             ],
             [
              1,
              "#f0f921"
             ]
            ],
            "type": "histogram2dcontour"
           }
          ],
          "mesh3d": [
           {
            "colorbar": {
             "outlinewidth": 0,
             "ticks": ""
            },
            "type": "mesh3d"
           }
          ],
          "parcoords": [
           {
            "line": {
             "colorbar": {
              "outlinewidth": 0,
              "ticks": ""
             }
            },
            "type": "parcoords"
           }
          ],
          "pie": [
           {
            "automargin": true,
            "type": "pie"
           }
          ],
          "scatter": [
           {
            "fillpattern": {
             "fillmode": "overlay",
             "size": 10,
             "solidity": 0.2
            },
            "type": "scatter"
           }
          ],
          "scatter3d": [
           {
            "line": {
             "colorbar": {
              "outlinewidth": 0,
              "ticks": ""
             }
            },
            "marker": {
             "colorbar": {
              "outlinewidth": 0,
              "ticks": ""
             }
            },
            "type": "scatter3d"
           }
          ],
          "scattercarpet": [
           {
            "marker": {
             "colorbar": {
              "outlinewidth": 0,
              "ticks": ""
             }
            },
            "type": "scattercarpet"
           }
          ],
          "scattergeo": [
           {
            "marker": {
             "colorbar": {
              "outlinewidth": 0,
              "ticks": ""
             }
            },
            "type": "scattergeo"
           }
          ],
          "scattergl": [
           {
            "marker": {
             "colorbar": {
              "outlinewidth": 0,
              "ticks": ""
             }
            },
            "type": "scattergl"
           }
          ],
          "scattermapbox": [
           {
            "marker": {
             "colorbar": {
              "outlinewidth": 0,
              "ticks": ""
             }
            },
            "type": "scattermapbox"
           }
          ],
          "scatterpolar": [
           {
            "marker": {
             "colorbar": {
              "outlinewidth": 0,
              "ticks": ""
             }
            },
            "type": "scatterpolar"
           }
          ],
          "scatterpolargl": [
           {
            "marker": {
             "colorbar": {
              "outlinewidth": 0,
              "ticks": ""
             }
            },
            "type": "scatterpolargl"
           }
          ],
          "scatterternary": [
           {
            "marker": {
             "colorbar": {
              "outlinewidth": 0,
              "ticks": ""
             }
            },
            "type": "scatterternary"
           }
          ],
          "surface": [
           {
            "colorbar": {
             "outlinewidth": 0,
             "ticks": ""
            },
            "colorscale": [
             [
              0,
              "#0d0887"
             ],
             [
              0.1111111111111111,
              "#46039f"
             ],
             [
              0.2222222222222222,
              "#7201a8"
             ],
             [
              0.3333333333333333,
              "#9c179e"
             ],
             [
              0.4444444444444444,
              "#bd3786"
             ],
             [
              0.5555555555555556,
              "#d8576b"
             ],
             [
              0.6666666666666666,
              "#ed7953"
             ],
             [
              0.7777777777777778,
              "#fb9f3a"
             ],
             [
              0.8888888888888888,
              "#fdca26"
             ],
             [
              1,
              "#f0f921"
             ]
            ],
            "type": "surface"
           }
          ],
          "table": [
           {
            "cells": {
             "fill": {
              "color": "#EBF0F8"
             },
             "line": {
              "color": "white"
             }
            },
            "header": {
             "fill": {
              "color": "#C8D4E3"
             },
             "line": {
              "color": "white"
             }
            },
            "type": "table"
           }
          ]
         },
         "layout": {
          "annotationdefaults": {
           "arrowcolor": "#2a3f5f",
           "arrowhead": 0,
           "arrowwidth": 1
          },
          "autotypenumbers": "strict",
          "coloraxis": {
           "colorbar": {
            "outlinewidth": 0,
            "ticks": ""
           }
          },
          "colorscale": {
           "diverging": [
            [
             0,
             "#8e0152"
            ],
            [
             0.1,
             "#c51b7d"
            ],
            [
             0.2,
             "#de77ae"
            ],
            [
             0.3,
             "#f1b6da"
            ],
            [
             0.4,
             "#fde0ef"
            ],
            [
             0.5,
             "#f7f7f7"
            ],
            [
             0.6,
             "#e6f5d0"
            ],
            [
             0.7,
             "#b8e186"
            ],
            [
             0.8,
             "#7fbc41"
            ],
            [
             0.9,
             "#4d9221"
            ],
            [
             1,
             "#276419"
            ]
           ],
           "sequential": [
            [
             0,
             "#0d0887"
            ],
            [
             0.1111111111111111,
             "#46039f"
            ],
            [
             0.2222222222222222,
             "#7201a8"
            ],
            [
             0.3333333333333333,
             "#9c179e"
            ],
            [
             0.4444444444444444,
             "#bd3786"
            ],
            [
             0.5555555555555556,
             "#d8576b"
            ],
            [
             0.6666666666666666,
             "#ed7953"
            ],
            [
             0.7777777777777778,
             "#fb9f3a"
            ],
            [
             0.8888888888888888,
             "#fdca26"
            ],
            [
             1,
             "#f0f921"
            ]
           ],
           "sequentialminus": [
            [
             0,
             "#0d0887"
            ],
            [
             0.1111111111111111,
             "#46039f"
            ],
            [
             0.2222222222222222,
             "#7201a8"
            ],
            [
             0.3333333333333333,
             "#9c179e"
            ],
            [
             0.4444444444444444,
             "#bd3786"
            ],
            [
             0.5555555555555556,
             "#d8576b"
            ],
            [
             0.6666666666666666,
             "#ed7953"
            ],
            [
             0.7777777777777778,
             "#fb9f3a"
            ],
            [
             0.8888888888888888,
             "#fdca26"
            ],
            [
             1,
             "#f0f921"
            ]
           ]
          },
          "colorway": [
           "#636efa",
           "#EF553B",
           "#00cc96",
           "#ab63fa",
           "#FFA15A",
           "#19d3f3",
           "#FF6692",
           "#B6E880",
           "#FF97FF",
           "#FECB52"
          ],
          "font": {
           "color": "#2a3f5f"
          },
          "geo": {
           "bgcolor": "white",
           "lakecolor": "white",
           "landcolor": "#E5ECF6",
           "showlakes": true,
           "showland": true,
           "subunitcolor": "white"
          },
          "hoverlabel": {
           "align": "left"
          },
          "hovermode": "closest",
          "mapbox": {
           "style": "light"
          },
          "paper_bgcolor": "white",
          "plot_bgcolor": "#E5ECF6",
          "polar": {
           "angularaxis": {
            "gridcolor": "white",
            "linecolor": "white",
            "ticks": ""
           },
           "bgcolor": "#E5ECF6",
           "radialaxis": {
            "gridcolor": "white",
            "linecolor": "white",
            "ticks": ""
           }
          },
          "scene": {
           "xaxis": {
            "backgroundcolor": "#E5ECF6",
            "gridcolor": "white",
            "gridwidth": 2,
            "linecolor": "white",
            "showbackground": true,
            "ticks": "",
            "zerolinecolor": "white"
           },
           "yaxis": {
            "backgroundcolor": "#E5ECF6",
            "gridcolor": "white",
            "gridwidth": 2,
            "linecolor": "white",
            "showbackground": true,
            "ticks": "",
            "zerolinecolor": "white"
           },
           "zaxis": {
            "backgroundcolor": "#E5ECF6",
            "gridcolor": "white",
            "gridwidth": 2,
            "linecolor": "white",
            "showbackground": true,
            "ticks": "",
            "zerolinecolor": "white"
           }
          },
          "shapedefaults": {
           "line": {
            "color": "#2a3f5f"
           }
          },
          "ternary": {
           "aaxis": {
            "gridcolor": "white",
            "linecolor": "white",
            "ticks": ""
           },
           "baxis": {
            "gridcolor": "white",
            "linecolor": "white",
            "ticks": ""
           },
           "bgcolor": "#E5ECF6",
           "caxis": {
            "gridcolor": "white",
            "linecolor": "white",
            "ticks": ""
           }
          },
          "title": {
           "x": 0.05
          },
          "xaxis": {
           "automargin": true,
           "gridcolor": "white",
           "linecolor": "white",
           "ticks": "",
           "title": {
            "standoff": 15
           },
           "zerolinecolor": "white",
           "zerolinewidth": 2
          },
          "yaxis": {
           "automargin": true,
           "gridcolor": "white",
           "linecolor": "white",
           "ticks": "",
           "title": {
            "standoff": 15
           },
           "zerolinecolor": "white",
           "zerolinewidth": 2
          }
         }
        },
        "title": {
         "text": "Comparação de Médias por Nível de Educação dos Pais"
        },
        "xaxis": {
         "anchor": "y",
         "domain": [
          0,
          1
         ],
         "title": {
          "text": "Nível de Educação dos Pais"
         }
        },
        "yaxis": {
         "anchor": "x",
         "domain": [
          0,
          1
         ],
         "title": {
          "text": "Média de Notas"
         }
        }
       }
      }
     },
     "metadata": {},
     "output_type": "display_data"
    }
   ],
   "source": [
    "# Plot a bar chart with df_grouped_by_parental_level_of_education data\n",
    "\n",
    "fig = px.bar(df_grouped_by_parental_level_of_education, \n",
    "             x='parental_level_of_education', \n",
    "             y=['math_score', 'reading_score', 'writing_score', 'final_score_avg'], \n",
    "             title='Comparação de Médias por Nível de Educação dos Pais', \n",
    "             labels={'value': 'Média de Notas', 'variable': 'Area', 'parental_level_of_education': 'Nível de Educação dos Pais'}, \n",
    "             text_auto=True,\n",
    "             barmode='group')\n",
    "\n",
    "fig.show()"
   ]
  },
  {
   "cell_type": "code",
   "execution_count": 39,
   "metadata": {},
   "outputs": [
    {
     "data": {
      "application/vnd.plotly.v1+json": {
       "config": {
        "plotlyServerURL": "https://plot.ly"
       },
       "data": [
        {
         "alignmentgroup": "True",
         "hovertemplate": "parental_level_of_education=bachelor's degree<br>Nota de Matemática=%{x}<br>Nota de Leitura=%{y}<extra></extra>",
         "legendgroup": "bachelor's degree",
         "marker": {
          "color": "#636efa",
          "pattern": {
           "shape": ""
          }
         },
         "name": "bachelor's degree",
         "offsetgroup": "bachelor's degree",
         "orientation": "v",
         "showlegend": true,
         "textposition": "auto",
         "type": "bar",
         "x": [
          72,
          74,
          67,
          79,
          80,
          65,
          65,
          68,
          99,
          75,
          78,
          79,
          51,
          74,
          58,
          68,
          77,
          54,
          96,
          43,
          77,
          78,
          82,
          67,
          83,
          63,
          80,
          63,
          69,
          83,
          73,
          73,
          88,
          65,
          66,
          67,
          59,
          63,
          83,
          77,
          52,
          61,
          49,
          61,
          59,
          66,
          64,
          51,
          71,
          86,
          37,
          79,
          100,
          53,
          75,
          71,
          76,
          81,
          55,
          86,
          69,
          29,
          66,
          85,
          87,
          96,
          48,
          92,
          68,
          91,
          63,
          44,
          68,
          92,
          56,
          94,
          37,
          88,
          62,
          61,
          66,
          65,
          77,
          66,
          59,
          79,
          87,
          62,
          80,
          50,
          70,
          75,
          62,
          91,
          59,
          45,
          61,
          78,
          74,
          64,
          97,
          65,
          39,
          43,
          63,
          71,
          55,
          93,
          67,
          70,
          50,
          52,
          47,
          100,
          70,
          75,
          89,
          62
         ],
         "xaxis": "x",
         "y": [
          72,
          71,
          69,
          74,
          78,
          72,
          67,
          74,
          100,
          85,
          82,
          92,
          49,
          79,
          55,
          75,
          67,
          49,
          100,
          51,
          88,
          79,
          62,
          86,
          82,
          66,
          83,
          75,
          63,
          78,
          56,
          79,
          75,
          73,
          60,
          61,
          64,
          71,
          93,
          94,
          65,
          72,
          58,
          66,
          70,
          64,
          73,
          72,
          74,
          83,
          56,
          89,
          100,
          58,
          58,
          76,
          62,
          88,
          59,
          92,
          58,
          41,
          83,
          66,
          90,
          90,
          51,
          100,
          68,
          96,
          73,
          63,
          68,
          100,
          79,
          90,
          45,
          78,
          63,
          58,
          74,
          81,
          85,
          74,
          72,
          81,
          84,
          72,
          73,
          60,
          68,
          73,
          78,
          81,
          54,
          59,
          70,
          90,
          86,
          60,
          97,
          79,
          42,
          62,
          64,
          70,
          46,
          100,
          75,
          64,
          42,
          61,
          62,
          100,
          75,
          84,
          100,
          72
         ],
         "yaxis": "y"
        },
        {
         "alignmentgroup": "True",
         "hovertemplate": "parental_level_of_education=some college<br>Nota de Matemática=%{x}<br>Nota de Leitura=%{y}<extra></extra>",
         "legendgroup": "some college",
         "marker": {
          "color": "#EF553B",
          "pattern": {
           "shape": ""
          }
         },
         "name": "some college",
         "offsetgroup": "some college",
         "orientation": "v",
         "showlegend": true,
         "textposition": "auto",
         "type": "bar",
         "x": [
          69,
          76,
          88,
          40,
          78,
          65,
          44,
          69,
          69,
          63,
          40,
          97,
          59,
          53,
          53,
          58,
          60,
          58,
          63,
          50,
          73,
          76,
          58,
          79,
          63,
          58,
          79,
          98,
          58,
          51,
          55,
          88,
          83,
          65,
          87,
          75,
          71,
          59,
          42,
          88,
          22,
          70,
          60,
          75,
          67,
          79,
          46,
          76,
          77,
          45,
          65,
          59,
          74,
          58,
          35,
          72,
          88,
          76,
          54,
          59,
          71,
          62,
          70,
          79,
          71,
          58,
          65,
          88,
          70,
          81,
          69,
          99,
          71,
          82,
          61,
          28,
          61,
          79,
          62,
          66,
          63,
          59,
          42,
          59,
          80,
          52,
          59,
          84,
          45,
          82,
          67,
          77,
          76,
          53,
          49,
          84,
          68,
          41,
          62,
          50,
          67,
          69,
          64,
          100,
          65,
          54,
          71,
          77,
          84,
          91,
          68,
          61,
          83,
          54,
          59,
          76,
          63,
          76,
          74,
          66,
          71,
          68,
          77,
          32,
          74,
          63,
          63,
          71,
          53,
          61,
          48,
          69,
          54,
          58,
          76,
          61,
          69,
          58,
          100,
          100,
          49,
          67,
          86,
          69,
          85,
          62,
          74,
          55,
          63,
          73,
          69,
          50,
          73,
          63,
          62,
          85,
          93,
          79,
          63,
          66,
          93,
          98,
          62,
          47,
          81,
          53,
          87,
          53,
          53,
          55,
          69,
          87,
          68,
          55,
          52,
          69,
          60,
          58,
          66,
          35,
          72,
          19,
          60,
          69,
          82,
          73,
          75,
          64,
          49,
          61,
          58,
          74,
          87,
          75,
          71,
          82,
          70,
          80,
          81,
          69,
          86,
          88,
          79,
          69,
          68,
          91,
          67,
          62,
          70,
          85,
          49,
          75,
          62,
          84,
          56,
          72,
          62,
          63,
          49,
          54,
          64,
          60,
          78,
          67,
          68,
          77
         ],
         "xaxis": "x",
         "y": [
          90,
          78,
          95,
          43,
          72,
          75,
          54,
          54,
          74,
          65,
          42,
          87,
          65,
          55,
          44,
          59,
          72,
          63,
          55,
          47,
          80,
          83,
          70,
          86,
          72,
          67,
          67,
          86,
          67,
          58,
          69,
          93,
          80,
          77,
          74,
          81,
          61,
          62,
          55,
          73,
          39,
          89,
          60,
          88,
          75,
          86,
          64,
          83,
          62,
          53,
          81,
          41,
          81,
          61,
          28,
          72,
          95,
          64,
          52,
          51,
          83,
          73,
          75,
          79,
          76,
          49,
          70,
          85,
          78,
          78,
          67,
          87,
          81,
          90,
          61,
          23,
          68,
          73,
          61,
          57,
          78,
          71,
          66,
          62,
          90,
          58,
          60,
          77,
          73,
          97,
          76,
          68,
          67,
          43,
          65,
          83,
          59,
          39,
          67,
          48,
          81,
          66,
          85,
          92,
          58,
          54,
          70,
          90,
          87,
          74,
          68,
          47,
          83,
          48,
          78,
          71,
          61,
          71,
          89,
          74,
          49,
          60,
          62,
          39,
          75,
          74,
          80,
          75,
          62,
          51,
          56,
          77,
          64,
          57,
          78,
          64,
          60,
          59,
          96,
          97,
          57,
          64,
          76,
          79,
          86,
          67,
          77,
          71,
          73,
          74,
          78,
          64,
          78,
          61,
          66,
          75,
          90,
          89,
          64,
          59,
          84,
          100,
          72,
          43,
          74,
          39,
          89,
          58,
          66,
          55,
          64,
          84,
          72,
          58,
          59,
          77,
          63,
          60,
          65,
          44,
          79,
          38,
          66,
          60,
          85,
          76,
          81,
          74,
          52,
          60,
          50,
          77,
          85,
          68,
          71,
          82,
          72,
          64,
          82,
          65,
          85,
          77,
          84,
          84,
          70,
          96,
          74,
          57,
          63,
          81,
          58,
          77,
          69,
          87,
          58,
          57,
          70,
          63,
          65,
          63,
          82,
          62,
          87,
          86,
          78,
          86
         ],
         "yaxis": "y"
        },
        {
         "alignmentgroup": "True",
         "hovertemplate": "parental_level_of_education=master's degree<br>Nota de Matemática=%{x}<br>Nota de Leitura=%{y}<extra></extra>",
         "legendgroup": "master's degree",
         "marker": {
          "color": "#00cc96",
          "pattern": {
           "shape": ""
          }
         },
         "name": "master's degree",
         "offsetgroup": "master's degree",
         "orientation": "v",
         "showlegend": true,
         "textposition": "auto",
         "type": "bar",
         "x": [
          90,
          50,
          46,
          73,
          62,
          56,
          62,
          87,
          82,
          89,
          49,
          81,
          58,
          81,
          52,
          62,
          69,
          45,
          80,
          65,
          77,
          85,
          79,
          73,
          70,
          47,
          55,
          74,
          40,
          79,
          77,
          54,
          64,
          79,
          61,
          61,
          53,
          54,
          84,
          40,
          95,
          94,
          81,
          67,
          79,
          77,
          52,
          54,
          90,
          91,
          71,
          81,
          50,
          85,
          73,
          72,
          78,
          92,
          88
         ],
         "xaxis": "x",
         "y": [
          95,
          53,
          42,
          74,
          70,
          72,
          68,
          100,
          82,
          84,
          53,
          92,
          76,
          91,
          70,
          68,
          84,
          56,
          80,
          81,
          82,
          95,
          81,
          70,
          71,
          58,
          64,
          79,
          59,
          78,
          97,
          59,
          63,
          72,
          67,
          71,
          61,
          60,
          89,
          58,
          81,
          99,
          81,
          57,
          77,
          90,
          65,
          64,
          85,
          85,
          67,
          86,
          67,
          84,
          78,
          66,
          91,
          100,
          99
         ],
         "yaxis": "y"
        },
        {
         "alignmentgroup": "True",
         "hovertemplate": "parental_level_of_education=associate's degree<br>Nota de Matemática=%{x}<br>Nota de Leitura=%{y}<extra></extra>",
         "legendgroup": "associate's degree",
         "marker": {
          "color": "#ab63fa",
          "pattern": {
           "shape": ""
          }
         },
         "name": "associate's degree",
         "offsetgroup": "associate's degree",
         "orientation": "v",
         "showlegend": true,
         "textposition": "auto",
         "type": "bar",
         "x": [
          47,
          71,
          58,
          40,
          54,
          81,
          74,
          75,
          57,
          55,
          58,
          53,
          50,
          65,
          55,
          57,
          77,
          82,
          52,
          62,
          69,
          61,
          39,
          41,
          44,
          47,
          72,
          71,
          43,
          78,
          85,
          66,
          52,
          77,
          54,
          91,
          59,
          73,
          100,
          59,
          61,
          66,
          82,
          63,
          71,
          65,
          65,
          66,
          61,
          67,
          69,
          57,
          60,
          83,
          87,
          52,
          46,
          80,
          84,
          85,
          89,
          64,
          78,
          88,
          47,
          81,
          97,
          76,
          67,
          71,
          90,
          67,
          80,
          74,
          53,
          73,
          68,
          83,
          56,
          82,
          47,
          62,
          90,
          49,
          67,
          87,
          46,
          63,
          46,
          80,
          87,
          57,
          57,
          85,
          65,
          82,
          87,
          71,
          74,
          82,
          64,
          75,
          75,
          73,
          81,
          65,
          53,
          53,
          26,
          83,
          68,
          90,
          80,
          76,
          52,
          49,
          60,
          79,
          65,
          64,
          94,
          95,
          91,
          62,
          68,
          62,
          79,
          51,
          97,
          79,
          81,
          82,
          40,
          53,
          55,
          53,
          48,
          40,
          73,
          65,
          85,
          58,
          65,
          82,
          65,
          69,
          61,
          76,
          74,
          59,
          65,
          77,
          43,
          90,
          80,
          81,
          52,
          65,
          81,
          77,
          49,
          73,
          77,
          75,
          57,
          42,
          76,
          73,
          96,
          91,
          65,
          68,
          92,
          81,
          37,
          59,
          72,
          58,
          84,
          94,
          46,
          52,
          68,
          57,
          70,
          52,
          87,
          56,
          58,
          66,
          80,
          87,
          53,
          97,
          61,
          78,
          49,
          82,
          90,
          64,
          51,
          62,
          93,
          85,
          59,
          67,
          46,
          57,
          54,
          64,
          46,
          61,
          98,
          67,
          54,
          72,
          100,
          68,
          62,
          91,
          40,
          55
         ],
         "xaxis": "x",
         "y": [
          57,
          83,
          54,
          52,
          58,
          81,
          81,
          90,
          56,
          61,
          73,
          58,
          56,
          54,
          65,
          74,
          69,
          85,
          55,
          61,
          80,
          58,
          64,
          51,
          41,
          49,
          64,
          71,
          45,
          81,
          91,
          63,
          76,
          89,
          53,
          89,
          66,
          68,
          100,
          70,
          86,
          62,
          78,
          67,
          77,
          69,
          67,
          65,
          55,
          84,
          77,
          69,
          51,
          86,
          85,
          66,
          43,
          75,
          80,
          76,
          76,
          73,
          77,
          92,
          53,
          82,
          82,
          70,
          62,
          74,
          87,
          84,
          76,
          75,
          71,
          76,
          67,
          72,
          65,
          75,
          37,
          56,
          78,
          51,
          72,
          74,
          58,
          61,
          43,
          86,
          100,
          78,
          54,
          89,
          65,
          80,
          84,
          66,
          73,
          93,
          66,
          68,
          66,
          83,
          73,
          77,
          61,
          54,
          31,
          85,
          86,
          90,
          68,
          71,
          59,
          52,
          75,
          82,
          85,
          64,
          87,
          89,
          86,
          74,
          67,
          61,
          88,
          60,
          92,
          82,
          77,
          95,
          48,
          45,
          72,
          70,
          43,
          55,
          75,
          76,
          84,
          63,
          77,
          93,
          73,
          70,
          48,
          74,
          88,
          70,
          70,
          67,
          60,
          87,
          63,
          72,
          57,
          84,
          75,
          78,
          53,
          76,
          77,
          82,
          78,
          61,
          94,
          78,
          96,
          73,
          75,
          77,
          79,
          71,
          57,
          73,
          79,
          55,
          95,
          85,
          56,
          59,
          65,
          68,
          84,
          55,
          94,
          68,
          57,
          77,
          75,
          73,
          62,
          93,
          42,
          74,
          51,
          84,
          90,
          76,
          51,
          76,
          100,
          92,
          62,
          54,
          61,
          77,
          65,
          56,
          43,
          71,
          87,
          57,
          61,
          57,
          100,
          76,
          65,
          95,
          59,
          76
         ],
         "yaxis": "y"
        },
        {
         "alignmentgroup": "True",
         "hovertemplate": "parental_level_of_education=high school<br>Nota de Matemática=%{x}<br>Nota de Leitura=%{y}<extra></extra>",
         "legendgroup": "high school",
         "marker": {
          "color": "#FFA15A",
          "pattern": {
           "shape": ""
          }
         },
         "name": "high school",
         "offsetgroup": "high school",
         "orientation": "v",
         "showlegend": true,
         "textposition": "auto",
         "type": "bar",
         "x": [
          64,
          38,
          65,
          88,
          66,
          70,
          66,
          82,
          88,
          33,
          49,
          42,
          27,
          71,
          60,
          62,
          84,
          63,
          87,
          70,
          57,
          66,
          52,
          53,
          68,
          72,
          46,
          50,
          80,
          55,
          81,
          42,
          87,
          34,
          66,
          56,
          57,
          73,
          56,
          58,
          65,
          68,
          54,
          99,
          76,
          69,
          59,
          53,
          45,
          78,
          40,
          49,
          71,
          67,
          75,
          41,
          71,
          58,
          61,
          69,
          72,
          75,
          58,
          69,
          62,
          48,
          50,
          88,
          54,
          52,
          84,
          57,
          57,
          61,
          61,
          70,
          78,
          86,
          47,
          72,
          72,
          77,
          63,
          73,
          59,
          70,
          54,
          68,
          68,
          67,
          53,
          36,
          73,
          51,
          75,
          72,
          62,
          63,
          50,
          74,
          81,
          55,
          74,
          30,
          69,
          29,
          60,
          60,
          35,
          58,
          79,
          75,
          71,
          67,
          41,
          74,
          70,
          64,
          50,
          68,
          65,
          66,
          69,
          67,
          60,
          62,
          53,
          66,
          46,
          89,
          76,
          50,
          73,
          61,
          81,
          69,
          53,
          62,
          74,
          58,
          76,
          52,
          66,
          76,
          48,
          66,
          42,
          70,
          41,
          90,
          45,
          72,
          60,
          71,
          62,
          77,
          60,
          73,
          75,
          39,
          23,
          64,
          59,
          61,
          52,
          59,
          59,
          64,
          54,
          44,
          36,
          34,
          57,
          44,
          69,
          35,
          72,
          74,
          65,
          57,
          81,
          58,
          82,
          57,
          94,
          58,
          45,
          75,
          53,
          55,
          8,
          57,
          86,
          63,
          62,
          59
         ],
         "xaxis": "x",
         "y": [
          64,
          60,
          81,
          89,
          69,
          70,
          71,
          84,
          78,
          41,
          45,
          39,
          34,
          79,
          44,
          55,
          77,
          57,
          95,
          55,
          43,
          74,
          53,
          51,
          83,
          73,
          54,
          50,
          76,
          56,
          80,
          62,
          91,
          42,
          77,
          68,
          50,
          68,
          52,
          70,
          64,
          60,
          52,
          93,
          73,
          72,
          63,
          52,
          48,
          77,
          46,
          57,
          66,
          79,
          86,
          46,
          60,
          61,
          73,
          76,
          80,
          74,
          62,
          58,
          64,
          45,
          67,
          99,
          59,
          57,
          73,
          56,
          58,
          72,
          56,
          56,
          81,
          81,
          46,
          65,
          67,
          88,
          69,
          71,
          52,
          74,
          64,
          64,
          70,
          78,
          52,
          53,
          69,
          66,
          69,
          67,
          67,
          48,
          66,
          81,
          91,
          73,
          76,
          24,
          77,
          29,
          57,
          68,
          61,
          51,
          60,
          88,
          74,
          80,
          52,
          79,
          65,
          62,
          53,
          80,
          69,
          76,
          77,
          72,
          68,
          55,
          58,
          66,
          34,
          87,
          76,
          48,
          92,
          60,
          84,
          75,
          72,
          62,
          72,
          75,
          62,
          48,
          72,
          85,
          62,
          74,
          52,
          70,
          45,
          75,
          47,
          80,
          72,
          87,
          67,
          82,
          64,
          64,
          82,
          52,
          44,
          54,
          72,
          68,
          49,
          53,
          58,
          73,
          72,
          51,
          29,
          48,
          48,
          61,
          70,
          53,
          66,
          70,
          61,
          58,
          66,
          68,
          82,
          75,
          73,
          52,
          63,
          81,
          50,
          41,
          24,
          51,
          81,
          63,
          55,
          71
         ],
         "yaxis": "y"
        },
        {
         "alignmentgroup": "True",
         "hovertemplate": "parental_level_of_education=some high school<br>Nota de Matemática=%{x}<br>Nota de Leitura=%{y}<extra></extra>",
         "legendgroup": "some high school",
         "marker": {
          "color": "#19d3f3",
          "pattern": {
           "shape": ""
          }
         },
         "name": "some high school",
         "offsetgroup": "some high school",
         "orientation": "v",
         "showlegend": true,
         "textposition": "auto",
         "type": "bar",
         "x": [
          69,
          18,
          69,
          50,
          71,
          0,
          39,
          59,
          67,
          45,
          61,
          49,
          30,
          61,
          73,
          65,
          70,
          51,
          72,
          53,
          51,
          76,
          88,
          62,
          62,
          94,
          97,
          45,
          62,
          48,
          62,
          59,
          74,
          80,
          84,
          61,
          55,
          86,
          68,
          92,
          64,
          75,
          47,
          60,
          64,
          44,
          59,
          85,
          65,
          37,
          67,
          77,
          86,
          63,
          46,
          56,
          51,
          43,
          41,
          76,
          24,
          35,
          85,
          27,
          44,
          73,
          74,
          80,
          71,
          38,
          38,
          73,
          65,
          74,
          60,
          59,
          63,
          63,
          59,
          69,
          65,
          68,
          47,
          73,
          89,
          59,
          79,
          67,
          59,
          64,
          66,
          82,
          64,
          62,
          54,
          76,
          66,
          56,
          47,
          78,
          92,
          79,
          73,
          81,
          77,
          48,
          71,
          53,
          65,
          75,
          44,
          84,
          80,
          72,
          51,
          73,
          69,
          73,
          50,
          70,
          29,
          49,
          57,
          59,
          80,
          60,
          55,
          74,
          68,
          55,
          55,
          71,
          77,
          48,
          78,
          68,
          52,
          49,
          32,
          72,
          89,
          67,
          76,
          51,
          87,
          94,
          77,
          85,
          48,
          65,
          69,
          68,
          64,
          40,
          82,
          62,
          57,
          59,
          88,
          32,
          63,
          65,
          67,
          74,
          48,
          77,
          61,
          49,
          74,
          48,
          65,
          66,
          78,
          81,
          79,
          74,
          81,
          44,
          65
         ],
         "xaxis": "x",
         "y": [
          75,
          32,
          73,
          64,
          84,
          17,
          39,
          58,
          64,
          37,
          57,
          49,
          26,
          74,
          86,
          66,
          64,
          63,
          68,
          37,
          54,
          72,
          84,
          67,
          67,
          88,
          100,
          52,
          66,
          52,
          64,
          69,
          71,
          79,
          83,
          56,
          65,
          80,
          72,
          87,
          60,
          74,
          49,
          70,
          79,
          50,
          42,
          92,
          86,
          46,
          89,
          76,
          73,
          60,
          41,
          54,
          52,
          53,
          55,
          70,
          38,
          55,
          84,
          34,
          64,
          84,
          74,
          90,
          83,
          49,
          43,
          67,
          74,
          63,
          59,
          54,
          73,
          67,
          85,
          71,
          59,
          63,
          59,
          66,
          88,
          73,
          82,
          74,
          67,
          53,
          69,
          82,
          50,
          49,
          61,
          87,
          78,
          61,
          54,
          83,
          100,
          76,
          66,
          97,
          79,
          66,
          62,
          54,
          82,
          72,
          51,
          84,
          92,
          81,
          56,
          79,
          66,
          66,
          60,
          82,
          40,
          63,
          67,
          63,
          85,
          70,
          59,
          90,
          51,
          46,
          47,
          69,
          90,
          58,
          81,
          71,
          67,
          58,
          51,
          79,
          84,
          73,
          80,
          31,
          84,
          86,
          91,
          90,
          58,
          69,
          86,
          54,
          58,
          65,
          67,
          64,
          61,
          72,
          74,
          34,
          78,
          78,
          84,
          64,
          56,
          68,
          62,
          50,
          74,
          54,
          76,
          68,
          72,
          78,
          85,
          75,
          75,
          45,
          82
         ],
         "yaxis": "y"
        }
       ],
       "layout": {
        "barmode": "relative",
        "legend": {
         "title": {
          "text": "parental_level_of_education"
         },
         "tracegroupgap": 0
        },
        "template": {
         "data": {
          "bar": [
           {
            "error_x": {
             "color": "#2a3f5f"
            },
            "error_y": {
             "color": "#2a3f5f"
            },
            "marker": {
             "line": {
              "color": "#E5ECF6",
              "width": 0.5
             },
             "pattern": {
              "fillmode": "overlay",
              "size": 10,
              "solidity": 0.2
             }
            },
            "type": "bar"
           }
          ],
          "barpolar": [
           {
            "marker": {
             "line": {
              "color": "#E5ECF6",
              "width": 0.5
             },
             "pattern": {
              "fillmode": "overlay",
              "size": 10,
              "solidity": 0.2
             }
            },
            "type": "barpolar"
           }
          ],
          "carpet": [
           {
            "aaxis": {
             "endlinecolor": "#2a3f5f",
             "gridcolor": "white",
             "linecolor": "white",
             "minorgridcolor": "white",
             "startlinecolor": "#2a3f5f"
            },
            "baxis": {
             "endlinecolor": "#2a3f5f",
             "gridcolor": "white",
             "linecolor": "white",
             "minorgridcolor": "white",
             "startlinecolor": "#2a3f5f"
            },
            "type": "carpet"
           }
          ],
          "choropleth": [
           {
            "colorbar": {
             "outlinewidth": 0,
             "ticks": ""
            },
            "type": "choropleth"
           }
          ],
          "contour": [
           {
            "colorbar": {
             "outlinewidth": 0,
             "ticks": ""
            },
            "colorscale": [
             [
              0,
              "#0d0887"
             ],
             [
              0.1111111111111111,
              "#46039f"
             ],
             [
              0.2222222222222222,
              "#7201a8"
             ],
             [
              0.3333333333333333,
              "#9c179e"
             ],
             [
              0.4444444444444444,
              "#bd3786"
             ],
             [
              0.5555555555555556,
              "#d8576b"
             ],
             [
              0.6666666666666666,
              "#ed7953"
             ],
             [
              0.7777777777777778,
              "#fb9f3a"
             ],
             [
              0.8888888888888888,
              "#fdca26"
             ],
             [
              1,
              "#f0f921"
             ]
            ],
            "type": "contour"
           }
          ],
          "contourcarpet": [
           {
            "colorbar": {
             "outlinewidth": 0,
             "ticks": ""
            },
            "type": "contourcarpet"
           }
          ],
          "heatmap": [
           {
            "colorbar": {
             "outlinewidth": 0,
             "ticks": ""
            },
            "colorscale": [
             [
              0,
              "#0d0887"
             ],
             [
              0.1111111111111111,
              "#46039f"
             ],
             [
              0.2222222222222222,
              "#7201a8"
             ],
             [
              0.3333333333333333,
              "#9c179e"
             ],
             [
              0.4444444444444444,
              "#bd3786"
             ],
             [
              0.5555555555555556,
              "#d8576b"
             ],
             [
              0.6666666666666666,
              "#ed7953"
             ],
             [
              0.7777777777777778,
              "#fb9f3a"
             ],
             [
              0.8888888888888888,
              "#fdca26"
             ],
             [
              1,
              "#f0f921"
             ]
            ],
            "type": "heatmap"
           }
          ],
          "heatmapgl": [
           {
            "colorbar": {
             "outlinewidth": 0,
             "ticks": ""
            },
            "colorscale": [
             [
              0,
              "#0d0887"
             ],
             [
              0.1111111111111111,
              "#46039f"
             ],
             [
              0.2222222222222222,
              "#7201a8"
             ],
             [
              0.3333333333333333,
              "#9c179e"
             ],
             [
              0.4444444444444444,
              "#bd3786"
             ],
             [
              0.5555555555555556,
              "#d8576b"
             ],
             [
              0.6666666666666666,
              "#ed7953"
             ],
             [
              0.7777777777777778,
              "#fb9f3a"
             ],
             [
              0.8888888888888888,
              "#fdca26"
             ],
             [
              1,
              "#f0f921"
             ]
            ],
            "type": "heatmapgl"
           }
          ],
          "histogram": [
           {
            "marker": {
             "pattern": {
              "fillmode": "overlay",
              "size": 10,
              "solidity": 0.2
             }
            },
            "type": "histogram"
           }
          ],
          "histogram2d": [
           {
            "colorbar": {
             "outlinewidth": 0,
             "ticks": ""
            },
            "colorscale": [
             [
              0,
              "#0d0887"
             ],
             [
              0.1111111111111111,
              "#46039f"
             ],
             [
              0.2222222222222222,
              "#7201a8"
             ],
             [
              0.3333333333333333,
              "#9c179e"
             ],
             [
              0.4444444444444444,
              "#bd3786"
             ],
             [
              0.5555555555555556,
              "#d8576b"
             ],
             [
              0.6666666666666666,
              "#ed7953"
             ],
             [
              0.7777777777777778,
              "#fb9f3a"
             ],
             [
              0.8888888888888888,
              "#fdca26"
             ],
             [
              1,
              "#f0f921"
             ]
            ],
            "type": "histogram2d"
           }
          ],
          "histogram2dcontour": [
           {
            "colorbar": {
             "outlinewidth": 0,
             "ticks": ""
            },
            "colorscale": [
             [
              0,
              "#0d0887"
             ],
             [
              0.1111111111111111,
              "#46039f"
             ],
             [
              0.2222222222222222,
              "#7201a8"
             ],
             [
              0.3333333333333333,
              "#9c179e"
             ],
             [
              0.4444444444444444,
              "#bd3786"
             ],
             [
              0.5555555555555556,
              "#d8576b"
             ],
             [
              0.6666666666666666,
              "#ed7953"
             ],
             [
              0.7777777777777778,
              "#fb9f3a"
             ],
             [
              0.8888888888888888,
              "#fdca26"
             ],
             [
              1,
              "#f0f921"
             ]
            ],
            "type": "histogram2dcontour"
           }
          ],
          "mesh3d": [
           {
            "colorbar": {
             "outlinewidth": 0,
             "ticks": ""
            },
            "type": "mesh3d"
           }
          ],
          "parcoords": [
           {
            "line": {
             "colorbar": {
              "outlinewidth": 0,
              "ticks": ""
             }
            },
            "type": "parcoords"
           }
          ],
          "pie": [
           {
            "automargin": true,
            "type": "pie"
           }
          ],
          "scatter": [
           {
            "fillpattern": {
             "fillmode": "overlay",
             "size": 10,
             "solidity": 0.2
            },
            "type": "scatter"
           }
          ],
          "scatter3d": [
           {
            "line": {
             "colorbar": {
              "outlinewidth": 0,
              "ticks": ""
             }
            },
            "marker": {
             "colorbar": {
              "outlinewidth": 0,
              "ticks": ""
             }
            },
            "type": "scatter3d"
           }
          ],
          "scattercarpet": [
           {
            "marker": {
             "colorbar": {
              "outlinewidth": 0,
              "ticks": ""
             }
            },
            "type": "scattercarpet"
           }
          ],
          "scattergeo": [
           {
            "marker": {
             "colorbar": {
              "outlinewidth": 0,
              "ticks": ""
             }
            },
            "type": "scattergeo"
           }
          ],
          "scattergl": [
           {
            "marker": {
             "colorbar": {
              "outlinewidth": 0,
              "ticks": ""
             }
            },
            "type": "scattergl"
           }
          ],
          "scattermapbox": [
           {
            "marker": {
             "colorbar": {
              "outlinewidth": 0,
              "ticks": ""
             }
            },
            "type": "scattermapbox"
           }
          ],
          "scatterpolar": [
           {
            "marker": {
             "colorbar": {
              "outlinewidth": 0,
              "ticks": ""
             }
            },
            "type": "scatterpolar"
           }
          ],
          "scatterpolargl": [
           {
            "marker": {
             "colorbar": {
              "outlinewidth": 0,
              "ticks": ""
             }
            },
            "type": "scatterpolargl"
           }
          ],
          "scatterternary": [
           {
            "marker": {
             "colorbar": {
              "outlinewidth": 0,
              "ticks": ""
             }
            },
            "type": "scatterternary"
           }
          ],
          "surface": [
           {
            "colorbar": {
             "outlinewidth": 0,
             "ticks": ""
            },
            "colorscale": [
             [
              0,
              "#0d0887"
             ],
             [
              0.1111111111111111,
              "#46039f"
             ],
             [
              0.2222222222222222,
              "#7201a8"
             ],
             [
              0.3333333333333333,
              "#9c179e"
             ],
             [
              0.4444444444444444,
              "#bd3786"
             ],
             [
              0.5555555555555556,
              "#d8576b"
             ],
             [
              0.6666666666666666,
              "#ed7953"
             ],
             [
              0.7777777777777778,
              "#fb9f3a"
             ],
             [
              0.8888888888888888,
              "#fdca26"
             ],
             [
              1,
              "#f0f921"
             ]
            ],
            "type": "surface"
           }
          ],
          "table": [
           {
            "cells": {
             "fill": {
              "color": "#EBF0F8"
             },
             "line": {
              "color": "white"
             }
            },
            "header": {
             "fill": {
              "color": "#C8D4E3"
             },
             "line": {
              "color": "white"
             }
            },
            "type": "table"
           }
          ]
         },
         "layout": {
          "annotationdefaults": {
           "arrowcolor": "#2a3f5f",
           "arrowhead": 0,
           "arrowwidth": 1
          },
          "autotypenumbers": "strict",
          "coloraxis": {
           "colorbar": {
            "outlinewidth": 0,
            "ticks": ""
           }
          },
          "colorscale": {
           "diverging": [
            [
             0,
             "#8e0152"
            ],
            [
             0.1,
             "#c51b7d"
            ],
            [
             0.2,
             "#de77ae"
            ],
            [
             0.3,
             "#f1b6da"
            ],
            [
             0.4,
             "#fde0ef"
            ],
            [
             0.5,
             "#f7f7f7"
            ],
            [
             0.6,
             "#e6f5d0"
            ],
            [
             0.7,
             "#b8e186"
            ],
            [
             0.8,
             "#7fbc41"
            ],
            [
             0.9,
             "#4d9221"
            ],
            [
             1,
             "#276419"
            ]
           ],
           "sequential": [
            [
             0,
             "#0d0887"
            ],
            [
             0.1111111111111111,
             "#46039f"
            ],
            [
             0.2222222222222222,
             "#7201a8"
            ],
            [
             0.3333333333333333,
             "#9c179e"
            ],
            [
             0.4444444444444444,
             "#bd3786"
            ],
            [
             0.5555555555555556,
             "#d8576b"
            ],
            [
             0.6666666666666666,
             "#ed7953"
            ],
            [
             0.7777777777777778,
             "#fb9f3a"
            ],
            [
             0.8888888888888888,
             "#fdca26"
            ],
            [
             1,
             "#f0f921"
            ]
           ],
           "sequentialminus": [
            [
             0,
             "#0d0887"
            ],
            [
             0.1111111111111111,
             "#46039f"
            ],
            [
             0.2222222222222222,
             "#7201a8"
            ],
            [
             0.3333333333333333,
             "#9c179e"
            ],
            [
             0.4444444444444444,
             "#bd3786"
            ],
            [
             0.5555555555555556,
             "#d8576b"
            ],
            [
             0.6666666666666666,
             "#ed7953"
            ],
            [
             0.7777777777777778,
             "#fb9f3a"
            ],
            [
             0.8888888888888888,
             "#fdca26"
            ],
            [
             1,
             "#f0f921"
            ]
           ]
          },
          "colorway": [
           "#636efa",
           "#EF553B",
           "#00cc96",
           "#ab63fa",
           "#FFA15A",
           "#19d3f3",
           "#FF6692",
           "#B6E880",
           "#FF97FF",
           "#FECB52"
          ],
          "font": {
           "color": "#2a3f5f"
          },
          "geo": {
           "bgcolor": "white",
           "lakecolor": "white",
           "landcolor": "#E5ECF6",
           "showlakes": true,
           "showland": true,
           "subunitcolor": "white"
          },
          "hoverlabel": {
           "align": "left"
          },
          "hovermode": "closest",
          "mapbox": {
           "style": "light"
          },
          "paper_bgcolor": "white",
          "plot_bgcolor": "#E5ECF6",
          "polar": {
           "angularaxis": {
            "gridcolor": "white",
            "linecolor": "white",
            "ticks": ""
           },
           "bgcolor": "#E5ECF6",
           "radialaxis": {
            "gridcolor": "white",
            "linecolor": "white",
            "ticks": ""
           }
          },
          "scene": {
           "xaxis": {
            "backgroundcolor": "#E5ECF6",
            "gridcolor": "white",
            "gridwidth": 2,
            "linecolor": "white",
            "showbackground": true,
            "ticks": "",
            "zerolinecolor": "white"
           },
           "yaxis": {
            "backgroundcolor": "#E5ECF6",
            "gridcolor": "white",
            "gridwidth": 2,
            "linecolor": "white",
            "showbackground": true,
            "ticks": "",
            "zerolinecolor": "white"
           },
           "zaxis": {
            "backgroundcolor": "#E5ECF6",
            "gridcolor": "white",
            "gridwidth": 2,
            "linecolor": "white",
            "showbackground": true,
            "ticks": "",
            "zerolinecolor": "white"
           }
          },
          "shapedefaults": {
           "line": {
            "color": "#2a3f5f"
           }
          },
          "ternary": {
           "aaxis": {
            "gridcolor": "white",
            "linecolor": "white",
            "ticks": ""
           },
           "baxis": {
            "gridcolor": "white",
            "linecolor": "white",
            "ticks": ""
           },
           "bgcolor": "#E5ECF6",
           "caxis": {
            "gridcolor": "white",
            "linecolor": "white",
            "ticks": ""
           }
          },
          "title": {
           "x": 0.05
          },
          "xaxis": {
           "automargin": true,
           "gridcolor": "white",
           "linecolor": "white",
           "ticks": "",
           "title": {
            "standoff": 15
           },
           "zerolinecolor": "white",
           "zerolinewidth": 2
          },
          "yaxis": {
           "automargin": true,
           "gridcolor": "white",
           "linecolor": "white",
           "ticks": "",
           "title": {
            "standoff": 15
           },
           "zerolinecolor": "white",
           "zerolinewidth": 2
          }
         }
        },
        "title": {
         "text": "Correlação entre as Notas de Matemática e Leitura x Nivel de Educação dos Pais"
        },
        "xaxis": {
         "anchor": "y",
         "domain": [
          0,
          1
         ],
         "title": {
          "text": "Nota de Matemática"
         }
        },
        "yaxis": {
         "anchor": "x",
         "domain": [
          0,
          1
         ],
         "title": {
          "text": "Nota de Leitura"
         }
        }
       }
      }
     },
     "metadata": {},
     "output_type": "display_data"
    }
   ],
   "source": [
    "# Create a plot to show the correlation between the scores\n",
    "fig = px.bar(df, x='math_score', y='reading_score', color='parental_level_of_education', title='Correlação entre as Notas de Matemática e Leitura x Nivel de Educação dos Pais', labels={'math_score': 'Nota de Matemática', 'reading_score': 'Nota de Leitura'})\n",
    "fig.show()"
   ]
  },
  {
   "cell_type": "code",
   "execution_count": null,
   "metadata": {},
   "outputs": [],
   "source": []
  }
 ],
 "metadata": {
  "kernelspec": {
   "display_name": "machine-learning-final-list-77eVZswh",
   "language": "python",
   "name": "python3"
  },
  "language_info": {
   "codemirror_mode": {
    "name": "ipython",
    "version": 3
   },
   "file_extension": ".py",
   "mimetype": "text/x-python",
   "name": "python",
   "nbconvert_exporter": "python",
   "pygments_lexer": "ipython3",
   "version": "3.12.4"
  }
 },
 "nbformat": 4,
 "nbformat_minor": 2
}
