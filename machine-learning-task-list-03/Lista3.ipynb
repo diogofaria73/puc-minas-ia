{
  "cells": [
    {
      "cell_type": "markdown",
      "metadata": {
        "id": "dKe9BbZvDD9k"
      },
      "source": [
        "#Lista 3\n",
        "-------------\n",
        "\n",
        "\n",
        "Objetivo: agrupar conjunto de observações de um banco de dados.\n",
        "\n",
        "Banco utilizado: Wholesale customer\n",
        "\n",
        "Descrição do dados:\n",
        "\n",
        "1. FRESH: Gastos anuais (m.u.) em produtos frescos (Contínuo)\n",
        "2. MILK: Gastos anuais (m.u.) em produtos lácteos (Contínuo)\n",
        "3. GROCERY: Gastos anuais (m.u.) em produtos de mercearia (Contínuo)\n",
        "4. FROZEN: Gastos anuais (m.u.) em produtos congelados (Contínuo)\n",
        "5. DETERGENTS_PAPER: Gastos anuais (m.u.) em detergentes e produtos de papel (Contínuo)\n",
        "6. DELICATESSEN: Gastos anuais (m.u.) em produtos de delicatessen (Contínuo)\n",
        "7. CHANNEL: Canal dos clientes - Horeca (Hotel/Restaurante/Café) ou Varejo (Nominal)\n",
        "8. REGION: Região dos clientes - Lisboa, Porto ou Outras (Nominal)\n",
        "\n",
        "Exercício:\n",
        "\n",
        "1. Carregamento e Análise Inicial:\n",
        "* Carregue o banco de dados e analise suas features.\n",
        "* Não utilize as variáveis Channel e Region.\n",
        "* Realize a padronização dos dados.\n",
        "\n",
        "**Observação**: Nos exercícios seguintes, utilize os dados padronizados.\n",
        "\n",
        "2. Geração de Clusters:\n",
        "* Gere 5 clusters utilizando os algoritmos K-means, Aglomerativo e DBSCAN (Utilize eps de 3000 e min_samples de 5).\n",
        "3. Análise de Silhouette Score:\n",
        "* Analise o resultado do Silhouette Score para cada agrupamento. Qual dentre os três é o melhor?\n",
        "\n",
        "4. Decomposição de Componentes Principais (PCA):\n",
        "* Realize a decomposição de componentes principais (PCA) com duas componentes.\n",
        "* Qual o percentual da variabilidade é explicado com duas componentes?\n",
        "* Construa um gráfico de pontos (scatterplot) onde no eixo x temos a primeira componente e no eixo y temos a segunda componente. Colora os pontos com o melhor cluster.\n",
        "\n",
        "5. Método do Cotovelo (Elbow Method):\n",
        "* Utilize o método do cotovelo junto com o algoritmo K-means para definir qual o melhor número de grupos."
      ]
    },
    {
      "cell_type": "markdown",
      "metadata": {
        "id": "32Uw8urRHyAs"
      },
      "source": [
        "## 1. Carga do banco\n",
        "--------------------"
      ]
    },
    {
      "cell_type": "code",
      "source": [],
      "metadata": {
        "id": "ax1w1VPH63hm"
      },
      "execution_count": null,
      "outputs": []
    },
    {
      "cell_type": "markdown",
      "metadata": {
        "id": "WtK7XgksHzUf"
      },
      "source": [
        "##2. Geração dos clusters\n",
        "--------------------\n",
        "##2.1. KNN\n",
        "--------------------"
      ]
    },
    {
      "cell_type": "code",
      "source": [],
      "metadata": {
        "id": "BMB_yDMk64g0"
      },
      "execution_count": null,
      "outputs": []
    },
    {
      "cell_type": "markdown",
      "metadata": {
        "id": "aQe_F8AVH50I"
      },
      "source": [
        "##2.2. Aglomerativo\n",
        "--------------------"
      ]
    },
    {
      "cell_type": "code",
      "source": [],
      "metadata": {
        "id": "NXonmIL465m4"
      },
      "execution_count": null,
      "outputs": []
    },
    {
      "cell_type": "markdown",
      "metadata": {
        "id": "7DVVAO3kH8-O"
      },
      "source": [
        "##2.3. DBSCAN\n",
        "--------------------"
      ]
    },
    {
      "cell_type": "code",
      "source": [],
      "metadata": {
        "id": "y_H1ikt966yj"
      },
      "execution_count": null,
      "outputs": []
    },
    {
      "cell_type": "markdown",
      "metadata": {
        "id": "L54JLF7EH_ya"
      },
      "source": [
        "## 3 Análise sillhouete score\n",
        "---------------------------"
      ]
    },
    {
      "cell_type": "code",
      "source": [],
      "metadata": {
        "id": "os2-EE_u67vd"
      },
      "execution_count": null,
      "outputs": []
    },
    {
      "cell_type": "markdown",
      "metadata": {
        "id": "C-AFQdVfIE8U"
      },
      "source": [
        "## 4. Visualização\n",
        "---------------------------\n",
        "## 4.1. PCA\n",
        "---------------------------"
      ]
    },
    {
      "cell_type": "code",
      "source": [],
      "metadata": {
        "id": "SZhyNGY268vi"
      },
      "execution_count": null,
      "outputs": []
    },
    {
      "cell_type": "markdown",
      "metadata": {
        "id": "Cm0vs0sgILeX"
      },
      "source": [
        "## 4.2. Gráfico\n",
        "---------------------------"
      ]
    },
    {
      "cell_type": "code",
      "source": [],
      "metadata": {
        "id": "FxbO2dGz6-1S"
      },
      "execution_count": null,
      "outputs": []
    },
    {
      "cell_type": "markdown",
      "metadata": {
        "id": "LEbcLa0WINqG"
      },
      "source": [
        "##5. Método elbow\n",
        "---------------------------"
      ]
    },
    {
      "cell_type": "code",
      "source": [],
      "metadata": {
        "id": "ElDZdS2_6_oR"
      },
      "execution_count": null,
      "outputs": []
    }
  ],
  "metadata": {
    "colab": {
      "provenance": []
    },
    "kernelspec": {
      "display_name": "Python 3",
      "name": "python3"
    },
    "language_info": {
      "name": "python"
    }
  },
  "nbformat": 4,
  "nbformat_minor": 0
}