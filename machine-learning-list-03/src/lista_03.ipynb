{
 "cells": [
  {
   "cell_type": "markdown",
   "metadata": {
    "id": "dKe9BbZvDD9k"
   },
   "source": [
    "#Lista 3\n",
    "-------------\n",
    "\n",
    "\n",
    "Objetivo: agrupar conjunto de observações de um banco de dados.\n",
    "\n",
    "Banco utilizado: Wholesale customer\n",
    "\n",
    "Descrição do dados:\n",
    "\n",
    "1. FRESH: Gastos anuais (m.u.) em produtos frescos (Contínuo)\n",
    "2. MILK: Gastos anuais (m.u.) em produtos lácteos (Contínuo)\n",
    "3. GROCERY: Gastos anuais (m.u.) em produtos de mercearia (Contínuo)\n",
    "4. FROZEN: Gastos anuais (m.u.) em produtos congelados (Contínuo)\n",
    "5. DETERGENTS_PAPER: Gastos anuais (m.u.) em detergentes e produtos de papel (Contínuo)\n",
    "6. DELICATESSEN: Gastos anuais (m.u.) em produtos de delicatessen (Contínuo)\n",
    "7. CHANNEL: Canal dos clientes - Horeca (Hotel/Restaurante/Café) ou Varejo (Nominal)\n",
    "8. REGION: Região dos clientes - Lisboa, Porto ou Outras (Nominal)\n",
    "\n",
    "Exercício:\n",
    "\n",
    "1. Carregamento e Análise Inicial:\n",
    "* Carregue o banco de dados e analise suas features.\n",
    "* Não utilize as variáveis Channel e Region.\n",
    "* Realize a padronização dos dados.\n",
    "\n",
    "**Observação**: Nos exercícios seguintes, utilize os dados padronizados.\n",
    "\n",
    "2. Geração de Clusters:\n",
    "* Gere 5 clusters utilizando os algoritmos K-means, Aglomerativo e DBSCAN (Utilize eps de 3000 e min_samples de 5).\n",
    "3. Análise de Silhouette Score:\n",
    "* Analise o resultado do Silhouette Score para cada agrupamento. Qual dentre os três é o melhor?\n",
    "\n",
    "4. Decomposição de Componentes Principais (PCA):\n",
    "* Realize a decomposição de componentes principais (PCA) com duas componentes.\n",
    "* Qual o percentual da variabilidade é explicado com duas componentes?\n",
    "* Construa um gráfico de pontos (scatterplot) onde no eixo x temos a primeira componente e no eixo y temos a segunda componente. Colora os pontos com o melhor cluster.\n",
    "\n",
    "5. Método do Cotovelo (Elbow Method):\n",
    "* Utilize o método do cotovelo junto com o algoritmo K-means para definir qual o melhor número de grupos."
   ]
  },
  {
   "cell_type": "markdown",
   "metadata": {
    "id": "32Uw8urRHyAs"
   },
   "source": [
    "## 1. Carga do banco\n",
    "--------------------"
   ]
  },
  {
   "cell_type": "code",
   "execution_count": 1,
   "metadata": {
    "id": "ax1w1VPH63hm"
   },
   "outputs": [],
   "source": [
    "import pandas as pd\n",
    "\n",
    "df = pd.read_csv('../datasource/Wholesale customers data.csv')"
   ]
  },
  {
   "cell_type": "code",
   "execution_count": 2,
   "metadata": {},
   "outputs": [
    {
     "data": {
      "text/html": [
       "<div>\n",
       "<style scoped>\n",
       "    .dataframe tbody tr th:only-of-type {\n",
       "        vertical-align: middle;\n",
       "    }\n",
       "\n",
       "    .dataframe tbody tr th {\n",
       "        vertical-align: top;\n",
       "    }\n",
       "\n",
       "    .dataframe thead th {\n",
       "        text-align: right;\n",
       "    }\n",
       "</style>\n",
       "<table border=\"1\" class=\"dataframe\">\n",
       "  <thead>\n",
       "    <tr style=\"text-align: right;\">\n",
       "      <th></th>\n",
       "      <th>Channel</th>\n",
       "      <th>Region</th>\n",
       "      <th>Fresh</th>\n",
       "      <th>Milk</th>\n",
       "      <th>Grocery</th>\n",
       "      <th>Frozen</th>\n",
       "      <th>Detergents_Paper</th>\n",
       "      <th>Delicassen</th>\n",
       "    </tr>\n",
       "  </thead>\n",
       "  <tbody>\n",
       "    <tr>\n",
       "      <th>0</th>\n",
       "      <td>2</td>\n",
       "      <td>3</td>\n",
       "      <td>12669</td>\n",
       "      <td>9656</td>\n",
       "      <td>7561</td>\n",
       "      <td>214</td>\n",
       "      <td>2674</td>\n",
       "      <td>1338</td>\n",
       "    </tr>\n",
       "    <tr>\n",
       "      <th>1</th>\n",
       "      <td>2</td>\n",
       "      <td>3</td>\n",
       "      <td>7057</td>\n",
       "      <td>9810</td>\n",
       "      <td>9568</td>\n",
       "      <td>1762</td>\n",
       "      <td>3293</td>\n",
       "      <td>1776</td>\n",
       "    </tr>\n",
       "    <tr>\n",
       "      <th>2</th>\n",
       "      <td>2</td>\n",
       "      <td>3</td>\n",
       "      <td>6353</td>\n",
       "      <td>8808</td>\n",
       "      <td>7684</td>\n",
       "      <td>2405</td>\n",
       "      <td>3516</td>\n",
       "      <td>7844</td>\n",
       "    </tr>\n",
       "    <tr>\n",
       "      <th>3</th>\n",
       "      <td>1</td>\n",
       "      <td>3</td>\n",
       "      <td>13265</td>\n",
       "      <td>1196</td>\n",
       "      <td>4221</td>\n",
       "      <td>6404</td>\n",
       "      <td>507</td>\n",
       "      <td>1788</td>\n",
       "    </tr>\n",
       "    <tr>\n",
       "      <th>4</th>\n",
       "      <td>2</td>\n",
       "      <td>3</td>\n",
       "      <td>22615</td>\n",
       "      <td>5410</td>\n",
       "      <td>7198</td>\n",
       "      <td>3915</td>\n",
       "      <td>1777</td>\n",
       "      <td>5185</td>\n",
       "    </tr>\n",
       "  </tbody>\n",
       "</table>\n",
       "</div>"
      ],
      "text/plain": [
       "   Channel  Region  Fresh  Milk  Grocery  Frozen  Detergents_Paper  Delicassen\n",
       "0        2       3  12669  9656     7561     214              2674        1338\n",
       "1        2       3   7057  9810     9568    1762              3293        1776\n",
       "2        2       3   6353  8808     7684    2405              3516        7844\n",
       "3        1       3  13265  1196     4221    6404               507        1788\n",
       "4        2       3  22615  5410     7198    3915              1777        5185"
      ]
     },
     "execution_count": 2,
     "metadata": {},
     "output_type": "execute_result"
    }
   ],
   "source": [
    "df.head()"
   ]
  },
  {
   "cell_type": "code",
   "execution_count": 3,
   "metadata": {},
   "outputs": [
    {
     "name": "stdout",
     "output_type": "stream",
     "text": [
      "<class 'pandas.core.frame.DataFrame'>\n",
      "RangeIndex: 440 entries, 0 to 439\n",
      "Data columns (total 8 columns):\n",
      " #   Column            Non-Null Count  Dtype\n",
      "---  ------            --------------  -----\n",
      " 0   Channel           440 non-null    int64\n",
      " 1   Region            440 non-null    int64\n",
      " 2   Fresh             440 non-null    int64\n",
      " 3   Milk              440 non-null    int64\n",
      " 4   Grocery           440 non-null    int64\n",
      " 5   Frozen            440 non-null    int64\n",
      " 6   Detergents_Paper  440 non-null    int64\n",
      " 7   Delicassen        440 non-null    int64\n",
      "dtypes: int64(8)\n",
      "memory usage: 27.6 KB\n"
     ]
    }
   ],
   "source": [
    "df.info()"
   ]
  },
  {
   "cell_type": "code",
   "execution_count": 4,
   "metadata": {},
   "outputs": [
    {
     "data": {
      "text/html": [
       "<div>\n",
       "<style scoped>\n",
       "    .dataframe tbody tr th:only-of-type {\n",
       "        vertical-align: middle;\n",
       "    }\n",
       "\n",
       "    .dataframe tbody tr th {\n",
       "        vertical-align: top;\n",
       "    }\n",
       "\n",
       "    .dataframe thead th {\n",
       "        text-align: right;\n",
       "    }\n",
       "</style>\n",
       "<table border=\"1\" class=\"dataframe\">\n",
       "  <thead>\n",
       "    <tr style=\"text-align: right;\">\n",
       "      <th></th>\n",
       "      <th>Channel</th>\n",
       "      <th>Region</th>\n",
       "      <th>Fresh</th>\n",
       "      <th>Milk</th>\n",
       "      <th>Grocery</th>\n",
       "      <th>Frozen</th>\n",
       "      <th>Detergents_Paper</th>\n",
       "      <th>Delicassen</th>\n",
       "    </tr>\n",
       "  </thead>\n",
       "  <tbody>\n",
       "    <tr>\n",
       "      <th>count</th>\n",
       "      <td>440.000000</td>\n",
       "      <td>440.000000</td>\n",
       "      <td>440.000000</td>\n",
       "      <td>440.000000</td>\n",
       "      <td>440.000000</td>\n",
       "      <td>440.000000</td>\n",
       "      <td>440.000000</td>\n",
       "      <td>440.000000</td>\n",
       "    </tr>\n",
       "    <tr>\n",
       "      <th>mean</th>\n",
       "      <td>1.322727</td>\n",
       "      <td>2.543182</td>\n",
       "      <td>12000.297727</td>\n",
       "      <td>5796.265909</td>\n",
       "      <td>7951.277273</td>\n",
       "      <td>3071.931818</td>\n",
       "      <td>2881.493182</td>\n",
       "      <td>1524.870455</td>\n",
       "    </tr>\n",
       "    <tr>\n",
       "      <th>std</th>\n",
       "      <td>0.468052</td>\n",
       "      <td>0.774272</td>\n",
       "      <td>12647.328865</td>\n",
       "      <td>7380.377175</td>\n",
       "      <td>9503.162829</td>\n",
       "      <td>4854.673333</td>\n",
       "      <td>4767.854448</td>\n",
       "      <td>2820.105937</td>\n",
       "    </tr>\n",
       "    <tr>\n",
       "      <th>min</th>\n",
       "      <td>1.000000</td>\n",
       "      <td>1.000000</td>\n",
       "      <td>3.000000</td>\n",
       "      <td>55.000000</td>\n",
       "      <td>3.000000</td>\n",
       "      <td>25.000000</td>\n",
       "      <td>3.000000</td>\n",
       "      <td>3.000000</td>\n",
       "    </tr>\n",
       "    <tr>\n",
       "      <th>25%</th>\n",
       "      <td>1.000000</td>\n",
       "      <td>2.000000</td>\n",
       "      <td>3127.750000</td>\n",
       "      <td>1533.000000</td>\n",
       "      <td>2153.000000</td>\n",
       "      <td>742.250000</td>\n",
       "      <td>256.750000</td>\n",
       "      <td>408.250000</td>\n",
       "    </tr>\n",
       "    <tr>\n",
       "      <th>50%</th>\n",
       "      <td>1.000000</td>\n",
       "      <td>3.000000</td>\n",
       "      <td>8504.000000</td>\n",
       "      <td>3627.000000</td>\n",
       "      <td>4755.500000</td>\n",
       "      <td>1526.000000</td>\n",
       "      <td>816.500000</td>\n",
       "      <td>965.500000</td>\n",
       "    </tr>\n",
       "    <tr>\n",
       "      <th>75%</th>\n",
       "      <td>2.000000</td>\n",
       "      <td>3.000000</td>\n",
       "      <td>16933.750000</td>\n",
       "      <td>7190.250000</td>\n",
       "      <td>10655.750000</td>\n",
       "      <td>3554.250000</td>\n",
       "      <td>3922.000000</td>\n",
       "      <td>1820.250000</td>\n",
       "    </tr>\n",
       "    <tr>\n",
       "      <th>max</th>\n",
       "      <td>2.000000</td>\n",
       "      <td>3.000000</td>\n",
       "      <td>112151.000000</td>\n",
       "      <td>73498.000000</td>\n",
       "      <td>92780.000000</td>\n",
       "      <td>60869.000000</td>\n",
       "      <td>40827.000000</td>\n",
       "      <td>47943.000000</td>\n",
       "    </tr>\n",
       "  </tbody>\n",
       "</table>\n",
       "</div>"
      ],
      "text/plain": [
       "          Channel      Region          Fresh          Milk       Grocery  \\\n",
       "count  440.000000  440.000000     440.000000    440.000000    440.000000   \n",
       "mean     1.322727    2.543182   12000.297727   5796.265909   7951.277273   \n",
       "std      0.468052    0.774272   12647.328865   7380.377175   9503.162829   \n",
       "min      1.000000    1.000000       3.000000     55.000000      3.000000   \n",
       "25%      1.000000    2.000000    3127.750000   1533.000000   2153.000000   \n",
       "50%      1.000000    3.000000    8504.000000   3627.000000   4755.500000   \n",
       "75%      2.000000    3.000000   16933.750000   7190.250000  10655.750000   \n",
       "max      2.000000    3.000000  112151.000000  73498.000000  92780.000000   \n",
       "\n",
       "             Frozen  Detergents_Paper    Delicassen  \n",
       "count    440.000000        440.000000    440.000000  \n",
       "mean    3071.931818       2881.493182   1524.870455  \n",
       "std     4854.673333       4767.854448   2820.105937  \n",
       "min       25.000000          3.000000      3.000000  \n",
       "25%      742.250000        256.750000    408.250000  \n",
       "50%     1526.000000        816.500000    965.500000  \n",
       "75%     3554.250000       3922.000000   1820.250000  \n",
       "max    60869.000000      40827.000000  47943.000000  "
      ]
     },
     "execution_count": 4,
     "metadata": {},
     "output_type": "execute_result"
    }
   ],
   "source": [
    "df.describe()"
   ]
  },
  {
   "cell_type": "code",
   "execution_count": 5,
   "metadata": {},
   "outputs": [
    {
     "data": {
      "text/plain": [
       "Channel             0\n",
       "Region              0\n",
       "Fresh               0\n",
       "Milk                0\n",
       "Grocery             0\n",
       "Frozen              0\n",
       "Detergents_Paper    0\n",
       "Delicassen          0\n",
       "dtype: int64"
      ]
     },
     "execution_count": 5,
     "metadata": {},
     "output_type": "execute_result"
    }
   ],
   "source": [
    "df.isna().sum()"
   ]
  },
  {
   "cell_type": "code",
   "execution_count": 6,
   "metadata": {},
   "outputs": [
    {
     "data": {
      "application/vnd.plotly.v1+json": {
       "config": {
        "plotlyServerURL": "https://plot.ly"
       },
       "data": [
        {
         "coloraxis": "coloraxis",
         "hovertemplate": "x: %{x}<br>y: %{y}<br>color: %{z}<extra></extra>",
         "name": "0",
         "type": "heatmap",
         "x": [
          "Channel",
          "Region",
          "Fresh",
          "Milk",
          "Grocery",
          "Frozen",
          "Detergents_Paper",
          "Delicassen"
         ],
         "xaxis": "x",
         "y": [
          "Channel",
          "Region",
          "Fresh",
          "Milk",
          "Grocery",
          "Frozen",
          "Detergents_Paper",
          "Delicassen"
         ],
         "yaxis": "y",
         "z": [
          [
           1,
           0.0620276189701479,
           -0.1691720379797892,
           0.4607202774013363,
           0.6087922451911316,
           -0.2020459579158727,
           0.6360263670705524,
           0.05601142699032187
          ],
          [
           0.0620276189701479,
           1,
           0.055286923467091284,
           0.032287502353451035,
           0.007695776954337266,
           -0.021044214876319554,
           -0.0014826855060713915,
           0.0452121073157219
          ],
          [
           -0.1691720379797892,
           0.055286923467091284,
           1,
           0.10050976829985858,
           -0.011853874984010464,
           0.3458814571090804,
           -0.1019529382537843,
           0.24468996945659155
          ],
          [
           0.4607202774013363,
           0.032287502353451035,
           0.10050976829985858,
           1,
           0.7283351181536435,
           0.1239937587948904,
           0.661815679359108,
           0.4063683161768714
          ],
          [
           0.6087922451911316,
           0.007695776954337266,
           -0.011853874984010464,
           0.7283351181536435,
           1,
           -0.040192736990591275,
           0.9246406908542676,
           0.20549651097954477
          ],
          [
           -0.2020459579158727,
           -0.021044214876319554,
           0.3458814571090804,
           0.1239937587948904,
           -0.040192736990591275,
           1,
           -0.13152490600960573,
           0.39094746527393764
          ],
          [
           0.6360263670705524,
           -0.0014826855060713915,
           -0.1019529382537843,
           0.661815679359108,
           0.9246406908542676,
           -0.13152490600960573,
           1,
           0.0692912974583739
          ],
          [
           0.05601142699032187,
           0.0452121073157219,
           0.24468996945659155,
           0.4063683161768714,
           0.20549651097954477,
           0.39094746527393764,
           0.0692912974583739,
           1
          ]
         ]
        }
       ],
       "layout": {
        "coloraxis": {
         "colorscale": [
          [
           0,
           "#0d0887"
          ],
          [
           0.1111111111111111,
           "#46039f"
          ],
          [
           0.2222222222222222,
           "#7201a8"
          ],
          [
           0.3333333333333333,
           "#9c179e"
          ],
          [
           0.4444444444444444,
           "#bd3786"
          ],
          [
           0.5555555555555556,
           "#d8576b"
          ],
          [
           0.6666666666666666,
           "#ed7953"
          ],
          [
           0.7777777777777778,
           "#fb9f3a"
          ],
          [
           0.8888888888888888,
           "#fdca26"
          ],
          [
           1,
           "#f0f921"
          ]
         ]
        },
        "margin": {
         "t": 60
        },
        "template": {
         "data": {
          "bar": [
           {
            "error_x": {
             "color": "#2a3f5f"
            },
            "error_y": {
             "color": "#2a3f5f"
            },
            "marker": {
             "line": {
              "color": "#E5ECF6",
              "width": 0.5
             },
             "pattern": {
              "fillmode": "overlay",
              "size": 10,
              "solidity": 0.2
             }
            },
            "type": "bar"
           }
          ],
          "barpolar": [
           {
            "marker": {
             "line": {
              "color": "#E5ECF6",
              "width": 0.5
             },
             "pattern": {
              "fillmode": "overlay",
              "size": 10,
              "solidity": 0.2
             }
            },
            "type": "barpolar"
           }
          ],
          "carpet": [
           {
            "aaxis": {
             "endlinecolor": "#2a3f5f",
             "gridcolor": "white",
             "linecolor": "white",
             "minorgridcolor": "white",
             "startlinecolor": "#2a3f5f"
            },
            "baxis": {
             "endlinecolor": "#2a3f5f",
             "gridcolor": "white",
             "linecolor": "white",
             "minorgridcolor": "white",
             "startlinecolor": "#2a3f5f"
            },
            "type": "carpet"
           }
          ],
          "choropleth": [
           {
            "colorbar": {
             "outlinewidth": 0,
             "ticks": ""
            },
            "type": "choropleth"
           }
          ],
          "contour": [
           {
            "colorbar": {
             "outlinewidth": 0,
             "ticks": ""
            },
            "colorscale": [
             [
              0,
              "#0d0887"
             ],
             [
              0.1111111111111111,
              "#46039f"
             ],
             [
              0.2222222222222222,
              "#7201a8"
             ],
             [
              0.3333333333333333,
              "#9c179e"
             ],
             [
              0.4444444444444444,
              "#bd3786"
             ],
             [
              0.5555555555555556,
              "#d8576b"
             ],
             [
              0.6666666666666666,
              "#ed7953"
             ],
             [
              0.7777777777777778,
              "#fb9f3a"
             ],
             [
              0.8888888888888888,
              "#fdca26"
             ],
             [
              1,
              "#f0f921"
             ]
            ],
            "type": "contour"
           }
          ],
          "contourcarpet": [
           {
            "colorbar": {
             "outlinewidth": 0,
             "ticks": ""
            },
            "type": "contourcarpet"
           }
          ],
          "heatmap": [
           {
            "colorbar": {
             "outlinewidth": 0,
             "ticks": ""
            },
            "colorscale": [
             [
              0,
              "#0d0887"
             ],
             [
              0.1111111111111111,
              "#46039f"
             ],
             [
              0.2222222222222222,
              "#7201a8"
             ],
             [
              0.3333333333333333,
              "#9c179e"
             ],
             [
              0.4444444444444444,
              "#bd3786"
             ],
             [
              0.5555555555555556,
              "#d8576b"
             ],
             [
              0.6666666666666666,
              "#ed7953"
             ],
             [
              0.7777777777777778,
              "#fb9f3a"
             ],
             [
              0.8888888888888888,
              "#fdca26"
             ],
             [
              1,
              "#f0f921"
             ]
            ],
            "type": "heatmap"
           }
          ],
          "heatmapgl": [
           {
            "colorbar": {
             "outlinewidth": 0,
             "ticks": ""
            },
            "colorscale": [
             [
              0,
              "#0d0887"
             ],
             [
              0.1111111111111111,
              "#46039f"
             ],
             [
              0.2222222222222222,
              "#7201a8"
             ],
             [
              0.3333333333333333,
              "#9c179e"
             ],
             [
              0.4444444444444444,
              "#bd3786"
             ],
             [
              0.5555555555555556,
              "#d8576b"
             ],
             [
              0.6666666666666666,
              "#ed7953"
             ],
             [
              0.7777777777777778,
              "#fb9f3a"
             ],
             [
              0.8888888888888888,
              "#fdca26"
             ],
             [
              1,
              "#f0f921"
             ]
            ],
            "type": "heatmapgl"
           }
          ],
          "histogram": [
           {
            "marker": {
             "pattern": {
              "fillmode": "overlay",
              "size": 10,
              "solidity": 0.2
             }
            },
            "type": "histogram"
           }
          ],
          "histogram2d": [
           {
            "colorbar": {
             "outlinewidth": 0,
             "ticks": ""
            },
            "colorscale": [
             [
              0,
              "#0d0887"
             ],
             [
              0.1111111111111111,
              "#46039f"
             ],
             [
              0.2222222222222222,
              "#7201a8"
             ],
             [
              0.3333333333333333,
              "#9c179e"
             ],
             [
              0.4444444444444444,
              "#bd3786"
             ],
             [
              0.5555555555555556,
              "#d8576b"
             ],
             [
              0.6666666666666666,
              "#ed7953"
             ],
             [
              0.7777777777777778,
              "#fb9f3a"
             ],
             [
              0.8888888888888888,
              "#fdca26"
             ],
             [
              1,
              "#f0f921"
             ]
            ],
            "type": "histogram2d"
           }
          ],
          "histogram2dcontour": [
           {
            "colorbar": {
             "outlinewidth": 0,
             "ticks": ""
            },
            "colorscale": [
             [
              0,
              "#0d0887"
             ],
             [
              0.1111111111111111,
              "#46039f"
             ],
             [
              0.2222222222222222,
              "#7201a8"
             ],
             [
              0.3333333333333333,
              "#9c179e"
             ],
             [
              0.4444444444444444,
              "#bd3786"
             ],
             [
              0.5555555555555556,
              "#d8576b"
             ],
             [
              0.6666666666666666,
              "#ed7953"
             ],
             [
              0.7777777777777778,
              "#fb9f3a"
             ],
             [
              0.8888888888888888,
              "#fdca26"
             ],
             [
              1,
              "#f0f921"
             ]
            ],
            "type": "histogram2dcontour"
           }
          ],
          "mesh3d": [
           {
            "colorbar": {
             "outlinewidth": 0,
             "ticks": ""
            },
            "type": "mesh3d"
           }
          ],
          "parcoords": [
           {
            "line": {
             "colorbar": {
              "outlinewidth": 0,
              "ticks": ""
             }
            },
            "type": "parcoords"
           }
          ],
          "pie": [
           {
            "automargin": true,
            "type": "pie"
           }
          ],
          "scatter": [
           {
            "fillpattern": {
             "fillmode": "overlay",
             "size": 10,
             "solidity": 0.2
            },
            "type": "scatter"
           }
          ],
          "scatter3d": [
           {
            "line": {
             "colorbar": {
              "outlinewidth": 0,
              "ticks": ""
             }
            },
            "marker": {
             "colorbar": {
              "outlinewidth": 0,
              "ticks": ""
             }
            },
            "type": "scatter3d"
           }
          ],
          "scattercarpet": [
           {
            "marker": {
             "colorbar": {
              "outlinewidth": 0,
              "ticks": ""
             }
            },
            "type": "scattercarpet"
           }
          ],
          "scattergeo": [
           {
            "marker": {
             "colorbar": {
              "outlinewidth": 0,
              "ticks": ""
             }
            },
            "type": "scattergeo"
           }
          ],
          "scattergl": [
           {
            "marker": {
             "colorbar": {
              "outlinewidth": 0,
              "ticks": ""
             }
            },
            "type": "scattergl"
           }
          ],
          "scattermapbox": [
           {
            "marker": {
             "colorbar": {
              "outlinewidth": 0,
              "ticks": ""
             }
            },
            "type": "scattermapbox"
           }
          ],
          "scatterpolar": [
           {
            "marker": {
             "colorbar": {
              "outlinewidth": 0,
              "ticks": ""
             }
            },
            "type": "scatterpolar"
           }
          ],
          "scatterpolargl": [
           {
            "marker": {
             "colorbar": {
              "outlinewidth": 0,
              "ticks": ""
             }
            },
            "type": "scatterpolargl"
           }
          ],
          "scatterternary": [
           {
            "marker": {
             "colorbar": {
              "outlinewidth": 0,
              "ticks": ""
             }
            },
            "type": "scatterternary"
           }
          ],
          "surface": [
           {
            "colorbar": {
             "outlinewidth": 0,
             "ticks": ""
            },
            "colorscale": [
             [
              0,
              "#0d0887"
             ],
             [
              0.1111111111111111,
              "#46039f"
             ],
             [
              0.2222222222222222,
              "#7201a8"
             ],
             [
              0.3333333333333333,
              "#9c179e"
             ],
             [
              0.4444444444444444,
              "#bd3786"
             ],
             [
              0.5555555555555556,
              "#d8576b"
             ],
             [
              0.6666666666666666,
              "#ed7953"
             ],
             [
              0.7777777777777778,
              "#fb9f3a"
             ],
             [
              0.8888888888888888,
              "#fdca26"
             ],
             [
              1,
              "#f0f921"
             ]
            ],
            "type": "surface"
           }
          ],
          "table": [
           {
            "cells": {
             "fill": {
              "color": "#EBF0F8"
             },
             "line": {
              "color": "white"
             }
            },
            "header": {
             "fill": {
              "color": "#C8D4E3"
             },
             "line": {
              "color": "white"
             }
            },
            "type": "table"
           }
          ]
         },
         "layout": {
          "annotationdefaults": {
           "arrowcolor": "#2a3f5f",
           "arrowhead": 0,
           "arrowwidth": 1
          },
          "autotypenumbers": "strict",
          "coloraxis": {
           "colorbar": {
            "outlinewidth": 0,
            "ticks": ""
           }
          },
          "colorscale": {
           "diverging": [
            [
             0,
             "#8e0152"
            ],
            [
             0.1,
             "#c51b7d"
            ],
            [
             0.2,
             "#de77ae"
            ],
            [
             0.3,
             "#f1b6da"
            ],
            [
             0.4,
             "#fde0ef"
            ],
            [
             0.5,
             "#f7f7f7"
            ],
            [
             0.6,
             "#e6f5d0"
            ],
            [
             0.7,
             "#b8e186"
            ],
            [
             0.8,
             "#7fbc41"
            ],
            [
             0.9,
             "#4d9221"
            ],
            [
             1,
             "#276419"
            ]
           ],
           "sequential": [
            [
             0,
             "#0d0887"
            ],
            [
             0.1111111111111111,
             "#46039f"
            ],
            [
             0.2222222222222222,
             "#7201a8"
            ],
            [
             0.3333333333333333,
             "#9c179e"
            ],
            [
             0.4444444444444444,
             "#bd3786"
            ],
            [
             0.5555555555555556,
             "#d8576b"
            ],
            [
             0.6666666666666666,
             "#ed7953"
            ],
            [
             0.7777777777777778,
             "#fb9f3a"
            ],
            [
             0.8888888888888888,
             "#fdca26"
            ],
            [
             1,
             "#f0f921"
            ]
           ],
           "sequentialminus": [
            [
             0,
             "#0d0887"
            ],
            [
             0.1111111111111111,
             "#46039f"
            ],
            [
             0.2222222222222222,
             "#7201a8"
            ],
            [
             0.3333333333333333,
             "#9c179e"
            ],
            [
             0.4444444444444444,
             "#bd3786"
            ],
            [
             0.5555555555555556,
             "#d8576b"
            ],
            [
             0.6666666666666666,
             "#ed7953"
            ],
            [
             0.7777777777777778,
             "#fb9f3a"
            ],
            [
             0.8888888888888888,
             "#fdca26"
            ],
            [
             1,
             "#f0f921"
            ]
           ]
          },
          "colorway": [
           "#636efa",
           "#EF553B",
           "#00cc96",
           "#ab63fa",
           "#FFA15A",
           "#19d3f3",
           "#FF6692",
           "#B6E880",
           "#FF97FF",
           "#FECB52"
          ],
          "font": {
           "color": "#2a3f5f"
          },
          "geo": {
           "bgcolor": "white",
           "lakecolor": "white",
           "landcolor": "#E5ECF6",
           "showlakes": true,
           "showland": true,
           "subunitcolor": "white"
          },
          "hoverlabel": {
           "align": "left"
          },
          "hovermode": "closest",
          "mapbox": {
           "style": "light"
          },
          "paper_bgcolor": "white",
          "plot_bgcolor": "#E5ECF6",
          "polar": {
           "angularaxis": {
            "gridcolor": "white",
            "linecolor": "white",
            "ticks": ""
           },
           "bgcolor": "#E5ECF6",
           "radialaxis": {
            "gridcolor": "white",
            "linecolor": "white",
            "ticks": ""
           }
          },
          "scene": {
           "xaxis": {
            "backgroundcolor": "#E5ECF6",
            "gridcolor": "white",
            "gridwidth": 2,
            "linecolor": "white",
            "showbackground": true,
            "ticks": "",
            "zerolinecolor": "white"
           },
           "yaxis": {
            "backgroundcolor": "#E5ECF6",
            "gridcolor": "white",
            "gridwidth": 2,
            "linecolor": "white",
            "showbackground": true,
            "ticks": "",
            "zerolinecolor": "white"
           },
           "zaxis": {
            "backgroundcolor": "#E5ECF6",
            "gridcolor": "white",
            "gridwidth": 2,
            "linecolor": "white",
            "showbackground": true,
            "ticks": "",
            "zerolinecolor": "white"
           }
          },
          "shapedefaults": {
           "line": {
            "color": "#2a3f5f"
           }
          },
          "ternary": {
           "aaxis": {
            "gridcolor": "white",
            "linecolor": "white",
            "ticks": ""
           },
           "baxis": {
            "gridcolor": "white",
            "linecolor": "white",
            "ticks": ""
           },
           "bgcolor": "#E5ECF6",
           "caxis": {
            "gridcolor": "white",
            "linecolor": "white",
            "ticks": ""
           }
          },
          "title": {
           "x": 0.05
          },
          "xaxis": {
           "automargin": true,
           "gridcolor": "white",
           "linecolor": "white",
           "ticks": "",
           "title": {
            "standoff": 15
           },
           "zerolinecolor": "white",
           "zerolinewidth": 2
          },
          "yaxis": {
           "automargin": true,
           "gridcolor": "white",
           "linecolor": "white",
           "ticks": "",
           "title": {
            "standoff": 15
           },
           "zerolinecolor": "white",
           "zerolinewidth": 2
          }
         }
        },
        "xaxis": {
         "anchor": "y",
         "constrain": "domain",
         "domain": [
          0,
          1
         ],
         "scaleanchor": "y"
        },
        "yaxis": {
         "anchor": "x",
         "autorange": "reversed",
         "constrain": "domain",
         "domain": [
          0,
          1
         ]
        }
       }
      }
     },
     "metadata": {},
     "output_type": "display_data"
    }
   ],
   "source": [
    "# Check correlation between features in df\n",
    "df.corr()\n",
    "\n",
    "# Plot  correlation matrix wit plotly\n",
    "import plotly.express as px\n",
    "\n",
    "fig = px.imshow(df.corr())\n",
    "fig.show()\n"
   ]
  },
  {
   "cell_type": "code",
   "execution_count": 15,
   "metadata": {},
   "outputs": [
    {
     "data": {
      "text/html": [
       "<div>\n",
       "<style scoped>\n",
       "    .dataframe tbody tr th:only-of-type {\n",
       "        vertical-align: middle;\n",
       "    }\n",
       "\n",
       "    .dataframe tbody tr th {\n",
       "        vertical-align: top;\n",
       "    }\n",
       "\n",
       "    .dataframe thead th {\n",
       "        text-align: right;\n",
       "    }\n",
       "</style>\n",
       "<table border=\"1\" class=\"dataframe\">\n",
       "  <thead>\n",
       "    <tr style=\"text-align: right;\">\n",
       "      <th></th>\n",
       "      <th>Channel</th>\n",
       "      <th>Region</th>\n",
       "      <th>Fresh</th>\n",
       "      <th>Milk</th>\n",
       "      <th>Grocery</th>\n",
       "      <th>Frozen</th>\n",
       "      <th>Detergents_Paper</th>\n",
       "      <th>Delicassen</th>\n",
       "      <th>Clusters</th>\n",
       "    </tr>\n",
       "  </thead>\n",
       "  <tbody>\n",
       "    <tr>\n",
       "      <th>0</th>\n",
       "      <td>2</td>\n",
       "      <td>3</td>\n",
       "      <td>12669</td>\n",
       "      <td>9656</td>\n",
       "      <td>7561</td>\n",
       "      <td>214</td>\n",
       "      <td>2674</td>\n",
       "      <td>1338</td>\n",
       "      <td>1</td>\n",
       "    </tr>\n",
       "    <tr>\n",
       "      <th>1</th>\n",
       "      <td>2</td>\n",
       "      <td>3</td>\n",
       "      <td>7057</td>\n",
       "      <td>9810</td>\n",
       "      <td>9568</td>\n",
       "      <td>1762</td>\n",
       "      <td>3293</td>\n",
       "      <td>1776</td>\n",
       "      <td>1</td>\n",
       "    </tr>\n",
       "    <tr>\n",
       "      <th>2</th>\n",
       "      <td>2</td>\n",
       "      <td>3</td>\n",
       "      <td>6353</td>\n",
       "      <td>8808</td>\n",
       "      <td>7684</td>\n",
       "      <td>2405</td>\n",
       "      <td>3516</td>\n",
       "      <td>7844</td>\n",
       "      <td>1</td>\n",
       "    </tr>\n",
       "    <tr>\n",
       "      <th>3</th>\n",
       "      <td>1</td>\n",
       "      <td>3</td>\n",
       "      <td>13265</td>\n",
       "      <td>1196</td>\n",
       "      <td>4221</td>\n",
       "      <td>6404</td>\n",
       "      <td>507</td>\n",
       "      <td>1788</td>\n",
       "      <td>1</td>\n",
       "    </tr>\n",
       "    <tr>\n",
       "      <th>4</th>\n",
       "      <td>2</td>\n",
       "      <td>3</td>\n",
       "      <td>22615</td>\n",
       "      <td>5410</td>\n",
       "      <td>7198</td>\n",
       "      <td>3915</td>\n",
       "      <td>1777</td>\n",
       "      <td>5185</td>\n",
       "      <td>0</td>\n",
       "    </tr>\n",
       "    <tr>\n",
       "      <th>...</th>\n",
       "      <td>...</td>\n",
       "      <td>...</td>\n",
       "      <td>...</td>\n",
       "      <td>...</td>\n",
       "      <td>...</td>\n",
       "      <td>...</td>\n",
       "      <td>...</td>\n",
       "      <td>...</td>\n",
       "      <td>...</td>\n",
       "    </tr>\n",
       "    <tr>\n",
       "      <th>435</th>\n",
       "      <td>1</td>\n",
       "      <td>3</td>\n",
       "      <td>29703</td>\n",
       "      <td>12051</td>\n",
       "      <td>16027</td>\n",
       "      <td>13135</td>\n",
       "      <td>182</td>\n",
       "      <td>2204</td>\n",
       "      <td>0</td>\n",
       "    </tr>\n",
       "    <tr>\n",
       "      <th>436</th>\n",
       "      <td>1</td>\n",
       "      <td>3</td>\n",
       "      <td>39228</td>\n",
       "      <td>1431</td>\n",
       "      <td>764</td>\n",
       "      <td>4510</td>\n",
       "      <td>93</td>\n",
       "      <td>2346</td>\n",
       "      <td>4</td>\n",
       "    </tr>\n",
       "    <tr>\n",
       "      <th>437</th>\n",
       "      <td>2</td>\n",
       "      <td>3</td>\n",
       "      <td>14531</td>\n",
       "      <td>15488</td>\n",
       "      <td>30243</td>\n",
       "      <td>437</td>\n",
       "      <td>14841</td>\n",
       "      <td>1867</td>\n",
       "      <td>2</td>\n",
       "    </tr>\n",
       "    <tr>\n",
       "      <th>438</th>\n",
       "      <td>1</td>\n",
       "      <td>3</td>\n",
       "      <td>10290</td>\n",
       "      <td>1981</td>\n",
       "      <td>2232</td>\n",
       "      <td>1038</td>\n",
       "      <td>168</td>\n",
       "      <td>2125</td>\n",
       "      <td>1</td>\n",
       "    </tr>\n",
       "    <tr>\n",
       "      <th>439</th>\n",
       "      <td>1</td>\n",
       "      <td>3</td>\n",
       "      <td>2787</td>\n",
       "      <td>1698</td>\n",
       "      <td>2510</td>\n",
       "      <td>65</td>\n",
       "      <td>477</td>\n",
       "      <td>52</td>\n",
       "      <td>1</td>\n",
       "    </tr>\n",
       "  </tbody>\n",
       "</table>\n",
       "<p>440 rows × 9 columns</p>\n",
       "</div>"
      ],
      "text/plain": [
       "     Channel  Region  Fresh   Milk  Grocery  Frozen  Detergents_Paper  \\\n",
       "0          2       3  12669   9656     7561     214              2674   \n",
       "1          2       3   7057   9810     9568    1762              3293   \n",
       "2          2       3   6353   8808     7684    2405              3516   \n",
       "3          1       3  13265   1196     4221    6404               507   \n",
       "4          2       3  22615   5410     7198    3915              1777   \n",
       "..       ...     ...    ...    ...      ...     ...               ...   \n",
       "435        1       3  29703  12051    16027   13135               182   \n",
       "436        1       3  39228   1431      764    4510                93   \n",
       "437        2       3  14531  15488    30243     437             14841   \n",
       "438        1       3  10290   1981     2232    1038               168   \n",
       "439        1       3   2787   1698     2510      65               477   \n",
       "\n",
       "     Delicassen  Clusters  \n",
       "0          1338         1  \n",
       "1          1776         1  \n",
       "2          7844         1  \n",
       "3          1788         1  \n",
       "4          5185         0  \n",
       "..          ...       ...  \n",
       "435        2204         0  \n",
       "436        2346         4  \n",
       "437        1867         2  \n",
       "438        2125         1  \n",
       "439          52         1  \n",
       "\n",
       "[440 rows x 9 columns]"
      ]
     },
     "execution_count": 15,
     "metadata": {},
     "output_type": "execute_result"
    }
   ],
   "source": [
    "df"
   ]
  },
  {
   "cell_type": "markdown",
   "metadata": {
    "id": "WtK7XgksHzUf"
   },
   "source": [
    "## 2. Geração dos clusters\n",
    "--------------------\n",
    "### 2.1. K-Means\n",
    "--------------------"
   ]
  },
  {
   "cell_type": "code",
   "execution_count": 7,
   "metadata": {},
   "outputs": [],
   "source": [
    "from sklearn.cluster import KMeans\n",
    "\n",
    "kmeans = KMeans(n_clusters=5, random_state=45)"
   ]
  },
  {
   "cell_type": "code",
   "execution_count": 8,
   "metadata": {},
   "outputs": [],
   "source": [
    "df['Clusters'] = kmeans.fit_predict(df)\n",
    "\n",
    "centroids = kmeans.cluster_centers_\n",
    "labels = df['Clusters']"
   ]
  },
  {
   "cell_type": "code",
   "execution_count": 9,
   "metadata": {},
   "outputs": [
    {
     "name": "stdout",
     "output_type": "stream",
     "text": [
      "Centroides [[1.20000000e+00 2.55238095e+00 2.17746000e+04 3.93420952e+03\n",
      "  5.14920000e+03 4.18312381e+03 1.11254286e+03 1.69692381e+03]\n",
      " [1.19148936e+00 2.54042553e+00 6.01969787e+03 3.45541702e+03\n",
      "  4.39926809e+03 2.39908085e+03 1.36218298e+03 1.00187660e+03]\n",
      " [1.93243243e+00 2.48648649e+00 5.27567568e+03 1.29892027e+04\n",
      "  2.00090135e+04 1.63425676e+03 8.91101351e+03 1.90244595e+03]\n",
      " [2.00000000e+00 2.80000000e+00 2.56030000e+04 4.34606000e+04\n",
      "  6.14722000e+04 2.63600000e+03 2.99742000e+04 2.70880000e+03]\n",
      " [1.09523810e+00 2.66666667e+00 5.05120952e+04 6.98752381e+03\n",
      "  6.47809524e+03 1.02153810e+04 1.03052381e+03 4.90476190e+03]]\n",
      "Labels 0      1\n",
      "1      1\n",
      "2      1\n",
      "3      1\n",
      "4      0\n",
      "      ..\n",
      "435    0\n",
      "436    4\n",
      "437    2\n",
      "438    1\n",
      "439    1\n",
      "Name: Clusters, Length: 440, dtype: int32\n"
     ]
    }
   ],
   "source": [
    "print(f'Centroides {centroids}')\n",
    "print(f'Labels { labels}')"
   ]
  },
  {
   "cell_type": "code",
   "execution_count": 10,
   "metadata": {},
   "outputs": [],
   "source": [
    "from sklearn.decomposition import PCA\n",
    "\n",
    "pca = PCA(n_components=2)\n",
    "\n",
    "df_pca = pca.fit_transform(df.drop('Clusters', axis=1))\n",
    "\n",
    "df_pca_df = pd.DataFrame(df_pca, columns=['PC1', 'PC2'])\n",
    "df_pca_df['Clusters'] = df['Clusters']"
   ]
  },
  {
   "cell_type": "code",
   "execution_count": 11,
   "metadata": {},
   "outputs": [
    {
     "data": {
      "application/vnd.plotly.v1+json": {
       "config": {
        "plotlyServerURL": "https://plot.ly"
       },
       "data": [
        {
         "hovertemplate": "Componente Principal 1=%{x}<br>Componente Principal 2=%{y}<br>Clusters=%{marker.color}<extra></extra>",
         "legendgroup": "",
         "marker": {
          "color": [
           1,
           1,
           1,
           1,
           0,
           1,
           1,
           1,
           1,
           2,
           1,
           1,
           0,
           0,
           0,
           1,
           2,
           1,
           0,
           1,
           0,
           1,
           0,
           2,
           0,
           0,
           1,
           1,
           2,
           4,
           0,
           1,
           0,
           0,
           1,
           1,
           0,
           2,
           2,
           4,
           0,
           0,
           2,
           2,
           1,
           2,
           2,
           3,
           1,
           2,
           1,
           1,
           4,
           2,
           0,
           1,
           2,
           2,
           1,
           1,
           1,
           3,
           1,
           2,
           1,
           2,
           1,
           0,
           1,
           1,
           0,
           0,
           1,
           0,
           1,
           0,
           1,
           2,
           1,
           1,
           1,
           2,
           1,
           0,
           1,
           3,
           3,
           4,
           1,
           0,
           1,
           1,
           2,
           0,
           2,
           1,
           1,
           1,
           1,
           1,
           2,
           2,
           1,
           4,
           1,
           0,
           1,
           2,
           1,
           2,
           1,
           2,
           0,
           0,
           0,
           1,
           1,
           1,
           0,
           1,
           0,
           1,
           1,
           1,
           0,
           4,
           0,
           0,
           1,
           4,
           1,
           1,
           0,
           1,
           1,
           1,
           1,
           1,
           1,
           1,
           0,
           0,
           0,
           1,
           0,
           2,
           1,
           1,
           1,
           0,
           0,
           1,
           0,
           1,
           1,
           2,
           2,
           0,
           1,
           2,
           1,
           1,
           0,
           2,
           1,
           2,
           1,
           1,
           1,
           1,
           2,
           2,
           1,
           2,
           1,
           1,
           4,
           1,
           1,
           1,
           1,
           4,
           1,
           4,
           1,
           1,
           1,
           1,
           1,
           2,
           0,
           1,
           1,
           2,
           1,
           0,
           0,
           1,
           1,
           1,
           2,
           2,
           0,
           1,
           1,
           2,
           1,
           1,
           1,
           2,
           0,
           2,
           1,
           1,
           1,
           2,
           2,
           0,
           2,
           1,
           0,
           1,
           1,
           1,
           1,
           1,
           0,
           1,
           1,
           1,
           1,
           1,
           0,
           1,
           0,
           1,
           1,
           0,
           1,
           4,
           0,
           0,
           0,
           1,
           1,
           2,
           1,
           1,
           0,
           1,
           1,
           2,
           1,
           0,
           1,
           0,
           1,
           1,
           4,
           4,
           1,
           1,
           0,
           1,
           2,
           2,
           2,
           0,
           2,
           0,
           1,
           1,
           1,
           0,
           1,
           1,
           0,
           1,
           1,
           0,
           1,
           1,
           4,
           0,
           4,
           4,
           1,
           0,
           0,
           4,
           1,
           1,
           1,
           2,
           0,
           1,
           0,
           1,
           1,
           1,
           0,
           2,
           1,
           2,
           2,
           1,
           2,
           0,
           1,
           2,
           1,
           0,
           2,
           1,
           1,
           2,
           1,
           1,
           1,
           2,
           1,
           1,
           0,
           1,
           0,
           4,
           1,
           1,
           0,
           1,
           1,
           2,
           0,
           3,
           0,
           0,
           1,
           1,
           1,
           1,
           1,
           1,
           1,
           2,
           1,
           1,
           2,
           0,
           1,
           2,
           1,
           2,
           1,
           2,
           0,
           1,
           0,
           2,
           1,
           1,
           0,
           1,
           1,
           1,
           1,
           1,
           1,
           1,
           0,
           1,
           4,
           0,
           1,
           0,
           1,
           1,
           2,
           4,
           1,
           1,
           0,
           0,
           0,
           1,
           2,
           1,
           1,
           0,
           1,
           1,
           1,
           1,
           1,
           0,
           1,
           1,
           1,
           1,
           1,
           1,
           1,
           0,
           0,
           0,
           0,
           1,
           0,
           2,
           1,
           1,
           1,
           1,
           1,
           1,
           1,
           1,
           2,
           1,
           2,
           1,
           2,
           0,
           0,
           0,
           0,
           1,
           2,
           0,
           1,
           1,
           1,
           1,
           0,
           1,
           0,
           0,
           4,
           2,
           1,
           1
          ],
          "coloraxis": "coloraxis",
          "symbol": "circle"
         },
         "mode": "markers",
         "name": "",
         "orientation": "v",
         "showlegend": false,
         "type": "scatter",
         "x": [
          650.022119558258,
          -4426.804983619391,
          -4841.998709937561,
          990.3464444373931,
          10657.998731295698,
          -2765.961593258262,
          -715.5508920506381,
          -4474.583669307278,
          -6712.095392573655,
          -4823.63436538289,
          -7974.828990023168,
          36.39378217861304,
          19940.202045135145,
          9396.695573098932,
          12660.370427667935,
          -2997.7258924672296,
          -10589.523564700467,
          -6367.095174540286,
          6623.825333618097,
          -4861.531566026197,
          4794.2441646269945,
          -7244.866830170428,
          19299.265691346085,
          19941.088214838517,
          11493.074843978502,
          3309.944668360731,
          -2968.639054213758,
          872.1602391440956,
          -4895.51898736273,
          29261.09305185713,
          6394.148881519974,
          -9813.276721929235,
          8061.356151903772,
          17605.450986472915,
          -11528.01559320293,
          -11315.516427765302,
          17225.166760419677,
          3692.391037459416,
          -6058.938880264502,
          43223.09734624003,
          12657.240543015429,
          6484.405741800296,
          -1047.2638800881577,
          -9967.853654114191,
          -2468.709639091141,
          -3853.4584245982587,
          -7070.678627786808,
          41411.31625579769,
          -645.5983618823102,
          -3979.648698523928,
          -6354.520894344025,
          -9226.063316090389,
          27289.520968459135,
          -10914.692810298198,
          13981.644321528667,
          -7343.500107353866,
          -3819.7192144253077,
          -6283.3692891723695,
          452.7033151898431,
          -6217.640926639294,
          -4220.191777265458,
          30398.840657190387,
          -3993.2512829031857,
          -1434.5658001297543,
          -7828.447040088873,
          -8087.406623751841,
          -12806.881688666246,
          7843.171146474815,
          -8848.308768557226,
          -4760.832616390704,
          5008.662847712221,
          7622.966078978414,
          -7004.446664417469,
          8430.182402926508,
          -3789.211875765199,
          7333.170558406004,
          -10720.745177142395,
          1867.8509853651522,
          -2350.453359359237,
          -11004.310830663082,
          -6238.532365013431,
          -11207.132874459021,
          -1300.0630829678212,
          7623.499559881817,
          -1013.4619189050409,
          13653.677335031964,
          19878.4565876363,
          31824.246845353107,
          -3982.8985023023088,
          12388.320813315902,
          -1617.6238039928248,
          879.2634191352536,
          1529.142287149658,
          3605.220822224728,
          -5777.897508059023,
          -12606.75951505747,
          -12613.444235826908,
          -12878.346107678977,
          -12764.440539580884,
          -2769.088367459004,
          195.05348204582697,
          -9444.12629701223,
          -8891.331022947863,
          45183.31110792073,
          1007.8526176169653,
          2357.944646993519,
          -10518.710139178958,
          -2254.081549037881,
          -10415.635932721798,
          -8181.093390392882,
          -1159.6193452266216,
          1430.404929577362,
          7154.597494903479,
          1614.7540186546212,
          4887.219461168097,
          -1856.0409732431108,
          -1795.161921876539,
          -5507.080969695542,
          7365.780557251568,
          -4346.644143338515,
          4095.123048713678,
          -8671.858162520737,
          -1135.395729140635,
          -376.59799910282527,
          22959.547977503524,
          64420.95896355725,
          6910.084284888915,
          9339.077422996299,
          -12003.602628690156,
          28445.07139281579,
          -5121.94524126113,
          -11246.308896697265,
          1593.4461687021212,
          -3955.531377353831,
          -5739.596077552461,
          -6795.146225346591,
          -6688.476692085698,
          -8860.557950243172,
          827.6340012064393,
          -7207.865151801975,
          5234.307366375007,
          18276.727606818746,
          24535.964477113655,
          -1737.8122102155758,
          5519.172702803175,
          11436.249462571126,
          -5330.761055374099,
          -3675.5070714702742,
          -6927.977522236661,
          18097.964716043178,
          2913.474842668,
          -11475.634927823627,
          5762.2703474223235,
          -8586.255297200838,
          -12827.625855945531,
          -8926.220975454635,
          -7948.759041182418,
          4749.161511209095,
          -9052.097680361592,
          -11253.941754680034,
          -10304.768086447515,
          -918.4974484061349,
          2284.5534399231256,
          -4207.298242886944,
          -6533.699022177281,
          5328.076741569708,
          -7010.472042016986,
          -9919.353595119506,
          -7409.957417286776,
          -7539.457213194634,
          -11187.840170618645,
          -8450.23898380125,
          -11384.40892655144,
          -10688.829451839883,
          -12233.51292332776,
          -9398.707917587919,
          33479.99727263983,
          610.8099354434817,
          -1354.9189197144224,
          -8805.267888143411,
          124.2013154298038,
          103863.42531407639,
          -11073.589960984267,
          37917.65920683606,
          -12731.952923036559,
          -4283.535357782739,
          -9836.436029459192,
          -8576.296135325712,
          -3566.2543912504098,
          -10395.707170534208,
          5076.552937769444,
          104.04580933938269,
          -7656.852760417661,
          -11463.324919573548,
          -6018.066737061742,
          5425.205184774546,
          20659.774089298542,
          -9351.225321357873,
          -788.5761137970094,
          -3512.6402971242314,
          -6859.289499893566,
          -5262.980194331378,
          14362.180216246903,
          -12607.389954615719,
          -10821.23152222978,
          -9381.225072722258,
          -6934.4401016417305,
          -9612.363484680103,
          -10833.354841549337,
          -5369.561812670936,
          5400.385803454563,
          5028.181448222946,
          -5776.690450147602,
          -8743.293940132953,
          -9511.290841712924,
          -8130.255906682392,
          -6753.263410532105,
          4926.973675363977,
          -11003.473273603347,
          -8914.924684382931,
          1460.2826640499352,
          -6627.50736055101,
          -7062.590320266302,
          -9165.136674758844,
          -6022.7713034392555,
          -282.0174629752619,
          8472.439818772189,
          -8758.23707073122,
          -11406.799396254572,
          -3417.6809891064313,
          -171.88506289355064,
          -9401.891090904091,
          12494.703086510188,
          -11572.262651034092,
          3159.6315711199713,
          -10523.138462282695,
          -4378.107489388189,
          6081.581243586279,
          -5994.614211718134,
          34406.70107658101,
          10894.555931887618,
          11658.640573746176,
          5202.401640882999,
          -1529.7666715423402,
          -5505.438297041242,
          -8708.099612629827,
          -4072.666161639818,
          221.632590992338,
          2749.218328714054,
          -4044.0779183200575,
          -9683.39619103869,
          -1356.2763751735565,
          -5192.870843685225,
          17538.011349031443,
          68.96875433948662,
          18096.514472985054,
          -1608.7297123707576,
          -4031.707719033604,
          43188.25166182776,
          40054.814756782696,
          -3678.378353752405,
          -4528.562330324094,
          9709.9388607154,
          -10146.709821382974,
          -10237.531990640146,
          -2208.518588131961,
          -9876.74688980462,
          8094.882883393297,
          529.2890627137422,
          1895.0791345801772,
          -7827.3033903351725,
          -10449.794508403038,
          -11378.001085908541,
          23806.388128670154,
          -12082.824572110283,
          -12432.70303414051,
          15515.843721378424,
          -1888.2137881710823,
          -621.5267974975286,
          5127.222252264215,
          -9453.058374426371,
          25.590001853843205,
          36189.83350738336,
          13923.947604236764,
          56664.5625737612,
          26303.48086626406,
          -5885.3077483135685,
          3302.364169819197,
          2711.8151660036947,
          28596.45357380299,
          -10219.906519035358,
          -6547.008812523303,
          -9399.110059460754,
          -7301.043585538132,
          8217.89531997123,
          -5434.8415359541605,
          6079.423543795128,
          -4512.609609748239,
          -5515.844069866862,
          -12739.35670483006,
          3991.2965218043246,
          -5208.353561588068,
          -9349.805717091567,
          -9618.109447224047,
          -10701.23301040832,
          -11003.461388951719,
          -3926.987703110897,
          4156.579753708156,
          -6224.080638033207,
          -8997.800749047878,
          -4275.244626612641,
          16739.591719598007,
          -9659.458289169032,
          -2951.0126852570247,
          -2102.1498500307953,
          -9156.036454097908,
          -5720.47193300508,
          -11302.60128726322,
          -1069.524409934531,
          387.0676460510349,
          -11008.291111412747,
          -3486.2807601910517,
          2906.174078466207,
          578.9107191820622,
          12926.104230855894,
          31007.116491259065,
          -8281.405646416537,
          -12623.411233189405,
          4848.804816035361,
          -7178.866569715566,
          -2757.2193613512554,
          1147.951959767619,
          9326.37900383358,
          -519.041795515117,
          5243.746393826375,
          14799.30672652632,
          596.1194046448418,
          -2705.7219045891525,
          -10572.299534133846,
          -8845.873948943405,
          -11905.93059074475,
          -9579.090546973684,
          -12039.547839432518,
          -9234.015426355221,
          -9875.262183514636,
          -11409.12235812547,
          -8519.074511592353,
          15368.736121084643,
          -9460.001980732,
          -4334.647733632421,
          -9427.396374695049,
          -9301.526212979143,
          -12500.837153830264,
          -11234.698840493045,
          2423.2991650977056,
          -13019.907984955875,
          9239.591612599444,
          -11920.010605202588,
          -9149.917170718047,
          -11739.602096021717,
          6719.392186930425,
          -8502.183154236045,
          -10913.289763823392,
          -8508.608772024927,
          -10512.520299184467,
          -7217.368377718566,
          -3546.7131802126587,
          -9681.921586020671,
          8990.930012426932,
          -7128.114424593288,
          26425.187413294316,
          7811.8803928484085,
          -8648.02464675001,
          2901.3938509195686,
          -6624.865575705977,
          -7418.500961862302,
          -7594.033532448456,
          25207.37050162647,
          -9678.133468533526,
          -8217.505730710835,
          14983.897211998938,
          6093.895848588538,
          22177.702261222916,
          -10674.00975590227,
          1467.4080730999194,
          -1424.047389626081,
          -11310.12374816709,
          7656.592484241519,
          -3449.9931255073334,
          -3519.359263727685,
          -9059.634203647422,
          -10138.273690809496,
          -12084.021667528268,
          12033.91990226736,
          -830.7165639930627,
          -3389.2653328966935,
          -6495.034947372208,
          -815.9062801578712,
          -1290.0925263118788,
          -3681.948485749259,
          -8321.55338057941,
          15681.523823000447,
          13400.15591228705,
          13194.741806111717,
          5658.938871339458,
          -6204.1920622545695,
          13484.020864325088,
          -3149.6366520882093,
          -4279.34022836835,
          -3449.8062016501954,
          -6122.503411613555,
          -10255.945947120377,
          -12169.15389282335,
          -4717.3889609761445,
          -6304.639931356035,
          -4184.771447028097,
          -7029.621499314161,
          -7065.899137700418,
          -10616.625120541526,
          -4024.8256420410835,
          -7607.868845296675,
          4599.598542270884,
          12944.865786547893,
          4618.226448394602,
          4349.26152917718,
          434.7143089838355,
          1949.2434023223886,
          21552.683480892356,
          -9110.42016118459,
          -4447.712910462906,
          -8683.16982037701,
          -1997.3774002240752,
          7651.376250085465,
          -10713.738246000385,
          3988.7982099640103,
          20140.84849107417,
          25912.249955995077,
          4555.1149776473285,
          -2734.3709118692914,
          -10370.12530647256
         ],
         "xaxis": "x",
         "y": [
          1585.5191069262528,
          4042.4515205319876,
          2578.7621876380817,
          -6279.80600165704,
          -2159.7257888026897,
          -959.8707124960583,
          -2013.0022487207716,
          1429.4969846038202,
          -2205.9091684746754,
          13480.559213632012,
          5711.21893340618,
          -6037.896390760275,
          4591.286512161612,
          5913.157060019292,
          4541.945461359304,
          -6093.879307511092,
          6584.215948872672,
          -3680.712684594446,
          1254.7195476085726,
          -225.59227733014086,
          -3988.7993357214264,
          -7347.723265672807,
          -6936.810665367919,
          26312.654626572486,
          6171.3865337393345,
          -1161.2567313936124,
          -7158.868543858533,
          -7603.888200285623,
          24552.37355922254,
          -10083.33748179203,
          376.41731955530304,
          -4162.831550958688,
          -7976.990615912123,
          -3963.571774938656,
          -6048.978264633288,
          3970.226932165411,
          -5190.819232114476,
          6864.586491383065,
          14122.307770818075,
          -14003.594606768194,
          -5035.032885628186,
          -3747.7542711134392,
          7831.4600598024845,
          18648.762419329978,
          3417.6682384668147,
          21374.17610944421,
          17409.428044304677,
          65788.29791783873,
          3328.870160423221,
          28779.194230273828,
          -7165.284522987017,
          -1181.1099590661606,
          -5807.651244409497,
          7389.762471725173,
          -9506.073894101472,
          -2895.739874062315,
          33191.60420902948,
          6557.3931932411,
          -7975.486366682347,
          624.9204696340294,
          -691.3817394127827,
          62369.37292430793,
          0.9210253464225389,
          11006.449452247896,
          -5781.6416050303,
          45950.839082973835,
          -1097.5700864207001,
          4654.938328518596,
          -1942.3162442214207,
          -7071.546449951753,
          -7252.0273343290455,
          8144.4714273174395,
          -4300.944759355461,
          -1449.1779730392946,
          1802.2321247695945,
          -10517.508137420404,
          -1955.6087358113155,
          22634.715858790027,
          -7748.302994558481,
          -4012.721161631707,
          -6625.743280368354,
          9944.87021582971,
          4621.18084244378,
          -8762.0936118626,
          -3353.323136849881,
          99226.73412435257,
          58470.624553446,
          -3533.8439959209363,
          -6443.329499751025,
          -5242.157821860073,
          -8542.818967443409,
          -6745.801585779718,
          35961.51367781749,
          -7380.7895305229895,
          7364.932776200525,
          -2424.3679657617886,
          154.70751890477732,
          -8262.52237013388,
          -8215.970160318373,
          -7315.990885369928,
          6238.743943413914,
          11579.448527210832,
          1754.8380100463492,
          -6064.936060680284,
          -6099.094911934206,
          -6877.428468533032,
          5065.318420074982,
          10388.533994852598,
          1656.4853762690145,
          22105.013906831588,
          -7873.011817942096,
          11381.082310226582,
          -7449.091771162748,
          -7669.874310027942,
          -8666.303667668999,
          -7277.280333518423,
          -6096.971710940732,
          -3330.5764808010745,
          -8157.14198187361,
          -6826.518633752466,
          -7411.377363342906,
          -6389.219633982994,
          -9863.069718113451,
          2923.1719471013366,
          -9515.312839772625,
          -10008.461548637371,
          -8731.657972254126,
          1719.4073007865954,
          -967.7806241250983,
          -11650.852615417114,
          -7750.097180543271,
          -8475.916647179654,
          -7172.263431609122,
          -8278.008248235072,
          -6974.08069266981,
          -6805.698588086875,
          1360.8285726322538,
          1587.5814889627654,
          -4002.0067283404305,
          -4025.5121801388614,
          -2523.0815024718413,
          -1286.1996685706526,
          -2970.1813216880773,
          -8307.728891253933,
          -7292.302087330798,
          24516.85627132984,
          -6981.405694336107,
          -5631.335926410196,
          -8711.53375946959,
          -10233.040004814542,
          -8221.000160972504,
          -5519.678358779614,
          -7721.0439128079015,
          -2436.881263624622,
          -8758.273401914736,
          15697.14753920869,
          7460.8331424972675,
          -7937.008966619836,
          3143.595443882061,
          9297.002444207967,
          4395.969772369444,
          -9596.549591056035,
          -6476.172506687371,
          24216.414964358086,
          2391.302633979969,
          13808.414746092683,
          3126.4593117695695,
          -4355.374009732645,
          -8446.396059764644,
          -7382.407068867809,
          8450.763096977145,
          23194.56954466025,
          -34.574222716033546,
          13838.700456307975,
          -4134.328695567845,
          5670.935904957651,
          -4851.308048442169,
          -2864.054292098289,
          -2566.077439702337,
          -4601.160286961041,
          374.35961156027224,
          9910.349705784403,
          6066.589734302297,
          27331.450174774644,
          -4664.300393643352,
          -5536.684760325103,
          -7912.087846810372,
          3687.782966763578,
          5632.6851058429675,
          7436.840407038511,
          -6049.625033668729,
          -9119.280858411992,
          -6877.4331502135665,
          10541.450752199518,
          -6634.610227672111,
          -3984.5334226136747,
          -4656.357200540171,
          4151.825593215464,
          -3598.0890656259126,
          -6946.018687816826,
          18955.282175126256,
          22229.004444753788,
          1969.2776252750755,
          -6500.206505771337,
          -4533.416208118744,
          18543.180368513473,
          -8295.392558020732,
          -112.3334272038228,
          -1350.766667887835,
          14514.663985438274,
          -8660.136286976653,
          41962.76824236277,
          -7367.249272300873,
          951.8046328234104,
          5186.985022158437,
          10538.323535057803,
          32252.160556877167,
          -8428.73962890471,
          8762.46356019616,
          -8036.035733762407,
          -8905.751805968199,
          4123.343920127592,
          -6648.387327082313,
          -3543.281466212531,
          -8094.237633513343,
          -5065.031442641293,
          -31.42991227238963,
          -6846.7820639656165,
          -6562.366077652084,
          -6271.672833908797,
          -2351.423822183602,
          -75.6667379504488,
          -7703.853261836055,
          -3692.3564952567976,
          -6039.888983353447,
          -3139.1439449615727,
          -6905.464063696872,
          -8465.918947626491,
          -8928.536782547071,
          -9531.130952608039,
          -3982.9319708092535,
          -8591.538647429896,
          -8095.436180542945,
          -3564.7622481570743,
          4009.4739566021635,
          8069.888220610828,
          -7037.284958557617,
          -9757.958924782744,
          -5767.558753824847,
          -5940.037249009376,
          -6680.023089495142,
          35068.74070313157,
          -4945.491181260469,
          5192.357582440571,
          3591.907847132037,
          -10910.878024657846,
          -3298.5480492897777,
          -6050.5359366752855,
          -10714.105157652055,
          -6198.80650931212,
          -5361.994831535341,
          -8377.758095292986,
          -9231.086647858725,
          -2376.7803107935115,
          10114.765088149605,
          13452.445841249093,
          14997.154245328507,
          -8133.399440859277,
          11536.078003909719,
          -9418.126486980116,
          -8096.308417212507,
          -5155.700008372811,
          747.4807881903562,
          -10093.570903954344,
          -6307.855652179196,
          -7857.903252577049,
          -4372.664206111333,
          -8958.612894504315,
          -6907.009653063047,
          1262.2032218442946,
          -5744.460084395299,
          -795.511870948385,
          -8606.2969579866,
          -8270.83295208648,
          -4286.0455887597645,
          -10053.344861870071,
          -7081.418578889332,
          -7233.038425434123,
          -9164.036504175037,
          -13062.318192601282,
          -5559.482322674126,
          -5197.265382967133,
          -3946.319501394354,
          8194.588707416864,
          -4745.7038811262655,
          -3869.7280833154355,
          -7223.777937661438,
          -1368.2278992283264,
          2099.295645877366,
          -6729.042664207758,
          -1488.949370214441,
          16230.549372824833,
          3376.214329698276,
          7037.205622681959,
          18378.404224990372,
          6016.41890179156,
          16404.67722536737,
          -7183.759071669594,
          -6648.220862706274,
          14621.330609572935,
          -7056.142032030572,
          -4481.712551356519,
          13765.059502555676,
          -7589.903704395089,
          -2870.0616224081277,
          9466.533766004719,
          -7179.809069597548,
          -2312.266573184799,
          -5788.46809844338,
          21124.379302667094,
          -5232.271584111473,
          -4811.659887373195,
          -7197.619334100078,
          -322.0053025640009,
          -7894.32151375245,
          6277.800434352139,
          -7264.357789044411,
          -7093.948446353061,
          -6949.245238131136,
          -4993.158219465928,
          -5020.329852604882,
          21680.657772998642,
          -8355.797135009707,
          58241.059197614726,
          -8005.22857843698,
          1544.9720942295626,
          -8487.595022187457,
          -7109.319821685179,
          -3539.700687989789,
          -4283.275628614772,
          3330.958261754735,
          4479.14535253459,
          394.39776866979446,
          20328.860994259918,
          -7149.192443392612,
          172.2055805500022,
          8755.72251947544,
          2959.8096086538135,
          -5979.730191127788,
          18208.27931191443,
          -7033.515294986126,
          18032.570168025442,
          -7120.3645080999495,
          13836.911871468456,
          -4114.500073981124,
          -6861.955670230556,
          -11122.328232521235,
          11327.402052737616,
          2303.3981451227537,
          -4145.12141066769,
          -7842.2032950329485,
          -8315.508406041125,
          -6261.881825183174,
          -4926.344067919029,
          -7304.0500311528895,
          1750.0764492228882,
          -7381.282604492717,
          -8255.069633731706,
          -8807.777286667084,
          -8803.687789135683,
          -7097.188707581542,
          -8438.377277313279,
          -5634.264712562695,
          -758.3443517879987,
          -6961.414070602407,
          -7667.1867827033775,
          7348.730947068159,
          -9377.121185169897,
          -5944.4475557607875,
          1641.4741211593519,
          -9660.098665059826,
          -7251.018889399914,
          -1582.1631194849251,
          -5593.539576358771,
          13370.667212037413,
          -8318.804257759912,
          -4758.170362206286,
          -8844.468278610198,
          -8508.19419013712,
          -7920.41436366394,
          -7502.732768955456,
          -5802.32228309735,
          -3903.299734260455,
          -5003.25024187035,
          -7243.2398943234775,
          -7972.700590790868,
          5317.573569440769,
          -8211.186794613204,
          -9172.321496135095,
          -8712.119209286782,
          -7855.269433224971,
          -8862.807292298085,
          -5396.622673952646,
          -2214.4510221128576,
          -5516.844054209854,
          -7954.352562315728,
          -4899.611122831706,
          14129.751350384242,
          -1851.1706806788898,
          -2224.028877221207,
          -4226.343641467193,
          -4547.952123673605,
          3592.450578911039,
          -1659.79906908462,
          -5520.453809359858,
          1334.4649985649194,
          7172.398364167679,
          3231.7661416953706,
          12226.784293602188,
          -5501.131680404702,
          6082.570627028877,
          40.66715294088317,
          -7443.8754459465545,
          -4628.087063854238,
          1309.5342989257351,
          -6983.415532452133,
          7395.217976829934,
          448.06515758504065,
          -2040.1976832509927,
          -5963.745852586089,
          5814.085764482437,
          -2646.6058519015214,
          -6423.038040188509,
          -6058.109782004498,
          -1638.4452162670705,
          6306.877234205056,
          -11757.647089256057,
          26201.758616109775,
          -7070.775343038417,
          -6161.4649232010615
         ],
         "yaxis": "y"
        }
       ],
       "layout": {
        "coloraxis": {
         "colorbar": {
          "title": {
           "text": "Clusters"
          }
         },
         "colorscale": [
          [
           0,
           "#440154"
          ],
          [
           0.1111111111111111,
           "#482878"
          ],
          [
           0.2222222222222222,
           "#3e4989"
          ],
          [
           0.3333333333333333,
           "#31688e"
          ],
          [
           0.4444444444444444,
           "#26828e"
          ],
          [
           0.5555555555555556,
           "#1f9e89"
          ],
          [
           0.6666666666666666,
           "#35b779"
          ],
          [
           0.7777777777777778,
           "#6ece58"
          ],
          [
           0.8888888888888888,
           "#b5de2b"
          ],
          [
           1,
           "#fde725"
          ]
         ]
        },
        "legend": {
         "tracegroupgap": 0
        },
        "template": {
         "data": {
          "bar": [
           {
            "error_x": {
             "color": "#2a3f5f"
            },
            "error_y": {
             "color": "#2a3f5f"
            },
            "marker": {
             "line": {
              "color": "#E5ECF6",
              "width": 0.5
             },
             "pattern": {
              "fillmode": "overlay",
              "size": 10,
              "solidity": 0.2
             }
            },
            "type": "bar"
           }
          ],
          "barpolar": [
           {
            "marker": {
             "line": {
              "color": "#E5ECF6",
              "width": 0.5
             },
             "pattern": {
              "fillmode": "overlay",
              "size": 10,
              "solidity": 0.2
             }
            },
            "type": "barpolar"
           }
          ],
          "carpet": [
           {
            "aaxis": {
             "endlinecolor": "#2a3f5f",
             "gridcolor": "white",
             "linecolor": "white",
             "minorgridcolor": "white",
             "startlinecolor": "#2a3f5f"
            },
            "baxis": {
             "endlinecolor": "#2a3f5f",
             "gridcolor": "white",
             "linecolor": "white",
             "minorgridcolor": "white",
             "startlinecolor": "#2a3f5f"
            },
            "type": "carpet"
           }
          ],
          "choropleth": [
           {
            "colorbar": {
             "outlinewidth": 0,
             "ticks": ""
            },
            "type": "choropleth"
           }
          ],
          "contour": [
           {
            "colorbar": {
             "outlinewidth": 0,
             "ticks": ""
            },
            "colorscale": [
             [
              0,
              "#0d0887"
             ],
             [
              0.1111111111111111,
              "#46039f"
             ],
             [
              0.2222222222222222,
              "#7201a8"
             ],
             [
              0.3333333333333333,
              "#9c179e"
             ],
             [
              0.4444444444444444,
              "#bd3786"
             ],
             [
              0.5555555555555556,
              "#d8576b"
             ],
             [
              0.6666666666666666,
              "#ed7953"
             ],
             [
              0.7777777777777778,
              "#fb9f3a"
             ],
             [
              0.8888888888888888,
              "#fdca26"
             ],
             [
              1,
              "#f0f921"
             ]
            ],
            "type": "contour"
           }
          ],
          "contourcarpet": [
           {
            "colorbar": {
             "outlinewidth": 0,
             "ticks": ""
            },
            "type": "contourcarpet"
           }
          ],
          "heatmap": [
           {
            "colorbar": {
             "outlinewidth": 0,
             "ticks": ""
            },
            "colorscale": [
             [
              0,
              "#0d0887"
             ],
             [
              0.1111111111111111,
              "#46039f"
             ],
             [
              0.2222222222222222,
              "#7201a8"
             ],
             [
              0.3333333333333333,
              "#9c179e"
             ],
             [
              0.4444444444444444,
              "#bd3786"
             ],
             [
              0.5555555555555556,
              "#d8576b"
             ],
             [
              0.6666666666666666,
              "#ed7953"
             ],
             [
              0.7777777777777778,
              "#fb9f3a"
             ],
             [
              0.8888888888888888,
              "#fdca26"
             ],
             [
              1,
              "#f0f921"
             ]
            ],
            "type": "heatmap"
           }
          ],
          "heatmapgl": [
           {
            "colorbar": {
             "outlinewidth": 0,
             "ticks": ""
            },
            "colorscale": [
             [
              0,
              "#0d0887"
             ],
             [
              0.1111111111111111,
              "#46039f"
             ],
             [
              0.2222222222222222,
              "#7201a8"
             ],
             [
              0.3333333333333333,
              "#9c179e"
             ],
             [
              0.4444444444444444,
              "#bd3786"
             ],
             [
              0.5555555555555556,
              "#d8576b"
             ],
             [
              0.6666666666666666,
              "#ed7953"
             ],
             [
              0.7777777777777778,
              "#fb9f3a"
             ],
             [
              0.8888888888888888,
              "#fdca26"
             ],
             [
              1,
              "#f0f921"
             ]
            ],
            "type": "heatmapgl"
           }
          ],
          "histogram": [
           {
            "marker": {
             "pattern": {
              "fillmode": "overlay",
              "size": 10,
              "solidity": 0.2
             }
            },
            "type": "histogram"
           }
          ],
          "histogram2d": [
           {
            "colorbar": {
             "outlinewidth": 0,
             "ticks": ""
            },
            "colorscale": [
             [
              0,
              "#0d0887"
             ],
             [
              0.1111111111111111,
              "#46039f"
             ],
             [
              0.2222222222222222,
              "#7201a8"
             ],
             [
              0.3333333333333333,
              "#9c179e"
             ],
             [
              0.4444444444444444,
              "#bd3786"
             ],
             [
              0.5555555555555556,
              "#d8576b"
             ],
             [
              0.6666666666666666,
              "#ed7953"
             ],
             [
              0.7777777777777778,
              "#fb9f3a"
             ],
             [
              0.8888888888888888,
              "#fdca26"
             ],
             [
              1,
              "#f0f921"
             ]
            ],
            "type": "histogram2d"
           }
          ],
          "histogram2dcontour": [
           {
            "colorbar": {
             "outlinewidth": 0,
             "ticks": ""
            },
            "colorscale": [
             [
              0,
              "#0d0887"
             ],
             [
              0.1111111111111111,
              "#46039f"
             ],
             [
              0.2222222222222222,
              "#7201a8"
             ],
             [
              0.3333333333333333,
              "#9c179e"
             ],
             [
              0.4444444444444444,
              "#bd3786"
             ],
             [
              0.5555555555555556,
              "#d8576b"
             ],
             [
              0.6666666666666666,
              "#ed7953"
             ],
             [
              0.7777777777777778,
              "#fb9f3a"
             ],
             [
              0.8888888888888888,
              "#fdca26"
             ],
             [
              1,
              "#f0f921"
             ]
            ],
            "type": "histogram2dcontour"
           }
          ],
          "mesh3d": [
           {
            "colorbar": {
             "outlinewidth": 0,
             "ticks": ""
            },
            "type": "mesh3d"
           }
          ],
          "parcoords": [
           {
            "line": {
             "colorbar": {
              "outlinewidth": 0,
              "ticks": ""
             }
            },
            "type": "parcoords"
           }
          ],
          "pie": [
           {
            "automargin": true,
            "type": "pie"
           }
          ],
          "scatter": [
           {
            "fillpattern": {
             "fillmode": "overlay",
             "size": 10,
             "solidity": 0.2
            },
            "type": "scatter"
           }
          ],
          "scatter3d": [
           {
            "line": {
             "colorbar": {
              "outlinewidth": 0,
              "ticks": ""
             }
            },
            "marker": {
             "colorbar": {
              "outlinewidth": 0,
              "ticks": ""
             }
            },
            "type": "scatter3d"
           }
          ],
          "scattercarpet": [
           {
            "marker": {
             "colorbar": {
              "outlinewidth": 0,
              "ticks": ""
             }
            },
            "type": "scattercarpet"
           }
          ],
          "scattergeo": [
           {
            "marker": {
             "colorbar": {
              "outlinewidth": 0,
              "ticks": ""
             }
            },
            "type": "scattergeo"
           }
          ],
          "scattergl": [
           {
            "marker": {
             "colorbar": {
              "outlinewidth": 0,
              "ticks": ""
             }
            },
            "type": "scattergl"
           }
          ],
          "scattermapbox": [
           {
            "marker": {
             "colorbar": {
              "outlinewidth": 0,
              "ticks": ""
             }
            },
            "type": "scattermapbox"
           }
          ],
          "scatterpolar": [
           {
            "marker": {
             "colorbar": {
              "outlinewidth": 0,
              "ticks": ""
             }
            },
            "type": "scatterpolar"
           }
          ],
          "scatterpolargl": [
           {
            "marker": {
             "colorbar": {
              "outlinewidth": 0,
              "ticks": ""
             }
            },
            "type": "scatterpolargl"
           }
          ],
          "scatterternary": [
           {
            "marker": {
             "colorbar": {
              "outlinewidth": 0,
              "ticks": ""
             }
            },
            "type": "scatterternary"
           }
          ],
          "surface": [
           {
            "colorbar": {
             "outlinewidth": 0,
             "ticks": ""
            },
            "colorscale": [
             [
              0,
              "#0d0887"
             ],
             [
              0.1111111111111111,
              "#46039f"
             ],
             [
              0.2222222222222222,
              "#7201a8"
             ],
             [
              0.3333333333333333,
              "#9c179e"
             ],
             [
              0.4444444444444444,
              "#bd3786"
             ],
             [
              0.5555555555555556,
              "#d8576b"
             ],
             [
              0.6666666666666666,
              "#ed7953"
             ],
             [
              0.7777777777777778,
              "#fb9f3a"
             ],
             [
              0.8888888888888888,
              "#fdca26"
             ],
             [
              1,
              "#f0f921"
             ]
            ],
            "type": "surface"
           }
          ],
          "table": [
           {
            "cells": {
             "fill": {
              "color": "#EBF0F8"
             },
             "line": {
              "color": "white"
             }
            },
            "header": {
             "fill": {
              "color": "#C8D4E3"
             },
             "line": {
              "color": "white"
             }
            },
            "type": "table"
           }
          ]
         },
         "layout": {
          "annotationdefaults": {
           "arrowcolor": "#2a3f5f",
           "arrowhead": 0,
           "arrowwidth": 1
          },
          "autotypenumbers": "strict",
          "coloraxis": {
           "colorbar": {
            "outlinewidth": 0,
            "ticks": ""
           }
          },
          "colorscale": {
           "diverging": [
            [
             0,
             "#8e0152"
            ],
            [
             0.1,
             "#c51b7d"
            ],
            [
             0.2,
             "#de77ae"
            ],
            [
             0.3,
             "#f1b6da"
            ],
            [
             0.4,
             "#fde0ef"
            ],
            [
             0.5,
             "#f7f7f7"
            ],
            [
             0.6,
             "#e6f5d0"
            ],
            [
             0.7,
             "#b8e186"
            ],
            [
             0.8,
             "#7fbc41"
            ],
            [
             0.9,
             "#4d9221"
            ],
            [
             1,
             "#276419"
            ]
           ],
           "sequential": [
            [
             0,
             "#0d0887"
            ],
            [
             0.1111111111111111,
             "#46039f"
            ],
            [
             0.2222222222222222,
             "#7201a8"
            ],
            [
             0.3333333333333333,
             "#9c179e"
            ],
            [
             0.4444444444444444,
             "#bd3786"
            ],
            [
             0.5555555555555556,
             "#d8576b"
            ],
            [
             0.6666666666666666,
             "#ed7953"
            ],
            [
             0.7777777777777778,
             "#fb9f3a"
            ],
            [
             0.8888888888888888,
             "#fdca26"
            ],
            [
             1,
             "#f0f921"
            ]
           ],
           "sequentialminus": [
            [
             0,
             "#0d0887"
            ],
            [
             0.1111111111111111,
             "#46039f"
            ],
            [
             0.2222222222222222,
             "#7201a8"
            ],
            [
             0.3333333333333333,
             "#9c179e"
            ],
            [
             0.4444444444444444,
             "#bd3786"
            ],
            [
             0.5555555555555556,
             "#d8576b"
            ],
            [
             0.6666666666666666,
             "#ed7953"
            ],
            [
             0.7777777777777778,
             "#fb9f3a"
            ],
            [
             0.8888888888888888,
             "#fdca26"
            ],
            [
             1,
             "#f0f921"
            ]
           ]
          },
          "colorway": [
           "#636efa",
           "#EF553B",
           "#00cc96",
           "#ab63fa",
           "#FFA15A",
           "#19d3f3",
           "#FF6692",
           "#B6E880",
           "#FF97FF",
           "#FECB52"
          ],
          "font": {
           "color": "#2a3f5f"
          },
          "geo": {
           "bgcolor": "white",
           "lakecolor": "white",
           "landcolor": "#E5ECF6",
           "showlakes": true,
           "showland": true,
           "subunitcolor": "white"
          },
          "hoverlabel": {
           "align": "left"
          },
          "hovermode": "closest",
          "mapbox": {
           "style": "light"
          },
          "paper_bgcolor": "white",
          "plot_bgcolor": "#E5ECF6",
          "polar": {
           "angularaxis": {
            "gridcolor": "white",
            "linecolor": "white",
            "ticks": ""
           },
           "bgcolor": "#E5ECF6",
           "radialaxis": {
            "gridcolor": "white",
            "linecolor": "white",
            "ticks": ""
           }
          },
          "scene": {
           "xaxis": {
            "backgroundcolor": "#E5ECF6",
            "gridcolor": "white",
            "gridwidth": 2,
            "linecolor": "white",
            "showbackground": true,
            "ticks": "",
            "zerolinecolor": "white"
           },
           "yaxis": {
            "backgroundcolor": "#E5ECF6",
            "gridcolor": "white",
            "gridwidth": 2,
            "linecolor": "white",
            "showbackground": true,
            "ticks": "",
            "zerolinecolor": "white"
           },
           "zaxis": {
            "backgroundcolor": "#E5ECF6",
            "gridcolor": "white",
            "gridwidth": 2,
            "linecolor": "white",
            "showbackground": true,
            "ticks": "",
            "zerolinecolor": "white"
           }
          },
          "shapedefaults": {
           "line": {
            "color": "#2a3f5f"
           }
          },
          "ternary": {
           "aaxis": {
            "gridcolor": "white",
            "linecolor": "white",
            "ticks": ""
           },
           "baxis": {
            "gridcolor": "white",
            "linecolor": "white",
            "ticks": ""
           },
           "bgcolor": "#E5ECF6",
           "caxis": {
            "gridcolor": "white",
            "linecolor": "white",
            "ticks": ""
           }
          },
          "title": {
           "x": 0.05
          },
          "xaxis": {
           "automargin": true,
           "gridcolor": "white",
           "linecolor": "white",
           "ticks": "",
           "title": {
            "standoff": 15
           },
           "zerolinecolor": "white",
           "zerolinewidth": 2
          },
          "yaxis": {
           "automargin": true,
           "gridcolor": "white",
           "linecolor": "white",
           "ticks": "",
           "title": {
            "standoff": 15
           },
           "zerolinecolor": "white",
           "zerolinewidth": 2
          }
         }
        },
        "title": {
         "text": "Clusters gerados pelo K-Means"
        },
        "xaxis": {
         "anchor": "y",
         "domain": [
          0,
          1
         ],
         "title": {
          "text": "Componente Principal 1"
         }
        },
        "yaxis": {
         "anchor": "x",
         "domain": [
          0,
          1
         ],
         "title": {
          "text": "Componente Principal 2"
         }
        }
       }
      }
     },
     "metadata": {},
     "output_type": "display_data"
    }
   ],
   "source": [
    "import plotly.express as px\n",
    "\n",
    "fig = px.scatter(df_pca_df, x='PC1', y='PC2', color='Clusters', title=\"Clusters gerados pelo K-Means\",\n",
    "                 labels={'PC1': 'Componente Principal 1', 'PC2': 'Componente Principal 2', 'Cluster': 'Cluster'},\n",
    "                 color_continuous_scale='Viridis')\n",
    "\n",
    "# Mostrar o gráfico\n",
    "fig.show()\n"
   ]
  },
  {
   "cell_type": "code",
   "execution_count": 12,
   "metadata": {},
   "outputs": [
    {
     "name": "stdout",
     "output_type": "stream",
     "text": [
      "Variancia explicada pelos componentes [0.45961362 0.40517227]\n"
     ]
    }
   ],
   "source": [
    "print(f'Variancia explicada pelos componentes {pca.explained_variance_ratio_}')"
   ]
  },
  {
   "cell_type": "code",
   "execution_count": 13,
   "metadata": {},
   "outputs": [
    {
     "name": "stdout",
     "output_type": "stream",
     "text": [
      "Índice médio de Silhouette: 0.45305021988292643\n",
      "Valores de Silhouette para cada Ponto Individual: [ 0.16095296  0.29738874  0.4338464   0.06500155  0.57303152  0.48395951\n",
      "  0.32523164  0.51363474  0.66292358  0.5024772   0.11112791  0.21573645\n",
      "  0.37819901  0.34694389  0.4437442   0.5246245  -0.01849781  0.67152596\n",
      "  0.37289256  0.57643872  0.39004161  0.65881421  0.44704307  0.13662403\n",
      "  0.38647133  0.1828753   0.50495641  0.06528494  0.55853482  0.28800008\n",
      "  0.38624149  0.69687656  0.5644788   0.55192149  0.66839785  0.2925044\n",
      "  0.56850406 -0.05645454  0.52601348  0.47836434  0.61460582  0.49121429\n",
      "  0.1209761   0.55285358  0.3317899   0.57338822  0.57439146  0.56118129\n",
      "  0.2583701   0.52108417  0.64849146  0.64894614  0.14114843  0.07857238\n",
      "  0.5749432   0.68133304  0.48187503 -0.00998132  0.12492972  0.57699113\n",
      "  0.55939931  0.5988564   0.53478533  0.35822257  0.68949253  0.20801669\n",
      "  0.56843979  0.32971279  0.68049151  0.60275799  0.43988931  0.15751929\n",
      "  0.68579712  0.51550727  0.47888948  0.48141797  0.65035565  0.5142154\n",
      "  0.44399978  0.68519969  0.65662008  0.29840187  0.20449445  0.53993495\n",
      "  0.36197243  0.50769486  0.51971516  0.33969009  0.57951493  0.61540225\n",
      "  0.35833759  0.07665748  0.44371126  0.31571058  0.09477241  0.61588636\n",
      "  0.5219247   0.61275432  0.61533882  0.48718846 -0.0430838   0.41852285\n",
      "  0.499192    0.50533588  0.06469455  0.15901281  0.1885729   0.33301782\n",
      "  0.48551699  0.56458748  0.33053182  0.32991668  0.54520122  0.04818017\n",
      "  0.41138783  0.41269817  0.42666994  0.64640242  0.54379226  0.59046119\n",
      "  0.36422673  0.6858181   0.2727161   0.24304521  0.14797402  0.41888584\n",
      "  0.51702747  0.45868706  0.58537164  0.24213921  0.59872041  0.62793909\n",
      "  0.04041195  0.53227541  0.63783537  0.66386498  0.53376523  0.51073663\n",
      "  0.1219237   0.68782397  0.39095297  0.50968743  0.09330492  0.37614161\n",
      "  0.47304057  0.30057923  0.62523481  0.5719748   0.61451063  0.47375288\n",
      "  0.23105089  0.67406357  0.4833353   0.68649511  0.60334823  0.54284025\n",
      "  0.11187055  0.41458683  0.39014895  0.25184898  0.26133168  0.25905957\n",
      "  0.14448819  0.5600541   0.45970213  0.28665349  0.39882634  0.69639362\n",
      "  0.63021406  0.66124966  0.18280343  0.55544501  0.56093789  0.47779256\n",
      "  0.66278632  0.11793999  0.40674473  0.16356838  0.39260144  0.69958681\n",
      "  0.22107531  0.26291192  0.0708124   0.11394495  0.6554024   0.60383734\n",
      "  0.65243943  0.34302741  0.11585139  0.09086589  0.44113757  0.1526936\n",
      "  0.67287684  0.32868131  0.65135932  0.43607811  0.37677717  0.29287058\n",
      "  0.33771191  0.54436208  0.58065975  0.5741323   0.51384345  0.64527617\n",
      "  0.68768741  0.56090591  0.6282258   0.59769808  0.62745144  0.53387442\n",
      "  0.44566034  0.16060597  0.62983051  0.55145673  0.17775996  0.37513079\n",
      "  0.48631015  0.41950739  0.21400261  0.65134784  0.02965337  0.30080353\n",
      "  0.67048194  0.69682193  0.61562988  0.26934621  0.48191623  0.67838718\n",
      "  0.66367139  0.55001706  0.26590519  0.59887642  0.60500206  0.67334907\n",
      "  0.25853486  0.68652997  0.59030715  0.48727042  0.58658046  0.4437701\n",
      "  0.60129345  0.59223364  0.44474539  0.41353268  0.30847936  0.17664117\n",
      "  0.57300935  0.12559029  0.20205753  0.58912328  0.67915188  0.46165706\n",
      "  0.64216989  0.45020948  0.19968656  0.46266909  0.42013015  0.58730787\n",
      "  0.50437723  0.50096198  0.57368823  0.55566429  0.56765076  0.67441212\n",
      "  0.32778123  0.47273046  0.51824882  0.56309518  0.353268    0.0917199\n",
      "  0.64505617  0.68992223  0.52153205  0.06446067  0.65655555  0.62700944\n",
      "  0.59504202  0.36947343  0.28879296  0.28335038  0.69266211  0.2379539\n",
      "  0.4741652   0.59344294  0.45751864  0.11167089  0.63949401  0.2827165\n",
      "  0.19649962  0.23324688  0.68945528  0.67707491  0.69818015  0.19299902\n",
      "  0.56722654  0.6480225   0.50371892  0.58455742  0.47691341  0.6401398\n",
      "  0.26224419  0.5630204   0.36716566  0.04916479  0.53933406  0.0767058\n",
      "  0.55661029  0.37077574  0.65593691  0.52331176  0.58236676  0.58362355\n",
      "  0.49413136  0.4931802   0.45989363  0.29687388  0.63282329  0.64772087\n",
      "  0.35640994  0.5331776   0.68284321  0.56378341  0.23489055  0.17311565\n",
      "  0.60220439  0.14346833  0.66890477  0.63707468  0.42874095  0.68785968\n",
      "  0.51511619  0.52383907  0.57971117  0.19997954  0.44885746  0.52267415\n",
      "  0.09554346  0.48713727  0.68864047  0.69956071  0.33895159  0.25744302\n",
      "  0.5248456   0.56183419  0.66936505  0.55053448  0.24376064  0.49490135\n",
      "  0.6901829   0.57438735  0.67387441  0.55999653  0.63869372  0.46561604\n",
      "  0.12695779  0.63332711  0.51137001  0.35782271  0.45725674  0.67453552\n",
      "  0.5258331   0.64261779  0.67441631  0.69835503  0.66122879  0.50782997\n",
      "  0.5364223   0.64423459  0.56715769  0.61458191  0.09479379  0.55151163\n",
      "  0.69450944  0.12596856  0.65802683  0.6529461   0.09885453  0.01243883\n",
      "  0.68958015  0.5119472   0.56735998  0.50429291  0.28552738  0.68452666\n",
      "  0.4055731   0.34621925  0.68055025  0.53895514  0.4967732   0.51990963\n",
      "  0.6646917   0.68795233  0.6633058   0.61427263  0.30752178  0.51059866\n",
      "  0.16176901  0.28481545  0.30842572  0.50281125  0.65479341  0.57348303\n",
      "  0.61297555  0.58665991  0.47380159  0.624318    0.61143994  0.50522306\n",
      "  0.58209851  0.54480685  0.66860144  0.69367587  0.31381083  0.5976981\n",
      "  0.67040413  0.51351024  0.07610878  0.38933609  0.42683839  0.59157714\n",
      " -0.07586484  0.27668461  0.60667951  0.38723998  0.22246814  0.14370046\n",
      "  0.06686379  0.3250397   0.68051756  0.6076842   0.0984706   0.44963866\n",
      "  0.56267696  0.67938193  0.26555406  0.34977807  0.07836386  0.46877379\n",
      "  0.49007292  0.68173753]\n"
     ]
    }
   ],
   "source": [
    "from sklearn.metrics import silhouette_score, silhouette_samples\n",
    "\n",
    "# Calcular o índice de Silhouette para todos os pontos\n",
    "silhouette_avg = silhouette_score(df_pca_df, labels)\n",
    "\n",
    "print(f\"Índice médio de Silhouette: {silhouette_avg}\")\n",
    "\n",
    "sample_silhouette_values = silhouette_samples(df_pca_df, labels)\n",
    "\n",
    "print(f\"Valores de Silhouette para cada Ponto Individual: {sample_silhouette_values}\")"
   ]
  },
  {
   "cell_type": "markdown",
   "metadata": {
    "id": "aQe_F8AVH50I"
   },
   "source": [
    "### 2.2. Aglomerativo\n",
    "--------------------"
   ]
  },
  {
   "cell_type": "code",
   "execution_count": null,
   "metadata": {
    "id": "NXonmIL465m4"
   },
   "outputs": [],
   "source": [
    "from sklearn.cluster import AgglomerativeClustering\n",
    "from sklearn.preprocessing import StandardScaler\n",
    "\n",
    "df_witou_cluster_column = df.drop(columns=[\"Clusters\"])\n",
    "\n",
    "# Normalizando os dados\n",
    "scaler = StandardScaler()\n",
    "X_scaled = scaler.fit_transform(df_witou_cluster_column)\n",
    "\n",
    "agg_cluster = AgglomerativeClustering(n_clusters=5, linkage='ward')\n",
    "\n",
    "df['Predicted_Clusters'] = agg_cluster.fit_predict(X_scaled)"
   ]
  },
  {
   "cell_type": "code",
   "execution_count": 17,
   "metadata": {},
   "outputs": [
    {
     "data": {
      "text/html": [
       "<div>\n",
       "<style scoped>\n",
       "    .dataframe tbody tr th:only-of-type {\n",
       "        vertical-align: middle;\n",
       "    }\n",
       "\n",
       "    .dataframe tbody tr th {\n",
       "        vertical-align: top;\n",
       "    }\n",
       "\n",
       "    .dataframe thead th {\n",
       "        text-align: right;\n",
       "    }\n",
       "</style>\n",
       "<table border=\"1\" class=\"dataframe\">\n",
       "  <thead>\n",
       "    <tr style=\"text-align: right;\">\n",
       "      <th></th>\n",
       "      <th>Channel</th>\n",
       "      <th>Region</th>\n",
       "      <th>Fresh</th>\n",
       "      <th>Milk</th>\n",
       "      <th>Grocery</th>\n",
       "      <th>Frozen</th>\n",
       "      <th>Detergents_Paper</th>\n",
       "      <th>Delicassen</th>\n",
       "      <th>Clusters</th>\n",
       "      <th>Predicted_Clusters</th>\n",
       "    </tr>\n",
       "  </thead>\n",
       "  <tbody>\n",
       "    <tr>\n",
       "      <th>0</th>\n",
       "      <td>2</td>\n",
       "      <td>3</td>\n",
       "      <td>12669</td>\n",
       "      <td>9656</td>\n",
       "      <td>7561</td>\n",
       "      <td>214</td>\n",
       "      <td>2674</td>\n",
       "      <td>1338</td>\n",
       "      <td>1</td>\n",
       "      <td>2</td>\n",
       "    </tr>\n",
       "    <tr>\n",
       "      <th>1</th>\n",
       "      <td>2</td>\n",
       "      <td>3</td>\n",
       "      <td>7057</td>\n",
       "      <td>9810</td>\n",
       "      <td>9568</td>\n",
       "      <td>1762</td>\n",
       "      <td>3293</td>\n",
       "      <td>1776</td>\n",
       "      <td>1</td>\n",
       "      <td>2</td>\n",
       "    </tr>\n",
       "    <tr>\n",
       "      <th>2</th>\n",
       "      <td>2</td>\n",
       "      <td>3</td>\n",
       "      <td>6353</td>\n",
       "      <td>8808</td>\n",
       "      <td>7684</td>\n",
       "      <td>2405</td>\n",
       "      <td>3516</td>\n",
       "      <td>7844</td>\n",
       "      <td>1</td>\n",
       "      <td>2</td>\n",
       "    </tr>\n",
       "    <tr>\n",
       "      <th>3</th>\n",
       "      <td>1</td>\n",
       "      <td>3</td>\n",
       "      <td>13265</td>\n",
       "      <td>1196</td>\n",
       "      <td>4221</td>\n",
       "      <td>6404</td>\n",
       "      <td>507</td>\n",
       "      <td>1788</td>\n",
       "      <td>1</td>\n",
       "      <td>0</td>\n",
       "    </tr>\n",
       "    <tr>\n",
       "      <th>4</th>\n",
       "      <td>2</td>\n",
       "      <td>3</td>\n",
       "      <td>22615</td>\n",
       "      <td>5410</td>\n",
       "      <td>7198</td>\n",
       "      <td>3915</td>\n",
       "      <td>1777</td>\n",
       "      <td>5185</td>\n",
       "      <td>0</td>\n",
       "      <td>2</td>\n",
       "    </tr>\n",
       "    <tr>\n",
       "      <th>...</th>\n",
       "      <td>...</td>\n",
       "      <td>...</td>\n",
       "      <td>...</td>\n",
       "      <td>...</td>\n",
       "      <td>...</td>\n",
       "      <td>...</td>\n",
       "      <td>...</td>\n",
       "      <td>...</td>\n",
       "      <td>...</td>\n",
       "      <td>...</td>\n",
       "    </tr>\n",
       "    <tr>\n",
       "      <th>435</th>\n",
       "      <td>1</td>\n",
       "      <td>3</td>\n",
       "      <td>29703</td>\n",
       "      <td>12051</td>\n",
       "      <td>16027</td>\n",
       "      <td>13135</td>\n",
       "      <td>182</td>\n",
       "      <td>2204</td>\n",
       "      <td>0</td>\n",
       "      <td>0</td>\n",
       "    </tr>\n",
       "    <tr>\n",
       "      <th>436</th>\n",
       "      <td>1</td>\n",
       "      <td>3</td>\n",
       "      <td>39228</td>\n",
       "      <td>1431</td>\n",
       "      <td>764</td>\n",
       "      <td>4510</td>\n",
       "      <td>93</td>\n",
       "      <td>2346</td>\n",
       "      <td>4</td>\n",
       "      <td>0</td>\n",
       "    </tr>\n",
       "    <tr>\n",
       "      <th>437</th>\n",
       "      <td>2</td>\n",
       "      <td>3</td>\n",
       "      <td>14531</td>\n",
       "      <td>15488</td>\n",
       "      <td>30243</td>\n",
       "      <td>437</td>\n",
       "      <td>14841</td>\n",
       "      <td>1867</td>\n",
       "      <td>2</td>\n",
       "      <td>2</td>\n",
       "    </tr>\n",
       "    <tr>\n",
       "      <th>438</th>\n",
       "      <td>1</td>\n",
       "      <td>3</td>\n",
       "      <td>10290</td>\n",
       "      <td>1981</td>\n",
       "      <td>2232</td>\n",
       "      <td>1038</td>\n",
       "      <td>168</td>\n",
       "      <td>2125</td>\n",
       "      <td>1</td>\n",
       "      <td>0</td>\n",
       "    </tr>\n",
       "    <tr>\n",
       "      <th>439</th>\n",
       "      <td>1</td>\n",
       "      <td>3</td>\n",
       "      <td>2787</td>\n",
       "      <td>1698</td>\n",
       "      <td>2510</td>\n",
       "      <td>65</td>\n",
       "      <td>477</td>\n",
       "      <td>52</td>\n",
       "      <td>1</td>\n",
       "      <td>0</td>\n",
       "    </tr>\n",
       "  </tbody>\n",
       "</table>\n",
       "<p>440 rows × 10 columns</p>\n",
       "</div>"
      ],
      "text/plain": [
       "     Channel  Region  Fresh   Milk  Grocery  Frozen  Detergents_Paper  \\\n",
       "0          2       3  12669   9656     7561     214              2674   \n",
       "1          2       3   7057   9810     9568    1762              3293   \n",
       "2          2       3   6353   8808     7684    2405              3516   \n",
       "3          1       3  13265   1196     4221    6404               507   \n",
       "4          2       3  22615   5410     7198    3915              1777   \n",
       "..       ...     ...    ...    ...      ...     ...               ...   \n",
       "435        1       3  29703  12051    16027   13135               182   \n",
       "436        1       3  39228   1431      764    4510                93   \n",
       "437        2       3  14531  15488    30243     437             14841   \n",
       "438        1       3  10290   1981     2232    1038               168   \n",
       "439        1       3   2787   1698     2510      65               477   \n",
       "\n",
       "     Delicassen  Clusters  Predicted_Clusters  \n",
       "0          1338         1                   2  \n",
       "1          1776         1                   2  \n",
       "2          7844         1                   2  \n",
       "3          1788         1                   0  \n",
       "4          5185         0                   2  \n",
       "..          ...       ...                 ...  \n",
       "435        2204         0                   0  \n",
       "436        2346         4                   0  \n",
       "437        1867         2                   2  \n",
       "438        2125         1                   0  \n",
       "439          52         1                   0  \n",
       "\n",
       "[440 rows x 10 columns]"
      ]
     },
     "execution_count": 17,
     "metadata": {},
     "output_type": "execute_result"
    }
   ],
   "source": [
    "df"
   ]
  },
  {
   "cell_type": "code",
   "execution_count": 18,
   "metadata": {},
   "outputs": [
    {
     "data": {
      "application/vnd.plotly.v1+json": {
       "config": {
        "plotlyServerURL": "https://plot.ly"
       },
       "data": [
        {
         "hovertemplate": "Fresh=%{x}<br>Milk=%{y}<br>Clusters=%{marker.color}<extra></extra>",
         "legendgroup": "",
         "marker": {
          "color": [
           2,
           2,
           2,
           0,
           2,
           2,
           2,
           2,
           0,
           2,
           2,
           2,
           2,
           2,
           2,
           0,
           2,
           0,
           2,
           0,
           2,
           0,
           0,
           0,
           2,
           2,
           0,
           0,
           2,
           0,
           0,
           0,
           0,
           0,
           0,
           2,
           0,
           2,
           2,
           0,
           0,
           0,
           2,
           2,
           2,
           2,
           2,
           1,
           2,
           2,
           0,
           0,
           2,
           2,
           0,
           0,
           2,
           2,
           0,
           0,
           2,
           1,
           2,
           2,
           0,
           2,
           0,
           2,
           0,
           0,
           0,
           0,
           0,
           2,
           2,
           0,
           0,
           2,
           0,
           0,
           0,
           2,
           2,
           0,
           2,
           1,
           1,
           0,
           0,
           0,
           0,
           0,
           2,
           0,
           2,
           0,
           2,
           0,
           0,
           0,
           2,
           2,
           2,
           0,
           0,
           0,
           2,
           2,
           2,
           2,
           0,
           2,
           0,
           0,
           0,
           0,
           0,
           0,
           0,
           0,
           0,
           0,
           0,
           2,
           0,
           0,
           0,
           2,
           0,
           0,
           0,
           0,
           0,
           0,
           0,
           0,
           0,
           0,
           0,
           0,
           0,
           0,
           0,
           0,
           0,
           2,
           0,
           0,
           0,
           0,
           0,
           0,
           0,
           0,
           0,
           2,
           2,
           0,
           2,
           2,
           2,
           0,
           0,
           2,
           2,
           2,
           2,
           0,
           0,
           0,
           2,
           2,
           0,
           2,
           0,
           2,
           0,
           0,
           0,
           0,
           0,
           0,
           0,
           3,
           0,
           0,
           0,
           0,
           2,
           2,
           0,
           0,
           0,
           2,
           0,
           0,
           4,
           2,
           4,
           4,
           2,
           2,
           4,
           4,
           4,
           2,
           4,
           2,
           4,
           2,
           4,
           2,
           4,
           4,
           2,
           4,
           2,
           4,
           2,
           4,
           4,
           4,
           4,
           2,
           4,
           4,
           2,
           4,
           4,
           4,
           2,
           4,
           4,
           4,
           4,
           4,
           4,
           4,
           4,
           0,
           4,
           4,
           4,
           4,
           4,
           2,
           4,
           4,
           4,
           4,
           4,
           2,
           4,
           4,
           4,
           4,
           4,
           4,
           0,
           0,
           4,
           4,
           4,
           4,
           2,
           4,
           2,
           4,
           2,
           4,
           4,
           4,
           4,
           0,
           0,
           0,
           0,
           0,
           0,
           2,
           0,
           2,
           0,
           0,
           0,
           0,
           0,
           0,
           0,
           0,
           0,
           0,
           0,
           2,
           4,
           2,
           4,
           2,
           2,
           4,
           2,
           2,
           2,
           2,
           2,
           2,
           2,
           4,
           4,
           2,
           0,
           4,
           2,
           4,
           4,
           2,
           4,
           4,
           4,
           2,
           4,
           4,
           4,
           4,
           4,
           0,
           4,
           4,
           0,
           4,
           4,
           2,
           4,
           1,
           2,
           2,
           4,
           0,
           0,
           0,
           2,
           2,
           0,
           2,
           0,
           0,
           2,
           2,
           0,
           2,
           0,
           2,
           0,
           2,
           0,
           0,
           0,
           2,
           0,
           0,
           0,
           0,
           0,
           0,
           0,
           2,
           0,
           0,
           0,
           0,
           2,
           0,
           0,
           2,
           0,
           0,
           2,
           0,
           0,
           2,
           0,
           0,
           0,
           0,
           0,
           0,
           0,
           0,
           0,
           0,
           0,
           0,
           0,
           0,
           0,
           0,
           2,
           0,
           0,
           0,
           0,
           0,
           0,
           0,
           0,
           0,
           0,
           2,
           2,
           0,
           0,
           0,
           0,
           0,
           0,
           2,
           2,
           0,
           2,
           0,
           0,
           2,
           0,
           2,
           2,
           0,
           0,
           0,
           0,
           0,
           0,
           0,
           0,
           0,
           0,
           0,
           0,
           2,
           0,
           0
          ],
          "coloraxis": "coloraxis",
          "symbol": "circle"
         },
         "mode": "markers",
         "name": "",
         "orientation": "v",
         "showlegend": false,
         "type": "scatter",
         "x": [
          12669,
          7057,
          6353,
          13265,
          22615,
          9413,
          12126,
          7579,
          5963,
          6006,
          3366,
          13146,
          31714,
          21217,
          24653,
          10253,
          1020,
          5876,
          18601,
          7780,
          17546,
          5567,
          31276,
          26373,
          22647,
          16165,
          9898,
          14276,
          4113,
          43088,
          18815,
          2612,
          21632,
          29729,
          1502,
          688,
          29955,
          15168,
          4591,
          56159,
          24025,
          19176,
          10850,
          630,
          9670,
          5181,
          3103,
          44466,
          11519,
          4967,
          6269,
          3347,
          40721,
          491,
          27329,
          5264,
          4098,
          5417,
          13779,
          6137,
          8590,
          35942,
          7823,
          9396,
          4760,
          85,
          9,
          19913,
          2446,
          8352,
          16705,
          18291,
          4420,
          19899,
          8190,
          20398,
          717,
          12205,
          10766,
          1640,
          7005,
          219,
          10362,
          20874,
          11867,
          16117,
          22925,
          43265,
          7864,
          24904,
          11405,
          12754,
          9198,
          11314,
          5626,
          3,
          23,
          403,
          503,
          9658,
          11594,
          1420,
          2932,
          56082,
          14100,
          15587,
          1454,
          8797,
          1531,
          1406,
          11818,
          12579,
          19046,
          14438,
          18044,
          11134,
          11173,
          6990,
          20049,
          8258,
          17160,
          4020,
          12212,
          11170,
          36050,
          76237,
          19219,
          21465,
          140,
          42312,
          7149,
          2101,
          14903,
          9434,
          7388,
          6300,
          4625,
          3087,
          13537,
          5387,
          17623,
          30379,
          37036,
          10405,
          18827,
          22039,
          7769,
          9203,
          5924,
          31812,
          16225,
          1289,
          18840,
          3463,
          622,
          1989,
          3830,
          17773,
          2861,
          355,
          1725,
          12434,
          15177,
          5531,
          5224,
          15615,
          4822,
          2926,
          5809,
          5414,
          260,
          200,
          955,
          514,
          286,
          2343,
          45640,
          12759,
          11002,
          3157,
          12356,
          112151,
          694,
          36847,
          327,
          8170,
          3009,
          2438,
          8040,
          834,
          16936,
          13624,
          5509,
          180,
          7107,
          17023,
          30624,
          2427,
          11686,
          9670,
          3067,
          4484,
          25203,
          583,
          1956,
          1107,
          6373,
          2541,
          1537,
          5550,
          18567,
          12119,
          7291,
          3317,
          2362,
          2806,
          2532,
          18044,
          18,
          4155,
          14755,
          5396,
          5041,
          2790,
          7274,
          12680,
          20782,
          4042,
          1869,
          8656,
          11072,
          2344,
          25962,
          964,
          15603,
          1838,
          8635,
          18692,
          7363,
          47493,
          22096,
          24929,
          18226,
          11210,
          6202,
          3062,
          8885,
          13569,
          15671,
          8040,
          3191,
          6134,
          6623,
          29526,
          10379,
          31614,
          11092,
          8475,
          56083,
          53205,
          9193,
          7858,
          23257,
          2153,
          1073,
          5909,
          572,
          20893,
          11908,
          15218,
          4720,
          2083,
          514,
          36817,
          894,
          680,
          27901,
          9061,
          11693,
          17360,
          3366,
          12238,
          49063,
          25767,
          68951,
          40254,
          7149,
          15354,
          16260,
          42786,
          2708,
          6022,
          2838,
          3996,
          21273,
          7588,
          19087,
          8090,
          6758,
          444,
          16448,
          5283,
          2886,
          2599,
          161,
          243,
          6468,
          17327,
          6987,
          918,
          7034,
          29635,
          2137,
          9784,
          10617,
          1479,
          7127,
          1182,
          11800,
          9759,
          1774,
          9155,
          15881,
          13360,
          25977,
          32717,
          4414,
          542,
          16933,
          5113,
          9790,
          11223,
          22321,
          8565,
          16823,
          27082,
          13970,
          9351,
          3,
          2617,
          381,
          2320,
          255,
          1689,
          3043,
          1198,
          2771,
          27380,
          3428,
          5981,
          3521,
          1210,
          608,
          117,
          14039,
          190,
          22686,
          37,
          759,
          796,
          19746,
          4734,
          2121,
          4627,
          2615,
          4692,
          9561,
          3477,
          22335,
          6211,
          39679,
          20105,
          3884,
          15076,
          6338,
          5841,
          3136,
          38793,
          3225,
          4048,
          28257,
          17770,
          34454,
          1821,
          10683,
          11635,
          1206,
          20918,
          9785,
          9385,
          3352,
          2647,
          518,
          23632,
          12377,
          9602,
          4515,
          11535,
          11442,
          9612,
          4446,
          27167,
          26539,
          25606,
          18073,
          6884,
          25066,
          7362,
          8257,
          8708,
          6633,
          2126,
          97,
          4983,
          5969,
          7842,
          4389,
          5065,
          660,
          8861,
          4456,
          17063,
          26400,
          17565,
          16980,
          11243,
          13134,
          31012,
          3047,
          8607,
          3097,
          8533,
          21117,
          1982,
          16731,
          29703,
          39228,
          14531,
          10290,
          2787
         ],
         "xaxis": "x",
         "y": [
          9656,
          9810,
          8808,
          1196,
          5410,
          8259,
          3199,
          4956,
          3648,
          11093,
          5403,
          1124,
          12319,
          6208,
          9465,
          1114,
          8816,
          6157,
          6327,
          2495,
          4519,
          871,
          1917,
          36423,
          9776,
          4230,
          961,
          803,
          20484,
          2100,
          3610,
          4339,
          1318,
          4786,
          1979,
          5491,
          4362,
          10556,
          15729,
          555,
          4332,
          3065,
          7555,
          11095,
          7027,
          22044,
          14069,
          54259,
          6152,
          21412,
          1095,
          4051,
          3916,
          10473,
          1449,
          3683,
          29892,
          9933,
          1970,
          5360,
          3045,
          38369,
          6245,
          11601,
          1227,
          20959,
          1534,
          6759,
          7260,
          2820,
          2037,
          1266,
          5139,
          5332,
          6343,
          1137,
          3587,
          12697,
          1175,
          3259,
          829,
          9540,
          9232,
          1563,
          3327,
          46197,
          73498,
          5025,
          542,
          3836,
          596,
          2762,
          27472,
          3090,
          12220,
          2920,
          2616,
          254,
          112,
          2182,
          7779,
          10810,
          6459,
          3504,
          2132,
          1014,
          6337,
          10646,
          8397,
          16729,
          1648,
          11114,
          2770,
          2295,
          1080,
          793,
          2521,
          3880,
          1891,
          2344,
          1200,
          3234,
          201,
          10769,
          1642,
          3473,
          1840,
          7243,
          8847,
          926,
          2428,
          589,
          2032,
          1042,
          1882,
          1289,
          8579,
          8080,
          4257,
          4979,
          4280,
          13252,
          7152,
          1596,
          3677,
          8384,
          1936,
          3373,
          584,
          1433,
          1825,
          3328,
          1371,
          9250,
          55,
          10690,
          5291,
          1366,
          6570,
          7704,
          3651,
          540,
          2024,
          15726,
          7603,
          12653,
          6721,
          3195,
          735,
          717,
          8675,
          25862,
          5479,
          7677,
          1208,
          7845,
          6958,
          7330,
          7075,
          4888,
          6036,
          29627,
          8533,
          43950,
          918,
          6448,
          521,
          8002,
          7639,
          11577,
          6250,
          295,
          1461,
          3485,
          1012,
          5139,
          7209,
          7097,
          2154,
          2280,
          13240,
          14399,
          11487,
          685,
          891,
          11711,
          780,
          4737,
          3748,
          12729,
          1895,
          28326,
          1012,
          6602,
          6551,
          10765,
          16599,
          1475,
          7504,
          367,
          899,
          7503,
          1115,
          2527,
          659,
          3243,
          5921,
          2204,
          577,
          2746,
          5989,
          10678,
          1780,
          4984,
          2703,
          6380,
          820,
          3838,
          475,
          2567,
          3575,
          1801,
          659,
          3576,
          7775,
          6154,
          2428,
          346,
          5279,
          3795,
          1993,
          23133,
          1860,
          7961,
          17972,
          489,
          5008,
          1931,
          4563,
          4959,
          4885,
          1110,
          1372,
          1115,
          9679,
          23527,
          9763,
          1222,
          8053,
          258,
          1032,
          5007,
          8323,
          3045,
          1703,
          1610,
          3749,
          829,
          2317,
          6200,
          2884,
          7108,
          3965,
          3613,
          4411,
          640,
          2247,
          2102,
          594,
          286,
          2160,
          3354,
          3086,
          11103,
          2013,
          1897,
          1304,
          3199,
          4560,
          879,
          6243,
          13316,
          5302,
          3688,
          7460,
          12939,
          12867,
          2374,
          1020,
          20655,
          1492,
          2335,
          3737,
          925,
          1795,
          14982,
          1375,
          3088,
          2713,
          25071,
          3696,
          1897,
          713,
          944,
          3587,
          16784,
          1610,
          899,
          2209,
          1486,
          1786,
          14881,
          3216,
          4980,
          928,
          6817,
          1511,
          1347,
          333,
          1188,
          4025,
          5763,
          5758,
          6964,
          1172,
          2602,
          6939,
          7184,
          2380,
          14641,
          1099,
          10044,
          1106,
          6264,
          7393,
          727,
          134,
          1275,
          18664,
          5878,
          2872,
          607,
          1601,
          997,
          873,
          6128,
          2217,
          894,
          1196,
          337,
          3944,
          1887,
          3801,
          6257,
          2256,
          1450,
          8630,
          3154,
          3294,
          5164,
          944,
          4591,
          7435,
          1364,
          21858,
          922,
          3620,
          1916,
          848,
          1530,
          1181,
          2761,
          4180,
          6730,
          865,
          1316,
          11991,
          1666,
          1032,
          577,
          906,
          2801,
          4753,
          11006,
          4613,
          1046,
          5010,
          12844,
          3880,
          3634,
          2096,
          3289,
          3605,
          4859,
          1990,
          6046,
          10940,
          5499,
          8494,
          3783,
          5266,
          4847,
          1377,
          3686,
          2884,
          2408,
          9347,
          16687,
          5970,
          1750,
          4230,
          5506,
          1162,
          3218,
          3922,
          12051,
          1431,
          15488,
          1981,
          1698
         ],
         "yaxis": "y"
        }
       ],
       "layout": {
        "coloraxis": {
         "colorbar": {
          "title": {
           "text": "Clusters"
          }
         },
         "colorscale": [
          [
           0,
           "#440154"
          ],
          [
           0.1111111111111111,
           "#482878"
          ],
          [
           0.2222222222222222,
           "#3e4989"
          ],
          [
           0.3333333333333333,
           "#31688e"
          ],
          [
           0.4444444444444444,
           "#26828e"
          ],
          [
           0.5555555555555556,
           "#1f9e89"
          ],
          [
           0.6666666666666666,
           "#35b779"
          ],
          [
           0.7777777777777778,
           "#6ece58"
          ],
          [
           0.8888888888888888,
           "#b5de2b"
          ],
          [
           1,
           "#fde725"
          ]
         ]
        },
        "legend": {
         "title": {
          "text": "Clusters"
         },
         "tracegroupgap": 0
        },
        "template": {
         "data": {
          "bar": [
           {
            "error_x": {
             "color": "#2a3f5f"
            },
            "error_y": {
             "color": "#2a3f5f"
            },
            "marker": {
             "line": {
              "color": "white",
              "width": 0.5
             },
             "pattern": {
              "fillmode": "overlay",
              "size": 10,
              "solidity": 0.2
             }
            },
            "type": "bar"
           }
          ],
          "barpolar": [
           {
            "marker": {
             "line": {
              "color": "white",
              "width": 0.5
             },
             "pattern": {
              "fillmode": "overlay",
              "size": 10,
              "solidity": 0.2
             }
            },
            "type": "barpolar"
           }
          ],
          "carpet": [
           {
            "aaxis": {
             "endlinecolor": "#2a3f5f",
             "gridcolor": "#C8D4E3",
             "linecolor": "#C8D4E3",
             "minorgridcolor": "#C8D4E3",
             "startlinecolor": "#2a3f5f"
            },
            "baxis": {
             "endlinecolor": "#2a3f5f",
             "gridcolor": "#C8D4E3",
             "linecolor": "#C8D4E3",
             "minorgridcolor": "#C8D4E3",
             "startlinecolor": "#2a3f5f"
            },
            "type": "carpet"
           }
          ],
          "choropleth": [
           {
            "colorbar": {
             "outlinewidth": 0,
             "ticks": ""
            },
            "type": "choropleth"
           }
          ],
          "contour": [
           {
            "colorbar": {
             "outlinewidth": 0,
             "ticks": ""
            },
            "colorscale": [
             [
              0,
              "#0d0887"
             ],
             [
              0.1111111111111111,
              "#46039f"
             ],
             [
              0.2222222222222222,
              "#7201a8"
             ],
             [
              0.3333333333333333,
              "#9c179e"
             ],
             [
              0.4444444444444444,
              "#bd3786"
             ],
             [
              0.5555555555555556,
              "#d8576b"
             ],
             [
              0.6666666666666666,
              "#ed7953"
             ],
             [
              0.7777777777777778,
              "#fb9f3a"
             ],
             [
              0.8888888888888888,
              "#fdca26"
             ],
             [
              1,
              "#f0f921"
             ]
            ],
            "type": "contour"
           }
          ],
          "contourcarpet": [
           {
            "colorbar": {
             "outlinewidth": 0,
             "ticks": ""
            },
            "type": "contourcarpet"
           }
          ],
          "heatmap": [
           {
            "colorbar": {
             "outlinewidth": 0,
             "ticks": ""
            },
            "colorscale": [
             [
              0,
              "#0d0887"
             ],
             [
              0.1111111111111111,
              "#46039f"
             ],
             [
              0.2222222222222222,
              "#7201a8"
             ],
             [
              0.3333333333333333,
              "#9c179e"
             ],
             [
              0.4444444444444444,
              "#bd3786"
             ],
             [
              0.5555555555555556,
              "#d8576b"
             ],
             [
              0.6666666666666666,
              "#ed7953"
             ],
             [
              0.7777777777777778,
              "#fb9f3a"
             ],
             [
              0.8888888888888888,
              "#fdca26"
             ],
             [
              1,
              "#f0f921"
             ]
            ],
            "type": "heatmap"
           }
          ],
          "heatmapgl": [
           {
            "colorbar": {
             "outlinewidth": 0,
             "ticks": ""
            },
            "colorscale": [
             [
              0,
              "#0d0887"
             ],
             [
              0.1111111111111111,
              "#46039f"
             ],
             [
              0.2222222222222222,
              "#7201a8"
             ],
             [
              0.3333333333333333,
              "#9c179e"
             ],
             [
              0.4444444444444444,
              "#bd3786"
             ],
             [
              0.5555555555555556,
              "#d8576b"
             ],
             [
              0.6666666666666666,
              "#ed7953"
             ],
             [
              0.7777777777777778,
              "#fb9f3a"
             ],
             [
              0.8888888888888888,
              "#fdca26"
             ],
             [
              1,
              "#f0f921"
             ]
            ],
            "type": "heatmapgl"
           }
          ],
          "histogram": [
           {
            "marker": {
             "pattern": {
              "fillmode": "overlay",
              "size": 10,
              "solidity": 0.2
             }
            },
            "type": "histogram"
           }
          ],
          "histogram2d": [
           {
            "colorbar": {
             "outlinewidth": 0,
             "ticks": ""
            },
            "colorscale": [
             [
              0,
              "#0d0887"
             ],
             [
              0.1111111111111111,
              "#46039f"
             ],
             [
              0.2222222222222222,
              "#7201a8"
             ],
             [
              0.3333333333333333,
              "#9c179e"
             ],
             [
              0.4444444444444444,
              "#bd3786"
             ],
             [
              0.5555555555555556,
              "#d8576b"
             ],
             [
              0.6666666666666666,
              "#ed7953"
             ],
             [
              0.7777777777777778,
              "#fb9f3a"
             ],
             [
              0.8888888888888888,
              "#fdca26"
             ],
             [
              1,
              "#f0f921"
             ]
            ],
            "type": "histogram2d"
           }
          ],
          "histogram2dcontour": [
           {
            "colorbar": {
             "outlinewidth": 0,
             "ticks": ""
            },
            "colorscale": [
             [
              0,
              "#0d0887"
             ],
             [
              0.1111111111111111,
              "#46039f"
             ],
             [
              0.2222222222222222,
              "#7201a8"
             ],
             [
              0.3333333333333333,
              "#9c179e"
             ],
             [
              0.4444444444444444,
              "#bd3786"
             ],
             [
              0.5555555555555556,
              "#d8576b"
             ],
             [
              0.6666666666666666,
              "#ed7953"
             ],
             [
              0.7777777777777778,
              "#fb9f3a"
             ],
             [
              0.8888888888888888,
              "#fdca26"
             ],
             [
              1,
              "#f0f921"
             ]
            ],
            "type": "histogram2dcontour"
           }
          ],
          "mesh3d": [
           {
            "colorbar": {
             "outlinewidth": 0,
             "ticks": ""
            },
            "type": "mesh3d"
           }
          ],
          "parcoords": [
           {
            "line": {
             "colorbar": {
              "outlinewidth": 0,
              "ticks": ""
             }
            },
            "type": "parcoords"
           }
          ],
          "pie": [
           {
            "automargin": true,
            "type": "pie"
           }
          ],
          "scatter": [
           {
            "fillpattern": {
             "fillmode": "overlay",
             "size": 10,
             "solidity": 0.2
            },
            "type": "scatter"
           }
          ],
          "scatter3d": [
           {
            "line": {
             "colorbar": {
              "outlinewidth": 0,
              "ticks": ""
             }
            },
            "marker": {
             "colorbar": {
              "outlinewidth": 0,
              "ticks": ""
             }
            },
            "type": "scatter3d"
           }
          ],
          "scattercarpet": [
           {
            "marker": {
             "colorbar": {
              "outlinewidth": 0,
              "ticks": ""
             }
            },
            "type": "scattercarpet"
           }
          ],
          "scattergeo": [
           {
            "marker": {
             "colorbar": {
              "outlinewidth": 0,
              "ticks": ""
             }
            },
            "type": "scattergeo"
           }
          ],
          "scattergl": [
           {
            "marker": {
             "colorbar": {
              "outlinewidth": 0,
              "ticks": ""
             }
            },
            "type": "scattergl"
           }
          ],
          "scattermapbox": [
           {
            "marker": {
             "colorbar": {
              "outlinewidth": 0,
              "ticks": ""
             }
            },
            "type": "scattermapbox"
           }
          ],
          "scatterpolar": [
           {
            "marker": {
             "colorbar": {
              "outlinewidth": 0,
              "ticks": ""
             }
            },
            "type": "scatterpolar"
           }
          ],
          "scatterpolargl": [
           {
            "marker": {
             "colorbar": {
              "outlinewidth": 0,
              "ticks": ""
             }
            },
            "type": "scatterpolargl"
           }
          ],
          "scatterternary": [
           {
            "marker": {
             "colorbar": {
              "outlinewidth": 0,
              "ticks": ""
             }
            },
            "type": "scatterternary"
           }
          ],
          "surface": [
           {
            "colorbar": {
             "outlinewidth": 0,
             "ticks": ""
            },
            "colorscale": [
             [
              0,
              "#0d0887"
             ],
             [
              0.1111111111111111,
              "#46039f"
             ],
             [
              0.2222222222222222,
              "#7201a8"
             ],
             [
              0.3333333333333333,
              "#9c179e"
             ],
             [
              0.4444444444444444,
              "#bd3786"
             ],
             [
              0.5555555555555556,
              "#d8576b"
             ],
             [
              0.6666666666666666,
              "#ed7953"
             ],
             [
              0.7777777777777778,
              "#fb9f3a"
             ],
             [
              0.8888888888888888,
              "#fdca26"
             ],
             [
              1,
              "#f0f921"
             ]
            ],
            "type": "surface"
           }
          ],
          "table": [
           {
            "cells": {
             "fill": {
              "color": "#EBF0F8"
             },
             "line": {
              "color": "white"
             }
            },
            "header": {
             "fill": {
              "color": "#C8D4E3"
             },
             "line": {
              "color": "white"
             }
            },
            "type": "table"
           }
          ]
         },
         "layout": {
          "annotationdefaults": {
           "arrowcolor": "#2a3f5f",
           "arrowhead": 0,
           "arrowwidth": 1
          },
          "autotypenumbers": "strict",
          "coloraxis": {
           "colorbar": {
            "outlinewidth": 0,
            "ticks": ""
           }
          },
          "colorscale": {
           "diverging": [
            [
             0,
             "#8e0152"
            ],
            [
             0.1,
             "#c51b7d"
            ],
            [
             0.2,
             "#de77ae"
            ],
            [
             0.3,
             "#f1b6da"
            ],
            [
             0.4,
             "#fde0ef"
            ],
            [
             0.5,
             "#f7f7f7"
            ],
            [
             0.6,
             "#e6f5d0"
            ],
            [
             0.7,
             "#b8e186"
            ],
            [
             0.8,
             "#7fbc41"
            ],
            [
             0.9,
             "#4d9221"
            ],
            [
             1,
             "#276419"
            ]
           ],
           "sequential": [
            [
             0,
             "#0d0887"
            ],
            [
             0.1111111111111111,
             "#46039f"
            ],
            [
             0.2222222222222222,
             "#7201a8"
            ],
            [
             0.3333333333333333,
             "#9c179e"
            ],
            [
             0.4444444444444444,
             "#bd3786"
            ],
            [
             0.5555555555555556,
             "#d8576b"
            ],
            [
             0.6666666666666666,
             "#ed7953"
            ],
            [
             0.7777777777777778,
             "#fb9f3a"
            ],
            [
             0.8888888888888888,
             "#fdca26"
            ],
            [
             1,
             "#f0f921"
            ]
           ],
           "sequentialminus": [
            [
             0,
             "#0d0887"
            ],
            [
             0.1111111111111111,
             "#46039f"
            ],
            [
             0.2222222222222222,
             "#7201a8"
            ],
            [
             0.3333333333333333,
             "#9c179e"
            ],
            [
             0.4444444444444444,
             "#bd3786"
            ],
            [
             0.5555555555555556,
             "#d8576b"
            ],
            [
             0.6666666666666666,
             "#ed7953"
            ],
            [
             0.7777777777777778,
             "#fb9f3a"
            ],
            [
             0.8888888888888888,
             "#fdca26"
            ],
            [
             1,
             "#f0f921"
            ]
           ]
          },
          "colorway": [
           "#636efa",
           "#EF553B",
           "#00cc96",
           "#ab63fa",
           "#FFA15A",
           "#19d3f3",
           "#FF6692",
           "#B6E880",
           "#FF97FF",
           "#FECB52"
          ],
          "font": {
           "color": "#2a3f5f"
          },
          "geo": {
           "bgcolor": "white",
           "lakecolor": "white",
           "landcolor": "white",
           "showlakes": true,
           "showland": true,
           "subunitcolor": "#C8D4E3"
          },
          "hoverlabel": {
           "align": "left"
          },
          "hovermode": "closest",
          "mapbox": {
           "style": "light"
          },
          "paper_bgcolor": "white",
          "plot_bgcolor": "white",
          "polar": {
           "angularaxis": {
            "gridcolor": "#EBF0F8",
            "linecolor": "#EBF0F8",
            "ticks": ""
           },
           "bgcolor": "white",
           "radialaxis": {
            "gridcolor": "#EBF0F8",
            "linecolor": "#EBF0F8",
            "ticks": ""
           }
          },
          "scene": {
           "xaxis": {
            "backgroundcolor": "white",
            "gridcolor": "#DFE8F3",
            "gridwidth": 2,
            "linecolor": "#EBF0F8",
            "showbackground": true,
            "ticks": "",
            "zerolinecolor": "#EBF0F8"
           },
           "yaxis": {
            "backgroundcolor": "white",
            "gridcolor": "#DFE8F3",
            "gridwidth": 2,
            "linecolor": "#EBF0F8",
            "showbackground": true,
            "ticks": "",
            "zerolinecolor": "#EBF0F8"
           },
           "zaxis": {
            "backgroundcolor": "white",
            "gridcolor": "#DFE8F3",
            "gridwidth": 2,
            "linecolor": "#EBF0F8",
            "showbackground": true,
            "ticks": "",
            "zerolinecolor": "#EBF0F8"
           }
          },
          "shapedefaults": {
           "line": {
            "color": "#2a3f5f"
           }
          },
          "ternary": {
           "aaxis": {
            "gridcolor": "#DFE8F3",
            "linecolor": "#A2B1C6",
            "ticks": ""
           },
           "baxis": {
            "gridcolor": "#DFE8F3",
            "linecolor": "#A2B1C6",
            "ticks": ""
           },
           "bgcolor": "white",
           "caxis": {
            "gridcolor": "#DFE8F3",
            "linecolor": "#A2B1C6",
            "ticks": ""
           }
          },
          "title": {
           "x": 0.05
          },
          "xaxis": {
           "automargin": true,
           "gridcolor": "#EBF0F8",
           "linecolor": "#EBF0F8",
           "ticks": "",
           "title": {
            "standoff": 15
           },
           "zerolinecolor": "#EBF0F8",
           "zerolinewidth": 2
          },
          "yaxis": {
           "automargin": true,
           "gridcolor": "#EBF0F8",
           "linecolor": "#EBF0F8",
           "ticks": "",
           "title": {
            "standoff": 15
           },
           "zerolinecolor": "#EBF0F8",
           "zerolinewidth": 2
          }
         }
        },
        "title": {
         "text": "Clusters Preditos com Agglomerative Clustering"
        },
        "xaxis": {
         "anchor": "y",
         "domain": [
          0,
          1
         ],
         "title": {
          "text": "Fresh"
         }
        },
        "yaxis": {
         "anchor": "x",
         "domain": [
          0,
          1
         ],
         "title": {
          "text": "Milk"
         }
        }
       }
      }
     },
     "metadata": {},
     "output_type": "display_data"
    }
   ],
   "source": [
    "import plotly.express as px\n",
    "\n",
    "# Criando o gráfico de dispersão com Plotly\n",
    "fig = px.scatter(\n",
    "    df,\n",
    "    x=\"Fresh\",\n",
    "    y=\"Milk\",\n",
    "    color=\"Predicted_Clusters\",\n",
    "    title=\"Clusters Preditos com Agglomerative Clustering\",\n",
    "    labels={\"Fresh\": \"Fresh\", \"Milk\": \"Milk\", \"Predicted_Clusters\": \"Clusters\"},\n",
    "    color_continuous_scale=\"Viridis\",\n",
    "    size_max=15\n",
    ")\n",
    "\n",
    "fig.update_layout(\n",
    "    xaxis_title=\"Fresh\",\n",
    "    yaxis_title=\"Milk\",\n",
    "    legend_title=\"Clusters\",\n",
    "    template=\"plotly_white\"\n",
    ")\n",
    "\n",
    "fig.show()\n"
   ]
  },
  {
   "cell_type": "code",
   "execution_count": null,
   "metadata": {},
   "outputs": [],
   "source": []
  },
  {
   "cell_type": "markdown",
   "metadata": {
    "id": "7DVVAO3kH8-O"
   },
   "source": [
    "##2.3. DBSCAN\n",
    "--------------------"
   ]
  },
  {
   "cell_type": "code",
   "execution_count": null,
   "metadata": {
    "id": "y_H1ikt966yj"
   },
   "outputs": [
    {
     "data": {
      "application/vnd.plotly.v1+json": {
       "config": {
        "plotlyServerURL": "https://plot.ly"
       },
       "data": [
        {
         "hovertemplate": "Fresh=%{x}<br>Milk=%{y}<br>Clusters=%{marker.color}<extra></extra>",
         "legendgroup": "",
         "marker": {
          "color": [
           0,
           0,
           -1,
           1,
           0,
           0,
           0,
           0,
           1,
           0,
           0,
           0,
           0,
           0,
           0,
           1,
           0,
           1,
           0,
           1,
           0,
           1,
           1,
           -1,
           0,
           0,
           1,
           1,
           2,
           1,
           1,
           1,
           1,
           1,
           1,
           0,
           1,
           0,
           0,
           1,
           1,
           1,
           0,
           0,
           0,
           2,
           0,
           -1,
           0,
           0,
           1,
           1,
           0,
           0,
           1,
           1,
           0,
           0,
           1,
           1,
           0,
           -1,
           0,
           0,
           1,
           -1,
           1,
           0,
           1,
           1,
           1,
           -1,
           1,
           0,
           0,
           1,
           1,
           0,
           1,
           1,
           1,
           0,
           0,
           1,
           0,
           -1,
           -1,
           -1,
           1,
           1,
           1,
           1,
           -1,
           -1,
           0,
           1,
           0,
           1,
           1,
           1,
           0,
           0,
           0,
           -1,
           1,
           1,
           0,
           0,
           0,
           -1,
           1,
           0,
           1,
           1,
           1,
           1,
           1,
           1,
           1,
           1,
           1,
           1,
           1,
           0,
           1,
           -1,
           1,
           0,
           1,
           1,
           1,
           1,
           1,
           1,
           1,
           1,
           1,
           1,
           1,
           1,
           1,
           1,
           1,
           1,
           1,
           -1,
           1,
           1,
           1,
           1,
           1,
           1,
           1,
           1,
           1,
           0,
           0,
           1,
           0,
           0,
           0,
           1,
           1,
           0,
           0,
           0,
           0,
           1,
           1,
           1,
           0,
           2,
           1,
           0,
           1,
           0,
           1,
           1,
           1,
           1,
           1,
           -1,
           1,
           -1,
           1,
           1,
           1,
           1,
           0,
           0,
           1,
           1,
           1,
           0,
           1,
           1,
           -1,
           0,
           1,
           1,
           0,
           0,
           -1,
           1,
           1,
           0,
           1,
           0,
           1,
           0,
           1,
           3,
           1,
           1,
           0,
           1,
           -1,
           1,
           -1,
           1,
           1,
           1,
           1,
           0,
           1,
           1,
           0,
           1,
           1,
           1,
           0,
           1,
           1,
           1,
           1,
           1,
           1,
           1,
           1,
           1,
           -1,
           1,
           1,
           1,
           1,
           0,
           1,
           1,
           1,
           1,
           1,
           3,
           1,
           -1,
           -1,
           1,
           1,
           1,
           1,
           1,
           1,
           1,
           1,
           1,
           0,
           -1,
           0,
           1,
           0,
           1,
           1,
           1,
           1,
           1,
           1,
           1,
           1,
           1,
           1,
           0,
           1,
           0,
           1,
           1,
           -1,
           1,
           1,
           1,
           1,
           1,
           1,
           1,
           1,
           0,
           1,
           0,
           1,
           0,
           0,
           1,
           0,
           0,
           0,
           0,
           0,
           0,
           0,
           1,
           1,
           0,
           1,
           1,
           -1,
           1,
           1,
           0,
           1,
           1,
           1,
           -1,
           1,
           1,
           1,
           1,
           1,
           -1,
           1,
           1,
           1,
           1,
           1,
           0,
           1,
           -1,
           -1,
           0,
           1,
           1,
           1,
           1,
           0,
           0,
           1,
           0,
           1,
           1,
           0,
           0,
           1,
           0,
           1,
           0,
           1,
           0,
           1,
           1,
           1,
           0,
           -1,
           1,
           1,
           1,
           1,
           1,
           1,
           0,
           1,
           1,
           1,
           1,
           0,
           1,
           1,
           0,
           1,
           1,
           0,
           1,
           1,
           0,
           1,
           1,
           1,
           1,
           -1,
           1,
           1,
           1,
           1,
           1,
           1,
           1,
           1,
           1,
           1,
           1,
           0,
           1,
           1,
           1,
           1,
           1,
           1,
           1,
           1,
           1,
           1,
           0,
           0,
           1,
           1,
           1,
           1,
           1,
           1,
           0,
           0,
           1,
           0,
           1,
           1,
           0,
           1,
           0,
           0,
           1,
           1,
           4,
           1,
           1,
           1,
           1,
           1,
           1,
           1,
           4,
           1,
           0,
           1,
           1
          ],
          "coloraxis": "coloraxis",
          "symbol": "circle"
         },
         "mode": "markers",
         "name": "",
         "orientation": "v",
         "showlegend": false,
         "type": "scatter",
         "x": [
          12669,
          7057,
          6353,
          13265,
          22615,
          9413,
          12126,
          7579,
          5963,
          6006,
          3366,
          13146,
          31714,
          21217,
          24653,
          10253,
          1020,
          5876,
          18601,
          7780,
          17546,
          5567,
          31276,
          26373,
          22647,
          16165,
          9898,
          14276,
          4113,
          43088,
          18815,
          2612,
          21632,
          29729,
          1502,
          688,
          29955,
          15168,
          4591,
          56159,
          24025,
          19176,
          10850,
          630,
          9670,
          5181,
          3103,
          44466,
          11519,
          4967,
          6269,
          3347,
          40721,
          491,
          27329,
          5264,
          4098,
          5417,
          13779,
          6137,
          8590,
          35942,
          7823,
          9396,
          4760,
          85,
          9,
          19913,
          2446,
          8352,
          16705,
          18291,
          4420,
          19899,
          8190,
          20398,
          717,
          12205,
          10766,
          1640,
          7005,
          219,
          10362,
          20874,
          11867,
          16117,
          22925,
          43265,
          7864,
          24904,
          11405,
          12754,
          9198,
          11314,
          5626,
          3,
          23,
          403,
          503,
          9658,
          11594,
          1420,
          2932,
          56082,
          14100,
          15587,
          1454,
          8797,
          1531,
          1406,
          11818,
          12579,
          19046,
          14438,
          18044,
          11134,
          11173,
          6990,
          20049,
          8258,
          17160,
          4020,
          12212,
          11170,
          36050,
          76237,
          19219,
          21465,
          140,
          42312,
          7149,
          2101,
          14903,
          9434,
          7388,
          6300,
          4625,
          3087,
          13537,
          5387,
          17623,
          30379,
          37036,
          10405,
          18827,
          22039,
          7769,
          9203,
          5924,
          31812,
          16225,
          1289,
          18840,
          3463,
          622,
          1989,
          3830,
          17773,
          2861,
          355,
          1725,
          12434,
          15177,
          5531,
          5224,
          15615,
          4822,
          2926,
          5809,
          5414,
          260,
          200,
          955,
          514,
          286,
          2343,
          45640,
          12759,
          11002,
          3157,
          12356,
          112151,
          694,
          36847,
          327,
          8170,
          3009,
          2438,
          8040,
          834,
          16936,
          13624,
          5509,
          180,
          7107,
          17023,
          30624,
          2427,
          11686,
          9670,
          3067,
          4484,
          25203,
          583,
          1956,
          1107,
          6373,
          2541,
          1537,
          5550,
          18567,
          12119,
          7291,
          3317,
          2362,
          2806,
          2532,
          18044,
          18,
          4155,
          14755,
          5396,
          5041,
          2790,
          7274,
          12680,
          20782,
          4042,
          1869,
          8656,
          11072,
          2344,
          25962,
          964,
          15603,
          1838,
          8635,
          18692,
          7363,
          47493,
          22096,
          24929,
          18226,
          11210,
          6202,
          3062,
          8885,
          13569,
          15671,
          8040,
          3191,
          6134,
          6623,
          29526,
          10379,
          31614,
          11092,
          8475,
          56083,
          53205,
          9193,
          7858,
          23257,
          2153,
          1073,
          5909,
          572,
          20893,
          11908,
          15218,
          4720,
          2083,
          514,
          36817,
          894,
          680,
          27901,
          9061,
          11693,
          17360,
          3366,
          12238,
          49063,
          25767,
          68951,
          40254,
          7149,
          15354,
          16260,
          42786,
          2708,
          6022,
          2838,
          3996,
          21273,
          7588,
          19087,
          8090,
          6758,
          444,
          16448,
          5283,
          2886,
          2599,
          161,
          243,
          6468,
          17327,
          6987,
          918,
          7034,
          29635,
          2137,
          9784,
          10617,
          1479,
          7127,
          1182,
          11800,
          9759,
          1774,
          9155,
          15881,
          13360,
          25977,
          32717,
          4414,
          542,
          16933,
          5113,
          9790,
          11223,
          22321,
          8565,
          16823,
          27082,
          13970,
          9351,
          3,
          2617,
          381,
          2320,
          255,
          1689,
          3043,
          1198,
          2771,
          27380,
          3428,
          5981,
          3521,
          1210,
          608,
          117,
          14039,
          190,
          22686,
          37,
          759,
          796,
          19746,
          4734,
          2121,
          4627,
          2615,
          4692,
          9561,
          3477,
          22335,
          6211,
          39679,
          20105,
          3884,
          15076,
          6338,
          5841,
          3136,
          38793,
          3225,
          4048,
          28257,
          17770,
          34454,
          1821,
          10683,
          11635,
          1206,
          20918,
          9785,
          9385,
          3352,
          2647,
          518,
          23632,
          12377,
          9602,
          4515,
          11535,
          11442,
          9612,
          4446,
          27167,
          26539,
          25606,
          18073,
          6884,
          25066,
          7362,
          8257,
          8708,
          6633,
          2126,
          97,
          4983,
          5969,
          7842,
          4389,
          5065,
          660,
          8861,
          4456,
          17063,
          26400,
          17565,
          16980,
          11243,
          13134,
          31012,
          3047,
          8607,
          3097,
          8533,
          21117,
          1982,
          16731,
          29703,
          39228,
          14531,
          10290,
          2787
         ],
         "xaxis": "x",
         "y": [
          9656,
          9810,
          8808,
          1196,
          5410,
          8259,
          3199,
          4956,
          3648,
          11093,
          5403,
          1124,
          12319,
          6208,
          9465,
          1114,
          8816,
          6157,
          6327,
          2495,
          4519,
          871,
          1917,
          36423,
          9776,
          4230,
          961,
          803,
          20484,
          2100,
          3610,
          4339,
          1318,
          4786,
          1979,
          5491,
          4362,
          10556,
          15729,
          555,
          4332,
          3065,
          7555,
          11095,
          7027,
          22044,
          14069,
          54259,
          6152,
          21412,
          1095,
          4051,
          3916,
          10473,
          1449,
          3683,
          29892,
          9933,
          1970,
          5360,
          3045,
          38369,
          6245,
          11601,
          1227,
          20959,
          1534,
          6759,
          7260,
          2820,
          2037,
          1266,
          5139,
          5332,
          6343,
          1137,
          3587,
          12697,
          1175,
          3259,
          829,
          9540,
          9232,
          1563,
          3327,
          46197,
          73498,
          5025,
          542,
          3836,
          596,
          2762,
          27472,
          3090,
          12220,
          2920,
          2616,
          254,
          112,
          2182,
          7779,
          10810,
          6459,
          3504,
          2132,
          1014,
          6337,
          10646,
          8397,
          16729,
          1648,
          11114,
          2770,
          2295,
          1080,
          793,
          2521,
          3880,
          1891,
          2344,
          1200,
          3234,
          201,
          10769,
          1642,
          3473,
          1840,
          7243,
          8847,
          926,
          2428,
          589,
          2032,
          1042,
          1882,
          1289,
          8579,
          8080,
          4257,
          4979,
          4280,
          13252,
          7152,
          1596,
          3677,
          8384,
          1936,
          3373,
          584,
          1433,
          1825,
          3328,
          1371,
          9250,
          55,
          10690,
          5291,
          1366,
          6570,
          7704,
          3651,
          540,
          2024,
          15726,
          7603,
          12653,
          6721,
          3195,
          735,
          717,
          8675,
          25862,
          5479,
          7677,
          1208,
          7845,
          6958,
          7330,
          7075,
          4888,
          6036,
          29627,
          8533,
          43950,
          918,
          6448,
          521,
          8002,
          7639,
          11577,
          6250,
          295,
          1461,
          3485,
          1012,
          5139,
          7209,
          7097,
          2154,
          2280,
          13240,
          14399,
          11487,
          685,
          891,
          11711,
          780,
          4737,
          3748,
          12729,
          1895,
          28326,
          1012,
          6602,
          6551,
          10765,
          16599,
          1475,
          7504,
          367,
          899,
          7503,
          1115,
          2527,
          659,
          3243,
          5921,
          2204,
          577,
          2746,
          5989,
          10678,
          1780,
          4984,
          2703,
          6380,
          820,
          3838,
          475,
          2567,
          3575,
          1801,
          659,
          3576,
          7775,
          6154,
          2428,
          346,
          5279,
          3795,
          1993,
          23133,
          1860,
          7961,
          17972,
          489,
          5008,
          1931,
          4563,
          4959,
          4885,
          1110,
          1372,
          1115,
          9679,
          23527,
          9763,
          1222,
          8053,
          258,
          1032,
          5007,
          8323,
          3045,
          1703,
          1610,
          3749,
          829,
          2317,
          6200,
          2884,
          7108,
          3965,
          3613,
          4411,
          640,
          2247,
          2102,
          594,
          286,
          2160,
          3354,
          3086,
          11103,
          2013,
          1897,
          1304,
          3199,
          4560,
          879,
          6243,
          13316,
          5302,
          3688,
          7460,
          12939,
          12867,
          2374,
          1020,
          20655,
          1492,
          2335,
          3737,
          925,
          1795,
          14982,
          1375,
          3088,
          2713,
          25071,
          3696,
          1897,
          713,
          944,
          3587,
          16784,
          1610,
          899,
          2209,
          1486,
          1786,
          14881,
          3216,
          4980,
          928,
          6817,
          1511,
          1347,
          333,
          1188,
          4025,
          5763,
          5758,
          6964,
          1172,
          2602,
          6939,
          7184,
          2380,
          14641,
          1099,
          10044,
          1106,
          6264,
          7393,
          727,
          134,
          1275,
          18664,
          5878,
          2872,
          607,
          1601,
          997,
          873,
          6128,
          2217,
          894,
          1196,
          337,
          3944,
          1887,
          3801,
          6257,
          2256,
          1450,
          8630,
          3154,
          3294,
          5164,
          944,
          4591,
          7435,
          1364,
          21858,
          922,
          3620,
          1916,
          848,
          1530,
          1181,
          2761,
          4180,
          6730,
          865,
          1316,
          11991,
          1666,
          1032,
          577,
          906,
          2801,
          4753,
          11006,
          4613,
          1046,
          5010,
          12844,
          3880,
          3634,
          2096,
          3289,
          3605,
          4859,
          1990,
          6046,
          10940,
          5499,
          8494,
          3783,
          5266,
          4847,
          1377,
          3686,
          2884,
          2408,
          9347,
          16687,
          5970,
          1750,
          4230,
          5506,
          1162,
          3218,
          3922,
          12051,
          1431,
          15488,
          1981,
          1698
         ],
         "yaxis": "y"
        }
       ],
       "layout": {
        "coloraxis": {
         "colorbar": {
          "title": {
           "text": "Clusters"
          }
         },
         "colorscale": [
          [
           0,
           "#0d0887"
          ],
          [
           0.1111111111111111,
           "#46039f"
          ],
          [
           0.2222222222222222,
           "#7201a8"
          ],
          [
           0.3333333333333333,
           "#9c179e"
          ],
          [
           0.4444444444444444,
           "#bd3786"
          ],
          [
           0.5555555555555556,
           "#d8576b"
          ],
          [
           0.6666666666666666,
           "#ed7953"
          ],
          [
           0.7777777777777778,
           "#fb9f3a"
          ],
          [
           0.8888888888888888,
           "#fdca26"
          ],
          [
           1,
           "#f0f921"
          ]
         ]
        },
        "legend": {
         "title": {
          "text": "Clusters"
         },
         "tracegroupgap": 0
        },
        "template": {
         "data": {
          "bar": [
           {
            "error_x": {
             "color": "#2a3f5f"
            },
            "error_y": {
             "color": "#2a3f5f"
            },
            "marker": {
             "line": {
              "color": "white",
              "width": 0.5
             },
             "pattern": {
              "fillmode": "overlay",
              "size": 10,
              "solidity": 0.2
             }
            },
            "type": "bar"
           }
          ],
          "barpolar": [
           {
            "marker": {
             "line": {
              "color": "white",
              "width": 0.5
             },
             "pattern": {
              "fillmode": "overlay",
              "size": 10,
              "solidity": 0.2
             }
            },
            "type": "barpolar"
           }
          ],
          "carpet": [
           {
            "aaxis": {
             "endlinecolor": "#2a3f5f",
             "gridcolor": "#C8D4E3",
             "linecolor": "#C8D4E3",
             "minorgridcolor": "#C8D4E3",
             "startlinecolor": "#2a3f5f"
            },
            "baxis": {
             "endlinecolor": "#2a3f5f",
             "gridcolor": "#C8D4E3",
             "linecolor": "#C8D4E3",
             "minorgridcolor": "#C8D4E3",
             "startlinecolor": "#2a3f5f"
            },
            "type": "carpet"
           }
          ],
          "choropleth": [
           {
            "colorbar": {
             "outlinewidth": 0,
             "ticks": ""
            },
            "type": "choropleth"
           }
          ],
          "contour": [
           {
            "colorbar": {
             "outlinewidth": 0,
             "ticks": ""
            },
            "colorscale": [
             [
              0,
              "#0d0887"
             ],
             [
              0.1111111111111111,
              "#46039f"
             ],
             [
              0.2222222222222222,
              "#7201a8"
             ],
             [
              0.3333333333333333,
              "#9c179e"
             ],
             [
              0.4444444444444444,
              "#bd3786"
             ],
             [
              0.5555555555555556,
              "#d8576b"
             ],
             [
              0.6666666666666666,
              "#ed7953"
             ],
             [
              0.7777777777777778,
              "#fb9f3a"
             ],
             [
              0.8888888888888888,
              "#fdca26"
             ],
             [
              1,
              "#f0f921"
             ]
            ],
            "type": "contour"
           }
          ],
          "contourcarpet": [
           {
            "colorbar": {
             "outlinewidth": 0,
             "ticks": ""
            },
            "type": "contourcarpet"
           }
          ],
          "heatmap": [
           {
            "colorbar": {
             "outlinewidth": 0,
             "ticks": ""
            },
            "colorscale": [
             [
              0,
              "#0d0887"
             ],
             [
              0.1111111111111111,
              "#46039f"
             ],
             [
              0.2222222222222222,
              "#7201a8"
             ],
             [
              0.3333333333333333,
              "#9c179e"
             ],
             [
              0.4444444444444444,
              "#bd3786"
             ],
             [
              0.5555555555555556,
              "#d8576b"
             ],
             [
              0.6666666666666666,
              "#ed7953"
             ],
             [
              0.7777777777777778,
              "#fb9f3a"
             ],
             [
              0.8888888888888888,
              "#fdca26"
             ],
             [
              1,
              "#f0f921"
             ]
            ],
            "type": "heatmap"
           }
          ],
          "heatmapgl": [
           {
            "colorbar": {
             "outlinewidth": 0,
             "ticks": ""
            },
            "colorscale": [
             [
              0,
              "#0d0887"
             ],
             [
              0.1111111111111111,
              "#46039f"
             ],
             [
              0.2222222222222222,
              "#7201a8"
             ],
             [
              0.3333333333333333,
              "#9c179e"
             ],
             [
              0.4444444444444444,
              "#bd3786"
             ],
             [
              0.5555555555555556,
              "#d8576b"
             ],
             [
              0.6666666666666666,
              "#ed7953"
             ],
             [
              0.7777777777777778,
              "#fb9f3a"
             ],
             [
              0.8888888888888888,
              "#fdca26"
             ],
             [
              1,
              "#f0f921"
             ]
            ],
            "type": "heatmapgl"
           }
          ],
          "histogram": [
           {
            "marker": {
             "pattern": {
              "fillmode": "overlay",
              "size": 10,
              "solidity": 0.2
             }
            },
            "type": "histogram"
           }
          ],
          "histogram2d": [
           {
            "colorbar": {
             "outlinewidth": 0,
             "ticks": ""
            },
            "colorscale": [
             [
              0,
              "#0d0887"
             ],
             [
              0.1111111111111111,
              "#46039f"
             ],
             [
              0.2222222222222222,
              "#7201a8"
             ],
             [
              0.3333333333333333,
              "#9c179e"
             ],
             [
              0.4444444444444444,
              "#bd3786"
             ],
             [
              0.5555555555555556,
              "#d8576b"
             ],
             [
              0.6666666666666666,
              "#ed7953"
             ],
             [
              0.7777777777777778,
              "#fb9f3a"
             ],
             [
              0.8888888888888888,
              "#fdca26"
             ],
             [
              1,
              "#f0f921"
             ]
            ],
            "type": "histogram2d"
           }
          ],
          "histogram2dcontour": [
           {
            "colorbar": {
             "outlinewidth": 0,
             "ticks": ""
            },
            "colorscale": [
             [
              0,
              "#0d0887"
             ],
             [
              0.1111111111111111,
              "#46039f"
             ],
             [
              0.2222222222222222,
              "#7201a8"
             ],
             [
              0.3333333333333333,
              "#9c179e"
             ],
             [
              0.4444444444444444,
              "#bd3786"
             ],
             [
              0.5555555555555556,
              "#d8576b"
             ],
             [
              0.6666666666666666,
              "#ed7953"
             ],
             [
              0.7777777777777778,
              "#fb9f3a"
             ],
             [
              0.8888888888888888,
              "#fdca26"
             ],
             [
              1,
              "#f0f921"
             ]
            ],
            "type": "histogram2dcontour"
           }
          ],
          "mesh3d": [
           {
            "colorbar": {
             "outlinewidth": 0,
             "ticks": ""
            },
            "type": "mesh3d"
           }
          ],
          "parcoords": [
           {
            "line": {
             "colorbar": {
              "outlinewidth": 0,
              "ticks": ""
             }
            },
            "type": "parcoords"
           }
          ],
          "pie": [
           {
            "automargin": true,
            "type": "pie"
           }
          ],
          "scatter": [
           {
            "fillpattern": {
             "fillmode": "overlay",
             "size": 10,
             "solidity": 0.2
            },
            "type": "scatter"
           }
          ],
          "scatter3d": [
           {
            "line": {
             "colorbar": {
              "outlinewidth": 0,
              "ticks": ""
             }
            },
            "marker": {
             "colorbar": {
              "outlinewidth": 0,
              "ticks": ""
             }
            },
            "type": "scatter3d"
           }
          ],
          "scattercarpet": [
           {
            "marker": {
             "colorbar": {
              "outlinewidth": 0,
              "ticks": ""
             }
            },
            "type": "scattercarpet"
           }
          ],
          "scattergeo": [
           {
            "marker": {
             "colorbar": {
              "outlinewidth": 0,
              "ticks": ""
             }
            },
            "type": "scattergeo"
           }
          ],
          "scattergl": [
           {
            "marker": {
             "colorbar": {
              "outlinewidth": 0,
              "ticks": ""
             }
            },
            "type": "scattergl"
           }
          ],
          "scattermapbox": [
           {
            "marker": {
             "colorbar": {
              "outlinewidth": 0,
              "ticks": ""
             }
            },
            "type": "scattermapbox"
           }
          ],
          "scatterpolar": [
           {
            "marker": {
             "colorbar": {
              "outlinewidth": 0,
              "ticks": ""
             }
            },
            "type": "scatterpolar"
           }
          ],
          "scatterpolargl": [
           {
            "marker": {
             "colorbar": {
              "outlinewidth": 0,
              "ticks": ""
             }
            },
            "type": "scatterpolargl"
           }
          ],
          "scatterternary": [
           {
            "marker": {
             "colorbar": {
              "outlinewidth": 0,
              "ticks": ""
             }
            },
            "type": "scatterternary"
           }
          ],
          "surface": [
           {
            "colorbar": {
             "outlinewidth": 0,
             "ticks": ""
            },
            "colorscale": [
             [
              0,
              "#0d0887"
             ],
             [
              0.1111111111111111,
              "#46039f"
             ],
             [
              0.2222222222222222,
              "#7201a8"
             ],
             [
              0.3333333333333333,
              "#9c179e"
             ],
             [
              0.4444444444444444,
              "#bd3786"
             ],
             [
              0.5555555555555556,
              "#d8576b"
             ],
             [
              0.6666666666666666,
              "#ed7953"
             ],
             [
              0.7777777777777778,
              "#fb9f3a"
             ],
             [
              0.8888888888888888,
              "#fdca26"
             ],
             [
              1,
              "#f0f921"
             ]
            ],
            "type": "surface"
           }
          ],
          "table": [
           {
            "cells": {
             "fill": {
              "color": "#EBF0F8"
             },
             "line": {
              "color": "white"
             }
            },
            "header": {
             "fill": {
              "color": "#C8D4E3"
             },
             "line": {
              "color": "white"
             }
            },
            "type": "table"
           }
          ]
         },
         "layout": {
          "annotationdefaults": {
           "arrowcolor": "#2a3f5f",
           "arrowhead": 0,
           "arrowwidth": 1
          },
          "autotypenumbers": "strict",
          "coloraxis": {
           "colorbar": {
            "outlinewidth": 0,
            "ticks": ""
           }
          },
          "colorscale": {
           "diverging": [
            [
             0,
             "#8e0152"
            ],
            [
             0.1,
             "#c51b7d"
            ],
            [
             0.2,
             "#de77ae"
            ],
            [
             0.3,
             "#f1b6da"
            ],
            [
             0.4,
             "#fde0ef"
            ],
            [
             0.5,
             "#f7f7f7"
            ],
            [
             0.6,
             "#e6f5d0"
            ],
            [
             0.7,
             "#b8e186"
            ],
            [
             0.8,
             "#7fbc41"
            ],
            [
             0.9,
             "#4d9221"
            ],
            [
             1,
             "#276419"
            ]
           ],
           "sequential": [
            [
             0,
             "#0d0887"
            ],
            [
             0.1111111111111111,
             "#46039f"
            ],
            [
             0.2222222222222222,
             "#7201a8"
            ],
            [
             0.3333333333333333,
             "#9c179e"
            ],
            [
             0.4444444444444444,
             "#bd3786"
            ],
            [
             0.5555555555555556,
             "#d8576b"
            ],
            [
             0.6666666666666666,
             "#ed7953"
            ],
            [
             0.7777777777777778,
             "#fb9f3a"
            ],
            [
             0.8888888888888888,
             "#fdca26"
            ],
            [
             1,
             "#f0f921"
            ]
           ],
           "sequentialminus": [
            [
             0,
             "#0d0887"
            ],
            [
             0.1111111111111111,
             "#46039f"
            ],
            [
             0.2222222222222222,
             "#7201a8"
            ],
            [
             0.3333333333333333,
             "#9c179e"
            ],
            [
             0.4444444444444444,
             "#bd3786"
            ],
            [
             0.5555555555555556,
             "#d8576b"
            ],
            [
             0.6666666666666666,
             "#ed7953"
            ],
            [
             0.7777777777777778,
             "#fb9f3a"
            ],
            [
             0.8888888888888888,
             "#fdca26"
            ],
            [
             1,
             "#f0f921"
            ]
           ]
          },
          "colorway": [
           "#636efa",
           "#EF553B",
           "#00cc96",
           "#ab63fa",
           "#FFA15A",
           "#19d3f3",
           "#FF6692",
           "#B6E880",
           "#FF97FF",
           "#FECB52"
          ],
          "font": {
           "color": "#2a3f5f"
          },
          "geo": {
           "bgcolor": "white",
           "lakecolor": "white",
           "landcolor": "white",
           "showlakes": true,
           "showland": true,
           "subunitcolor": "#C8D4E3"
          },
          "hoverlabel": {
           "align": "left"
          },
          "hovermode": "closest",
          "mapbox": {
           "style": "light"
          },
          "paper_bgcolor": "white",
          "plot_bgcolor": "white",
          "polar": {
           "angularaxis": {
            "gridcolor": "#EBF0F8",
            "linecolor": "#EBF0F8",
            "ticks": ""
           },
           "bgcolor": "white",
           "radialaxis": {
            "gridcolor": "#EBF0F8",
            "linecolor": "#EBF0F8",
            "ticks": ""
           }
          },
          "scene": {
           "xaxis": {
            "backgroundcolor": "white",
            "gridcolor": "#DFE8F3",
            "gridwidth": 2,
            "linecolor": "#EBF0F8",
            "showbackground": true,
            "ticks": "",
            "zerolinecolor": "#EBF0F8"
           },
           "yaxis": {
            "backgroundcolor": "white",
            "gridcolor": "#DFE8F3",
            "gridwidth": 2,
            "linecolor": "#EBF0F8",
            "showbackground": true,
            "ticks": "",
            "zerolinecolor": "#EBF0F8"
           },
           "zaxis": {
            "backgroundcolor": "white",
            "gridcolor": "#DFE8F3",
            "gridwidth": 2,
            "linecolor": "#EBF0F8",
            "showbackground": true,
            "ticks": "",
            "zerolinecolor": "#EBF0F8"
           }
          },
          "shapedefaults": {
           "line": {
            "color": "#2a3f5f"
           }
          },
          "ternary": {
           "aaxis": {
            "gridcolor": "#DFE8F3",
            "linecolor": "#A2B1C6",
            "ticks": ""
           },
           "baxis": {
            "gridcolor": "#DFE8F3",
            "linecolor": "#A2B1C6",
            "ticks": ""
           },
           "bgcolor": "white",
           "caxis": {
            "gridcolor": "#DFE8F3",
            "linecolor": "#A2B1C6",
            "ticks": ""
           }
          },
          "title": {
           "x": 0.05
          },
          "xaxis": {
           "automargin": true,
           "gridcolor": "#EBF0F8",
           "linecolor": "#EBF0F8",
           "ticks": "",
           "title": {
            "standoff": 15
           },
           "zerolinecolor": "#EBF0F8",
           "zerolinewidth": 2
          },
          "yaxis": {
           "automargin": true,
           "gridcolor": "#EBF0F8",
           "linecolor": "#EBF0F8",
           "ticks": "",
           "title": {
            "standoff": 15
           },
           "zerolinecolor": "#EBF0F8",
           "zerolinewidth": 2
          }
         }
        },
        "title": {
         "text": "Clusters Preditos com DBSCAN"
        },
        "xaxis": {
         "anchor": "y",
         "domain": [
          0,
          1
         ],
         "title": {
          "text": "Fresh"
         }
        },
        "yaxis": {
         "anchor": "x",
         "domain": [
          0,
          1
         ],
         "title": {
          "text": "Milk"
         }
        }
       }
      }
     },
     "metadata": {},
     "output_type": "display_data"
    }
   ],
   "source": [
    "from sklearn.cluster import DBSCAN\n",
    "\n",
    "# Aplicando o DBSCAN\n",
    "dbscan = DBSCAN(eps=1.5, min_samples=2)  # Ajustando parâmetros para este conjunto de dados\n",
    "\n",
    "df['DBSCAN_Clusters'] = dbscan.fit_predict(X_scaled)\n",
    "\n",
    "# Criando gráfico para exibir os resultados\n",
    "fig = px.scatter(\n",
    "    df,\n",
    "    x=\"Fresh\",\n",
    "    y=\"Milk\",\n",
    "    color=\"DBSCAN_Clusters\",\n",
    "    title=\"Clusters Preditos com DBSCAN\",\n",
    "    labels={\"Fresh\": \"Fresh\", \"Milk\": \"Milk\", \"DBSCAN_Clusters\": \"Clusters\"},\n",
    "    color_continuous_scale=\"Plasma\",\n",
    ")\n",
    "\n",
    "fig.update_layout(\n",
    "    xaxis_title=\"Fresh\",\n",
    "    yaxis_title=\"Milk\",\n",
    "    legend_title=\"Clusters\",\n",
    "    template=\"plotly_white\"\n",
    ")\n",
    "\n",
    "fig.show()\n"
   ]
  },
  {
   "cell_type": "markdown",
   "metadata": {
    "id": "L54JLF7EH_ya"
   },
   "source": [
    "## 3 Análise sillhouete score\n",
    "---------------------------"
   ]
  },
  {
   "cell_type": "code",
   "execution_count": null,
   "metadata": {
    "id": "os2-EE_u67vd"
   },
   "outputs": [
    {
     "data": {
      "text/plain": [
       "(np.float64(0.3178066486005939), np.float64(0.33573149594028695))"
      ]
     },
     "execution_count": 20,
     "metadata": {},
     "output_type": "execute_result"
    }
   ],
   "source": [
    "from sklearn.metrics import silhouette_score\n",
    "\n",
    "agg_silhouette = silhouette_score(X_scaled, df['Predicted_Clusters'])\n",
    "\n",
    "dbscan_clusters = df['DBSCAN_Clusters']\n",
    "\n",
    "valid_dbscan_mask = dbscan_clusters != -1\n",
    "\n",
    "dbscan_silhouette = silhouette_score(X_scaled[valid_dbscan_mask], dbscan_clusters[valid_dbscan_mask])\n",
    "\n",
    "agg_silhouette, dbscan_silhouette\n"
   ]
  },
  {
   "cell_type": "markdown",
   "metadata": {},
   "source": [
    "### Resultado\n",
    "\n",
    "O DBSCAN apresenta um Silhouette Score levemente melhor (0.336 contra 0.318), o que indica que ele pode ser uma escolha melhor para o agrupamento deste conjunto de dados."
   ]
  },
  {
   "cell_type": "markdown",
   "metadata": {
    "id": "C-AFQdVfIE8U"
   },
   "source": [
    "## 4. Visualização\n",
    "---------------------------\n",
    "## 4.1. PCA\n",
    "---------------------------"
   ]
  },
  {
   "cell_type": "code",
   "execution_count": 21,
   "metadata": {
    "id": "SZhyNGY268vi"
   },
   "outputs": [
    {
     "data": {
      "application/vnd.plotly.v1+json": {
       "config": {
        "plotlyServerURL": "https://plot.ly"
       },
       "data": [
        {
         "hovertemplate": "Componente Principal 1=%{x}<br>Componente Principal 2=%{y}<br>Clusters=%{marker.color}<extra></extra>",
         "legendgroup": "",
         "marker": {
          "color": [
           2,
           2,
           2,
           0,
           2,
           2,
           2,
           2,
           0,
           2,
           2,
           2,
           2,
           2,
           2,
           0,
           2,
           0,
           2,
           0,
           2,
           0,
           0,
           0,
           2,
           2,
           0,
           0,
           2,
           0,
           0,
           0,
           0,
           0,
           0,
           2,
           0,
           2,
           2,
           0,
           0,
           0,
           2,
           2,
           2,
           2,
           2,
           1,
           2,
           2,
           0,
           0,
           2,
           2,
           0,
           0,
           2,
           2,
           0,
           0,
           2,
           1,
           2,
           2,
           0,
           2,
           0,
           2,
           0,
           0,
           0,
           0,
           0,
           2,
           2,
           0,
           0,
           2,
           0,
           0,
           0,
           2,
           2,
           0,
           2,
           1,
           1,
           0,
           0,
           0,
           0,
           0,
           2,
           0,
           2,
           0,
           2,
           0,
           0,
           0,
           2,
           2,
           2,
           0,
           0,
           0,
           2,
           2,
           2,
           2,
           0,
           2,
           0,
           0,
           0,
           0,
           0,
           0,
           0,
           0,
           0,
           0,
           0,
           2,
           0,
           0,
           0,
           2,
           0,
           0,
           0,
           0,
           0,
           0,
           0,
           0,
           0,
           0,
           0,
           0,
           0,
           0,
           0,
           0,
           0,
           2,
           0,
           0,
           0,
           0,
           0,
           0,
           0,
           0,
           0,
           2,
           2,
           0,
           2,
           2,
           2,
           0,
           0,
           2,
           2,
           2,
           2,
           0,
           0,
           0,
           2,
           2,
           0,
           2,
           0,
           2,
           0,
           0,
           0,
           0,
           0,
           0,
           0,
           3,
           0,
           0,
           0,
           0,
           2,
           2,
           0,
           0,
           0,
           2,
           0,
           0,
           4,
           2,
           4,
           4,
           2,
           2,
           4,
           4,
           4,
           2,
           4,
           2,
           4,
           2,
           4,
           2,
           4,
           4,
           2,
           4,
           2,
           4,
           2,
           4,
           4,
           4,
           4,
           2,
           4,
           4,
           2,
           4,
           4,
           4,
           2,
           4,
           4,
           4,
           4,
           4,
           4,
           4,
           4,
           0,
           4,
           4,
           4,
           4,
           4,
           2,
           4,
           4,
           4,
           4,
           4,
           2,
           4,
           4,
           4,
           4,
           4,
           4,
           0,
           0,
           4,
           4,
           4,
           4,
           2,
           4,
           2,
           4,
           2,
           4,
           4,
           4,
           4,
           0,
           0,
           0,
           0,
           0,
           0,
           2,
           0,
           2,
           0,
           0,
           0,
           0,
           0,
           0,
           0,
           0,
           0,
           0,
           0,
           2,
           4,
           2,
           4,
           2,
           2,
           4,
           2,
           2,
           2,
           2,
           2,
           2,
           2,
           4,
           4,
           2,
           0,
           4,
           2,
           4,
           4,
           2,
           4,
           4,
           4,
           2,
           4,
           4,
           4,
           4,
           4,
           0,
           4,
           4,
           0,
           4,
           4,
           2,
           4,
           1,
           2,
           2,
           4,
           0,
           0,
           0,
           2,
           2,
           0,
           2,
           0,
           0,
           2,
           2,
           0,
           2,
           0,
           2,
           0,
           2,
           0,
           0,
           0,
           2,
           0,
           0,
           0,
           0,
           0,
           0,
           0,
           2,
           0,
           0,
           0,
           0,
           2,
           0,
           0,
           2,
           0,
           0,
           2,
           0,
           0,
           2,
           0,
           0,
           0,
           0,
           0,
           0,
           0,
           0,
           0,
           0,
           0,
           0,
           0,
           0,
           0,
           0,
           2,
           0,
           0,
           0,
           0,
           0,
           0,
           0,
           0,
           0,
           0,
           2,
           2,
           0,
           0,
           0,
           0,
           0,
           0,
           2,
           2,
           0,
           2,
           0,
           0,
           2,
           0,
           2,
           2,
           0,
           0,
           0,
           0,
           0,
           0,
           0,
           0,
           0,
           0,
           0,
           0,
           2,
           0,
           0
          ],
          "coloraxis": "coloraxis",
          "symbol": "circle"
         },
         "mode": "markers",
         "name": "",
         "orientation": "v",
         "showlegend": false,
         "type": "scatter",
         "x": [
          0.8439389283589348,
          1.0626764494364702,
          1.2691405157256082,
          -1.0567823867244295,
          0.6340304841535807,
          0.5301108983814705,
          0.39956024471777096,
          0.7911656497336043,
          -0.6638311308147966,
          2.150684798408825,
          1.255993894576048,
          -0.16821061177295218,
          1.4398558812208193,
          1.4069561102138228,
          1.3739599872296235,
          -1.0718152121562043,
          1.2580123337964577,
          -0.61859901284143,
          0.8670934289838252,
          -0.4846667946979248,
          0.3315146865744449,
          -1.2544410791612715,
          -0.6957547065668507,
          4.3977559019304255,
          1.6259880831601219,
          0.5609214479872605,
          -1.2069806928097009,
          -1.2331191169542484,
          3.4703738488880864,
          -1.1078103578348866,
          -0.2431937984851341,
          -0.8805660642907831,
          -1.1389826326227828,
          -0.7389785861049745,
          -1.140778731690248,
          0.9148730657734527,
          -0.5841110290237145,
          1.549063323308972,
          2.1869822151667693,
          -1.3601517074917224,
          -0.5565195573036356,
          -0.5364145358490932,
          1.5197549823983807,
          2.5657907059946936,
          0.9824537541268756,
          3.164387485022179,
          2.4110822544263177,
          8.98154210760852,
          1.08258585373056,
          4.00281168221899,
          -1.1270265551709562,
          -0.6319581668145496,
          0.3080740806743988,
          1.3998555570849942,
          -1.2326280515211283,
          -0.6750107770470575,
          4.896772475413768,
          1.5782493702083267,
          -1.2274732380271889,
          -0.24730902531601576,
          0.5350891610227976,
          8.249359621996756,
          0.6844314970142164,
          1.9710393933519166,
          -1.0322948051644418,
          6.136196604205564,
          -0.5667956795932924,
          1.2118304479915567,
          -0.5469746162677971,
          -1.1529952922263202,
          -1.1611235562614102,
          1.0406678394440168,
          -0.8932897091435626,
          0.31679915859353563,
          0.7001143258728284,
          -1.40391765855523,
          -0.80409588207962,
          3.2322605931689075,
          -1.2658090300340616,
          -0.8299339531200952,
          -1.1618187256890722,
          1.7442286069956623,
          1.1666052093276005,
          -1.2157006796148586,
          0.33368471423801094,
          12.289715443348452,
          8.202528556178526,
          0.20398696728496538,
          -1.2584066962844247,
          -0.7536675474235709,
          -1.3505392326636074,
          -1.0907760290276431,
          5.369270811818481,
          -1.2244536984465177,
          1.4316422897157912,
          -0.8620811888018121,
          0.5144850461424831,
          -1.4117223235300305,
          -1.408055031084785,
          -1.2299358514679641,
          1.6542702438825398,
          1.9035630464738866,
          0.8614807620162336,
          -0.6525904220229629,
          -0.9751225471339829,
          -1.1178679144586297,
          1.3169830319350528,
          2.0136868506236487,
          0.7277010749176093,
          2.2489909675667823,
          -1.1874979025431012,
          1.9265189626216956,
          -1.0299577150618655,
          -1.1140182408066488,
          -1.2488911385301975,
          -1.2197201963955213,
          -1.0994413687591689,
          -0.8340582481945085,
          -1.184772322704985,
          -1.1685978213143267,
          -1.1602185020407942,
          -1.1526986455979118,
          -1.4234536986316049,
          0.8303436665774322,
          -1.1454955283871964,
          -0.9574709224573467,
          -1.2769756912015906,
          0.8943837585372227,
          -0.5653906360512239,
          -1.2654384509732397,
          -1.2273847005477179,
          -1.391418083890281,
          -1.1049000935671554,
          -1.2999831393502315,
          -1.205259605354551,
          -1.2160988563324056,
          -0.19532290250241952,
          -0.40750527819414545,
          -0.7172969057282154,
          -0.8486811285769862,
          -0.5689713625163534,
          -0.2929093413769723,
          -0.6303814102162447,
          -1.312352114824099,
          -1.0875473401076061,
          3.555008821380534,
          -1.2017875634234965,
          -0.9731163400544396,
          -1.3787331839404549,
          -1.2529976187624638,
          -1.2059951790256587,
          -1.0120636031888677,
          -1.2080228269601143,
          -0.6207454644379384,
          -1.4557637010990538,
          2.6312149206605193,
          1.5424786581721908,
          -1.1816837239972464,
          0.9432600864400004,
          1.677959194825461,
          1.013401161268535,
          -1.3163771651845535,
          -1.1066920414628558,
          3.490102363494935,
          0.815743294165438,
          2.24841669833128,
          1.1444547961535263,
          -0.8592809383070786,
          -1.360336762128083,
          -1.2728302621492582,
          1.5498016080487897,
          3.5602100985274348,
          -0.3948278885439131,
          2.1797218664700675,
          -1.0075358907078442,
          1.1812424872174236,
          -0.6045256082820095,
          -0.6188384739120975,
          -0.7247099671862669,
          -0.8879184743432261,
          -0.28757415962114014,
          2.1822404504630186,
          0.4416659650450249,
          5.036188238577964,
          -1.1051014215229529,
          -0.9962768113806509,
          -1.2652916067571007,
          -0.059777814321064965,
          1.3442905200655986,
          1.393887569511094,
          -1.014972827654598,
          -1.392716594376232,
          -1.2152626245373326,
          1.471060357266488,
          -1.146694616270102,
          -0.7841380494334027,
          -0.7145500326494798,
          0.9781276132463547,
          -0.9456061517273839,
          -1.2225054504053718,
          2.6521969497034905,
          3.341733387785023,
          0.09579130803923347,
          -1.2592910133630026,
          -1.1120334414917035,
          2.5251104291592124,
          -1.3964668661496609,
          0.6029845822781942,
          -0.5548887140064496,
          2.5486046730112704,
          -1.2283572040537247,
          5.701001478911849,
          -1.2411058973378706,
          -0.225954370626706,
          1.140508409201827,
          0.807046204794149,
          4.0125629765959046,
          -1.289678080954753,
          1.62054728555891,
          -1.4338663935108509,
          -1.3850264267839605,
          0.014864005267164838,
          -1.3037048647701208,
          -0.02825653801475476,
          -1.3765343881921315,
          -0.9866799263671596,
          0.6080436840628287,
          -1.253310793189266,
          -0.9349327039600424,
          -1.1384034365834947,
          0.2448478894130357,
          -0.4396844955228727,
          -1.1749989911631942,
          -0.9847411173671374,
          -1.0117262735881607,
          -0.8205456675558533,
          -1.278350943094059,
          -1.2418821085199732,
          -1.4679514644807021,
          -1.0563446764153837,
          -0.8296006913638905,
          -1.2317852575622175,
          -1.2848623798864989,
          -0.7115996041647188,
          0.02240718815523616,
          1.7060918450604985,
          -1.219620634397579,
          -1.4772125150590427,
          -0.9943873510537756,
          -1.1066083749849798,
          -1.2503727389614334,
          5.063360702925866,
          -1.082050416694524,
          -0.00003899435060365011,
          0.2059649871994797,
          -1.449744407471728,
          -0.8717191829047733,
          -0.8947026494046758,
          -0.9941336031550395,
          -0.7678573216503364,
          -0.9968177029696391,
          -1.432962788738696,
          -1.3145925046954823,
          -0.7697127539651822,
          1.610530221247845,
          0.9871960775142259,
          1.9394763391276801,
          -1.0791914090080108,
          1.7367952508503817,
          -1.447083702239359,
          -1.4275189252662215,
          -1.0241241968620016,
          -0.5399495047364364,
          -1.1597936972314027,
          -1.1083192695354245,
          -1.3242949728161508,
          -0.7025001307951009,
          -1.4209199245689297,
          -1.1206768182138453,
          0.8524814795741278,
          -1.073372272785219,
          0.6058175258264822,
          -0.9096502426880824,
          -1.1200492156202237,
          -0.4386661290849275,
          -1.260083887276192,
          -1.1337649964588903,
          -1.1513850184625543,
          -1.328886076690096,
          -1.5110794627357964,
          -0.9915168771541587,
          -1.0305446604218866,
          -0.8999524218775464,
          1.521162598079985,
          -0.8493604409611949,
          0.07534528551200137,
          -1.1351652031904391,
          0.43237773094179593,
          0.814674402750541,
          -1.2810331390025649,
          0.550877074935758,
          2.3781383201676944,
          1.0220991890826867,
          1.5391164642187831,
          2.7305794619634987,
          1.1873180835115351,
          2.36179499687197,
          -1.134228858023412,
          -1.2128825435818982,
          2.302744910896544,
          -1.260115473996541,
          -0.9110071348952241,
          2.6207763434393945,
          -1.3127014589462616,
          -0.814912553729026,
          1.6818702663399003,
          -1.2453823992992086,
          -0.7765851582325258,
          -1.0790298566980043,
          3.46154050238559,
          -1.0595014429449918,
          -1.029374461604391,
          -1.1449517302999888,
          -0.5969421140719136,
          -1.1158338805091672,
          0.378086109913378,
          -1.2531270190284873,
          -1.3100608863257992,
          -1.1344063899531878,
          -1.0884992926651107,
          -1.0555192301798253,
          2.982787993303676,
          -1.0962210795264986,
          7.78516364377661,
          -0.23220419857909555,
          0.9807092654032296,
          -1.2965445655218868,
          -1.2341129953635113,
          -1.1429952173294506,
          -1.008530116050897,
          1.1319204476022835,
          1.1402214084108653,
          -0.18076595172884594,
          3.0760580726916658,
          -1.2653757632906915,
          -0.39256534340330995,
          1.5433149772504908,
          1.10338996429951,
          -1.0447861322710377,
          2.8969384140583574,
          -1.223861732827918,
          2.9163620837933837,
          -1.2938079325579157,
          2.0691451713844895,
          -0.6306948066437783,
          -1.2803220614265947,
          -1.4775259632143953,
          1.537712179557166,
          0.08810819180282677,
          -0.9018657695636444,
          -1.1431159572349894,
          -1.354422028449189,
          -1.1712621562712933,
          -0.9968613136942481,
          -1.252386652259532,
          0.9564456170673982,
          -1.2056925232038578,
          -1.347089673658587,
          -1.2672809678462877,
          -1.4036266078604338,
          0.08378229107397875,
          -1.201303270087752,
          -0.8159209881622732,
          0.6237772863398957,
          -1.174679088617203,
          -1.2665389175506658,
          1.3281827274223914,
          -1.114820124127884,
          -1.0826030154817936,
          0.4599488247577857,
          -1.2833754285699768,
          -1.1185196882039852,
          -0.23667573646611148,
          -1.1474596573377027,
          1.0972145869317462,
          -1.2716532896209514,
          -0.9911564587532975,
          -1.22673430626696,
          -1.3299765303830027,
          -1.2602024502677138,
          -1.2634796153259633,
          -1.0516528116421537,
          -0.9475556583777176,
          -0.8267213490689411,
          -1.2204585839112017,
          -1.238319934470076,
          1.2250209761108208,
          -1.2935027748987538,
          -1.4009180655488556,
          -1.3322140731953243,
          -1.2931103247819926,
          -1.1807424725156692,
          -0.9065898999625835,
          -0.46388214713098774,
          -0.8956447902034973,
          -1.2725328154543765,
          -0.7946818533620065,
          2.1988717650900367,
          0.35496226476505294,
          -0.385588235802634,
          -0.7803167349062445,
          -0.8017575229979932,
          -0.20440957965807532,
          -0.6565778472910412,
          -1.050666993235469,
          0.7948240903930937,
          1.5541186504808293,
          -0.05483366122486051,
          1.8330640089389194,
          -0.8562912544955692,
          0.44219504269316123,
          0.7125478029420794,
          -1.0246470949994286,
          0.14557416451823688,
          0.6548442773112398,
          -1.16015720791502,
          0.5677370358277998,
          -0.12493611653777431,
          -0.7125825090723867,
          -1.0134874185857552,
          -0.12446614091427753,
          -0.6819380097812513,
          -0.9979463331066347,
          -1.064589371588902,
          -0.49038086559629257,
          0.22288422287637202,
          -1.290171575653851,
          3.865149087489126,
          -1.0970673848282786,
          -1.1659506689075905
         ],
         "xaxis": "x",
         "y": [
          -0.5153507494641555,
          -0.4846012584936898,
          0.6820545529913418,
          0.6108214957943591,
          0.9741988355722453,
          -0.5854113821954964,
          -0.8463428776877455,
          -0.46114017479793035,
          -0.5774654544465976,
          -0.617913981157839,
          -0.51245243403621,
          -0.6887961171425646,
          0.6088529472357115,
          -0.16056466286428525,
          0.06850138413755219,
          -0.5198591880564363,
          -1.1216544139711326,
          0.28240671123524896,
          0.22044841923008127,
          -0.5764639943148575,
          -0.19417161987510123,
          -0.3057344478723335,
          2.164181473378772,
          4.210421402996122,
          1.0124055722062637,
          -0.8024222147064582,
          -0.1029882901991891,
          -0.3115223001668896,
          0.11866541812507869,
          1.0155817697707406,
          0.43593373709624966,
          -0.4210448339523608,
          -0.06700109331264059,
          1.213992224704048,
          -0.8375454540431679,
          -1.2565205079543904,
          1.333013548556634,
          -0.400206145171359,
          -0.985036382599799,
          3.0001667714244995,
          2.270036159738484,
          0.5066346254230693,
          -1.0098016616520142,
          -1.3235013757683542,
          -0.9636190538593069,
          0.27074938912879737,
          -0.699711899983208,
          3.325452979822546,
          -0.6536896215977764,
          -0.6370873720354476,
          0.08294968619553184,
          -0.7764874162736882,
          0.49601026165798745,
          -1.21191644534173,
          0.628116938814393,
          -0.46246010544988825,
          -0.4062836070203814,
          -0.9617031508070603,
          -0.30308309111778736,
          -0.4338656264488963,
          -1.1269474061945708,
          1.0725499992186553,
          -0.4312490685915356,
          -0.4091898967390731,
          -0.20120925593353955,
          -1.3005554126146925,
          -1.091473856897115,
          -0.33787077677807953,
          0.5153525994496468,
          -0.5434365050653414,
          1.2230563324355435,
          2.9831843236659132,
          0.3395132486108676,
          0.542713209367237,
          -0.5575832372751595,
          0.5177818041098314,
          0.1332348778526298,
          -0.6888712020568188,
          -0.3175340712370092,
          -0.523543905412136,
          -0.62388924612806,
          -1.376955694499654,
          -0.39207823468267117,
          0.2399314495314333,
          -0.8641594136618286,
          -0.001452296401461611,
          1.2288021598583267,
          4.272715035489878,
          0.4593786573625727,
          1.0589594417868748,
          -0.11196457441719379,
          0.7850106569897252,
          0.49179964879770705,
          4.266230833609207,
          -1.0017220568592937,
          -0.8080201284689817,
          -1.4772478473352744,
          -0.9380634359364949,
          -0.9103124577088372,
          0.130453991789441,
          -0.06045899974556794,
          -0.7892008973569855,
          -0.7526436760219747,
          3.941624257255269,
          -0.20765233026401334,
          -0.039466168599496,
          -1.0888410898350607,
          -0.5170777753326564,
          -1.0135816035263543,
          -0.9454387682753198,
          0.04424517345751067,
          -0.4772287019117907,
          1.3653797936040901,
          0.25727092020059883,
          0.24445804312550726,
          -0.15392286336240607,
          -0.32524047977059944,
          -0.26601444150931386,
          0.618544047875739,
          -0.07744876346907563,
          0.1676795931320119,
          -0.4796374629624578,
          -0.15889406804361905,
          -0.5128073245433772,
          1.3213825688055776,
          4.298236189910797,
          0.8490548353341427,
          0.12780621601792963,
          -0.826357769137091,
          1.2218810759065135,
          0.2259241629718483,
          -0.8654112120316854,
          -0.2978305932763998,
          -0.533039159781544,
          -0.5269200090501824,
          -0.5768523953256192,
          0.14347369554486986,
          -0.6537050681354305,
          0.22987722664927301,
          -0.45094058613389065,
          0.5120775619184985,
          0.8456893992528178,
          0.9971242323740036,
          0.48015006897368745,
          -0.16089215859659362,
          0.11709432608427409,
          -0.4886300752199373,
          -0.37128139626592216,
          -0.23931573065487471,
          0.6327336184546943,
          -0.055520502279729954,
          -0.5286000715207841,
          0.1276492491231206,
          -0.27415047101924495,
          -1.0289355029711857,
          -1.0012900254078474,
          -0.7435829809478044,
          0.16345524671728803,
          -0.8830921167064493,
          -1.3875781991518994,
          -0.9473187136997197,
          0.010094532011773467,
          0.0389718058439987,
          -0.8406103020305169,
          -0.8254288925578931,
          0.27569768494262475,
          -0.4456635660687362,
          -0.723162398536878,
          -0.5608068873800435,
          -0.39462132681475137,
          -1.2446641468278745,
          0.2465504383752332,
          -0.7782344107386076,
          -1.2872374828118403,
          -0.4491594606587638,
          -0.9800348398989206,
          1.8820531601054227,
          0.3642918385092701,
          -0.2137196782949355,
          0.14627464411351737,
          0.1390399762175698,
          7.840824962102827,
          -0.9015986041383012,
          15.172659134419405,
          -1.0289317227979462,
          -0.24346300282257177,
          -0.3924498044234138,
          -0.07402345442844172,
          -0.7352243285343526,
          -0.875338265187775,
          0.7000007771248278,
          -0.38184934302330187,
          -0.6640316857264363,
          -1.317671724173842,
          -0.4461366468072019,
          1.0522217846872426,
          3.075640371307774,
          -1.022588222689162,
          -0.1009084831838829,
          -0.6039881952021998,
          -0.7760445386380079,
          -0.6644077073603178,
          2.067458652414395,
          -1.1004213998713779,
          -0.6578305729064193,
          -1.2500960524543179,
          -0.7438200643800633,
          -1.138079065270188,
          -0.7222178696674091,
          -1.1097340264514863,
          0.23995037394844113,
          0.25901977874023346,
          -0.36733190503661206,
          -0.5733556225629158,
          -1.2374202675773183,
          -0.3059657407377704,
          -1.2721950899270884,
          0.12033649930678417,
          -0.17831220249192328,
          -0.69553426323277,
          -0.1980786148058999,
          -0.8085165416088094,
          0.03644506710934551,
          -0.5131073177145261,
          -0.6462355137740975,
          -0.3656009250576433,
          -0.1705523338591937,
          -0.5502056255908299,
          -1.052659860084101,
          0.2529728388456555,
          0.39366786943848375,
          -0.5593613513152794,
          0.15224968970660036,
          -0.8971035815550072,
          0.5259282329810935,
          -0.7538638624736197,
          -0.4919935685582283,
          0.48421539215385445,
          -0.6907169214097556,
          1.866994335181703,
          1.6863834424336352,
          0.3420543210925529,
          0.13193859486084838,
          -0.1473448411667086,
          -0.28117140690175224,
          -1.0043003222933995,
          -0.42873879786919855,
          -0.23947195854542638,
          -0.2334545873383012,
          0.05974170600222603,
          -0.6541442742076297,
          0.569101813000502,
          0.3934091975426018,
          0.5356194845999103,
          0.8923651325074627,
          0.6293736485811781,
          -0.4760285437684715,
          -0.07395838344933607,
          2.622050444200806,
          1.614713984163696,
          -0.5459426413274364,
          0.058145750241816826,
          0.037400531385684305,
          -0.5324397418205643,
          -1.2213568261226289,
          1.614315244452945,
          -0.7079318368463884,
          0.8570634887500028,
          -0.8244883746388606,
          -0.21530858019737878,
          -0.28005290507586206,
          -0.5282839473038506,
          -0.6718733008115891,
          1.4406520372886389,
          -0.6941150958769984,
          -0.8191414988740484,
          1.171926654113925,
          1.403274346265032,
          0.4455829039767784,
          -0.24267391735579139,
          -0.5270010085281348,
          -0.34619272042547816,
          2.00363429116704,
          1.5934004868841665,
          3.3464680354294045,
          0.7041584866007518,
          -0.5231010956081581,
          0.8211286313216126,
          -0.24871908540381518,
          0.8533935666220441,
          -0.5733567436622897,
          -0.29995094003016837,
          -0.21990980173256294,
          -1.0000228101534727,
          0.2342381329354801,
          -1.160337021348534,
          0.21100854538583033,
          -0.9641680449255662,
          -0.9720051203496838,
          -1.0073120089387924,
          -0.31046363382876097,
          -0.961316393936634,
          -1.312601377814174,
          -1.5486691997904074,
          -1.1359425586855634,
          -1.1590111498814022,
          -0.6330999244216066,
          -0.047478115686301565,
          -0.6437584600512218,
          -0.8014161082241341,
          0.9435989930468177,
          0.5251151580263812,
          -1.638956782435876,
          -0.1055081291282858,
          -0.2544904646707448,
          -0.44687067286920856,
          -0.2701048731210159,
          -0.5848470283775107,
          -0.31896106489698534,
          -0.35029585729576,
          -0.7351406284545913,
          -0.16503734635024184,
          -0.0009892225429724733,
          -0.38561076318637705,
          0.524356775156635,
          9.133040997803313,
          -0.32331582733937925,
          -0.9291558961232914,
          0.8692485299458621,
          -0.12278548122823553,
          -0.049715688237707424,
          -0.5981444014759005,
          0.6315204213471736,
          -1.8573228342856336,
          1.211684878373056,
          0.18832589536061056,
          -0.2901988365292656,
          0.4450513570963304,
          0.8918036309701628,
          0.5372256232317335,
          -1.2630736778328284,
          -0.8883375042092274,
          -0.7234648355484471,
          -1.4736372326100045,
          -0.5720951342506864,
          -0.9437601919099786,
          -0.83972153297374,
          0.2171584793770846,
          -0.6026194502410416,
          -0.8528399073581774,
          -0.4907428700656022,
          -0.7099566824145432,
          -0.8759095045772289,
          -1.326613636020768,
          0.8980667958298698,
          -0.9906747903449781,
          0.34884037949940716,
          -1.6213422052506326,
          0.9933469136652997,
          -0.6892830128223343,
          0.21589488231927423,
          -0.637558224797006,
          -0.7388691931548041,
          -0.8055098301987914,
          -0.7265626151057193,
          -0.4789611146043734,
          -0.39490466767422716,
          -0.6639494843719886,
          0.22592369794342249,
          -0.6168228538854303,
          0.7906042549052901,
          0.9311057233481728,
          0.20721679163807194,
          0.0007869919491665815,
          -0.44284579288309533,
          -0.7152462515599797,
          -0.3075526650263438,
          0.9550909116329668,
          -0.6013593314918059,
          -1.1759058720410878,
          0.6169312751217633,
          1.0905094823974162,
          1.3482817114715127,
          -0.4093371052434508,
          1.3696229186265876,
          -0.05601169070408728,
          -0.5069960929514133,
          0.25163369900293797,
          -0.3691119752193975,
          -0.150608796943873,
          -0.04426335665207716,
          -0.42942162683427687,
          -0.7305954346181467,
          1.277380783279269,
          -0.28925729944700657,
          -0.24977576412726765,
          -0.33853571042594266,
          0.422694863081963,
          0.13087948924136084,
          -0.405478327776775,
          -0.23614546792708885,
          2.08817842325799,
          0.23134233505019774,
          0.3311865494130197,
          0.434521297864811,
          -0.44886794092778126,
          1.4403061303527582,
          -0.6106892298177732,
          -0.8691758575778308,
          0.5889988104544587,
          -0.26167802866092515,
          0.11683176643541,
          -1.0248573547315938,
          1.8873733360117633,
          -0.05096466180562332,
          -0.5531177675681388,
          -0.9100261106416472,
          -0.5600091125176336,
          -1.2656451081549651,
          -0.2774547711249303,
          -0.6569683501915866,
          -0.3067691133014731,
          0.34931303418146376,
          -0.48152776029783056,
          -0.672392227177159,
          1.68590821276135,
          0.32845007165171813,
          2.7071187163419266,
          -0.4732778237143936,
          -0.19380893252104,
          -0.3795949484576877,
          1.3264744430766724,
          -0.1059475943280318,
          -0.44363983492002407,
          -0.10168214525003971,
          2.480504624702555,
          1.5603974201297766,
          -0.4798537550960625,
          -0.06989567730170264,
          -0.9021567509632665
         ],
         "yaxis": "y"
        }
       ],
       "layout": {
        "coloraxis": {
         "colorbar": {
          "title": {
           "text": "Clusters"
          }
         },
         "colorscale": [
          [
           0,
           "#440154"
          ],
          [
           0.1111111111111111,
           "#482878"
          ],
          [
           0.2222222222222222,
           "#3e4989"
          ],
          [
           0.3333333333333333,
           "#31688e"
          ],
          [
           0.4444444444444444,
           "#26828e"
          ],
          [
           0.5555555555555556,
           "#1f9e89"
          ],
          [
           0.6666666666666666,
           "#35b779"
          ],
          [
           0.7777777777777778,
           "#6ece58"
          ],
          [
           0.8888888888888888,
           "#b5de2b"
          ],
          [
           1,
           "#fde725"
          ]
         ]
        },
        "legend": {
         "tracegroupgap": 0
        },
        "template": {
         "data": {
          "bar": [
           {
            "error_x": {
             "color": "#2a3f5f"
            },
            "error_y": {
             "color": "#2a3f5f"
            },
            "marker": {
             "line": {
              "color": "#E5ECF6",
              "width": 0.5
             },
             "pattern": {
              "fillmode": "overlay",
              "size": 10,
              "solidity": 0.2
             }
            },
            "type": "bar"
           }
          ],
          "barpolar": [
           {
            "marker": {
             "line": {
              "color": "#E5ECF6",
              "width": 0.5
             },
             "pattern": {
              "fillmode": "overlay",
              "size": 10,
              "solidity": 0.2
             }
            },
            "type": "barpolar"
           }
          ],
          "carpet": [
           {
            "aaxis": {
             "endlinecolor": "#2a3f5f",
             "gridcolor": "white",
             "linecolor": "white",
             "minorgridcolor": "white",
             "startlinecolor": "#2a3f5f"
            },
            "baxis": {
             "endlinecolor": "#2a3f5f",
             "gridcolor": "white",
             "linecolor": "white",
             "minorgridcolor": "white",
             "startlinecolor": "#2a3f5f"
            },
            "type": "carpet"
           }
          ],
          "choropleth": [
           {
            "colorbar": {
             "outlinewidth": 0,
             "ticks": ""
            },
            "type": "choropleth"
           }
          ],
          "contour": [
           {
            "colorbar": {
             "outlinewidth": 0,
             "ticks": ""
            },
            "colorscale": [
             [
              0,
              "#0d0887"
             ],
             [
              0.1111111111111111,
              "#46039f"
             ],
             [
              0.2222222222222222,
              "#7201a8"
             ],
             [
              0.3333333333333333,
              "#9c179e"
             ],
             [
              0.4444444444444444,
              "#bd3786"
             ],
             [
              0.5555555555555556,
              "#d8576b"
             ],
             [
              0.6666666666666666,
              "#ed7953"
             ],
             [
              0.7777777777777778,
              "#fb9f3a"
             ],
             [
              0.8888888888888888,
              "#fdca26"
             ],
             [
              1,
              "#f0f921"
             ]
            ],
            "type": "contour"
           }
          ],
          "contourcarpet": [
           {
            "colorbar": {
             "outlinewidth": 0,
             "ticks": ""
            },
            "type": "contourcarpet"
           }
          ],
          "heatmap": [
           {
            "colorbar": {
             "outlinewidth": 0,
             "ticks": ""
            },
            "colorscale": [
             [
              0,
              "#0d0887"
             ],
             [
              0.1111111111111111,
              "#46039f"
             ],
             [
              0.2222222222222222,
              "#7201a8"
             ],
             [
              0.3333333333333333,
              "#9c179e"
             ],
             [
              0.4444444444444444,
              "#bd3786"
             ],
             [
              0.5555555555555556,
              "#d8576b"
             ],
             [
              0.6666666666666666,
              "#ed7953"
             ],
             [
              0.7777777777777778,
              "#fb9f3a"
             ],
             [
              0.8888888888888888,
              "#fdca26"
             ],
             [
              1,
              "#f0f921"
             ]
            ],
            "type": "heatmap"
           }
          ],
          "heatmapgl": [
           {
            "colorbar": {
             "outlinewidth": 0,
             "ticks": ""
            },
            "colorscale": [
             [
              0,
              "#0d0887"
             ],
             [
              0.1111111111111111,
              "#46039f"
             ],
             [
              0.2222222222222222,
              "#7201a8"
             ],
             [
              0.3333333333333333,
              "#9c179e"
             ],
             [
              0.4444444444444444,
              "#bd3786"
             ],
             [
              0.5555555555555556,
              "#d8576b"
             ],
             [
              0.6666666666666666,
              "#ed7953"
             ],
             [
              0.7777777777777778,
              "#fb9f3a"
             ],
             [
              0.8888888888888888,
              "#fdca26"
             ],
             [
              1,
              "#f0f921"
             ]
            ],
            "type": "heatmapgl"
           }
          ],
          "histogram": [
           {
            "marker": {
             "pattern": {
              "fillmode": "overlay",
              "size": 10,
              "solidity": 0.2
             }
            },
            "type": "histogram"
           }
          ],
          "histogram2d": [
           {
            "colorbar": {
             "outlinewidth": 0,
             "ticks": ""
            },
            "colorscale": [
             [
              0,
              "#0d0887"
             ],
             [
              0.1111111111111111,
              "#46039f"
             ],
             [
              0.2222222222222222,
              "#7201a8"
             ],
             [
              0.3333333333333333,
              "#9c179e"
             ],
             [
              0.4444444444444444,
              "#bd3786"
             ],
             [
              0.5555555555555556,
              "#d8576b"
             ],
             [
              0.6666666666666666,
              "#ed7953"
             ],
             [
              0.7777777777777778,
              "#fb9f3a"
             ],
             [
              0.8888888888888888,
              "#fdca26"
             ],
             [
              1,
              "#f0f921"
             ]
            ],
            "type": "histogram2d"
           }
          ],
          "histogram2dcontour": [
           {
            "colorbar": {
             "outlinewidth": 0,
             "ticks": ""
            },
            "colorscale": [
             [
              0,
              "#0d0887"
             ],
             [
              0.1111111111111111,
              "#46039f"
             ],
             [
              0.2222222222222222,
              "#7201a8"
             ],
             [
              0.3333333333333333,
              "#9c179e"
             ],
             [
              0.4444444444444444,
              "#bd3786"
             ],
             [
              0.5555555555555556,
              "#d8576b"
             ],
             [
              0.6666666666666666,
              "#ed7953"
             ],
             [
              0.7777777777777778,
              "#fb9f3a"
             ],
             [
              0.8888888888888888,
              "#fdca26"
             ],
             [
              1,
              "#f0f921"
             ]
            ],
            "type": "histogram2dcontour"
           }
          ],
          "mesh3d": [
           {
            "colorbar": {
             "outlinewidth": 0,
             "ticks": ""
            },
            "type": "mesh3d"
           }
          ],
          "parcoords": [
           {
            "line": {
             "colorbar": {
              "outlinewidth": 0,
              "ticks": ""
             }
            },
            "type": "parcoords"
           }
          ],
          "pie": [
           {
            "automargin": true,
            "type": "pie"
           }
          ],
          "scatter": [
           {
            "fillpattern": {
             "fillmode": "overlay",
             "size": 10,
             "solidity": 0.2
            },
            "type": "scatter"
           }
          ],
          "scatter3d": [
           {
            "line": {
             "colorbar": {
              "outlinewidth": 0,
              "ticks": ""
             }
            },
            "marker": {
             "colorbar": {
              "outlinewidth": 0,
              "ticks": ""
             }
            },
            "type": "scatter3d"
           }
          ],
          "scattercarpet": [
           {
            "marker": {
             "colorbar": {
              "outlinewidth": 0,
              "ticks": ""
             }
            },
            "type": "scattercarpet"
           }
          ],
          "scattergeo": [
           {
            "marker": {
             "colorbar": {
              "outlinewidth": 0,
              "ticks": ""
             }
            },
            "type": "scattergeo"
           }
          ],
          "scattergl": [
           {
            "marker": {
             "colorbar": {
              "outlinewidth": 0,
              "ticks": ""
             }
            },
            "type": "scattergl"
           }
          ],
          "scattermapbox": [
           {
            "marker": {
             "colorbar": {
              "outlinewidth": 0,
              "ticks": ""
             }
            },
            "type": "scattermapbox"
           }
          ],
          "scatterpolar": [
           {
            "marker": {
             "colorbar": {
              "outlinewidth": 0,
              "ticks": ""
             }
            },
            "type": "scatterpolar"
           }
          ],
          "scatterpolargl": [
           {
            "marker": {
             "colorbar": {
              "outlinewidth": 0,
              "ticks": ""
             }
            },
            "type": "scatterpolargl"
           }
          ],
          "scatterternary": [
           {
            "marker": {
             "colorbar": {
              "outlinewidth": 0,
              "ticks": ""
             }
            },
            "type": "scatterternary"
           }
          ],
          "surface": [
           {
            "colorbar": {
             "outlinewidth": 0,
             "ticks": ""
            },
            "colorscale": [
             [
              0,
              "#0d0887"
             ],
             [
              0.1111111111111111,
              "#46039f"
             ],
             [
              0.2222222222222222,
              "#7201a8"
             ],
             [
              0.3333333333333333,
              "#9c179e"
             ],
             [
              0.4444444444444444,
              "#bd3786"
             ],
             [
              0.5555555555555556,
              "#d8576b"
             ],
             [
              0.6666666666666666,
              "#ed7953"
             ],
             [
              0.7777777777777778,
              "#fb9f3a"
             ],
             [
              0.8888888888888888,
              "#fdca26"
             ],
             [
              1,
              "#f0f921"
             ]
            ],
            "type": "surface"
           }
          ],
          "table": [
           {
            "cells": {
             "fill": {
              "color": "#EBF0F8"
             },
             "line": {
              "color": "white"
             }
            },
            "header": {
             "fill": {
              "color": "#C8D4E3"
             },
             "line": {
              "color": "white"
             }
            },
            "type": "table"
           }
          ]
         },
         "layout": {
          "annotationdefaults": {
           "arrowcolor": "#2a3f5f",
           "arrowhead": 0,
           "arrowwidth": 1
          },
          "autotypenumbers": "strict",
          "coloraxis": {
           "colorbar": {
            "outlinewidth": 0,
            "ticks": ""
           }
          },
          "colorscale": {
           "diverging": [
            [
             0,
             "#8e0152"
            ],
            [
             0.1,
             "#c51b7d"
            ],
            [
             0.2,
             "#de77ae"
            ],
            [
             0.3,
             "#f1b6da"
            ],
            [
             0.4,
             "#fde0ef"
            ],
            [
             0.5,
             "#f7f7f7"
            ],
            [
             0.6,
             "#e6f5d0"
            ],
            [
             0.7,
             "#b8e186"
            ],
            [
             0.8,
             "#7fbc41"
            ],
            [
             0.9,
             "#4d9221"
            ],
            [
             1,
             "#276419"
            ]
           ],
           "sequential": [
            [
             0,
             "#0d0887"
            ],
            [
             0.1111111111111111,
             "#46039f"
            ],
            [
             0.2222222222222222,
             "#7201a8"
            ],
            [
             0.3333333333333333,
             "#9c179e"
            ],
            [
             0.4444444444444444,
             "#bd3786"
            ],
            [
             0.5555555555555556,
             "#d8576b"
            ],
            [
             0.6666666666666666,
             "#ed7953"
            ],
            [
             0.7777777777777778,
             "#fb9f3a"
            ],
            [
             0.8888888888888888,
             "#fdca26"
            ],
            [
             1,
             "#f0f921"
            ]
           ],
           "sequentialminus": [
            [
             0,
             "#0d0887"
            ],
            [
             0.1111111111111111,
             "#46039f"
            ],
            [
             0.2222222222222222,
             "#7201a8"
            ],
            [
             0.3333333333333333,
             "#9c179e"
            ],
            [
             0.4444444444444444,
             "#bd3786"
            ],
            [
             0.5555555555555556,
             "#d8576b"
            ],
            [
             0.6666666666666666,
             "#ed7953"
            ],
            [
             0.7777777777777778,
             "#fb9f3a"
            ],
            [
             0.8888888888888888,
             "#fdca26"
            ],
            [
             1,
             "#f0f921"
            ]
           ]
          },
          "colorway": [
           "#636efa",
           "#EF553B",
           "#00cc96",
           "#ab63fa",
           "#FFA15A",
           "#19d3f3",
           "#FF6692",
           "#B6E880",
           "#FF97FF",
           "#FECB52"
          ],
          "font": {
           "color": "#2a3f5f"
          },
          "geo": {
           "bgcolor": "white",
           "lakecolor": "white",
           "landcolor": "#E5ECF6",
           "showlakes": true,
           "showland": true,
           "subunitcolor": "white"
          },
          "hoverlabel": {
           "align": "left"
          },
          "hovermode": "closest",
          "mapbox": {
           "style": "light"
          },
          "paper_bgcolor": "white",
          "plot_bgcolor": "#E5ECF6",
          "polar": {
           "angularaxis": {
            "gridcolor": "white",
            "linecolor": "white",
            "ticks": ""
           },
           "bgcolor": "#E5ECF6",
           "radialaxis": {
            "gridcolor": "white",
            "linecolor": "white",
            "ticks": ""
           }
          },
          "scene": {
           "xaxis": {
            "backgroundcolor": "#E5ECF6",
            "gridcolor": "white",
            "gridwidth": 2,
            "linecolor": "white",
            "showbackground": true,
            "ticks": "",
            "zerolinecolor": "white"
           },
           "yaxis": {
            "backgroundcolor": "#E5ECF6",
            "gridcolor": "white",
            "gridwidth": 2,
            "linecolor": "white",
            "showbackground": true,
            "ticks": "",
            "zerolinecolor": "white"
           },
           "zaxis": {
            "backgroundcolor": "#E5ECF6",
            "gridcolor": "white",
            "gridwidth": 2,
            "linecolor": "white",
            "showbackground": true,
            "ticks": "",
            "zerolinecolor": "white"
           }
          },
          "shapedefaults": {
           "line": {
            "color": "#2a3f5f"
           }
          },
          "ternary": {
           "aaxis": {
            "gridcolor": "white",
            "linecolor": "white",
            "ticks": ""
           },
           "baxis": {
            "gridcolor": "white",
            "linecolor": "white",
            "ticks": ""
           },
           "bgcolor": "#E5ECF6",
           "caxis": {
            "gridcolor": "white",
            "linecolor": "white",
            "ticks": ""
           }
          },
          "title": {
           "x": 0.05
          },
          "xaxis": {
           "automargin": true,
           "gridcolor": "white",
           "linecolor": "white",
           "ticks": "",
           "title": {
            "standoff": 15
           },
           "zerolinecolor": "white",
           "zerolinewidth": 2
          },
          "yaxis": {
           "automargin": true,
           "gridcolor": "white",
           "linecolor": "white",
           "ticks": "",
           "title": {
            "standoff": 15
           },
           "zerolinecolor": "white",
           "zerolinewidth": 2
          }
         }
        },
        "title": {
         "text": "Clusters Aglomerativos após PCA"
        },
        "xaxis": {
         "anchor": "y",
         "domain": [
          0,
          1
         ],
         "title": {
          "text": "Componente Principal 1"
         }
        },
        "yaxis": {
         "anchor": "x",
         "domain": [
          0,
          1
         ],
         "title": {
          "text": "Componente Principal 2"
         }
        }
       }
      }
     },
     "metadata": {},
     "output_type": "display_data"
    },
    {
     "data": {
      "application/vnd.plotly.v1+json": {
       "config": {
        "plotlyServerURL": "https://plot.ly"
       },
       "data": [
        {
         "hovertemplate": "Componente Principal 1=%{x}<br>Componente Principal 2=%{y}<br>Clusters=%{marker.color}<extra></extra>",
         "legendgroup": "",
         "marker": {
          "color": [
           0,
           0,
           -1,
           1,
           0,
           0,
           0,
           0,
           1,
           0,
           0,
           0,
           0,
           0,
           0,
           1,
           0,
           1,
           0,
           1,
           0,
           1,
           1,
           -1,
           0,
           0,
           1,
           1,
           2,
           1,
           1,
           1,
           1,
           1,
           1,
           0,
           1,
           0,
           0,
           1,
           1,
           1,
           0,
           0,
           0,
           2,
           0,
           -1,
           0,
           0,
           1,
           1,
           0,
           0,
           1,
           1,
           0,
           0,
           1,
           1,
           0,
           -1,
           0,
           0,
           1,
           -1,
           1,
           0,
           1,
           1,
           1,
           -1,
           1,
           0,
           0,
           1,
           1,
           0,
           1,
           1,
           1,
           0,
           0,
           1,
           0,
           -1,
           -1,
           -1,
           1,
           1,
           1,
           1,
           -1,
           -1,
           0,
           1,
           0,
           1,
           1,
           1,
           0,
           0,
           0,
           -1,
           1,
           1,
           0,
           0,
           0,
           -1,
           1,
           0,
           1,
           1,
           1,
           1,
           1,
           1,
           1,
           1,
           1,
           1,
           1,
           0,
           1,
           -1,
           1,
           0,
           1,
           1,
           1,
           1,
           1,
           1,
           1,
           1,
           1,
           1,
           1,
           1,
           1,
           1,
           1,
           1,
           1,
           -1,
           1,
           1,
           1,
           1,
           1,
           1,
           1,
           1,
           1,
           0,
           0,
           1,
           0,
           0,
           0,
           1,
           1,
           0,
           0,
           0,
           0,
           1,
           1,
           1,
           0,
           2,
           1,
           0,
           1,
           0,
           1,
           1,
           1,
           1,
           1,
           -1,
           1,
           -1,
           1,
           1,
           1,
           1,
           0,
           0,
           1,
           1,
           1,
           0,
           1,
           1,
           -1,
           0,
           1,
           1,
           0,
           0,
           -1,
           1,
           1,
           0,
           1,
           0,
           1,
           0,
           1,
           3,
           1,
           1,
           0,
           1,
           -1,
           1,
           -1,
           1,
           1,
           1,
           1,
           0,
           1,
           1,
           0,
           1,
           1,
           1,
           0,
           1,
           1,
           1,
           1,
           1,
           1,
           1,
           1,
           1,
           -1,
           1,
           1,
           1,
           1,
           0,
           1,
           1,
           1,
           1,
           1,
           3,
           1,
           -1,
           -1,
           1,
           1,
           1,
           1,
           1,
           1,
           1,
           1,
           1,
           0,
           -1,
           0,
           1,
           0,
           1,
           1,
           1,
           1,
           1,
           1,
           1,
           1,
           1,
           1,
           0,
           1,
           0,
           1,
           1,
           -1,
           1,
           1,
           1,
           1,
           1,
           1,
           1,
           1,
           0,
           1,
           0,
           1,
           0,
           0,
           1,
           0,
           0,
           0,
           0,
           0,
           0,
           0,
           1,
           1,
           0,
           1,
           1,
           -1,
           1,
           1,
           0,
           1,
           1,
           1,
           -1,
           1,
           1,
           1,
           1,
           1,
           -1,
           1,
           1,
           1,
           1,
           1,
           0,
           1,
           -1,
           -1,
           0,
           1,
           1,
           1,
           1,
           0,
           0,
           1,
           0,
           1,
           1,
           0,
           0,
           1,
           0,
           1,
           0,
           1,
           0,
           1,
           1,
           1,
           0,
           -1,
           1,
           1,
           1,
           1,
           1,
           1,
           0,
           1,
           1,
           1,
           1,
           0,
           1,
           1,
           0,
           1,
           1,
           0,
           1,
           1,
           0,
           1,
           1,
           1,
           1,
           -1,
           1,
           1,
           1,
           1,
           1,
           1,
           1,
           1,
           1,
           1,
           1,
           0,
           1,
           1,
           1,
           1,
           1,
           1,
           1,
           1,
           1,
           1,
           0,
           0,
           1,
           1,
           1,
           1,
           1,
           1,
           0,
           0,
           1,
           0,
           1,
           1,
           0,
           1,
           0,
           0,
           1,
           1,
           4,
           1,
           1,
           1,
           1,
           1,
           1,
           1,
           4,
           1,
           0,
           1,
           1
          ],
          "coloraxis": "coloraxis",
          "symbol": "circle"
         },
         "mode": "markers",
         "name": "",
         "orientation": "v",
         "showlegend": false,
         "type": "scatter",
         "x": [
          0.8439389283589348,
          1.0626764494364702,
          1.2691405157256082,
          -1.0567823867244295,
          0.6340304841535807,
          0.5301108983814705,
          0.39956024471777096,
          0.7911656497336043,
          -0.6638311308147966,
          2.150684798408825,
          1.255993894576048,
          -0.16821061177295218,
          1.4398558812208193,
          1.4069561102138228,
          1.3739599872296235,
          -1.0718152121562043,
          1.2580123337964577,
          -0.61859901284143,
          0.8670934289838252,
          -0.4846667946979248,
          0.3315146865744449,
          -1.2544410791612715,
          -0.6957547065668507,
          4.3977559019304255,
          1.6259880831601219,
          0.5609214479872605,
          -1.2069806928097009,
          -1.2331191169542484,
          3.4703738488880864,
          -1.1078103578348866,
          -0.2431937984851341,
          -0.8805660642907831,
          -1.1389826326227828,
          -0.7389785861049745,
          -1.140778731690248,
          0.9148730657734527,
          -0.5841110290237145,
          1.549063323308972,
          2.1869822151667693,
          -1.3601517074917224,
          -0.5565195573036356,
          -0.5364145358490932,
          1.5197549823983807,
          2.5657907059946936,
          0.9824537541268756,
          3.164387485022179,
          2.4110822544263177,
          8.98154210760852,
          1.08258585373056,
          4.00281168221899,
          -1.1270265551709562,
          -0.6319581668145496,
          0.3080740806743988,
          1.3998555570849942,
          -1.2326280515211283,
          -0.6750107770470575,
          4.896772475413768,
          1.5782493702083267,
          -1.2274732380271889,
          -0.24730902531601576,
          0.5350891610227976,
          8.249359621996756,
          0.6844314970142164,
          1.9710393933519166,
          -1.0322948051644418,
          6.136196604205564,
          -0.5667956795932924,
          1.2118304479915567,
          -0.5469746162677971,
          -1.1529952922263202,
          -1.1611235562614102,
          1.0406678394440168,
          -0.8932897091435626,
          0.31679915859353563,
          0.7001143258728284,
          -1.40391765855523,
          -0.80409588207962,
          3.2322605931689075,
          -1.2658090300340616,
          -0.8299339531200952,
          -1.1618187256890722,
          1.7442286069956623,
          1.1666052093276005,
          -1.2157006796148586,
          0.33368471423801094,
          12.289715443348452,
          8.202528556178526,
          0.20398696728496538,
          -1.2584066962844247,
          -0.7536675474235709,
          -1.3505392326636074,
          -1.0907760290276431,
          5.369270811818481,
          -1.2244536984465177,
          1.4316422897157912,
          -0.8620811888018121,
          0.5144850461424831,
          -1.4117223235300305,
          -1.408055031084785,
          -1.2299358514679641,
          1.6542702438825398,
          1.9035630464738866,
          0.8614807620162336,
          -0.6525904220229629,
          -0.9751225471339829,
          -1.1178679144586297,
          1.3169830319350528,
          2.0136868506236487,
          0.7277010749176093,
          2.2489909675667823,
          -1.1874979025431012,
          1.9265189626216956,
          -1.0299577150618655,
          -1.1140182408066488,
          -1.2488911385301975,
          -1.2197201963955213,
          -1.0994413687591689,
          -0.8340582481945085,
          -1.184772322704985,
          -1.1685978213143267,
          -1.1602185020407942,
          -1.1526986455979118,
          -1.4234536986316049,
          0.8303436665774322,
          -1.1454955283871964,
          -0.9574709224573467,
          -1.2769756912015906,
          0.8943837585372227,
          -0.5653906360512239,
          -1.2654384509732397,
          -1.2273847005477179,
          -1.391418083890281,
          -1.1049000935671554,
          -1.2999831393502315,
          -1.205259605354551,
          -1.2160988563324056,
          -0.19532290250241952,
          -0.40750527819414545,
          -0.7172969057282154,
          -0.8486811285769862,
          -0.5689713625163534,
          -0.2929093413769723,
          -0.6303814102162447,
          -1.312352114824099,
          -1.0875473401076061,
          3.555008821380534,
          -1.2017875634234965,
          -0.9731163400544396,
          -1.3787331839404549,
          -1.2529976187624638,
          -1.2059951790256587,
          -1.0120636031888677,
          -1.2080228269601143,
          -0.6207454644379384,
          -1.4557637010990538,
          2.6312149206605193,
          1.5424786581721908,
          -1.1816837239972464,
          0.9432600864400004,
          1.677959194825461,
          1.013401161268535,
          -1.3163771651845535,
          -1.1066920414628558,
          3.490102363494935,
          0.815743294165438,
          2.24841669833128,
          1.1444547961535263,
          -0.8592809383070786,
          -1.360336762128083,
          -1.2728302621492582,
          1.5498016080487897,
          3.5602100985274348,
          -0.3948278885439131,
          2.1797218664700675,
          -1.0075358907078442,
          1.1812424872174236,
          -0.6045256082820095,
          -0.6188384739120975,
          -0.7247099671862669,
          -0.8879184743432261,
          -0.28757415962114014,
          2.1822404504630186,
          0.4416659650450249,
          5.036188238577964,
          -1.1051014215229529,
          -0.9962768113806509,
          -1.2652916067571007,
          -0.059777814321064965,
          1.3442905200655986,
          1.393887569511094,
          -1.014972827654598,
          -1.392716594376232,
          -1.2152626245373326,
          1.471060357266488,
          -1.146694616270102,
          -0.7841380494334027,
          -0.7145500326494798,
          0.9781276132463547,
          -0.9456061517273839,
          -1.2225054504053718,
          2.6521969497034905,
          3.341733387785023,
          0.09579130803923347,
          -1.2592910133630026,
          -1.1120334414917035,
          2.5251104291592124,
          -1.3964668661496609,
          0.6029845822781942,
          -0.5548887140064496,
          2.5486046730112704,
          -1.2283572040537247,
          5.701001478911849,
          -1.2411058973378706,
          -0.225954370626706,
          1.140508409201827,
          0.807046204794149,
          4.0125629765959046,
          -1.289678080954753,
          1.62054728555891,
          -1.4338663935108509,
          -1.3850264267839605,
          0.014864005267164838,
          -1.3037048647701208,
          -0.02825653801475476,
          -1.3765343881921315,
          -0.9866799263671596,
          0.6080436840628287,
          -1.253310793189266,
          -0.9349327039600424,
          -1.1384034365834947,
          0.2448478894130357,
          -0.4396844955228727,
          -1.1749989911631942,
          -0.9847411173671374,
          -1.0117262735881607,
          -0.8205456675558533,
          -1.278350943094059,
          -1.2418821085199732,
          -1.4679514644807021,
          -1.0563446764153837,
          -0.8296006913638905,
          -1.2317852575622175,
          -1.2848623798864989,
          -0.7115996041647188,
          0.02240718815523616,
          1.7060918450604985,
          -1.219620634397579,
          -1.4772125150590427,
          -0.9943873510537756,
          -1.1066083749849798,
          -1.2503727389614334,
          5.063360702925866,
          -1.082050416694524,
          -0.00003899435060365011,
          0.2059649871994797,
          -1.449744407471728,
          -0.8717191829047733,
          -0.8947026494046758,
          -0.9941336031550395,
          -0.7678573216503364,
          -0.9968177029696391,
          -1.432962788738696,
          -1.3145925046954823,
          -0.7697127539651822,
          1.610530221247845,
          0.9871960775142259,
          1.9394763391276801,
          -1.0791914090080108,
          1.7367952508503817,
          -1.447083702239359,
          -1.4275189252662215,
          -1.0241241968620016,
          -0.5399495047364364,
          -1.1597936972314027,
          -1.1083192695354245,
          -1.3242949728161508,
          -0.7025001307951009,
          -1.4209199245689297,
          -1.1206768182138453,
          0.8524814795741278,
          -1.073372272785219,
          0.6058175258264822,
          -0.9096502426880824,
          -1.1200492156202237,
          -0.4386661290849275,
          -1.260083887276192,
          -1.1337649964588903,
          -1.1513850184625543,
          -1.328886076690096,
          -1.5110794627357964,
          -0.9915168771541587,
          -1.0305446604218866,
          -0.8999524218775464,
          1.521162598079985,
          -0.8493604409611949,
          0.07534528551200137,
          -1.1351652031904391,
          0.43237773094179593,
          0.814674402750541,
          -1.2810331390025649,
          0.550877074935758,
          2.3781383201676944,
          1.0220991890826867,
          1.5391164642187831,
          2.7305794619634987,
          1.1873180835115351,
          2.36179499687197,
          -1.134228858023412,
          -1.2128825435818982,
          2.302744910896544,
          -1.260115473996541,
          -0.9110071348952241,
          2.6207763434393945,
          -1.3127014589462616,
          -0.814912553729026,
          1.6818702663399003,
          -1.2453823992992086,
          -0.7765851582325258,
          -1.0790298566980043,
          3.46154050238559,
          -1.0595014429449918,
          -1.029374461604391,
          -1.1449517302999888,
          -0.5969421140719136,
          -1.1158338805091672,
          0.378086109913378,
          -1.2531270190284873,
          -1.3100608863257992,
          -1.1344063899531878,
          -1.0884992926651107,
          -1.0555192301798253,
          2.982787993303676,
          -1.0962210795264986,
          7.78516364377661,
          -0.23220419857909555,
          0.9807092654032296,
          -1.2965445655218868,
          -1.2341129953635113,
          -1.1429952173294506,
          -1.008530116050897,
          1.1319204476022835,
          1.1402214084108653,
          -0.18076595172884594,
          3.0760580726916658,
          -1.2653757632906915,
          -0.39256534340330995,
          1.5433149772504908,
          1.10338996429951,
          -1.0447861322710377,
          2.8969384140583574,
          -1.223861732827918,
          2.9163620837933837,
          -1.2938079325579157,
          2.0691451713844895,
          -0.6306948066437783,
          -1.2803220614265947,
          -1.4775259632143953,
          1.537712179557166,
          0.08810819180282677,
          -0.9018657695636444,
          -1.1431159572349894,
          -1.354422028449189,
          -1.1712621562712933,
          -0.9968613136942481,
          -1.252386652259532,
          0.9564456170673982,
          -1.2056925232038578,
          -1.347089673658587,
          -1.2672809678462877,
          -1.4036266078604338,
          0.08378229107397875,
          -1.201303270087752,
          -0.8159209881622732,
          0.6237772863398957,
          -1.174679088617203,
          -1.2665389175506658,
          1.3281827274223914,
          -1.114820124127884,
          -1.0826030154817936,
          0.4599488247577857,
          -1.2833754285699768,
          -1.1185196882039852,
          -0.23667573646611148,
          -1.1474596573377027,
          1.0972145869317462,
          -1.2716532896209514,
          -0.9911564587532975,
          -1.22673430626696,
          -1.3299765303830027,
          -1.2602024502677138,
          -1.2634796153259633,
          -1.0516528116421537,
          -0.9475556583777176,
          -0.8267213490689411,
          -1.2204585839112017,
          -1.238319934470076,
          1.2250209761108208,
          -1.2935027748987538,
          -1.4009180655488556,
          -1.3322140731953243,
          -1.2931103247819926,
          -1.1807424725156692,
          -0.9065898999625835,
          -0.46388214713098774,
          -0.8956447902034973,
          -1.2725328154543765,
          -0.7946818533620065,
          2.1988717650900367,
          0.35496226476505294,
          -0.385588235802634,
          -0.7803167349062445,
          -0.8017575229979932,
          -0.20440957965807532,
          -0.6565778472910412,
          -1.050666993235469,
          0.7948240903930937,
          1.5541186504808293,
          -0.05483366122486051,
          1.8330640089389194,
          -0.8562912544955692,
          0.44219504269316123,
          0.7125478029420794,
          -1.0246470949994286,
          0.14557416451823688,
          0.6548442773112398,
          -1.16015720791502,
          0.5677370358277998,
          -0.12493611653777431,
          -0.7125825090723867,
          -1.0134874185857552,
          -0.12446614091427753,
          -0.6819380097812513,
          -0.9979463331066347,
          -1.064589371588902,
          -0.49038086559629257,
          0.22288422287637202,
          -1.290171575653851,
          3.865149087489126,
          -1.0970673848282786,
          -1.1659506689075905
         ],
         "xaxis": "x",
         "y": [
          -0.5153507494641555,
          -0.4846012584936898,
          0.6820545529913418,
          0.6108214957943591,
          0.9741988355722453,
          -0.5854113821954964,
          -0.8463428776877455,
          -0.46114017479793035,
          -0.5774654544465976,
          -0.617913981157839,
          -0.51245243403621,
          -0.6887961171425646,
          0.6088529472357115,
          -0.16056466286428525,
          0.06850138413755219,
          -0.5198591880564363,
          -1.1216544139711326,
          0.28240671123524896,
          0.22044841923008127,
          -0.5764639943148575,
          -0.19417161987510123,
          -0.3057344478723335,
          2.164181473378772,
          4.210421402996122,
          1.0124055722062637,
          -0.8024222147064582,
          -0.1029882901991891,
          -0.3115223001668896,
          0.11866541812507869,
          1.0155817697707406,
          0.43593373709624966,
          -0.4210448339523608,
          -0.06700109331264059,
          1.213992224704048,
          -0.8375454540431679,
          -1.2565205079543904,
          1.333013548556634,
          -0.400206145171359,
          -0.985036382599799,
          3.0001667714244995,
          2.270036159738484,
          0.5066346254230693,
          -1.0098016616520142,
          -1.3235013757683542,
          -0.9636190538593069,
          0.27074938912879737,
          -0.699711899983208,
          3.325452979822546,
          -0.6536896215977764,
          -0.6370873720354476,
          0.08294968619553184,
          -0.7764874162736882,
          0.49601026165798745,
          -1.21191644534173,
          0.628116938814393,
          -0.46246010544988825,
          -0.4062836070203814,
          -0.9617031508070603,
          -0.30308309111778736,
          -0.4338656264488963,
          -1.1269474061945708,
          1.0725499992186553,
          -0.4312490685915356,
          -0.4091898967390731,
          -0.20120925593353955,
          -1.3005554126146925,
          -1.091473856897115,
          -0.33787077677807953,
          0.5153525994496468,
          -0.5434365050653414,
          1.2230563324355435,
          2.9831843236659132,
          0.3395132486108676,
          0.542713209367237,
          -0.5575832372751595,
          0.5177818041098314,
          0.1332348778526298,
          -0.6888712020568188,
          -0.3175340712370092,
          -0.523543905412136,
          -0.62388924612806,
          -1.376955694499654,
          -0.39207823468267117,
          0.2399314495314333,
          -0.8641594136618286,
          -0.001452296401461611,
          1.2288021598583267,
          4.272715035489878,
          0.4593786573625727,
          1.0589594417868748,
          -0.11196457441719379,
          0.7850106569897252,
          0.49179964879770705,
          4.266230833609207,
          -1.0017220568592937,
          -0.8080201284689817,
          -1.4772478473352744,
          -0.9380634359364949,
          -0.9103124577088372,
          0.130453991789441,
          -0.06045899974556794,
          -0.7892008973569855,
          -0.7526436760219747,
          3.941624257255269,
          -0.20765233026401334,
          -0.039466168599496,
          -1.0888410898350607,
          -0.5170777753326564,
          -1.0135816035263543,
          -0.9454387682753198,
          0.04424517345751067,
          -0.4772287019117907,
          1.3653797936040901,
          0.25727092020059883,
          0.24445804312550726,
          -0.15392286336240607,
          -0.32524047977059944,
          -0.26601444150931386,
          0.618544047875739,
          -0.07744876346907563,
          0.1676795931320119,
          -0.4796374629624578,
          -0.15889406804361905,
          -0.5128073245433772,
          1.3213825688055776,
          4.298236189910797,
          0.8490548353341427,
          0.12780621601792963,
          -0.826357769137091,
          1.2218810759065135,
          0.2259241629718483,
          -0.8654112120316854,
          -0.2978305932763998,
          -0.533039159781544,
          -0.5269200090501824,
          -0.5768523953256192,
          0.14347369554486986,
          -0.6537050681354305,
          0.22987722664927301,
          -0.45094058613389065,
          0.5120775619184985,
          0.8456893992528178,
          0.9971242323740036,
          0.48015006897368745,
          -0.16089215859659362,
          0.11709432608427409,
          -0.4886300752199373,
          -0.37128139626592216,
          -0.23931573065487471,
          0.6327336184546943,
          -0.055520502279729954,
          -0.5286000715207841,
          0.1276492491231206,
          -0.27415047101924495,
          -1.0289355029711857,
          -1.0012900254078474,
          -0.7435829809478044,
          0.16345524671728803,
          -0.8830921167064493,
          -1.3875781991518994,
          -0.9473187136997197,
          0.010094532011773467,
          0.0389718058439987,
          -0.8406103020305169,
          -0.8254288925578931,
          0.27569768494262475,
          -0.4456635660687362,
          -0.723162398536878,
          -0.5608068873800435,
          -0.39462132681475137,
          -1.2446641468278745,
          0.2465504383752332,
          -0.7782344107386076,
          -1.2872374828118403,
          -0.4491594606587638,
          -0.9800348398989206,
          1.8820531601054227,
          0.3642918385092701,
          -0.2137196782949355,
          0.14627464411351737,
          0.1390399762175698,
          7.840824962102827,
          -0.9015986041383012,
          15.172659134419405,
          -1.0289317227979462,
          -0.24346300282257177,
          -0.3924498044234138,
          -0.07402345442844172,
          -0.7352243285343526,
          -0.875338265187775,
          0.7000007771248278,
          -0.38184934302330187,
          -0.6640316857264363,
          -1.317671724173842,
          -0.4461366468072019,
          1.0522217846872426,
          3.075640371307774,
          -1.022588222689162,
          -0.1009084831838829,
          -0.6039881952021998,
          -0.7760445386380079,
          -0.6644077073603178,
          2.067458652414395,
          -1.1004213998713779,
          -0.6578305729064193,
          -1.2500960524543179,
          -0.7438200643800633,
          -1.138079065270188,
          -0.7222178696674091,
          -1.1097340264514863,
          0.23995037394844113,
          0.25901977874023346,
          -0.36733190503661206,
          -0.5733556225629158,
          -1.2374202675773183,
          -0.3059657407377704,
          -1.2721950899270884,
          0.12033649930678417,
          -0.17831220249192328,
          -0.69553426323277,
          -0.1980786148058999,
          -0.8085165416088094,
          0.03644506710934551,
          -0.5131073177145261,
          -0.6462355137740975,
          -0.3656009250576433,
          -0.1705523338591937,
          -0.5502056255908299,
          -1.052659860084101,
          0.2529728388456555,
          0.39366786943848375,
          -0.5593613513152794,
          0.15224968970660036,
          -0.8971035815550072,
          0.5259282329810935,
          -0.7538638624736197,
          -0.4919935685582283,
          0.48421539215385445,
          -0.6907169214097556,
          1.866994335181703,
          1.6863834424336352,
          0.3420543210925529,
          0.13193859486084838,
          -0.1473448411667086,
          -0.28117140690175224,
          -1.0043003222933995,
          -0.42873879786919855,
          -0.23947195854542638,
          -0.2334545873383012,
          0.05974170600222603,
          -0.6541442742076297,
          0.569101813000502,
          0.3934091975426018,
          0.5356194845999103,
          0.8923651325074627,
          0.6293736485811781,
          -0.4760285437684715,
          -0.07395838344933607,
          2.622050444200806,
          1.614713984163696,
          -0.5459426413274364,
          0.058145750241816826,
          0.037400531385684305,
          -0.5324397418205643,
          -1.2213568261226289,
          1.614315244452945,
          -0.7079318368463884,
          0.8570634887500028,
          -0.8244883746388606,
          -0.21530858019737878,
          -0.28005290507586206,
          -0.5282839473038506,
          -0.6718733008115891,
          1.4406520372886389,
          -0.6941150958769984,
          -0.8191414988740484,
          1.171926654113925,
          1.403274346265032,
          0.4455829039767784,
          -0.24267391735579139,
          -0.5270010085281348,
          -0.34619272042547816,
          2.00363429116704,
          1.5934004868841665,
          3.3464680354294045,
          0.7041584866007518,
          -0.5231010956081581,
          0.8211286313216126,
          -0.24871908540381518,
          0.8533935666220441,
          -0.5733567436622897,
          -0.29995094003016837,
          -0.21990980173256294,
          -1.0000228101534727,
          0.2342381329354801,
          -1.160337021348534,
          0.21100854538583033,
          -0.9641680449255662,
          -0.9720051203496838,
          -1.0073120089387924,
          -0.31046363382876097,
          -0.961316393936634,
          -1.312601377814174,
          -1.5486691997904074,
          -1.1359425586855634,
          -1.1590111498814022,
          -0.6330999244216066,
          -0.047478115686301565,
          -0.6437584600512218,
          -0.8014161082241341,
          0.9435989930468177,
          0.5251151580263812,
          -1.638956782435876,
          -0.1055081291282858,
          -0.2544904646707448,
          -0.44687067286920856,
          -0.2701048731210159,
          -0.5848470283775107,
          -0.31896106489698534,
          -0.35029585729576,
          -0.7351406284545913,
          -0.16503734635024184,
          -0.0009892225429724733,
          -0.38561076318637705,
          0.524356775156635,
          9.133040997803313,
          -0.32331582733937925,
          -0.9291558961232914,
          0.8692485299458621,
          -0.12278548122823553,
          -0.049715688237707424,
          -0.5981444014759005,
          0.6315204213471736,
          -1.8573228342856336,
          1.211684878373056,
          0.18832589536061056,
          -0.2901988365292656,
          0.4450513570963304,
          0.8918036309701628,
          0.5372256232317335,
          -1.2630736778328284,
          -0.8883375042092274,
          -0.7234648355484471,
          -1.4736372326100045,
          -0.5720951342506864,
          -0.9437601919099786,
          -0.83972153297374,
          0.2171584793770846,
          -0.6026194502410416,
          -0.8528399073581774,
          -0.4907428700656022,
          -0.7099566824145432,
          -0.8759095045772289,
          -1.326613636020768,
          0.8980667958298698,
          -0.9906747903449781,
          0.34884037949940716,
          -1.6213422052506326,
          0.9933469136652997,
          -0.6892830128223343,
          0.21589488231927423,
          -0.637558224797006,
          -0.7388691931548041,
          -0.8055098301987914,
          -0.7265626151057193,
          -0.4789611146043734,
          -0.39490466767422716,
          -0.6639494843719886,
          0.22592369794342249,
          -0.6168228538854303,
          0.7906042549052901,
          0.9311057233481728,
          0.20721679163807194,
          0.0007869919491665815,
          -0.44284579288309533,
          -0.7152462515599797,
          -0.3075526650263438,
          0.9550909116329668,
          -0.6013593314918059,
          -1.1759058720410878,
          0.6169312751217633,
          1.0905094823974162,
          1.3482817114715127,
          -0.4093371052434508,
          1.3696229186265876,
          -0.05601169070408728,
          -0.5069960929514133,
          0.25163369900293797,
          -0.3691119752193975,
          -0.150608796943873,
          -0.04426335665207716,
          -0.42942162683427687,
          -0.7305954346181467,
          1.277380783279269,
          -0.28925729944700657,
          -0.24977576412726765,
          -0.33853571042594266,
          0.422694863081963,
          0.13087948924136084,
          -0.405478327776775,
          -0.23614546792708885,
          2.08817842325799,
          0.23134233505019774,
          0.3311865494130197,
          0.434521297864811,
          -0.44886794092778126,
          1.4403061303527582,
          -0.6106892298177732,
          -0.8691758575778308,
          0.5889988104544587,
          -0.26167802866092515,
          0.11683176643541,
          -1.0248573547315938,
          1.8873733360117633,
          -0.05096466180562332,
          -0.5531177675681388,
          -0.9100261106416472,
          -0.5600091125176336,
          -1.2656451081549651,
          -0.2774547711249303,
          -0.6569683501915866,
          -0.3067691133014731,
          0.34931303418146376,
          -0.48152776029783056,
          -0.672392227177159,
          1.68590821276135,
          0.32845007165171813,
          2.7071187163419266,
          -0.4732778237143936,
          -0.19380893252104,
          -0.3795949484576877,
          1.3264744430766724,
          -0.1059475943280318,
          -0.44363983492002407,
          -0.10168214525003971,
          2.480504624702555,
          1.5603974201297766,
          -0.4798537550960625,
          -0.06989567730170264,
          -0.9021567509632665
         ],
         "yaxis": "y"
        }
       ],
       "layout": {
        "coloraxis": {
         "colorbar": {
          "title": {
           "text": "Clusters"
          }
         },
         "colorscale": [
          [
           0,
           "#0d0887"
          ],
          [
           0.1111111111111111,
           "#46039f"
          ],
          [
           0.2222222222222222,
           "#7201a8"
          ],
          [
           0.3333333333333333,
           "#9c179e"
          ],
          [
           0.4444444444444444,
           "#bd3786"
          ],
          [
           0.5555555555555556,
           "#d8576b"
          ],
          [
           0.6666666666666666,
           "#ed7953"
          ],
          [
           0.7777777777777778,
           "#fb9f3a"
          ],
          [
           0.8888888888888888,
           "#fdca26"
          ],
          [
           1,
           "#f0f921"
          ]
         ]
        },
        "legend": {
         "tracegroupgap": 0
        },
        "template": {
         "data": {
          "bar": [
           {
            "error_x": {
             "color": "#2a3f5f"
            },
            "error_y": {
             "color": "#2a3f5f"
            },
            "marker": {
             "line": {
              "color": "#E5ECF6",
              "width": 0.5
             },
             "pattern": {
              "fillmode": "overlay",
              "size": 10,
              "solidity": 0.2
             }
            },
            "type": "bar"
           }
          ],
          "barpolar": [
           {
            "marker": {
             "line": {
              "color": "#E5ECF6",
              "width": 0.5
             },
             "pattern": {
              "fillmode": "overlay",
              "size": 10,
              "solidity": 0.2
             }
            },
            "type": "barpolar"
           }
          ],
          "carpet": [
           {
            "aaxis": {
             "endlinecolor": "#2a3f5f",
             "gridcolor": "white",
             "linecolor": "white",
             "minorgridcolor": "white",
             "startlinecolor": "#2a3f5f"
            },
            "baxis": {
             "endlinecolor": "#2a3f5f",
             "gridcolor": "white",
             "linecolor": "white",
             "minorgridcolor": "white",
             "startlinecolor": "#2a3f5f"
            },
            "type": "carpet"
           }
          ],
          "choropleth": [
           {
            "colorbar": {
             "outlinewidth": 0,
             "ticks": ""
            },
            "type": "choropleth"
           }
          ],
          "contour": [
           {
            "colorbar": {
             "outlinewidth": 0,
             "ticks": ""
            },
            "colorscale": [
             [
              0,
              "#0d0887"
             ],
             [
              0.1111111111111111,
              "#46039f"
             ],
             [
              0.2222222222222222,
              "#7201a8"
             ],
             [
              0.3333333333333333,
              "#9c179e"
             ],
             [
              0.4444444444444444,
              "#bd3786"
             ],
             [
              0.5555555555555556,
              "#d8576b"
             ],
             [
              0.6666666666666666,
              "#ed7953"
             ],
             [
              0.7777777777777778,
              "#fb9f3a"
             ],
             [
              0.8888888888888888,
              "#fdca26"
             ],
             [
              1,
              "#f0f921"
             ]
            ],
            "type": "contour"
           }
          ],
          "contourcarpet": [
           {
            "colorbar": {
             "outlinewidth": 0,
             "ticks": ""
            },
            "type": "contourcarpet"
           }
          ],
          "heatmap": [
           {
            "colorbar": {
             "outlinewidth": 0,
             "ticks": ""
            },
            "colorscale": [
             [
              0,
              "#0d0887"
             ],
             [
              0.1111111111111111,
              "#46039f"
             ],
             [
              0.2222222222222222,
              "#7201a8"
             ],
             [
              0.3333333333333333,
              "#9c179e"
             ],
             [
              0.4444444444444444,
              "#bd3786"
             ],
             [
              0.5555555555555556,
              "#d8576b"
             ],
             [
              0.6666666666666666,
              "#ed7953"
             ],
             [
              0.7777777777777778,
              "#fb9f3a"
             ],
             [
              0.8888888888888888,
              "#fdca26"
             ],
             [
              1,
              "#f0f921"
             ]
            ],
            "type": "heatmap"
           }
          ],
          "heatmapgl": [
           {
            "colorbar": {
             "outlinewidth": 0,
             "ticks": ""
            },
            "colorscale": [
             [
              0,
              "#0d0887"
             ],
             [
              0.1111111111111111,
              "#46039f"
             ],
             [
              0.2222222222222222,
              "#7201a8"
             ],
             [
              0.3333333333333333,
              "#9c179e"
             ],
             [
              0.4444444444444444,
              "#bd3786"
             ],
             [
              0.5555555555555556,
              "#d8576b"
             ],
             [
              0.6666666666666666,
              "#ed7953"
             ],
             [
              0.7777777777777778,
              "#fb9f3a"
             ],
             [
              0.8888888888888888,
              "#fdca26"
             ],
             [
              1,
              "#f0f921"
             ]
            ],
            "type": "heatmapgl"
           }
          ],
          "histogram": [
           {
            "marker": {
             "pattern": {
              "fillmode": "overlay",
              "size": 10,
              "solidity": 0.2
             }
            },
            "type": "histogram"
           }
          ],
          "histogram2d": [
           {
            "colorbar": {
             "outlinewidth": 0,
             "ticks": ""
            },
            "colorscale": [
             [
              0,
              "#0d0887"
             ],
             [
              0.1111111111111111,
              "#46039f"
             ],
             [
              0.2222222222222222,
              "#7201a8"
             ],
             [
              0.3333333333333333,
              "#9c179e"
             ],
             [
              0.4444444444444444,
              "#bd3786"
             ],
             [
              0.5555555555555556,
              "#d8576b"
             ],
             [
              0.6666666666666666,
              "#ed7953"
             ],
             [
              0.7777777777777778,
              "#fb9f3a"
             ],
             [
              0.8888888888888888,
              "#fdca26"
             ],
             [
              1,
              "#f0f921"
             ]
            ],
            "type": "histogram2d"
           }
          ],
          "histogram2dcontour": [
           {
            "colorbar": {
             "outlinewidth": 0,
             "ticks": ""
            },
            "colorscale": [
             [
              0,
              "#0d0887"
             ],
             [
              0.1111111111111111,
              "#46039f"
             ],
             [
              0.2222222222222222,
              "#7201a8"
             ],
             [
              0.3333333333333333,
              "#9c179e"
             ],
             [
              0.4444444444444444,
              "#bd3786"
             ],
             [
              0.5555555555555556,
              "#d8576b"
             ],
             [
              0.6666666666666666,
              "#ed7953"
             ],
             [
              0.7777777777777778,
              "#fb9f3a"
             ],
             [
              0.8888888888888888,
              "#fdca26"
             ],
             [
              1,
              "#f0f921"
             ]
            ],
            "type": "histogram2dcontour"
           }
          ],
          "mesh3d": [
           {
            "colorbar": {
             "outlinewidth": 0,
             "ticks": ""
            },
            "type": "mesh3d"
           }
          ],
          "parcoords": [
           {
            "line": {
             "colorbar": {
              "outlinewidth": 0,
              "ticks": ""
             }
            },
            "type": "parcoords"
           }
          ],
          "pie": [
           {
            "automargin": true,
            "type": "pie"
           }
          ],
          "scatter": [
           {
            "fillpattern": {
             "fillmode": "overlay",
             "size": 10,
             "solidity": 0.2
            },
            "type": "scatter"
           }
          ],
          "scatter3d": [
           {
            "line": {
             "colorbar": {
              "outlinewidth": 0,
              "ticks": ""
             }
            },
            "marker": {
             "colorbar": {
              "outlinewidth": 0,
              "ticks": ""
             }
            },
            "type": "scatter3d"
           }
          ],
          "scattercarpet": [
           {
            "marker": {
             "colorbar": {
              "outlinewidth": 0,
              "ticks": ""
             }
            },
            "type": "scattercarpet"
           }
          ],
          "scattergeo": [
           {
            "marker": {
             "colorbar": {
              "outlinewidth": 0,
              "ticks": ""
             }
            },
            "type": "scattergeo"
           }
          ],
          "scattergl": [
           {
            "marker": {
             "colorbar": {
              "outlinewidth": 0,
              "ticks": ""
             }
            },
            "type": "scattergl"
           }
          ],
          "scattermapbox": [
           {
            "marker": {
             "colorbar": {
              "outlinewidth": 0,
              "ticks": ""
             }
            },
            "type": "scattermapbox"
           }
          ],
          "scatterpolar": [
           {
            "marker": {
             "colorbar": {
              "outlinewidth": 0,
              "ticks": ""
             }
            },
            "type": "scatterpolar"
           }
          ],
          "scatterpolargl": [
           {
            "marker": {
             "colorbar": {
              "outlinewidth": 0,
              "ticks": ""
             }
            },
            "type": "scatterpolargl"
           }
          ],
          "scatterternary": [
           {
            "marker": {
             "colorbar": {
              "outlinewidth": 0,
              "ticks": ""
             }
            },
            "type": "scatterternary"
           }
          ],
          "surface": [
           {
            "colorbar": {
             "outlinewidth": 0,
             "ticks": ""
            },
            "colorscale": [
             [
              0,
              "#0d0887"
             ],
             [
              0.1111111111111111,
              "#46039f"
             ],
             [
              0.2222222222222222,
              "#7201a8"
             ],
             [
              0.3333333333333333,
              "#9c179e"
             ],
             [
              0.4444444444444444,
              "#bd3786"
             ],
             [
              0.5555555555555556,
              "#d8576b"
             ],
             [
              0.6666666666666666,
              "#ed7953"
             ],
             [
              0.7777777777777778,
              "#fb9f3a"
             ],
             [
              0.8888888888888888,
              "#fdca26"
             ],
             [
              1,
              "#f0f921"
             ]
            ],
            "type": "surface"
           }
          ],
          "table": [
           {
            "cells": {
             "fill": {
              "color": "#EBF0F8"
             },
             "line": {
              "color": "white"
             }
            },
            "header": {
             "fill": {
              "color": "#C8D4E3"
             },
             "line": {
              "color": "white"
             }
            },
            "type": "table"
           }
          ]
         },
         "layout": {
          "annotationdefaults": {
           "arrowcolor": "#2a3f5f",
           "arrowhead": 0,
           "arrowwidth": 1
          },
          "autotypenumbers": "strict",
          "coloraxis": {
           "colorbar": {
            "outlinewidth": 0,
            "ticks": ""
           }
          },
          "colorscale": {
           "diverging": [
            [
             0,
             "#8e0152"
            ],
            [
             0.1,
             "#c51b7d"
            ],
            [
             0.2,
             "#de77ae"
            ],
            [
             0.3,
             "#f1b6da"
            ],
            [
             0.4,
             "#fde0ef"
            ],
            [
             0.5,
             "#f7f7f7"
            ],
            [
             0.6,
             "#e6f5d0"
            ],
            [
             0.7,
             "#b8e186"
            ],
            [
             0.8,
             "#7fbc41"
            ],
            [
             0.9,
             "#4d9221"
            ],
            [
             1,
             "#276419"
            ]
           ],
           "sequential": [
            [
             0,
             "#0d0887"
            ],
            [
             0.1111111111111111,
             "#46039f"
            ],
            [
             0.2222222222222222,
             "#7201a8"
            ],
            [
             0.3333333333333333,
             "#9c179e"
            ],
            [
             0.4444444444444444,
             "#bd3786"
            ],
            [
             0.5555555555555556,
             "#d8576b"
            ],
            [
             0.6666666666666666,
             "#ed7953"
            ],
            [
             0.7777777777777778,
             "#fb9f3a"
            ],
            [
             0.8888888888888888,
             "#fdca26"
            ],
            [
             1,
             "#f0f921"
            ]
           ],
           "sequentialminus": [
            [
             0,
             "#0d0887"
            ],
            [
             0.1111111111111111,
             "#46039f"
            ],
            [
             0.2222222222222222,
             "#7201a8"
            ],
            [
             0.3333333333333333,
             "#9c179e"
            ],
            [
             0.4444444444444444,
             "#bd3786"
            ],
            [
             0.5555555555555556,
             "#d8576b"
            ],
            [
             0.6666666666666666,
             "#ed7953"
            ],
            [
             0.7777777777777778,
             "#fb9f3a"
            ],
            [
             0.8888888888888888,
             "#fdca26"
            ],
            [
             1,
             "#f0f921"
            ]
           ]
          },
          "colorway": [
           "#636efa",
           "#EF553B",
           "#00cc96",
           "#ab63fa",
           "#FFA15A",
           "#19d3f3",
           "#FF6692",
           "#B6E880",
           "#FF97FF",
           "#FECB52"
          ],
          "font": {
           "color": "#2a3f5f"
          },
          "geo": {
           "bgcolor": "white",
           "lakecolor": "white",
           "landcolor": "#E5ECF6",
           "showlakes": true,
           "showland": true,
           "subunitcolor": "white"
          },
          "hoverlabel": {
           "align": "left"
          },
          "hovermode": "closest",
          "mapbox": {
           "style": "light"
          },
          "paper_bgcolor": "white",
          "plot_bgcolor": "#E5ECF6",
          "polar": {
           "angularaxis": {
            "gridcolor": "white",
            "linecolor": "white",
            "ticks": ""
           },
           "bgcolor": "#E5ECF6",
           "radialaxis": {
            "gridcolor": "white",
            "linecolor": "white",
            "ticks": ""
           }
          },
          "scene": {
           "xaxis": {
            "backgroundcolor": "#E5ECF6",
            "gridcolor": "white",
            "gridwidth": 2,
            "linecolor": "white",
            "showbackground": true,
            "ticks": "",
            "zerolinecolor": "white"
           },
           "yaxis": {
            "backgroundcolor": "#E5ECF6",
            "gridcolor": "white",
            "gridwidth": 2,
            "linecolor": "white",
            "showbackground": true,
            "ticks": "",
            "zerolinecolor": "white"
           },
           "zaxis": {
            "backgroundcolor": "#E5ECF6",
            "gridcolor": "white",
            "gridwidth": 2,
            "linecolor": "white",
            "showbackground": true,
            "ticks": "",
            "zerolinecolor": "white"
           }
          },
          "shapedefaults": {
           "line": {
            "color": "#2a3f5f"
           }
          },
          "ternary": {
           "aaxis": {
            "gridcolor": "white",
            "linecolor": "white",
            "ticks": ""
           },
           "baxis": {
            "gridcolor": "white",
            "linecolor": "white",
            "ticks": ""
           },
           "bgcolor": "#E5ECF6",
           "caxis": {
            "gridcolor": "white",
            "linecolor": "white",
            "ticks": ""
           }
          },
          "title": {
           "x": 0.05
          },
          "xaxis": {
           "automargin": true,
           "gridcolor": "white",
           "linecolor": "white",
           "ticks": "",
           "title": {
            "standoff": 15
           },
           "zerolinecolor": "white",
           "zerolinewidth": 2
          },
          "yaxis": {
           "automargin": true,
           "gridcolor": "white",
           "linecolor": "white",
           "ticks": "",
           "title": {
            "standoff": 15
           },
           "zerolinecolor": "white",
           "zerolinewidth": 2
          }
         }
        },
        "title": {
         "text": "Clusters DBSCAN após PCA"
        },
        "xaxis": {
         "anchor": "y",
         "domain": [
          0,
          1
         ],
         "title": {
          "text": "Componente Principal 1"
         }
        },
        "yaxis": {
         "anchor": "x",
         "domain": [
          0,
          1
         ],
         "title": {
          "text": "Componente Principal 2"
         }
        }
       }
      }
     },
     "metadata": {},
     "output_type": "display_data"
    }
   ],
   "source": [
    "from sklearn.decomposition import PCA\n",
    "\n",
    "# Aplicando PCA para reduzir para 2 dimensões\n",
    "pca = PCA(n_components=2)\n",
    "X_pca = pca.fit_transform(X_scaled)\n",
    "\n",
    "# Adicionando os componentes principais ao DataFrame\n",
    "df['PCA1'] = X_pca[:, 0]\n",
    "df['PCA2'] = X_pca[:, 1]\n",
    "\n",
    "# Criando um gráfico com os clusters Aglomerativos\n",
    "fig_agg = px.scatter(\n",
    "    df,\n",
    "    x=\"PCA1\",\n",
    "    y=\"PCA2\",\n",
    "    color=\"Predicted_Clusters\",\n",
    "    title=\"Clusters Aglomerativos após PCA\",\n",
    "    labels={\"PCA1\": \"Componente Principal 1\", \"PCA2\": \"Componente Principal 2\", \"Predicted_Clusters\": \"Clusters\"},\n",
    "    color_continuous_scale=\"Viridis\"\n",
    ")\n",
    "\n",
    "# Criando um gráfico com os clusters do DBSCAN\n",
    "fig_dbscan = px.scatter(\n",
    "    df,\n",
    "    x=\"PCA1\",\n",
    "    y=\"PCA2\",\n",
    "    color=\"DBSCAN_Clusters\",\n",
    "    title=\"Clusters DBSCAN após PCA\",\n",
    "    labels={\"PCA1\": \"Componente Principal 1\", \"PCA2\": \"Componente Principal 2\", \"DBSCAN_Clusters\": \"Clusters\"},\n",
    "    color_continuous_scale=\"Plasma\"\n",
    ")\n",
    "\n",
    "fig_agg.show()\n",
    "fig_dbscan.show()\n"
   ]
  },
  {
   "cell_type": "markdown",
   "metadata": {
    "id": "LEbcLa0WINqG"
   },
   "source": [
    "## 5. Método elbow\n",
    "---------------------------"
   ]
  },
  {
   "cell_type": "code",
   "execution_count": 23,
   "metadata": {
    "id": "ElDZdS2_6_oR"
   },
   "outputs": [
    {
     "data": {
      "application/vnd.plotly.v1+json": {
       "config": {
        "plotlyServerURL": "https://plot.ly"
       },
       "data": [
        {
         "line": {
          "color": "blue",
          "dash": "dash"
         },
         "marker": {
          "color": "blue",
          "size": 8
         },
         "mode": "lines+markers",
         "name": "Inércia (WCSS)",
         "type": "scatter",
         "x": [
          1,
          2,
          3,
          4,
          5,
          6,
          7,
          8,
          9,
          10
         ],
         "y": [
          3520.0000000000005,
          2600.375648222442,
          2149.2839562217587,
          1851.8408722743848,
          1567.4493550056052,
          1446.4349586356464,
          1189.4373315150995,
          1146.3938222781735,
          1082.639881637017,
          969.1934595642861
         ]
        }
       ],
       "layout": {
        "template": {
         "data": {
          "bar": [
           {
            "error_x": {
             "color": "#2a3f5f"
            },
            "error_y": {
             "color": "#2a3f5f"
            },
            "marker": {
             "line": {
              "color": "white",
              "width": 0.5
             },
             "pattern": {
              "fillmode": "overlay",
              "size": 10,
              "solidity": 0.2
             }
            },
            "type": "bar"
           }
          ],
          "barpolar": [
           {
            "marker": {
             "line": {
              "color": "white",
              "width": 0.5
             },
             "pattern": {
              "fillmode": "overlay",
              "size": 10,
              "solidity": 0.2
             }
            },
            "type": "barpolar"
           }
          ],
          "carpet": [
           {
            "aaxis": {
             "endlinecolor": "#2a3f5f",
             "gridcolor": "#C8D4E3",
             "linecolor": "#C8D4E3",
             "minorgridcolor": "#C8D4E3",
             "startlinecolor": "#2a3f5f"
            },
            "baxis": {
             "endlinecolor": "#2a3f5f",
             "gridcolor": "#C8D4E3",
             "linecolor": "#C8D4E3",
             "minorgridcolor": "#C8D4E3",
             "startlinecolor": "#2a3f5f"
            },
            "type": "carpet"
           }
          ],
          "choropleth": [
           {
            "colorbar": {
             "outlinewidth": 0,
             "ticks": ""
            },
            "type": "choropleth"
           }
          ],
          "contour": [
           {
            "colorbar": {
             "outlinewidth": 0,
             "ticks": ""
            },
            "colorscale": [
             [
              0,
              "#0d0887"
             ],
             [
              0.1111111111111111,
              "#46039f"
             ],
             [
              0.2222222222222222,
              "#7201a8"
             ],
             [
              0.3333333333333333,
              "#9c179e"
             ],
             [
              0.4444444444444444,
              "#bd3786"
             ],
             [
              0.5555555555555556,
              "#d8576b"
             ],
             [
              0.6666666666666666,
              "#ed7953"
             ],
             [
              0.7777777777777778,
              "#fb9f3a"
             ],
             [
              0.8888888888888888,
              "#fdca26"
             ],
             [
              1,
              "#f0f921"
             ]
            ],
            "type": "contour"
           }
          ],
          "contourcarpet": [
           {
            "colorbar": {
             "outlinewidth": 0,
             "ticks": ""
            },
            "type": "contourcarpet"
           }
          ],
          "heatmap": [
           {
            "colorbar": {
             "outlinewidth": 0,
             "ticks": ""
            },
            "colorscale": [
             [
              0,
              "#0d0887"
             ],
             [
              0.1111111111111111,
              "#46039f"
             ],
             [
              0.2222222222222222,
              "#7201a8"
             ],
             [
              0.3333333333333333,
              "#9c179e"
             ],
             [
              0.4444444444444444,
              "#bd3786"
             ],
             [
              0.5555555555555556,
              "#d8576b"
             ],
             [
              0.6666666666666666,
              "#ed7953"
             ],
             [
              0.7777777777777778,
              "#fb9f3a"
             ],
             [
              0.8888888888888888,
              "#fdca26"
             ],
             [
              1,
              "#f0f921"
             ]
            ],
            "type": "heatmap"
           }
          ],
          "heatmapgl": [
           {
            "colorbar": {
             "outlinewidth": 0,
             "ticks": ""
            },
            "colorscale": [
             [
              0,
              "#0d0887"
             ],
             [
              0.1111111111111111,
              "#46039f"
             ],
             [
              0.2222222222222222,
              "#7201a8"
             ],
             [
              0.3333333333333333,
              "#9c179e"
             ],
             [
              0.4444444444444444,
              "#bd3786"
             ],
             [
              0.5555555555555556,
              "#d8576b"
             ],
             [
              0.6666666666666666,
              "#ed7953"
             ],
             [
              0.7777777777777778,
              "#fb9f3a"
             ],
             [
              0.8888888888888888,
              "#fdca26"
             ],
             [
              1,
              "#f0f921"
             ]
            ],
            "type": "heatmapgl"
           }
          ],
          "histogram": [
           {
            "marker": {
             "pattern": {
              "fillmode": "overlay",
              "size": 10,
              "solidity": 0.2
             }
            },
            "type": "histogram"
           }
          ],
          "histogram2d": [
           {
            "colorbar": {
             "outlinewidth": 0,
             "ticks": ""
            },
            "colorscale": [
             [
              0,
              "#0d0887"
             ],
             [
              0.1111111111111111,
              "#46039f"
             ],
             [
              0.2222222222222222,
              "#7201a8"
             ],
             [
              0.3333333333333333,
              "#9c179e"
             ],
             [
              0.4444444444444444,
              "#bd3786"
             ],
             [
              0.5555555555555556,
              "#d8576b"
             ],
             [
              0.6666666666666666,
              "#ed7953"
             ],
             [
              0.7777777777777778,
              "#fb9f3a"
             ],
             [
              0.8888888888888888,
              "#fdca26"
             ],
             [
              1,
              "#f0f921"
             ]
            ],
            "type": "histogram2d"
           }
          ],
          "histogram2dcontour": [
           {
            "colorbar": {
             "outlinewidth": 0,
             "ticks": ""
            },
            "colorscale": [
             [
              0,
              "#0d0887"
             ],
             [
              0.1111111111111111,
              "#46039f"
             ],
             [
              0.2222222222222222,
              "#7201a8"
             ],
             [
              0.3333333333333333,
              "#9c179e"
             ],
             [
              0.4444444444444444,
              "#bd3786"
             ],
             [
              0.5555555555555556,
              "#d8576b"
             ],
             [
              0.6666666666666666,
              "#ed7953"
             ],
             [
              0.7777777777777778,
              "#fb9f3a"
             ],
             [
              0.8888888888888888,
              "#fdca26"
             ],
             [
              1,
              "#f0f921"
             ]
            ],
            "type": "histogram2dcontour"
           }
          ],
          "mesh3d": [
           {
            "colorbar": {
             "outlinewidth": 0,
             "ticks": ""
            },
            "type": "mesh3d"
           }
          ],
          "parcoords": [
           {
            "line": {
             "colorbar": {
              "outlinewidth": 0,
              "ticks": ""
             }
            },
            "type": "parcoords"
           }
          ],
          "pie": [
           {
            "automargin": true,
            "type": "pie"
           }
          ],
          "scatter": [
           {
            "fillpattern": {
             "fillmode": "overlay",
             "size": 10,
             "solidity": 0.2
            },
            "type": "scatter"
           }
          ],
          "scatter3d": [
           {
            "line": {
             "colorbar": {
              "outlinewidth": 0,
              "ticks": ""
             }
            },
            "marker": {
             "colorbar": {
              "outlinewidth": 0,
              "ticks": ""
             }
            },
            "type": "scatter3d"
           }
          ],
          "scattercarpet": [
           {
            "marker": {
             "colorbar": {
              "outlinewidth": 0,
              "ticks": ""
             }
            },
            "type": "scattercarpet"
           }
          ],
          "scattergeo": [
           {
            "marker": {
             "colorbar": {
              "outlinewidth": 0,
              "ticks": ""
             }
            },
            "type": "scattergeo"
           }
          ],
          "scattergl": [
           {
            "marker": {
             "colorbar": {
              "outlinewidth": 0,
              "ticks": ""
             }
            },
            "type": "scattergl"
           }
          ],
          "scattermapbox": [
           {
            "marker": {
             "colorbar": {
              "outlinewidth": 0,
              "ticks": ""
             }
            },
            "type": "scattermapbox"
           }
          ],
          "scatterpolar": [
           {
            "marker": {
             "colorbar": {
              "outlinewidth": 0,
              "ticks": ""
             }
            },
            "type": "scatterpolar"
           }
          ],
          "scatterpolargl": [
           {
            "marker": {
             "colorbar": {
              "outlinewidth": 0,
              "ticks": ""
             }
            },
            "type": "scatterpolargl"
           }
          ],
          "scatterternary": [
           {
            "marker": {
             "colorbar": {
              "outlinewidth": 0,
              "ticks": ""
             }
            },
            "type": "scatterternary"
           }
          ],
          "surface": [
           {
            "colorbar": {
             "outlinewidth": 0,
             "ticks": ""
            },
            "colorscale": [
             [
              0,
              "#0d0887"
             ],
             [
              0.1111111111111111,
              "#46039f"
             ],
             [
              0.2222222222222222,
              "#7201a8"
             ],
             [
              0.3333333333333333,
              "#9c179e"
             ],
             [
              0.4444444444444444,
              "#bd3786"
             ],
             [
              0.5555555555555556,
              "#d8576b"
             ],
             [
              0.6666666666666666,
              "#ed7953"
             ],
             [
              0.7777777777777778,
              "#fb9f3a"
             ],
             [
              0.8888888888888888,
              "#fdca26"
             ],
             [
              1,
              "#f0f921"
             ]
            ],
            "type": "surface"
           }
          ],
          "table": [
           {
            "cells": {
             "fill": {
              "color": "#EBF0F8"
             },
             "line": {
              "color": "white"
             }
            },
            "header": {
             "fill": {
              "color": "#C8D4E3"
             },
             "line": {
              "color": "white"
             }
            },
            "type": "table"
           }
          ]
         },
         "layout": {
          "annotationdefaults": {
           "arrowcolor": "#2a3f5f",
           "arrowhead": 0,
           "arrowwidth": 1
          },
          "autotypenumbers": "strict",
          "coloraxis": {
           "colorbar": {
            "outlinewidth": 0,
            "ticks": ""
           }
          },
          "colorscale": {
           "diverging": [
            [
             0,
             "#8e0152"
            ],
            [
             0.1,
             "#c51b7d"
            ],
            [
             0.2,
             "#de77ae"
            ],
            [
             0.3,
             "#f1b6da"
            ],
            [
             0.4,
             "#fde0ef"
            ],
            [
             0.5,
             "#f7f7f7"
            ],
            [
             0.6,
             "#e6f5d0"
            ],
            [
             0.7,
             "#b8e186"
            ],
            [
             0.8,
             "#7fbc41"
            ],
            [
             0.9,
             "#4d9221"
            ],
            [
             1,
             "#276419"
            ]
           ],
           "sequential": [
            [
             0,
             "#0d0887"
            ],
            [
             0.1111111111111111,
             "#46039f"
            ],
            [
             0.2222222222222222,
             "#7201a8"
            ],
            [
             0.3333333333333333,
             "#9c179e"
            ],
            [
             0.4444444444444444,
             "#bd3786"
            ],
            [
             0.5555555555555556,
             "#d8576b"
            ],
            [
             0.6666666666666666,
             "#ed7953"
            ],
            [
             0.7777777777777778,
             "#fb9f3a"
            ],
            [
             0.8888888888888888,
             "#fdca26"
            ],
            [
             1,
             "#f0f921"
            ]
           ],
           "sequentialminus": [
            [
             0,
             "#0d0887"
            ],
            [
             0.1111111111111111,
             "#46039f"
            ],
            [
             0.2222222222222222,
             "#7201a8"
            ],
            [
             0.3333333333333333,
             "#9c179e"
            ],
            [
             0.4444444444444444,
             "#bd3786"
            ],
            [
             0.5555555555555556,
             "#d8576b"
            ],
            [
             0.6666666666666666,
             "#ed7953"
            ],
            [
             0.7777777777777778,
             "#fb9f3a"
            ],
            [
             0.8888888888888888,
             "#fdca26"
            ],
            [
             1,
             "#f0f921"
            ]
           ]
          },
          "colorway": [
           "#636efa",
           "#EF553B",
           "#00cc96",
           "#ab63fa",
           "#FFA15A",
           "#19d3f3",
           "#FF6692",
           "#B6E880",
           "#FF97FF",
           "#FECB52"
          ],
          "font": {
           "color": "#2a3f5f"
          },
          "geo": {
           "bgcolor": "white",
           "lakecolor": "white",
           "landcolor": "white",
           "showlakes": true,
           "showland": true,
           "subunitcolor": "#C8D4E3"
          },
          "hoverlabel": {
           "align": "left"
          },
          "hovermode": "closest",
          "mapbox": {
           "style": "light"
          },
          "paper_bgcolor": "white",
          "plot_bgcolor": "white",
          "polar": {
           "angularaxis": {
            "gridcolor": "#EBF0F8",
            "linecolor": "#EBF0F8",
            "ticks": ""
           },
           "bgcolor": "white",
           "radialaxis": {
            "gridcolor": "#EBF0F8",
            "linecolor": "#EBF0F8",
            "ticks": ""
           }
          },
          "scene": {
           "xaxis": {
            "backgroundcolor": "white",
            "gridcolor": "#DFE8F3",
            "gridwidth": 2,
            "linecolor": "#EBF0F8",
            "showbackground": true,
            "ticks": "",
            "zerolinecolor": "#EBF0F8"
           },
           "yaxis": {
            "backgroundcolor": "white",
            "gridcolor": "#DFE8F3",
            "gridwidth": 2,
            "linecolor": "#EBF0F8",
            "showbackground": true,
            "ticks": "",
            "zerolinecolor": "#EBF0F8"
           },
           "zaxis": {
            "backgroundcolor": "white",
            "gridcolor": "#DFE8F3",
            "gridwidth": 2,
            "linecolor": "#EBF0F8",
            "showbackground": true,
            "ticks": "",
            "zerolinecolor": "#EBF0F8"
           }
          },
          "shapedefaults": {
           "line": {
            "color": "#2a3f5f"
           }
          },
          "ternary": {
           "aaxis": {
            "gridcolor": "#DFE8F3",
            "linecolor": "#A2B1C6",
            "ticks": ""
           },
           "baxis": {
            "gridcolor": "#DFE8F3",
            "linecolor": "#A2B1C6",
            "ticks": ""
           },
           "bgcolor": "white",
           "caxis": {
            "gridcolor": "#DFE8F3",
            "linecolor": "#A2B1C6",
            "ticks": ""
           }
          },
          "title": {
           "x": 0.05
          },
          "xaxis": {
           "automargin": true,
           "gridcolor": "#EBF0F8",
           "linecolor": "#EBF0F8",
           "ticks": "",
           "title": {
            "standoff": 15
           },
           "zerolinecolor": "#EBF0F8",
           "zerolinewidth": 2
          },
          "yaxis": {
           "automargin": true,
           "gridcolor": "#EBF0F8",
           "linecolor": "#EBF0F8",
           "ticks": "",
           "title": {
            "standoff": 15
           },
           "zerolinecolor": "#EBF0F8",
           "zerolinewidth": 2
          }
         }
        },
        "title": {
         "text": "Método Elbow para Determinar o Número Ideal de Clusters"
        },
        "xaxis": {
         "dtick": 1,
         "tick0": 1,
         "tickmode": "linear",
         "title": {
          "text": "Número de Clusters (k)"
         }
        },
        "yaxis": {
         "showgrid": true,
         "title": {
          "text": "Inércia (WCSS)"
         }
        }
       }
      }
     },
     "metadata": {},
     "output_type": "display_data"
    }
   ],
   "source": [
    "from sklearn.cluster import KMeans\n",
    "import plotly.graph_objects as go\n",
    "\n",
    "# Calculando a inércia para diferentes números de clusters (1 a 10)\n",
    "inertia_values = []\n",
    "k_values = range(1, 11)\n",
    "\n",
    "for k in k_values:\n",
    "    kmeans = KMeans(n_clusters=k, random_state=42)\n",
    "    kmeans.fit(X_scaled)\n",
    "    inertia_values.append(kmeans.inertia_)\n",
    "    \n",
    "fig = go.Figure()\n",
    "\n",
    "fig.add_trace(go.Scatter(\n",
    "    x=list(k_values),\n",
    "    y=inertia_values,\n",
    "    mode='lines+markers',\n",
    "    marker=dict(color='blue', size=8),\n",
    "    line=dict(dash='dash', color='blue'),\n",
    "    name='Inércia (WCSS)'\n",
    "))\n",
    "\n",
    "fig.update_layout(\n",
    "    title='Método Elbow para Determinar o Número Ideal de Clusters',\n",
    "    xaxis_title='Número de Clusters (k)',\n",
    "    yaxis_title='Inércia (WCSS)',\n",
    "    template='plotly_white',\n",
    "    xaxis=dict(tickmode='linear', tick0=1, dtick=1),\n",
    "    yaxis=dict(showgrid=True)\n",
    ")\n",
    "\n",
    "fig.show()"
   ]
  }
 ],
 "metadata": {
  "colab": {
   "provenance": []
  },
  "kernelspec": {
   "display_name": "machine-learning-list-03-OPVA21i3",
   "language": "python",
   "name": "python3"
  },
  "language_info": {
   "codemirror_mode": {
    "name": "ipython",
    "version": 3
   },
   "file_extension": ".py",
   "mimetype": "text/x-python",
   "name": "python",
   "nbconvert_exporter": "python",
   "pygments_lexer": "ipython3",
   "version": "3.12.4"
  }
 },
 "nbformat": 4,
 "nbformat_minor": 0
}
