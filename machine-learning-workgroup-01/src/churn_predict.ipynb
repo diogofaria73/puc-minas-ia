{
 "cells": [
  {
   "cell_type": "markdown",
   "metadata": {},
   "source": [
    "# Student Dropout Prediction\n",
    "\n",
    "### Problem:\n",
    "\n",
    "School dropout and educational failure pose significant challenges to economic growth and societal well-being, directly impacting students, families, institutions, and the broader community. \n",
    "\n",
    "According to **Education Data Initiative**, around **40% of undergraduate students** drop out before completing their degree. College dropouts face more financial challenges, earning an average of **35% less income** and experiencing a **20% higher unemployment rate** compared to their peers who graduate.\n",
    "\n",
    "### Objective:\n",
    "\n",
    "In this project, I aim to build a **classification model** to predict students' dropout and identify which students need more support to prevent them from dropping out.\n"
   ]
  },
  {
   "cell_type": "markdown",
   "metadata": {},
   "source": [
    "# 1.0 - EDA - Expoloratory Data Analysis"
   ]
  },
  {
   "cell_type": "code",
   "execution_count": 97,
   "metadata": {},
   "outputs": [],
   "source": [
    "# Import main libraries\n",
    "import pandas as pd # data processing, CSV file I/O (e.g. pd.read_csv)\n",
    "from plotly.subplots import make_subplots \n",
    "import plotly.graph_objects as go\n",
    "import plotly.io as pio"
   ]
  },
  {
   "cell_type": "code",
   "execution_count": 35,
   "metadata": {},
   "outputs": [],
   "source": [
    "# Load dataset into a pandas Dataframe\n",
    "df = pd.read_csv('../dataset/student_dropout.csv')"
   ]
  },
  {
   "cell_type": "code",
   "execution_count": 51,
   "metadata": {},
   "outputs": [
    {
     "data": {
      "text/plain": [
       "Index([], dtype='object')"
      ]
     },
     "execution_count": 51,
     "metadata": {},
     "output_type": "execute_result"
    }
   ],
   "source": [
    "# Check for missing values\n",
    "# Show add columns from dataframe with missing values\n",
    "df.columns[df.isnull().any()]"
   ]
  },
  {
   "cell_type": "code",
   "execution_count": 52,
   "metadata": {},
   "outputs": [
    {
     "data": {
      "text/plain": [
       "np.int64(0)"
      ]
     },
     "execution_count": 52,
     "metadata": {},
     "output_type": "execute_result"
    }
   ],
   "source": [
    "# Check for duplicate rows\n",
    "df.duplicated().sum()"
   ]
  },
  {
   "cell_type": "code",
   "execution_count": 62,
   "metadata": {},
   "outputs": [
    {
     "data": {
      "text/plain": [
       "Index(['school', 'gender', 'age', 'address', 'family_size', 'parental_status',\n",
       "       'mother_education', 'father_education', 'mother_job', 'father_job',\n",
       "       'reason_for_choosing_school', 'guardian', 'travel_time', 'study_time',\n",
       "       'number_of_failures', 'school_support', 'family_support',\n",
       "       'extra_paid_class', 'extra_curricular_activities', 'attended_nursery',\n",
       "       'wants_higher_education', 'internet_access', 'in_relationship',\n",
       "       'family_relationship', 'free_time', 'going_out',\n",
       "       'weekend_alcohol_consumption', 'weekday_alcohol_consumption',\n",
       "       'health_status', 'number_of_absences', 'grade_1', 'grade_2',\n",
       "       'final_grade', 'dropped_out'],\n",
       "      dtype='object')"
      ]
     },
     "execution_count": 62,
     "metadata": {},
     "output_type": "execute_result"
    }
   ],
   "source": [
    "# Drop duplicate rows\n",
    "df.drop_duplicates(inplace=True)\n",
    "# Change column name to lowercase\n",
    "df.columns = df.columns.str.lower()\n",
    "# Show rename columns\n",
    "df.columns\n"
   ]
  },
  {
   "cell_type": "markdown",
   "metadata": {},
   "source": []
  },
  {
   "cell_type": "markdown",
   "metadata": {},
   "source": [
    "# 2.0 - Generate Data Visualization"
   ]
  },
  {
   "cell_type": "code",
   "execution_count": 96,
   "metadata": {},
   "outputs": [
    {
     "ename": "ValueError",
     "evalue": "Mime type rendering requires nbformat>=4.2.0 but it is not installed",
     "output_type": "error",
     "traceback": [
      "\u001b[0;31m---------------------------------------------------------------------------\u001b[0m",
      "\u001b[0;31mValueError\u001b[0m                                Traceback (most recent call last)",
      "File \u001b[0;32m~/.local/share/virtualenvs/machine-learning-workgroup-01-74kK495_/lib/python3.12/site-packages/IPython/core/formatters.py:925\u001b[0m, in \u001b[0;36mIPythonDisplayFormatter.__call__\u001b[0;34m(self, obj)\u001b[0m\n\u001b[1;32m    923\u001b[0m method \u001b[38;5;241m=\u001b[39m get_real_method(obj, \u001b[38;5;28mself\u001b[39m\u001b[38;5;241m.\u001b[39mprint_method)\n\u001b[1;32m    924\u001b[0m \u001b[38;5;28;01mif\u001b[39;00m method \u001b[38;5;129;01mis\u001b[39;00m \u001b[38;5;129;01mnot\u001b[39;00m \u001b[38;5;28;01mNone\u001b[39;00m:\n\u001b[0;32m--> 925\u001b[0m     \u001b[43mmethod\u001b[49m\u001b[43m(\u001b[49m\u001b[43m)\u001b[49m\n\u001b[1;32m    926\u001b[0m     \u001b[38;5;28;01mreturn\u001b[39;00m \u001b[38;5;28;01mTrue\u001b[39;00m\n",
      "File \u001b[0;32m~/.local/share/virtualenvs/machine-learning-workgroup-01-74kK495_/lib/python3.12/site-packages/plotly/basedatatypes.py:832\u001b[0m, in \u001b[0;36mBaseFigure._ipython_display_\u001b[0;34m(self)\u001b[0m\n\u001b[1;32m    829\u001b[0m \u001b[38;5;28;01mimport\u001b[39;00m \u001b[38;5;21;01mplotly\u001b[39;00m\u001b[38;5;21;01m.\u001b[39;00m\u001b[38;5;21;01mio\u001b[39;00m \u001b[38;5;28;01mas\u001b[39;00m \u001b[38;5;21;01mpio\u001b[39;00m\n\u001b[1;32m    831\u001b[0m \u001b[38;5;28;01mif\u001b[39;00m pio\u001b[38;5;241m.\u001b[39mrenderers\u001b[38;5;241m.\u001b[39mrender_on_display \u001b[38;5;129;01mand\u001b[39;00m pio\u001b[38;5;241m.\u001b[39mrenderers\u001b[38;5;241m.\u001b[39mdefault:\n\u001b[0;32m--> 832\u001b[0m     \u001b[43mpio\u001b[49m\u001b[38;5;241;43m.\u001b[39;49m\u001b[43mshow\u001b[49m\u001b[43m(\u001b[49m\u001b[38;5;28;43mself\u001b[39;49m\u001b[43m)\u001b[49m\n\u001b[1;32m    833\u001b[0m \u001b[38;5;28;01melse\u001b[39;00m:\n\u001b[1;32m    834\u001b[0m     \u001b[38;5;28mprint\u001b[39m(\u001b[38;5;28mrepr\u001b[39m(\u001b[38;5;28mself\u001b[39m))\n",
      "File \u001b[0;32m~/.local/share/virtualenvs/machine-learning-workgroup-01-74kK495_/lib/python3.12/site-packages/plotly/io/_renderers.py:394\u001b[0m, in \u001b[0;36mshow\u001b[0;34m(fig, renderer, validate, **kwargs)\u001b[0m\n\u001b[1;32m    389\u001b[0m         \u001b[38;5;28;01mraise\u001b[39;00m \u001b[38;5;167;01mValueError\u001b[39;00m(\n\u001b[1;32m    390\u001b[0m             \u001b[38;5;124m\"\u001b[39m\u001b[38;5;124mMime type rendering requires ipython but it is not installed\u001b[39m\u001b[38;5;124m\"\u001b[39m\n\u001b[1;32m    391\u001b[0m         )\n\u001b[1;32m    393\u001b[0m     \u001b[38;5;28;01mif\u001b[39;00m \u001b[38;5;129;01mnot\u001b[39;00m nbformat \u001b[38;5;129;01mor\u001b[39;00m Version(nbformat\u001b[38;5;241m.\u001b[39m__version__) \u001b[38;5;241m<\u001b[39m Version(\u001b[38;5;124m\"\u001b[39m\u001b[38;5;124m4.2.0\u001b[39m\u001b[38;5;124m\"\u001b[39m):\n\u001b[0;32m--> 394\u001b[0m         \u001b[38;5;28;01mraise\u001b[39;00m \u001b[38;5;167;01mValueError\u001b[39;00m(\n\u001b[1;32m    395\u001b[0m             \u001b[38;5;124m\"\u001b[39m\u001b[38;5;124mMime type rendering requires nbformat>=4.2.0 but it is not installed\u001b[39m\u001b[38;5;124m\"\u001b[39m\n\u001b[1;32m    396\u001b[0m         )\n\u001b[1;32m    398\u001b[0m     ipython_display\u001b[38;5;241m.\u001b[39mdisplay(bundle, raw\u001b[38;5;241m=\u001b[39m\u001b[38;5;28;01mTrue\u001b[39;00m)\n\u001b[1;32m    400\u001b[0m \u001b[38;5;66;03m# external renderers\u001b[39;00m\n",
      "\u001b[0;31mValueError\u001b[0m: Mime type rendering requires nbformat>=4.2.0 but it is not installed"
     ]
    },
    {
     "data": {
      "application/vnd.plotly.v1+json": {
       "config": {
        "plotlyServerURL": "https://plot.ly"
       },
       "data": [
        {
         "name": "Age",
         "type": "box",
         "x": [
          18,
          17,
          15,
          15,
          16,
          16,
          16,
          17,
          15,
          15,
          15,
          15,
          15,
          15,
          15,
          16,
          16,
          16,
          17,
          16,
          15,
          15,
          16,
          16,
          15,
          16,
          15,
          15,
          16,
          16,
          15,
          15,
          15,
          15,
          16,
          15,
          15,
          16,
          15,
          15,
          16,
          15,
          15,
          15,
          16,
          15,
          16,
          16,
          15,
          15,
          16,
          15,
          15,
          15,
          15,
          16,
          15,
          15,
          15,
          16,
          16,
          16,
          16,
          16,
          15,
          16,
          15,
          16,
          15,
          15,
          16,
          15,
          15,
          16,
          16,
          15,
          15,
          16,
          17,
          16,
          15,
          15,
          15,
          15,
          15,
          15,
          16,
          15,
          16,
          16,
          16,
          15,
          16,
          16,
          15,
          15,
          16,
          16,
          16,
          16,
          16,
          16,
          15,
          15,
          15,
          15,
          15,
          16,
          15,
          16,
          15,
          16,
          16,
          15,
          15,
          16,
          15,
          16,
          17,
          15,
          15,
          15,
          16,
          16,
          16,
          15,
          15,
          19,
          16,
          16,
          15,
          18,
          17,
          15,
          17,
          16,
          16,
          16,
          15,
          15,
          17,
          16,
          18,
          18,
          16,
          16,
          16,
          15,
          15,
          15,
          15,
          16,
          16,
          15,
          16,
          17,
          15,
          15,
          15,
          15,
          15,
          16,
          15,
          18,
          16,
          15,
          19,
          17,
          15,
          17,
          18,
          16,
          16,
          16,
          17,
          17,
          15,
          16,
          17,
          17,
          16,
          16,
          16,
          16,
          16,
          16,
          17,
          16,
          16,
          17,
          16,
          17,
          16,
          17,
          16,
          16,
          17,
          17,
          16,
          17,
          16,
          16,
          17,
          17,
          16,
          17,
          17,
          16,
          16,
          17,
          17,
          16,
          17,
          16,
          16,
          16,
          17,
          17,
          16,
          17,
          16,
          16,
          16,
          17,
          19,
          17,
          16,
          18,
          17,
          17,
          17,
          18,
          17,
          17,
          17,
          17,
          16,
          18,
          16,
          18,
          17,
          17,
          18,
          17,
          17,
          17,
          17,
          16,
          16,
          16,
          17,
          16,
          16,
          18,
          18,
          18,
          18,
          17,
          17,
          17,
          16,
          17,
          17,
          18,
          17,
          17,
          17,
          17,
          17,
          16,
          16,
          17,
          17,
          17,
          17,
          18,
          16,
          17,
          17,
          22,
          18,
          16,
          18,
          16,
          18,
          16,
          17,
          17,
          18,
          17,
          19,
          18,
          17,
          18,
          18,
          19,
          18,
          17,
          17,
          20,
          18,
          18,
          18,
          17,
          18,
          17,
          18,
          17,
          18,
          18,
          18,
          19,
          18,
          18,
          17,
          18,
          17,
          17,
          18,
          18,
          18,
          17,
          19,
          18,
          18,
          17,
          17,
          18,
          18,
          17,
          18,
          17,
          18,
          17,
          18,
          18,
          18,
          17,
          17,
          18,
          17,
          19,
          18,
          18,
          18,
          18,
          17,
          17,
          17,
          17,
          19,
          20,
          19,
          18,
          18,
          17,
          17,
          18,
          18,
          17,
          18,
          19,
          18,
          18,
          17,
          17,
          17,
          17,
          18,
          19,
          19,
          18,
          17,
          17,
          17,
          17,
          18,
          18,
          17,
          17,
          17,
          17,
          17,
          18,
          19,
          18,
          17,
          18,
          18,
          18,
          18,
          17,
          17,
          18,
          17,
          18,
          18,
          17,
          18,
          18,
          18,
          18,
          17,
          17,
          17,
          19,
          17,
          21,
          18,
          18,
          17,
          17,
          18,
          21,
          20,
          19,
          17,
          18,
          18,
          19,
          18,
          20,
          18,
          16,
          16,
          15,
          15,
          16,
          15,
          16,
          16,
          17,
          17,
          15,
          16,
          15,
          15,
          16,
          17,
          15,
          16,
          17,
          15,
          15,
          16,
          15,
          15,
          17,
          16,
          15,
          16,
          16,
          16,
          16,
          16,
          15,
          16,
          17,
          16,
          16,
          15,
          16,
          15,
          15,
          16,
          18,
          15,
          16,
          15,
          16,
          15,
          16,
          16,
          16,
          15,
          15,
          16,
          15,
          16,
          17,
          19,
          17,
          15,
          16,
          16,
          17,
          16,
          18,
          19,
          18,
          18,
          19,
          16,
          17,
          16,
          16,
          16,
          17,
          16,
          16,
          17,
          16,
          17,
          16,
          19,
          17,
          20,
          17,
          17,
          16,
          17,
          17,
          18,
          16,
          16,
          18,
          16,
          16,
          18,
          16,
          16,
          16,
          16,
          18,
          16,
          17,
          17,
          16,
          17,
          16,
          17,
          17,
          16,
          16,
          16,
          15,
          15,
          15,
          16,
          16,
          17,
          17,
          16,
          17,
          17,
          17,
          17,
          16,
          17,
          17,
          16,
          17,
          19,
          17,
          17,
          16,
          16,
          17,
          17,
          18,
          17,
          18,
          16,
          17,
          16,
          16,
          18,
          18,
          19,
          18,
          16,
          19,
          16,
          17,
          20,
          18,
          18,
          19,
          17,
          18,
          19,
          18,
          19,
          18,
          17,
          17,
          17,
          18,
          17,
          17,
          18,
          18,
          17,
          18,
          18,
          18,
          17,
          18,
          18,
          18,
          17,
          18,
          18,
          18,
          18,
          19,
          17,
          17,
          18,
          18,
          19,
          18,
          17,
          18,
          17,
          17,
          18,
          18,
          18,
          18,
          17,
          17,
          18,
          18,
          17,
          18,
          18,
          18,
          17,
          17,
          18,
          18,
          19,
          18,
          18,
          17,
          18,
          18,
          17,
          19,
          18,
          18,
          17,
          18,
          19,
          18,
          18,
          17,
          18
         ],
         "xaxis": "x",
         "yaxis": "y"
        },
        {
         "name": "Family Size",
         "type": "box",
         "x": [
          "GT3",
          "GT3",
          "LE3",
          "GT3",
          "GT3",
          "LE3",
          "LE3",
          "GT3",
          "LE3",
          "GT3",
          "GT3",
          "GT3",
          "LE3",
          "GT3",
          "GT3",
          "GT3",
          "GT3",
          "GT3",
          "GT3",
          "LE3",
          "GT3",
          "GT3",
          "LE3",
          "LE3",
          "GT3",
          "GT3",
          "GT3",
          "GT3",
          "LE3",
          "GT3",
          "GT3",
          "GT3",
          "GT3",
          "LE3",
          "GT3",
          "GT3",
          "LE3",
          "GT3",
          "GT3",
          "GT3",
          "LE3",
          "LE3",
          "GT3",
          "GT3",
          "LE3",
          "LE3",
          "LE3",
          "GT3",
          "GT3",
          "GT3",
          "LE3",
          "LE3",
          "LE3",
          "GT3",
          "LE3",
          "GT3",
          "GT3",
          "GT3",
          "LE3",
          "GT3",
          "GT3",
          "GT3",
          "LE3",
          "GT3",
          "LE3",
          "LE3",
          "GT3",
          "GT3",
          "LE3",
          "LE3",
          "GT3",
          "GT3",
          "GT3",
          "GT3",
          "GT3",
          "GT3",
          "GT3",
          "GT3",
          "GT3",
          "GT3",
          "GT3",
          "GT3",
          "LE3",
          "LE3",
          "GT3",
          "GT3",
          "LE3",
          "GT3",
          "GT3",
          "LE3",
          "GT3",
          "GT3",
          "LE3",
          "GT3",
          "LE3",
          "GT3",
          "GT3",
          "GT3",
          "GT3",
          "GT3",
          "GT3",
          "GT3",
          "GT3",
          "GT3",
          "GT3",
          "GT3",
          "GT3",
          "GT3",
          "GT3",
          "LE3",
          "LE3",
          "GT3",
          "GT3",
          "LE3",
          "GT3",
          "GT3",
          "GT3",
          "GT3",
          "GT3",
          "GT3",
          "GT3",
          "GT3",
          "LE3",
          "GT3",
          "GT3",
          "GT3",
          "LE3",
          "GT3",
          "GT3",
          "GT3",
          "GT3",
          "GT3",
          "LE3",
          "GT3",
          "LE3",
          "GT3",
          "GT3",
          "GT3",
          "GT3",
          "GT3",
          "GT3",
          "GT3",
          "LE3",
          "GT3",
          "GT3",
          "GT3",
          "LE3",
          "GT3",
          "GT3",
          "GT3",
          "GT3",
          "GT3",
          "LE3",
          "GT3",
          "LE3",
          "GT3",
          "GT3",
          "LE3",
          "GT3",
          "GT3",
          "GT3",
          "GT3",
          "LE3",
          "LE3",
          "LE3",
          "GT3",
          "GT3",
          "GT3",
          "GT3",
          "LE3",
          "GT3",
          "GT3",
          "GT3",
          "LE3",
          "LE3",
          "GT3",
          "LE3",
          "GT3",
          "LE3",
          "GT3",
          "GT3",
          "GT3",
          "GT3",
          "GT3",
          "GT3",
          "GT3",
          "LE3",
          "GT3",
          "LE3",
          "LE3",
          "GT3",
          "GT3",
          "GT3",
          "GT3",
          "GT3",
          "GT3",
          "GT3",
          "LE3",
          "GT3",
          "GT3",
          "GT3",
          "LE3",
          "GT3",
          "GT3",
          "GT3",
          "GT3",
          "GT3",
          "GT3",
          "GT3",
          "LE3",
          "GT3",
          "LE3",
          "GT3",
          "LE3",
          "GT3",
          "GT3",
          "GT3",
          "GT3",
          "GT3",
          "GT3",
          "GT3",
          "GT3",
          "GT3",
          "GT3",
          "GT3",
          "LE3",
          "GT3",
          "GT3",
          "LE3",
          "LE3",
          "GT3",
          "LE3",
          "GT3",
          "GT3",
          "GT3",
          "GT3",
          "GT3",
          "GT3",
          "GT3",
          "GT3",
          "GT3",
          "LE3",
          "LE3",
          "GT3",
          "LE3",
          "GT3",
          "GT3",
          "GT3",
          "LE3",
          "GT3",
          "LE3",
          "GT3",
          "GT3",
          "LE3",
          "LE3",
          "GT3",
          "GT3",
          "GT3",
          "GT3",
          "LE3",
          "GT3",
          "GT3",
          "LE3",
          "GT3",
          "LE3",
          "LE3",
          "LE3",
          "LE3",
          "LE3",
          "LE3",
          "GT3",
          "GT3",
          "GT3",
          "GT3",
          "GT3",
          "GT3",
          "GT3",
          "GT3",
          "GT3",
          "GT3",
          "LE3",
          "GT3",
          "GT3",
          "GT3",
          "GT3",
          "GT3",
          "GT3",
          "LE3",
          "LE3",
          "LE3",
          "GT3",
          "LE3",
          "GT3",
          "LE3",
          "GT3",
          "LE3",
          "GT3",
          "GT3",
          "LE3",
          "GT3",
          "GT3",
          "GT3",
          "GT3",
          "GT3",
          "GT3",
          "GT3",
          "LE3",
          "GT3",
          "GT3",
          "GT3",
          "GT3",
          "GT3",
          "GT3",
          "LE3",
          "GT3",
          "GT3",
          "GT3",
          "LE3",
          "GT3",
          "GT3",
          "GT3",
          "GT3",
          "GT3",
          "LE3",
          "GT3",
          "LE3",
          "LE3",
          "LE3",
          "GT3",
          "GT3",
          "GT3",
          "GT3",
          "GT3",
          "GT3",
          "GT3",
          "LE3",
          "GT3",
          "GT3",
          "LE3",
          "LE3",
          "GT3",
          "GT3",
          "LE3",
          "GT3",
          "LE3",
          "LE3",
          "LE3",
          "GT3",
          "GT3",
          "GT3",
          "LE3",
          "GT3",
          "GT3",
          "GT3",
          "GT3",
          "GT3",
          "GT3",
          "GT3",
          "LE3",
          "GT3",
          "GT3",
          "GT3",
          "GT3",
          "GT3",
          "GT3",
          "GT3",
          "LE3",
          "LE3",
          "LE3",
          "GT3",
          "LE3",
          "GT3",
          "GT3",
          "LE3",
          "GT3",
          "LE3",
          "GT3",
          "GT3",
          "GT3",
          "GT3",
          "GT3",
          "GT3",
          "GT3",
          "LE3",
          "GT3",
          "GT3",
          "GT3",
          "GT3",
          "GT3",
          "LE3",
          "GT3",
          "GT3",
          "GT3",
          "LE3",
          "GT3",
          "GT3",
          "LE3",
          "GT3",
          "GT3",
          "GT3",
          "GT3",
          "GT3",
          "GT3",
          "GT3",
          "GT3",
          "LE3",
          "GT3",
          "LE3",
          "LE3",
          "LE3",
          "GT3",
          "LE3",
          "LE3",
          "LE3",
          "GT3",
          "GT3",
          "LE3",
          "GT3",
          "GT3",
          "GT3",
          "LE3",
          "GT3",
          "GT3",
          "GT3",
          "GT3",
          "GT3",
          "GT3",
          "GT3",
          "LE3",
          "LE3",
          "GT3",
          "GT3",
          "GT3",
          "GT3",
          "LE3",
          "LE3",
          "LE3",
          "GT3",
          "GT3",
          "GT3",
          "GT3",
          "GT3",
          "LE3",
          "LE3",
          "GT3",
          "GT3",
          "LE3",
          "GT3",
          "GT3",
          "GT3",
          "GT3",
          "GT3",
          "GT3",
          "GT3",
          "GT3",
          "GT3",
          "GT3",
          "LE3",
          "GT3",
          "GT3",
          "GT3",
          "GT3",
          "GT3",
          "LE3",
          "GT3",
          "GT3",
          "GT3",
          "GT3",
          "GT3",
          "GT3",
          "GT3",
          "GT3",
          "LE3",
          "LE3",
          "LE3",
          "GT3",
          "LE3",
          "GT3",
          "GT3",
          "GT3",
          "GT3",
          "GT3",
          "LE3",
          "GT3",
          "LE3",
          "GT3",
          "GT3",
          "LE3",
          "GT3",
          "GT3",
          "GT3",
          "GT3",
          "GT3",
          "GT3",
          "LE3",
          "GT3",
          "LE3",
          "GT3",
          "GT3",
          "GT3",
          "GT3",
          "LE3",
          "LE3",
          "GT3",
          "LE3",
          "GT3",
          "GT3",
          "LE3",
          "GT3",
          "LE3",
          "GT3",
          "GT3",
          "GT3",
          "GT3",
          "GT3",
          "LE3",
          "GT3",
          "LE3",
          "GT3",
          "GT3",
          "LE3",
          "GT3",
          "GT3",
          "LE3",
          "LE3",
          "LE3",
          "GT3",
          "LE3",
          "GT3",
          "LE3",
          "GT3",
          "GT3",
          "GT3",
          "LE3",
          "LE3",
          "GT3",
          "LE3",
          "LE3",
          "LE3",
          "LE3",
          "GT3",
          "GT3",
          "GT3",
          "GT3",
          "LE3",
          "GT3",
          "GT3",
          "LE3",
          "GT3",
          "GT3",
          "LE3",
          "GT3",
          "GT3",
          "LE3",
          "GT3",
          "GT3",
          "LE3",
          "GT3",
          "GT3",
          "GT3",
          "GT3",
          "LE3",
          "LE3",
          "GT3",
          "GT3",
          "LE3",
          "GT3",
          "GT3",
          "GT3",
          "GT3",
          "GT3",
          "GT3",
          "GT3",
          "GT3",
          "GT3",
          "GT3",
          "GT3",
          "GT3",
          "GT3",
          "LE3",
          "GT3",
          "GT3",
          "LE3",
          "GT3",
          "GT3",
          "LE3",
          "GT3",
          "LE3",
          "GT3",
          "LE3",
          "GT3",
          "GT3",
          "GT3",
          "LE3",
          "GT3",
          "LE3",
          "GT3",
          "GT3",
          "LE3",
          "GT3",
          "GT3",
          "GT3",
          "LE3",
          "LE3",
          "GT3",
          "GT3",
          "GT3",
          "LE3",
          "LE3",
          "GT3",
          "GT3",
          "GT3",
          "GT3",
          "GT3",
          "GT3",
          "LE3",
          "LE3",
          "LE3",
          "LE3",
          "GT3",
          "LE3",
          "GT3",
          "GT3",
          "LE3",
          "GT3",
          "GT3",
          "GT3",
          "LE3",
          "GT3",
          "GT3",
          "LE3",
          "GT3",
          "GT3",
          "LE3",
          "GT3",
          "GT3",
          "GT3",
          "GT3",
          "GT3",
          "GT3",
          "GT3",
          "GT3",
          "GT3",
          "GT3",
          "GT3",
          "LE3",
          "GT3",
          "LE3",
          "LE3"
         ],
         "xaxis": "x2",
         "yaxis": "y2"
        }
       ],
       "layout": {
        "template": {
         "data": {
          "bar": [
           {
            "error_x": {
             "color": "#2a3f5f"
            },
            "error_y": {
             "color": "#2a3f5f"
            },
            "marker": {
             "line": {
              "color": "#E5ECF6",
              "width": 0.5
             },
             "pattern": {
              "fillmode": "overlay",
              "size": 10,
              "solidity": 0.2
             }
            },
            "type": "bar"
           }
          ],
          "barpolar": [
           {
            "marker": {
             "line": {
              "color": "#E5ECF6",
              "width": 0.5
             },
             "pattern": {
              "fillmode": "overlay",
              "size": 10,
              "solidity": 0.2
             }
            },
            "type": "barpolar"
           }
          ],
          "carpet": [
           {
            "aaxis": {
             "endlinecolor": "#2a3f5f",
             "gridcolor": "white",
             "linecolor": "white",
             "minorgridcolor": "white",
             "startlinecolor": "#2a3f5f"
            },
            "baxis": {
             "endlinecolor": "#2a3f5f",
             "gridcolor": "white",
             "linecolor": "white",
             "minorgridcolor": "white",
             "startlinecolor": "#2a3f5f"
            },
            "type": "carpet"
           }
          ],
          "choropleth": [
           {
            "colorbar": {
             "outlinewidth": 0,
             "ticks": ""
            },
            "type": "choropleth"
           }
          ],
          "contour": [
           {
            "colorbar": {
             "outlinewidth": 0,
             "ticks": ""
            },
            "colorscale": [
             [
              0,
              "#0d0887"
             ],
             [
              0.1111111111111111,
              "#46039f"
             ],
             [
              0.2222222222222222,
              "#7201a8"
             ],
             [
              0.3333333333333333,
              "#9c179e"
             ],
             [
              0.4444444444444444,
              "#bd3786"
             ],
             [
              0.5555555555555556,
              "#d8576b"
             ],
             [
              0.6666666666666666,
              "#ed7953"
             ],
             [
              0.7777777777777778,
              "#fb9f3a"
             ],
             [
              0.8888888888888888,
              "#fdca26"
             ],
             [
              1,
              "#f0f921"
             ]
            ],
            "type": "contour"
           }
          ],
          "contourcarpet": [
           {
            "colorbar": {
             "outlinewidth": 0,
             "ticks": ""
            },
            "type": "contourcarpet"
           }
          ],
          "heatmap": [
           {
            "colorbar": {
             "outlinewidth": 0,
             "ticks": ""
            },
            "colorscale": [
             [
              0,
              "#0d0887"
             ],
             [
              0.1111111111111111,
              "#46039f"
             ],
             [
              0.2222222222222222,
              "#7201a8"
             ],
             [
              0.3333333333333333,
              "#9c179e"
             ],
             [
              0.4444444444444444,
              "#bd3786"
             ],
             [
              0.5555555555555556,
              "#d8576b"
             ],
             [
              0.6666666666666666,
              "#ed7953"
             ],
             [
              0.7777777777777778,
              "#fb9f3a"
             ],
             [
              0.8888888888888888,
              "#fdca26"
             ],
             [
              1,
              "#f0f921"
             ]
            ],
            "type": "heatmap"
           }
          ],
          "heatmapgl": [
           {
            "colorbar": {
             "outlinewidth": 0,
             "ticks": ""
            },
            "colorscale": [
             [
              0,
              "#0d0887"
             ],
             [
              0.1111111111111111,
              "#46039f"
             ],
             [
              0.2222222222222222,
              "#7201a8"
             ],
             [
              0.3333333333333333,
              "#9c179e"
             ],
             [
              0.4444444444444444,
              "#bd3786"
             ],
             [
              0.5555555555555556,
              "#d8576b"
             ],
             [
              0.6666666666666666,
              "#ed7953"
             ],
             [
              0.7777777777777778,
              "#fb9f3a"
             ],
             [
              0.8888888888888888,
              "#fdca26"
             ],
             [
              1,
              "#f0f921"
             ]
            ],
            "type": "heatmapgl"
           }
          ],
          "histogram": [
           {
            "marker": {
             "pattern": {
              "fillmode": "overlay",
              "size": 10,
              "solidity": 0.2
             }
            },
            "type": "histogram"
           }
          ],
          "histogram2d": [
           {
            "colorbar": {
             "outlinewidth": 0,
             "ticks": ""
            },
            "colorscale": [
             [
              0,
              "#0d0887"
             ],
             [
              0.1111111111111111,
              "#46039f"
             ],
             [
              0.2222222222222222,
              "#7201a8"
             ],
             [
              0.3333333333333333,
              "#9c179e"
             ],
             [
              0.4444444444444444,
              "#bd3786"
             ],
             [
              0.5555555555555556,
              "#d8576b"
             ],
             [
              0.6666666666666666,
              "#ed7953"
             ],
             [
              0.7777777777777778,
              "#fb9f3a"
             ],
             [
              0.8888888888888888,
              "#fdca26"
             ],
             [
              1,
              "#f0f921"
             ]
            ],
            "type": "histogram2d"
           }
          ],
          "histogram2dcontour": [
           {
            "colorbar": {
             "outlinewidth": 0,
             "ticks": ""
            },
            "colorscale": [
             [
              0,
              "#0d0887"
             ],
             [
              0.1111111111111111,
              "#46039f"
             ],
             [
              0.2222222222222222,
              "#7201a8"
             ],
             [
              0.3333333333333333,
              "#9c179e"
             ],
             [
              0.4444444444444444,
              "#bd3786"
             ],
             [
              0.5555555555555556,
              "#d8576b"
             ],
             [
              0.6666666666666666,
              "#ed7953"
             ],
             [
              0.7777777777777778,
              "#fb9f3a"
             ],
             [
              0.8888888888888888,
              "#fdca26"
             ],
             [
              1,
              "#f0f921"
             ]
            ],
            "type": "histogram2dcontour"
           }
          ],
          "mesh3d": [
           {
            "colorbar": {
             "outlinewidth": 0,
             "ticks": ""
            },
            "type": "mesh3d"
           }
          ],
          "parcoords": [
           {
            "line": {
             "colorbar": {
              "outlinewidth": 0,
              "ticks": ""
             }
            },
            "type": "parcoords"
           }
          ],
          "pie": [
           {
            "automargin": true,
            "type": "pie"
           }
          ],
          "scatter": [
           {
            "fillpattern": {
             "fillmode": "overlay",
             "size": 10,
             "solidity": 0.2
            },
            "type": "scatter"
           }
          ],
          "scatter3d": [
           {
            "line": {
             "colorbar": {
              "outlinewidth": 0,
              "ticks": ""
             }
            },
            "marker": {
             "colorbar": {
              "outlinewidth": 0,
              "ticks": ""
             }
            },
            "type": "scatter3d"
           }
          ],
          "scattercarpet": [
           {
            "marker": {
             "colorbar": {
              "outlinewidth": 0,
              "ticks": ""
             }
            },
            "type": "scattercarpet"
           }
          ],
          "scattergeo": [
           {
            "marker": {
             "colorbar": {
              "outlinewidth": 0,
              "ticks": ""
             }
            },
            "type": "scattergeo"
           }
          ],
          "scattergl": [
           {
            "marker": {
             "colorbar": {
              "outlinewidth": 0,
              "ticks": ""
             }
            },
            "type": "scattergl"
           }
          ],
          "scattermapbox": [
           {
            "marker": {
             "colorbar": {
              "outlinewidth": 0,
              "ticks": ""
             }
            },
            "type": "scattermapbox"
           }
          ],
          "scatterpolar": [
           {
            "marker": {
             "colorbar": {
              "outlinewidth": 0,
              "ticks": ""
             }
            },
            "type": "scatterpolar"
           }
          ],
          "scatterpolargl": [
           {
            "marker": {
             "colorbar": {
              "outlinewidth": 0,
              "ticks": ""
             }
            },
            "type": "scatterpolargl"
           }
          ],
          "scatterternary": [
           {
            "marker": {
             "colorbar": {
              "outlinewidth": 0,
              "ticks": ""
             }
            },
            "type": "scatterternary"
           }
          ],
          "surface": [
           {
            "colorbar": {
             "outlinewidth": 0,
             "ticks": ""
            },
            "colorscale": [
             [
              0,
              "#0d0887"
             ],
             [
              0.1111111111111111,
              "#46039f"
             ],
             [
              0.2222222222222222,
              "#7201a8"
             ],
             [
              0.3333333333333333,
              "#9c179e"
             ],
             [
              0.4444444444444444,
              "#bd3786"
             ],
             [
              0.5555555555555556,
              "#d8576b"
             ],
             [
              0.6666666666666666,
              "#ed7953"
             ],
             [
              0.7777777777777778,
              "#fb9f3a"
             ],
             [
              0.8888888888888888,
              "#fdca26"
             ],
             [
              1,
              "#f0f921"
             ]
            ],
            "type": "surface"
           }
          ],
          "table": [
           {
            "cells": {
             "fill": {
              "color": "#EBF0F8"
             },
             "line": {
              "color": "white"
             }
            },
            "header": {
             "fill": {
              "color": "#C8D4E3"
             },
             "line": {
              "color": "white"
             }
            },
            "type": "table"
           }
          ]
         },
         "layout": {
          "annotationdefaults": {
           "arrowcolor": "#2a3f5f",
           "arrowhead": 0,
           "arrowwidth": 1
          },
          "autotypenumbers": "strict",
          "coloraxis": {
           "colorbar": {
            "outlinewidth": 0,
            "ticks": ""
           }
          },
          "colorscale": {
           "diverging": [
            [
             0,
             "#8e0152"
            ],
            [
             0.1,
             "#c51b7d"
            ],
            [
             0.2,
             "#de77ae"
            ],
            [
             0.3,
             "#f1b6da"
            ],
            [
             0.4,
             "#fde0ef"
            ],
            [
             0.5,
             "#f7f7f7"
            ],
            [
             0.6,
             "#e6f5d0"
            ],
            [
             0.7,
             "#b8e186"
            ],
            [
             0.8,
             "#7fbc41"
            ],
            [
             0.9,
             "#4d9221"
            ],
            [
             1,
             "#276419"
            ]
           ],
           "sequential": [
            [
             0,
             "#0d0887"
            ],
            [
             0.1111111111111111,
             "#46039f"
            ],
            [
             0.2222222222222222,
             "#7201a8"
            ],
            [
             0.3333333333333333,
             "#9c179e"
            ],
            [
             0.4444444444444444,
             "#bd3786"
            ],
            [
             0.5555555555555556,
             "#d8576b"
            ],
            [
             0.6666666666666666,
             "#ed7953"
            ],
            [
             0.7777777777777778,
             "#fb9f3a"
            ],
            [
             0.8888888888888888,
             "#fdca26"
            ],
            [
             1,
             "#f0f921"
            ]
           ],
           "sequentialminus": [
            [
             0,
             "#0d0887"
            ],
            [
             0.1111111111111111,
             "#46039f"
            ],
            [
             0.2222222222222222,
             "#7201a8"
            ],
            [
             0.3333333333333333,
             "#9c179e"
            ],
            [
             0.4444444444444444,
             "#bd3786"
            ],
            [
             0.5555555555555556,
             "#d8576b"
            ],
            [
             0.6666666666666666,
             "#ed7953"
            ],
            [
             0.7777777777777778,
             "#fb9f3a"
            ],
            [
             0.8888888888888888,
             "#fdca26"
            ],
            [
             1,
             "#f0f921"
            ]
           ]
          },
          "colorway": [
           "#636efa",
           "#EF553B",
           "#00cc96",
           "#ab63fa",
           "#FFA15A",
           "#19d3f3",
           "#FF6692",
           "#B6E880",
           "#FF97FF",
           "#FECB52"
          ],
          "font": {
           "color": "#2a3f5f"
          },
          "geo": {
           "bgcolor": "white",
           "lakecolor": "white",
           "landcolor": "#E5ECF6",
           "showlakes": true,
           "showland": true,
           "subunitcolor": "white"
          },
          "hoverlabel": {
           "align": "left"
          },
          "hovermode": "closest",
          "mapbox": {
           "style": "light"
          },
          "paper_bgcolor": "white",
          "plot_bgcolor": "#E5ECF6",
          "polar": {
           "angularaxis": {
            "gridcolor": "white",
            "linecolor": "white",
            "ticks": ""
           },
           "bgcolor": "#E5ECF6",
           "radialaxis": {
            "gridcolor": "white",
            "linecolor": "white",
            "ticks": ""
           }
          },
          "scene": {
           "xaxis": {
            "backgroundcolor": "#E5ECF6",
            "gridcolor": "white",
            "gridwidth": 2,
            "linecolor": "white",
            "showbackground": true,
            "ticks": "",
            "zerolinecolor": "white"
           },
           "yaxis": {
            "backgroundcolor": "#E5ECF6",
            "gridcolor": "white",
            "gridwidth": 2,
            "linecolor": "white",
            "showbackground": true,
            "ticks": "",
            "zerolinecolor": "white"
           },
           "zaxis": {
            "backgroundcolor": "#E5ECF6",
            "gridcolor": "white",
            "gridwidth": 2,
            "linecolor": "white",
            "showbackground": true,
            "ticks": "",
            "zerolinecolor": "white"
           }
          },
          "shapedefaults": {
           "line": {
            "color": "#2a3f5f"
           }
          },
          "ternary": {
           "aaxis": {
            "gridcolor": "white",
            "linecolor": "white",
            "ticks": ""
           },
           "baxis": {
            "gridcolor": "white",
            "linecolor": "white",
            "ticks": ""
           },
           "bgcolor": "#E5ECF6",
           "caxis": {
            "gridcolor": "white",
            "linecolor": "white",
            "ticks": ""
           }
          },
          "title": {
           "x": 0.05
          },
          "xaxis": {
           "automargin": true,
           "gridcolor": "white",
           "linecolor": "white",
           "ticks": "",
           "title": {
            "standoff": 15
           },
           "zerolinecolor": "white",
           "zerolinewidth": 2
          },
          "yaxis": {
           "automargin": true,
           "gridcolor": "white",
           "linecolor": "white",
           "ticks": "",
           "title": {
            "standoff": 15
           },
           "zerolinecolor": "white",
           "zerolinewidth": 2
          }
         }
        },
        "xaxis": {
         "anchor": "y",
         "domain": [
          0,
          1
         ]
        },
        "xaxis2": {
         "anchor": "y2",
         "domain": [
          0,
          1
         ]
        },
        "yaxis": {
         "anchor": "x",
         "domain": [
          0.575,
          1
         ]
        },
        "yaxis2": {
         "anchor": "x2",
         "domain": [
          0,
          0.425
         ]
        }
       }
      },
      "text/html": [
       "<div>                        <script type=\"text/javascript\">window.PlotlyConfig = {MathJaxConfig: 'local'};</script>\n",
       "        <script charset=\"utf-8\" src=\"https://cdn.plot.ly/plotly-2.35.2.min.js\"></script>                <div id=\"d175838c-1395-4b79-941f-a5a6ccff0a9f\" class=\"plotly-graph-div\" style=\"height:100%; width:100%;\"></div>            <script type=\"text/javascript\">                                    window.PLOTLYENV=window.PLOTLYENV || {};                                    if (document.getElementById(\"d175838c-1395-4b79-941f-a5a6ccff0a9f\")) {                    Plotly.newPlot(                        \"d175838c-1395-4b79-941f-a5a6ccff0a9f\",                        [{\"name\":\"Age\",\"x\":[18,17,15,15,16,16,16,17,15,15,15,15,15,15,15,16,16,16,17,16,15,15,16,16,15,16,15,15,16,16,15,15,15,15,16,15,15,16,15,15,16,15,15,15,16,15,16,16,15,15,16,15,15,15,15,16,15,15,15,16,16,16,16,16,15,16,15,16,15,15,16,15,15,16,16,15,15,16,17,16,15,15,15,15,15,15,16,15,16,16,16,15,16,16,15,15,16,16,16,16,16,16,15,15,15,15,15,16,15,16,15,16,16,15,15,16,15,16,17,15,15,15,16,16,16,15,15,19,16,16,15,18,17,15,17,16,16,16,15,15,17,16,18,18,16,16,16,15,15,15,15,16,16,15,16,17,15,15,15,15,15,16,15,18,16,15,19,17,15,17,18,16,16,16,17,17,15,16,17,17,16,16,16,16,16,16,17,16,16,17,16,17,16,17,16,16,17,17,16,17,16,16,17,17,16,17,17,16,16,17,17,16,17,16,16,16,17,17,16,17,16,16,16,17,19,17,16,18,17,17,17,18,17,17,17,17,16,18,16,18,17,17,18,17,17,17,17,16,16,16,17,16,16,18,18,18,18,17,17,17,16,17,17,18,17,17,17,17,17,16,16,17,17,17,17,18,16,17,17,22,18,16,18,16,18,16,17,17,18,17,19,18,17,18,18,19,18,17,17,20,18,18,18,17,18,17,18,17,18,18,18,19,18,18,17,18,17,17,18,18,18,17,19,18,18,17,17,18,18,17,18,17,18,17,18,18,18,17,17,18,17,19,18,18,18,18,17,17,17,17,19,20,19,18,18,17,17,18,18,17,18,19,18,18,17,17,17,17,18,19,19,18,17,17,17,17,18,18,17,17,17,17,17,18,19,18,17,18,18,18,18,17,17,18,17,18,18,17,18,18,18,18,17,17,17,19,17,21,18,18,17,17,18,21,20,19,17,18,18,19,18,20,18,16,16,15,15,16,15,16,16,17,17,15,16,15,15,16,17,15,16,17,15,15,16,15,15,17,16,15,16,16,16,16,16,15,16,17,16,16,15,16,15,15,16,18,15,16,15,16,15,16,16,16,15,15,16,15,16,17,19,17,15,16,16,17,16,18,19,18,18,19,16,17,16,16,16,17,16,16,17,16,17,16,19,17,20,17,17,16,17,17,18,16,16,18,16,16,18,16,16,16,16,18,16,17,17,16,17,16,17,17,16,16,16,15,15,15,16,16,17,17,16,17,17,17,17,16,17,17,16,17,19,17,17,16,16,17,17,18,17,18,16,17,16,16,18,18,19,18,16,19,16,17,20,18,18,19,17,18,19,18,19,18,17,17,17,18,17,17,18,18,17,18,18,18,17,18,18,18,17,18,18,18,18,19,17,17,18,18,19,18,17,18,17,17,18,18,18,18,17,17,18,18,17,18,18,18,17,17,18,18,19,18,18,17,18,18,17,19,18,18,17,18,19,18,18,17,18],\"type\":\"box\",\"xaxis\":\"x\",\"yaxis\":\"y\"},{\"name\":\"Family Size\",\"x\":[\"GT3\",\"GT3\",\"LE3\",\"GT3\",\"GT3\",\"LE3\",\"LE3\",\"GT3\",\"LE3\",\"GT3\",\"GT3\",\"GT3\",\"LE3\",\"GT3\",\"GT3\",\"GT3\",\"GT3\",\"GT3\",\"GT3\",\"LE3\",\"GT3\",\"GT3\",\"LE3\",\"LE3\",\"GT3\",\"GT3\",\"GT3\",\"GT3\",\"LE3\",\"GT3\",\"GT3\",\"GT3\",\"GT3\",\"LE3\",\"GT3\",\"GT3\",\"LE3\",\"GT3\",\"GT3\",\"GT3\",\"LE3\",\"LE3\",\"GT3\",\"GT3\",\"LE3\",\"LE3\",\"LE3\",\"GT3\",\"GT3\",\"GT3\",\"LE3\",\"LE3\",\"LE3\",\"GT3\",\"LE3\",\"GT3\",\"GT3\",\"GT3\",\"LE3\",\"GT3\",\"GT3\",\"GT3\",\"LE3\",\"GT3\",\"LE3\",\"LE3\",\"GT3\",\"GT3\",\"LE3\",\"LE3\",\"GT3\",\"GT3\",\"GT3\",\"GT3\",\"GT3\",\"GT3\",\"GT3\",\"GT3\",\"GT3\",\"GT3\",\"GT3\",\"GT3\",\"LE3\",\"LE3\",\"GT3\",\"GT3\",\"LE3\",\"GT3\",\"GT3\",\"LE3\",\"GT3\",\"GT3\",\"LE3\",\"GT3\",\"LE3\",\"GT3\",\"GT3\",\"GT3\",\"GT3\",\"GT3\",\"GT3\",\"GT3\",\"GT3\",\"GT3\",\"GT3\",\"GT3\",\"GT3\",\"GT3\",\"GT3\",\"LE3\",\"LE3\",\"GT3\",\"GT3\",\"LE3\",\"GT3\",\"GT3\",\"GT3\",\"GT3\",\"GT3\",\"GT3\",\"GT3\",\"GT3\",\"LE3\",\"GT3\",\"GT3\",\"GT3\",\"LE3\",\"GT3\",\"GT3\",\"GT3\",\"GT3\",\"GT3\",\"LE3\",\"GT3\",\"LE3\",\"GT3\",\"GT3\",\"GT3\",\"GT3\",\"GT3\",\"GT3\",\"GT3\",\"LE3\",\"GT3\",\"GT3\",\"GT3\",\"LE3\",\"GT3\",\"GT3\",\"GT3\",\"GT3\",\"GT3\",\"LE3\",\"GT3\",\"LE3\",\"GT3\",\"GT3\",\"LE3\",\"GT3\",\"GT3\",\"GT3\",\"GT3\",\"LE3\",\"LE3\",\"LE3\",\"GT3\",\"GT3\",\"GT3\",\"GT3\",\"LE3\",\"GT3\",\"GT3\",\"GT3\",\"LE3\",\"LE3\",\"GT3\",\"LE3\",\"GT3\",\"LE3\",\"GT3\",\"GT3\",\"GT3\",\"GT3\",\"GT3\",\"GT3\",\"GT3\",\"LE3\",\"GT3\",\"LE3\",\"LE3\",\"GT3\",\"GT3\",\"GT3\",\"GT3\",\"GT3\",\"GT3\",\"GT3\",\"LE3\",\"GT3\",\"GT3\",\"GT3\",\"LE3\",\"GT3\",\"GT3\",\"GT3\",\"GT3\",\"GT3\",\"GT3\",\"GT3\",\"LE3\",\"GT3\",\"LE3\",\"GT3\",\"LE3\",\"GT3\",\"GT3\",\"GT3\",\"GT3\",\"GT3\",\"GT3\",\"GT3\",\"GT3\",\"GT3\",\"GT3\",\"GT3\",\"LE3\",\"GT3\",\"GT3\",\"LE3\",\"LE3\",\"GT3\",\"LE3\",\"GT3\",\"GT3\",\"GT3\",\"GT3\",\"GT3\",\"GT3\",\"GT3\",\"GT3\",\"GT3\",\"LE3\",\"LE3\",\"GT3\",\"LE3\",\"GT3\",\"GT3\",\"GT3\",\"LE3\",\"GT3\",\"LE3\",\"GT3\",\"GT3\",\"LE3\",\"LE3\",\"GT3\",\"GT3\",\"GT3\",\"GT3\",\"LE3\",\"GT3\",\"GT3\",\"LE3\",\"GT3\",\"LE3\",\"LE3\",\"LE3\",\"LE3\",\"LE3\",\"LE3\",\"GT3\",\"GT3\",\"GT3\",\"GT3\",\"GT3\",\"GT3\",\"GT3\",\"GT3\",\"GT3\",\"GT3\",\"LE3\",\"GT3\",\"GT3\",\"GT3\",\"GT3\",\"GT3\",\"GT3\",\"LE3\",\"LE3\",\"LE3\",\"GT3\",\"LE3\",\"GT3\",\"LE3\",\"GT3\",\"LE3\",\"GT3\",\"GT3\",\"LE3\",\"GT3\",\"GT3\",\"GT3\",\"GT3\",\"GT3\",\"GT3\",\"GT3\",\"LE3\",\"GT3\",\"GT3\",\"GT3\",\"GT3\",\"GT3\",\"GT3\",\"LE3\",\"GT3\",\"GT3\",\"GT3\",\"LE3\",\"GT3\",\"GT3\",\"GT3\",\"GT3\",\"GT3\",\"LE3\",\"GT3\",\"LE3\",\"LE3\",\"LE3\",\"GT3\",\"GT3\",\"GT3\",\"GT3\",\"GT3\",\"GT3\",\"GT3\",\"LE3\",\"GT3\",\"GT3\",\"LE3\",\"LE3\",\"GT3\",\"GT3\",\"LE3\",\"GT3\",\"LE3\",\"LE3\",\"LE3\",\"GT3\",\"GT3\",\"GT3\",\"LE3\",\"GT3\",\"GT3\",\"GT3\",\"GT3\",\"GT3\",\"GT3\",\"GT3\",\"LE3\",\"GT3\",\"GT3\",\"GT3\",\"GT3\",\"GT3\",\"GT3\",\"GT3\",\"LE3\",\"LE3\",\"LE3\",\"GT3\",\"LE3\",\"GT3\",\"GT3\",\"LE3\",\"GT3\",\"LE3\",\"GT3\",\"GT3\",\"GT3\",\"GT3\",\"GT3\",\"GT3\",\"GT3\",\"LE3\",\"GT3\",\"GT3\",\"GT3\",\"GT3\",\"GT3\",\"LE3\",\"GT3\",\"GT3\",\"GT3\",\"LE3\",\"GT3\",\"GT3\",\"LE3\",\"GT3\",\"GT3\",\"GT3\",\"GT3\",\"GT3\",\"GT3\",\"GT3\",\"GT3\",\"LE3\",\"GT3\",\"LE3\",\"LE3\",\"LE3\",\"GT3\",\"LE3\",\"LE3\",\"LE3\",\"GT3\",\"GT3\",\"LE3\",\"GT3\",\"GT3\",\"GT3\",\"LE3\",\"GT3\",\"GT3\",\"GT3\",\"GT3\",\"GT3\",\"GT3\",\"GT3\",\"LE3\",\"LE3\",\"GT3\",\"GT3\",\"GT3\",\"GT3\",\"LE3\",\"LE3\",\"LE3\",\"GT3\",\"GT3\",\"GT3\",\"GT3\",\"GT3\",\"LE3\",\"LE3\",\"GT3\",\"GT3\",\"LE3\",\"GT3\",\"GT3\",\"GT3\",\"GT3\",\"GT3\",\"GT3\",\"GT3\",\"GT3\",\"GT3\",\"GT3\",\"LE3\",\"GT3\",\"GT3\",\"GT3\",\"GT3\",\"GT3\",\"LE3\",\"GT3\",\"GT3\",\"GT3\",\"GT3\",\"GT3\",\"GT3\",\"GT3\",\"GT3\",\"LE3\",\"LE3\",\"LE3\",\"GT3\",\"LE3\",\"GT3\",\"GT3\",\"GT3\",\"GT3\",\"GT3\",\"LE3\",\"GT3\",\"LE3\",\"GT3\",\"GT3\",\"LE3\",\"GT3\",\"GT3\",\"GT3\",\"GT3\",\"GT3\",\"GT3\",\"LE3\",\"GT3\",\"LE3\",\"GT3\",\"GT3\",\"GT3\",\"GT3\",\"LE3\",\"LE3\",\"GT3\",\"LE3\",\"GT3\",\"GT3\",\"LE3\",\"GT3\",\"LE3\",\"GT3\",\"GT3\",\"GT3\",\"GT3\",\"GT3\",\"LE3\",\"GT3\",\"LE3\",\"GT3\",\"GT3\",\"LE3\",\"GT3\",\"GT3\",\"LE3\",\"LE3\",\"LE3\",\"GT3\",\"LE3\",\"GT3\",\"LE3\",\"GT3\",\"GT3\",\"GT3\",\"LE3\",\"LE3\",\"GT3\",\"LE3\",\"LE3\",\"LE3\",\"LE3\",\"GT3\",\"GT3\",\"GT3\",\"GT3\",\"LE3\",\"GT3\",\"GT3\",\"LE3\",\"GT3\",\"GT3\",\"LE3\",\"GT3\",\"GT3\",\"LE3\",\"GT3\",\"GT3\",\"LE3\",\"GT3\",\"GT3\",\"GT3\",\"GT3\",\"LE3\",\"LE3\",\"GT3\",\"GT3\",\"LE3\",\"GT3\",\"GT3\",\"GT3\",\"GT3\",\"GT3\",\"GT3\",\"GT3\",\"GT3\",\"GT3\",\"GT3\",\"GT3\",\"GT3\",\"GT3\",\"LE3\",\"GT3\",\"GT3\",\"LE3\",\"GT3\",\"GT3\",\"LE3\",\"GT3\",\"LE3\",\"GT3\",\"LE3\",\"GT3\",\"GT3\",\"GT3\",\"LE3\",\"GT3\",\"LE3\",\"GT3\",\"GT3\",\"LE3\",\"GT3\",\"GT3\",\"GT3\",\"LE3\",\"LE3\",\"GT3\",\"GT3\",\"GT3\",\"LE3\",\"LE3\",\"GT3\",\"GT3\",\"GT3\",\"GT3\",\"GT3\",\"GT3\",\"LE3\",\"LE3\",\"LE3\",\"LE3\",\"GT3\",\"LE3\",\"GT3\",\"GT3\",\"LE3\",\"GT3\",\"GT3\",\"GT3\",\"LE3\",\"GT3\",\"GT3\",\"LE3\",\"GT3\",\"GT3\",\"LE3\",\"GT3\",\"GT3\",\"GT3\",\"GT3\",\"GT3\",\"GT3\",\"GT3\",\"GT3\",\"GT3\",\"GT3\",\"GT3\",\"LE3\",\"GT3\",\"LE3\",\"LE3\"],\"type\":\"box\",\"xaxis\":\"x2\",\"yaxis\":\"y2\"}],                        {\"template\":{\"data\":{\"histogram2dcontour\":[{\"type\":\"histogram2dcontour\",\"colorbar\":{\"outlinewidth\":0,\"ticks\":\"\"},\"colorscale\":[[0.0,\"#0d0887\"],[0.1111111111111111,\"#46039f\"],[0.2222222222222222,\"#7201a8\"],[0.3333333333333333,\"#9c179e\"],[0.4444444444444444,\"#bd3786\"],[0.5555555555555556,\"#d8576b\"],[0.6666666666666666,\"#ed7953\"],[0.7777777777777778,\"#fb9f3a\"],[0.8888888888888888,\"#fdca26\"],[1.0,\"#f0f921\"]]}],\"choropleth\":[{\"type\":\"choropleth\",\"colorbar\":{\"outlinewidth\":0,\"ticks\":\"\"}}],\"histogram2d\":[{\"type\":\"histogram2d\",\"colorbar\":{\"outlinewidth\":0,\"ticks\":\"\"},\"colorscale\":[[0.0,\"#0d0887\"],[0.1111111111111111,\"#46039f\"],[0.2222222222222222,\"#7201a8\"],[0.3333333333333333,\"#9c179e\"],[0.4444444444444444,\"#bd3786\"],[0.5555555555555556,\"#d8576b\"],[0.6666666666666666,\"#ed7953\"],[0.7777777777777778,\"#fb9f3a\"],[0.8888888888888888,\"#fdca26\"],[1.0,\"#f0f921\"]]}],\"heatmap\":[{\"type\":\"heatmap\",\"colorbar\":{\"outlinewidth\":0,\"ticks\":\"\"},\"colorscale\":[[0.0,\"#0d0887\"],[0.1111111111111111,\"#46039f\"],[0.2222222222222222,\"#7201a8\"],[0.3333333333333333,\"#9c179e\"],[0.4444444444444444,\"#bd3786\"],[0.5555555555555556,\"#d8576b\"],[0.6666666666666666,\"#ed7953\"],[0.7777777777777778,\"#fb9f3a\"],[0.8888888888888888,\"#fdca26\"],[1.0,\"#f0f921\"]]}],\"heatmapgl\":[{\"type\":\"heatmapgl\",\"colorbar\":{\"outlinewidth\":0,\"ticks\":\"\"},\"colorscale\":[[0.0,\"#0d0887\"],[0.1111111111111111,\"#46039f\"],[0.2222222222222222,\"#7201a8\"],[0.3333333333333333,\"#9c179e\"],[0.4444444444444444,\"#bd3786\"],[0.5555555555555556,\"#d8576b\"],[0.6666666666666666,\"#ed7953\"],[0.7777777777777778,\"#fb9f3a\"],[0.8888888888888888,\"#fdca26\"],[1.0,\"#f0f921\"]]}],\"contourcarpet\":[{\"type\":\"contourcarpet\",\"colorbar\":{\"outlinewidth\":0,\"ticks\":\"\"}}],\"contour\":[{\"type\":\"contour\",\"colorbar\":{\"outlinewidth\":0,\"ticks\":\"\"},\"colorscale\":[[0.0,\"#0d0887\"],[0.1111111111111111,\"#46039f\"],[0.2222222222222222,\"#7201a8\"],[0.3333333333333333,\"#9c179e\"],[0.4444444444444444,\"#bd3786\"],[0.5555555555555556,\"#d8576b\"],[0.6666666666666666,\"#ed7953\"],[0.7777777777777778,\"#fb9f3a\"],[0.8888888888888888,\"#fdca26\"],[1.0,\"#f0f921\"]]}],\"surface\":[{\"type\":\"surface\",\"colorbar\":{\"outlinewidth\":0,\"ticks\":\"\"},\"colorscale\":[[0.0,\"#0d0887\"],[0.1111111111111111,\"#46039f\"],[0.2222222222222222,\"#7201a8\"],[0.3333333333333333,\"#9c179e\"],[0.4444444444444444,\"#bd3786\"],[0.5555555555555556,\"#d8576b\"],[0.6666666666666666,\"#ed7953\"],[0.7777777777777778,\"#fb9f3a\"],[0.8888888888888888,\"#fdca26\"],[1.0,\"#f0f921\"]]}],\"mesh3d\":[{\"type\":\"mesh3d\",\"colorbar\":{\"outlinewidth\":0,\"ticks\":\"\"}}],\"scatter\":[{\"fillpattern\":{\"fillmode\":\"overlay\",\"size\":10,\"solidity\":0.2},\"type\":\"scatter\"}],\"parcoords\":[{\"type\":\"parcoords\",\"line\":{\"colorbar\":{\"outlinewidth\":0,\"ticks\":\"\"}}}],\"scatterpolargl\":[{\"type\":\"scatterpolargl\",\"marker\":{\"colorbar\":{\"outlinewidth\":0,\"ticks\":\"\"}}}],\"bar\":[{\"error_x\":{\"color\":\"#2a3f5f\"},\"error_y\":{\"color\":\"#2a3f5f\"},\"marker\":{\"line\":{\"color\":\"#E5ECF6\",\"width\":0.5},\"pattern\":{\"fillmode\":\"overlay\",\"size\":10,\"solidity\":0.2}},\"type\":\"bar\"}],\"scattergeo\":[{\"type\":\"scattergeo\",\"marker\":{\"colorbar\":{\"outlinewidth\":0,\"ticks\":\"\"}}}],\"scatterpolar\":[{\"type\":\"scatterpolar\",\"marker\":{\"colorbar\":{\"outlinewidth\":0,\"ticks\":\"\"}}}],\"histogram\":[{\"marker\":{\"pattern\":{\"fillmode\":\"overlay\",\"size\":10,\"solidity\":0.2}},\"type\":\"histogram\"}],\"scattergl\":[{\"type\":\"scattergl\",\"marker\":{\"colorbar\":{\"outlinewidth\":0,\"ticks\":\"\"}}}],\"scatter3d\":[{\"type\":\"scatter3d\",\"line\":{\"colorbar\":{\"outlinewidth\":0,\"ticks\":\"\"}},\"marker\":{\"colorbar\":{\"outlinewidth\":0,\"ticks\":\"\"}}}],\"scattermapbox\":[{\"type\":\"scattermapbox\",\"marker\":{\"colorbar\":{\"outlinewidth\":0,\"ticks\":\"\"}}}],\"scatterternary\":[{\"type\":\"scatterternary\",\"marker\":{\"colorbar\":{\"outlinewidth\":0,\"ticks\":\"\"}}}],\"scattercarpet\":[{\"type\":\"scattercarpet\",\"marker\":{\"colorbar\":{\"outlinewidth\":0,\"ticks\":\"\"}}}],\"carpet\":[{\"aaxis\":{\"endlinecolor\":\"#2a3f5f\",\"gridcolor\":\"white\",\"linecolor\":\"white\",\"minorgridcolor\":\"white\",\"startlinecolor\":\"#2a3f5f\"},\"baxis\":{\"endlinecolor\":\"#2a3f5f\",\"gridcolor\":\"white\",\"linecolor\":\"white\",\"minorgridcolor\":\"white\",\"startlinecolor\":\"#2a3f5f\"},\"type\":\"carpet\"}],\"table\":[{\"cells\":{\"fill\":{\"color\":\"#EBF0F8\"},\"line\":{\"color\":\"white\"}},\"header\":{\"fill\":{\"color\":\"#C8D4E3\"},\"line\":{\"color\":\"white\"}},\"type\":\"table\"}],\"barpolar\":[{\"marker\":{\"line\":{\"color\":\"#E5ECF6\",\"width\":0.5},\"pattern\":{\"fillmode\":\"overlay\",\"size\":10,\"solidity\":0.2}},\"type\":\"barpolar\"}],\"pie\":[{\"automargin\":true,\"type\":\"pie\"}]},\"layout\":{\"autotypenumbers\":\"strict\",\"colorway\":[\"#636efa\",\"#EF553B\",\"#00cc96\",\"#ab63fa\",\"#FFA15A\",\"#19d3f3\",\"#FF6692\",\"#B6E880\",\"#FF97FF\",\"#FECB52\"],\"font\":{\"color\":\"#2a3f5f\"},\"hovermode\":\"closest\",\"hoverlabel\":{\"align\":\"left\"},\"paper_bgcolor\":\"white\",\"plot_bgcolor\":\"#E5ECF6\",\"polar\":{\"bgcolor\":\"#E5ECF6\",\"angularaxis\":{\"gridcolor\":\"white\",\"linecolor\":\"white\",\"ticks\":\"\"},\"radialaxis\":{\"gridcolor\":\"white\",\"linecolor\":\"white\",\"ticks\":\"\"}},\"ternary\":{\"bgcolor\":\"#E5ECF6\",\"aaxis\":{\"gridcolor\":\"white\",\"linecolor\":\"white\",\"ticks\":\"\"},\"baxis\":{\"gridcolor\":\"white\",\"linecolor\":\"white\",\"ticks\":\"\"},\"caxis\":{\"gridcolor\":\"white\",\"linecolor\":\"white\",\"ticks\":\"\"}},\"coloraxis\":{\"colorbar\":{\"outlinewidth\":0,\"ticks\":\"\"}},\"colorscale\":{\"sequential\":[[0.0,\"#0d0887\"],[0.1111111111111111,\"#46039f\"],[0.2222222222222222,\"#7201a8\"],[0.3333333333333333,\"#9c179e\"],[0.4444444444444444,\"#bd3786\"],[0.5555555555555556,\"#d8576b\"],[0.6666666666666666,\"#ed7953\"],[0.7777777777777778,\"#fb9f3a\"],[0.8888888888888888,\"#fdca26\"],[1.0,\"#f0f921\"]],\"sequentialminus\":[[0.0,\"#0d0887\"],[0.1111111111111111,\"#46039f\"],[0.2222222222222222,\"#7201a8\"],[0.3333333333333333,\"#9c179e\"],[0.4444444444444444,\"#bd3786\"],[0.5555555555555556,\"#d8576b\"],[0.6666666666666666,\"#ed7953\"],[0.7777777777777778,\"#fb9f3a\"],[0.8888888888888888,\"#fdca26\"],[1.0,\"#f0f921\"]],\"diverging\":[[0,\"#8e0152\"],[0.1,\"#c51b7d\"],[0.2,\"#de77ae\"],[0.3,\"#f1b6da\"],[0.4,\"#fde0ef\"],[0.5,\"#f7f7f7\"],[0.6,\"#e6f5d0\"],[0.7,\"#b8e186\"],[0.8,\"#7fbc41\"],[0.9,\"#4d9221\"],[1,\"#276419\"]]},\"xaxis\":{\"gridcolor\":\"white\",\"linecolor\":\"white\",\"ticks\":\"\",\"title\":{\"standoff\":15},\"zerolinecolor\":\"white\",\"automargin\":true,\"zerolinewidth\":2},\"yaxis\":{\"gridcolor\":\"white\",\"linecolor\":\"white\",\"ticks\":\"\",\"title\":{\"standoff\":15},\"zerolinecolor\":\"white\",\"automargin\":true,\"zerolinewidth\":2},\"scene\":{\"xaxis\":{\"backgroundcolor\":\"#E5ECF6\",\"gridcolor\":\"white\",\"linecolor\":\"white\",\"showbackground\":true,\"ticks\":\"\",\"zerolinecolor\":\"white\",\"gridwidth\":2},\"yaxis\":{\"backgroundcolor\":\"#E5ECF6\",\"gridcolor\":\"white\",\"linecolor\":\"white\",\"showbackground\":true,\"ticks\":\"\",\"zerolinecolor\":\"white\",\"gridwidth\":2},\"zaxis\":{\"backgroundcolor\":\"#E5ECF6\",\"gridcolor\":\"white\",\"linecolor\":\"white\",\"showbackground\":true,\"ticks\":\"\",\"zerolinecolor\":\"white\",\"gridwidth\":2}},\"shapedefaults\":{\"line\":{\"color\":\"#2a3f5f\"}},\"annotationdefaults\":{\"arrowcolor\":\"#2a3f5f\",\"arrowhead\":0,\"arrowwidth\":1},\"geo\":{\"bgcolor\":\"white\",\"landcolor\":\"#E5ECF6\",\"subunitcolor\":\"white\",\"showland\":true,\"showlakes\":true,\"lakecolor\":\"white\"},\"title\":{\"x\":0.05},\"mapbox\":{\"style\":\"light\"}}},\"xaxis\":{\"anchor\":\"y\",\"domain\":[0.0,1.0]},\"yaxis\":{\"anchor\":\"x\",\"domain\":[0.575,1.0]},\"xaxis2\":{\"anchor\":\"y2\",\"domain\":[0.0,1.0]},\"yaxis2\":{\"anchor\":\"x2\",\"domain\":[0.0,0.425]}},                        {\"responsive\": true}                    )                };                            </script>        </div>"
      ],
      "text/plain": [
       "Figure({\n",
       "    'data': [{'name': 'Age',\n",
       "              'type': 'box',\n",
       "              'x': array([18, 17, 15, ..., 18, 17, 18]),\n",
       "              'xaxis': 'x',\n",
       "              'yaxis': 'y'},\n",
       "             {'name': 'Family Size',\n",
       "              'type': 'box',\n",
       "              'x': array(['GT3', 'GT3', 'LE3', ..., 'GT3', 'LE3', 'LE3'], dtype=object),\n",
       "              'xaxis': 'x2',\n",
       "              'yaxis': 'y2'}],\n",
       "    'layout': {'template': '...',\n",
       "               'xaxis': {'anchor': 'y', 'domain': [0.0, 1.0]},\n",
       "               'xaxis2': {'anchor': 'y2', 'domain': [0.0, 1.0]},\n",
       "               'yaxis': {'anchor': 'x', 'domain': [0.575, 1.0]},\n",
       "               'yaxis2': {'anchor': 'x2', 'domain': [0.0, 0.425]}}\n",
       "})"
      ]
     },
     "execution_count": 96,
     "metadata": {},
     "output_type": "execute_result"
    }
   ],
   "source": [
    "fig = make_subplots(rows=2, cols=1)\n",
    "fig.add_trace(go.Box(x=df['age'], name='Age'), row=1, col=1)\n",
    "fig.add_trace(go.Box(x=df['family_size'], name='Family Size'), row=2, col=1)\n",
    "\n"
   ]
  },
  {
   "cell_type": "code",
   "execution_count": null,
   "metadata": {},
   "outputs": [],
   "source": []
  }
 ],
 "metadata": {
  "kernelspec": {
   "display_name": "machine-learning-workgroup-01-74kK495_",
   "language": "python",
   "name": "python3"
  },
  "language_info": {
   "codemirror_mode": {
    "name": "ipython",
    "version": 3
   },
   "file_extension": ".py",
   "mimetype": "text/x-python",
   "name": "python",
   "nbconvert_exporter": "python",
   "pygments_lexer": "ipython3",
   "version": "3.12.4"
  }
 },
 "nbformat": 4,
 "nbformat_minor": 2
}
