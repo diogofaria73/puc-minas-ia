{
 "cells": [
  {
   "cell_type": "markdown",
   "metadata": {},
   "source": [
    "# Student Dropout Prediction\n",
    "\n",
    "### Problem:\n",
    "\n",
    "School dropout and educational failure pose significant challenges to economic growth and societal well-being, directly impacting students, families, institutions, and the broader community. \n",
    "\n",
    "According to **Education Data Initiative**, around **40% of undergraduate students** drop out before completing their degree. College dropouts face more financial challenges, earning an average of **35% less income** and experiencing a **20% higher unemployment rate** compared to their peers who graduate.\n",
    "\n",
    "### Objective:\n",
    "\n",
    "In this project, I aim to build a **classification model** to predict students' dropout and identify which students need more support to prevent them from dropping out.\n"
   ]
  },
  {
   "cell_type": "markdown",
   "metadata": {},
   "source": [
    "# 1.0 - EDA - Expoloratory Data Analysis"
   ]
  },
  {
   "cell_type": "code",
   "execution_count": 98,
   "metadata": {},
   "outputs": [],
   "source": [
    "# Import main libraries\n",
    "import pandas as pd # data processing, CSV file I/O (e.g. pd.read_csv)\n",
    "from plotly.subplots import make_subplots \n",
    "import plotly.graph_objects as go\n",
    "import plotly.io as pio"
   ]
  },
  {
   "cell_type": "code",
   "execution_count": 99,
   "metadata": {},
   "outputs": [],
   "source": [
    "# Load dataset into a pandas Dataframe\n",
    "df = pd.read_csv('../dataset/student_dropout.csv')"
   ]
  },
  {
   "cell_type": "code",
   "execution_count": 101,
   "metadata": {},
   "outputs": [
    {
     "data": {
      "text/plain": [
       "Index([], dtype='object')"
      ]
     },
     "execution_count": 101,
     "metadata": {},
     "output_type": "execute_result"
    }
   ],
   "source": [
    "# Check for missing values\n",
    "# Show add columns from dataframe with missing values\n",
    "df.columns[df.isnull().any()]"
   ]
  },
  {
   "cell_type": "code",
   "execution_count": 102,
   "metadata": {},
   "outputs": [
    {
     "data": {
      "text/plain": [
       "np.int64(0)"
      ]
     },
     "execution_count": 102,
     "metadata": {},
     "output_type": "execute_result"
    }
   ],
   "source": [
    "# Check for duplicate rows\n",
    "df.duplicated().sum()"
   ]
  },
  {
   "cell_type": "code",
   "execution_count": 103,
   "metadata": {},
   "outputs": [
    {
     "data": {
      "text/plain": [
       "Index(['school', 'gender', 'age', 'address', 'family_size', 'parental_status',\n",
       "       'mother_education', 'father_education', 'mother_job', 'father_job',\n",
       "       'reason_for_choosing_school', 'guardian', 'travel_time', 'study_time',\n",
       "       'number_of_failures', 'school_support', 'family_support',\n",
       "       'extra_paid_class', 'extra_curricular_activities', 'attended_nursery',\n",
       "       'wants_higher_education', 'internet_access', 'in_relationship',\n",
       "       'family_relationship', 'free_time', 'going_out',\n",
       "       'weekend_alcohol_consumption', 'weekday_alcohol_consumption',\n",
       "       'health_status', 'number_of_absences', 'grade_1', 'grade_2',\n",
       "       'final_grade', 'dropped_out'],\n",
       "      dtype='object')"
      ]
     },
     "execution_count": 103,
     "metadata": {},
     "output_type": "execute_result"
    }
   ],
   "source": [
    "# Drop duplicate rows\n",
    "df.drop_duplicates(inplace=True)\n",
    "# Change column name to lowercase\n",
    "df.columns = df.columns.str.lower()\n",
    "# Show rename columns\n",
    "df.columns\n"
   ]
  },
  {
   "cell_type": "markdown",
   "metadata": {},
   "source": [
    "#### 1.1 - Data Dictionary\n",
    "\n",
    "- **age**: Student age in years\n",
    "\n",
    "- **address**: Student address \n",
    "\n",
    "- **family_size**:  \n",
    "   - **GT3**: Greater Than 3  \n",
    "   - **LE3**: Less Than 3\n",
    "\n",
    "- **parental_status**:  \n",
    "   - **T**: Together  \n",
    "   - **A**: Apart\n",
    "\n",
    "- **mother_education** & **father_education**:  \n",
    "   - **1**: No formal education or very basic education (e.g., did not complete primary school).  \n",
    "   - **2**: Primary education completed (equivalent to elementary school).  \n",
    "   - **3**: Secondary education completed (high school diploma or equivalent).  \n",
    "   - **4**: Higher education (college degree, university, or higher).\n",
    "\n",
    "- **travel_time**: Expended time until arriving at school\n",
    "\n",
    "- **attended_nursery**: A nursery refers to a facility or program that provides early childhood education and care for young children, typically from infancy until around 3 or 4 years old. It is also known as a daycare or pre-school in some countries.\n",
    "\n",
    "- **free_time**: Number of days withoud occupation in a week.\n",
    "\n",
    "- **number_of_absences**: Number of absencess during study period.\n"
   ]
  },
  {
   "cell_type": "markdown",
   "metadata": {},
   "source": []
  },
  {
   "cell_type": "markdown",
   "metadata": {},
   "source": [
    "# 2.0 - Generate Data Visualization"
   ]
  },
  {
   "cell_type": "markdown",
   "metadata": {},
   "source": [
    "### 2.1 - Categorical Data"
   ]
  },
  {
   "cell_type": "code",
   "execution_count": 155,
   "metadata": {},
   "outputs": [],
   "source": [
    "pio.renderers.default = \"browser\"\n",
    "\n",
    "fig_numerical_data = make_subplots(rows=5, cols=1)\n",
    "fig_numerical_data.add_trace(go.Box(x=df['age'], name='Age'), row=1, col=1)\n",
    "fig_numerical_data.add_trace(go.Box(x=df['number_of_absences'], name='Number of Absences'), row=2, col=1)\n",
    "fig_numerical_data.add_trace(go.Box(x=df['study_time'], name='Study Time'), row=3, col=1)\n",
    "fig_numerical_data.add_trace(go.Box(x=df['travel_time'], name='Travel Time'), row=4, col=1)\n",
    "fig_numerical_data.add_trace(go.Box(x=df['free_time'], name='Free Time'), row=5, col=1)\n",
    "\n",
    "pio.show(fig_numerical_data)\n"
   ]
  },
  {
   "cell_type": "markdown",
   "metadata": {},
   "source": [
    "### 2.2 - Categorical Data"
   ]
  },
  {
   "cell_type": "code",
   "execution_count": 169,
   "metadata": {},
   "outputs": [],
   "source": [
    "pio.renderers.default = \"browser\"\n",
    "\n",
    "fig_categorical_data = make_subplots(rows=2, cols=5)\n",
    "fig_categorical_data.add_trace(go.Bar(y=df['school'].value_counts(), x=df['school'].value_counts().index, name='School'), row=1, col=1)\n",
    "fig_categorical_data.add_trace(go.Bar(y=df['gender'].value_counts(), x=['Male', 'Female'], name='Gender'), row=1, col=2)\n",
    "fig_categorical_data.add_trace(go. Bar(y=df['father_education'].value_counts(), x=['Elementary School ', 'Middle School', 'High School', 'Degree'], name='Father Education'), row=1, col=3)\n",
    "\n",
    "\n",
    "\n"
   ]
  },
  {
   "cell_type": "code",
   "execution_count": null,
   "metadata": {},
   "outputs": [],
   "source": []
  }
 ],
 "metadata": {
  "kernelspec": {
   "display_name": "machine-learning-workgroup-01-74kK495_",
   "language": "python",
   "name": "python3"
  },
  "language_info": {
   "codemirror_mode": {
    "name": "ipython",
    "version": 3
   },
   "file_extension": ".py",
   "mimetype": "text/x-python",
   "name": "python",
   "nbconvert_exporter": "python",
   "pygments_lexer": "ipython3",
   "version": "3.12.4"
  }
 },
 "nbformat": 4,
 "nbformat_minor": 2
}
